{
 "cells": [
  {
   "cell_type": "code",
   "execution_count": 1,
   "metadata": {
    "slideshow": {
     "slide_type": "skip"
    }
   },
   "outputs": [],
   "source": [
    "## all imports\n",
    "from IPython.display import HTML\n",
    "import numpy as np\n",
    "import urllib3\n",
    "import bs4 #this is beautiful soup\n",
    "import time\n",
    "import operator\n",
    "import socket\n",
    "import pickle\n",
    "import re # regular expressions\n",
    "\n",
    "from pandas import Series\n",
    "import pandas as pd\n",
    "from pandas import DataFrame\n",
    "\n",
    "import matplotlib\n",
    "import matplotlib.pyplot as plt\n",
    "%matplotlib inline\n",
    "\n",
    "import seaborn as sns\n",
    "sns.set_context(\"talk\")\n",
    "sns.set_style(\"white\")\n",
    "\n",
    "from secret import *"
   ]
  },
  {
   "cell_type": "markdown",
   "metadata": {
    "slideshow": {
     "slide_type": "skip"
    }
   },
   "source": [
    "API registrations\n",
    "=================\n",
    "\n",
    "If you would like to run all the examples in this notebook, you need to register for the following APIs:\n",
    "\n",
    "* Rotten Tomatoes\n",
    "\n",
    "http://developer.rottentomatoes.com/member/register\n",
    "\n",
    "* Twitter\n",
    "\n",
    "https://apps.twitter.com/app/new\n",
    "\n",
    "* Twitter instructions\n",
    "\n",
    "https://twittercommunity.com/t/how-to-get-my-api-key/7033"
   ]
  },
  {
   "cell_type": "markdown",
   "metadata": {
    "slideshow": {
     "slide_type": "slide"
    }
   },
   "source": [
    "CS109\n",
    "=====\n",
    "\n",
    "Verena Kaynig-Fittkau, Joe Blitzstein, Hanspeter Pfister\n",
    "\n",
    "* vkaynig@seas.harvard.edu\n",
    "* staff@cs109.org"
   ]
  },
  {
   "cell_type": "markdown",
   "metadata": {
    "slideshow": {
     "slide_type": "slide"
    }
   },
   "source": [
    "Announcements\n",
    "==============\n",
    "\n",
    "* Over 400 sign ups on github!\n",
    "* If you are still missing, fill out the survey, time is running out!\n",
    "* Make sure you are on Piazza!\n",
    "\n",
    "\n",
    "* More [git help](https://www.youtube.com/channel/UC0-KaiZFXBlGOFN71YsEV8g/videos)\n",
    "\n",
    "\n",
    "* HW0 is due on Thursday \n",
    "* HW1 is coming out on Thursday\n"
   ]
  },
  {
   "cell_type": "markdown",
   "metadata": {
    "slideshow": {
     "slide_type": "slide"
    }
   },
   "source": [
    "Todays lecture:\n",
    "===============\n",
    "\n",
    "* introduction to pandas\n",
    "    - read a table\n",
    "    - do some plots\n",
    "\n",
    "* all about data scraping\n",
    "* ***What is it? ***\n",
    "* How to do it:\n",
    "    - from a website\n",
    "    - with an API"
   ]
  },
  {
   "cell_type": "markdown",
   "metadata": {
    "slideshow": {
     "slide_type": "skip"
    }
   },
   "source": [
    "Answer: Data scraping is about obtaining data from webpages. There is low level scraping where you parse the data out of the html code of the webpage. There also is scraping over APIs from websites who try to make your life a bit easier."
   ]
  },
  {
   "cell_type": "markdown",
   "metadata": {
    "slideshow": {
     "slide_type": "slide"
    }
   },
   "source": [
    "IPython Notebooks:\n",
    "===================\n",
    "\n",
    "![IPython](images/ipython.png \"IPython\")"
   ]
  },
  {
   "cell_type": "markdown",
   "metadata": {
    "collapsed": true,
    "slideshow": {
     "slide_type": "slide"
    }
   },
   "source": [
    "IPython Notebooks:\n",
    "===================\n",
    "\n",
    "* These slides are an IPython notebook!\n",
    "* https://github.com/damianavila/live_reveal"
   ]
  },
  {
   "cell_type": "code",
   "execution_count": 2,
   "metadata": {},
   "outputs": [
    {
     "name": "stdout",
     "output_type": "stream",
     "text": [
      "Hello CS109\n",
      "I love IPython\n"
     ]
    }
   ],
   "source": [
    "print(\"Hello CS109\")\n",
    "\n",
    "print(\"I love IPython\")\n",
    "\n",
    "# Ipython notebook have tab completion!\n",
    "# and inbuild help\n",
    "  \n",
    "a = np.zeros(3)\n",
    "a.clip?"
   ]
  },
  {
   "cell_type": "markdown",
   "metadata": {
    "slideshow": {
     "slide_type": "slide"
    }
   },
   "source": [
    "General advice about programming\n",
    "==================================\n",
    "\n",
    "* You will find nearly everything on google\n",
    "* Try: length of a list in python\n",
    "* A programmer is someone who can turn stack overflow snippets into running code\n",
    "* Use tab completion\n",
    "* Make your variable names meaningful\n"
   ]
  },
  {
   "cell_type": "markdown",
   "metadata": {
    "slideshow": {
     "slide_type": "slide"
    }
   },
   "source": [
    "How to load a table\n",
    "===================\n",
    "\n",
    "* we use Pandas for this\n",
    "* Pandas can do a __lot__ more\n",
    "* more about it later"
   ]
  },
  {
   "cell_type": "markdown",
   "metadata": {
    "slideshow": {
     "slide_type": "slide"
    }
   },
   "source": [
    "The MovieLens data\n",
    "===================\n",
    "\n",
    "http://grouplens.org/datasets/movielens/\n",
    "\n",
    "![Grouplens](images/grouplens.jpg \"Grouplens\")\n",
    "\n",
    "Example inspired by [Greg Reda](http://www.gregreda.com/2013/10/26/using-pandas-on-the-movielens-dataset/)"
   ]
  },
  {
   "cell_type": "markdown",
   "metadata": {
    "slideshow": {
     "slide_type": "slide"
    }
   },
   "source": [
    "Read the user data\n",
    "=================="
   ]
  },
  {
   "cell_type": "code",
   "execution_count": 3,
   "metadata": {
    "slideshow": {
     "slide_type": "-"
    }
   },
   "outputs": [
    {
     "data": {
      "text/html": [
       "<div>\n",
       "<style scoped>\n",
       "    .dataframe tbody tr th:only-of-type {\n",
       "        vertical-align: middle;\n",
       "    }\n",
       "\n",
       "    .dataframe tbody tr th {\n",
       "        vertical-align: top;\n",
       "    }\n",
       "\n",
       "    .dataframe thead th {\n",
       "        text-align: right;\n",
       "    }\n",
       "</style>\n",
       "<table border=\"1\" class=\"dataframe\">\n",
       "  <thead>\n",
       "    <tr style=\"text-align: right;\">\n",
       "      <th></th>\n",
       "      <th>user_id</th>\n",
       "      <th>age</th>\n",
       "      <th>sex</th>\n",
       "      <th>occupation</th>\n",
       "      <th>zip_code</th>\n",
       "    </tr>\n",
       "  </thead>\n",
       "  <tbody>\n",
       "    <tr>\n",
       "      <th>0</th>\n",
       "      <td>1</td>\n",
       "      <td>24</td>\n",
       "      <td>M</td>\n",
       "      <td>technician</td>\n",
       "      <td>85711</td>\n",
       "    </tr>\n",
       "    <tr>\n",
       "      <th>1</th>\n",
       "      <td>2</td>\n",
       "      <td>53</td>\n",
       "      <td>F</td>\n",
       "      <td>other</td>\n",
       "      <td>94043</td>\n",
       "    </tr>\n",
       "    <tr>\n",
       "      <th>2</th>\n",
       "      <td>3</td>\n",
       "      <td>23</td>\n",
       "      <td>M</td>\n",
       "      <td>writer</td>\n",
       "      <td>32067</td>\n",
       "    </tr>\n",
       "    <tr>\n",
       "      <th>3</th>\n",
       "      <td>4</td>\n",
       "      <td>24</td>\n",
       "      <td>M</td>\n",
       "      <td>technician</td>\n",
       "      <td>43537</td>\n",
       "    </tr>\n",
       "    <tr>\n",
       "      <th>4</th>\n",
       "      <td>5</td>\n",
       "      <td>33</td>\n",
       "      <td>F</td>\n",
       "      <td>other</td>\n",
       "      <td>15213</td>\n",
       "    </tr>\n",
       "  </tbody>\n",
       "</table>\n",
       "</div>"
      ],
      "text/plain": [
       "   user_id  age sex  occupation zip_code\n",
       "0        1   24   M  technician    85711\n",
       "1        2   53   F       other    94043\n",
       "2        3   23   M      writer    32067\n",
       "3        4   24   M  technician    43537\n",
       "4        5   33   F       other    15213"
      ]
     },
     "execution_count": 3,
     "metadata": {},
     "output_type": "execute_result"
    }
   ],
   "source": [
    "# pass in column names for each CSV\n",
    "u_cols = ['user_id', 'age', 'sex', 'occupation', 'zip_code']\n",
    "\n",
    "users = pd.read_csv(\n",
    "    'http://files.grouplens.org/datasets/movielens/ml-100k/u.user', \n",
    "    sep='|', names=u_cols)\n",
    "\n",
    "users.head()"
   ]
  },
  {
   "cell_type": "markdown",
   "metadata": {
    "slideshow": {
     "slide_type": "slide"
    }
   },
   "source": [
    "Read the ratings\n",
    "============"
   ]
  },
  {
   "cell_type": "code",
   "execution_count": 4,
   "metadata": {},
   "outputs": [
    {
     "data": {
      "text/html": [
       "<div>\n",
       "<style scoped>\n",
       "    .dataframe tbody tr th:only-of-type {\n",
       "        vertical-align: middle;\n",
       "    }\n",
       "\n",
       "    .dataframe tbody tr th {\n",
       "        vertical-align: top;\n",
       "    }\n",
       "\n",
       "    .dataframe thead th {\n",
       "        text-align: right;\n",
       "    }\n",
       "</style>\n",
       "<table border=\"1\" class=\"dataframe\">\n",
       "  <thead>\n",
       "    <tr style=\"text-align: right;\">\n",
       "      <th></th>\n",
       "      <th>user_id</th>\n",
       "      <th>movie_id</th>\n",
       "      <th>rating</th>\n",
       "      <th>unix_timestamp</th>\n",
       "    </tr>\n",
       "  </thead>\n",
       "  <tbody>\n",
       "    <tr>\n",
       "      <th>0</th>\n",
       "      <td>196</td>\n",
       "      <td>242</td>\n",
       "      <td>3</td>\n",
       "      <td>881250949</td>\n",
       "    </tr>\n",
       "    <tr>\n",
       "      <th>1</th>\n",
       "      <td>186</td>\n",
       "      <td>302</td>\n",
       "      <td>3</td>\n",
       "      <td>891717742</td>\n",
       "    </tr>\n",
       "    <tr>\n",
       "      <th>2</th>\n",
       "      <td>22</td>\n",
       "      <td>377</td>\n",
       "      <td>1</td>\n",
       "      <td>878887116</td>\n",
       "    </tr>\n",
       "    <tr>\n",
       "      <th>3</th>\n",
       "      <td>244</td>\n",
       "      <td>51</td>\n",
       "      <td>2</td>\n",
       "      <td>880606923</td>\n",
       "    </tr>\n",
       "    <tr>\n",
       "      <th>4</th>\n",
       "      <td>166</td>\n",
       "      <td>346</td>\n",
       "      <td>1</td>\n",
       "      <td>886397596</td>\n",
       "    </tr>\n",
       "  </tbody>\n",
       "</table>\n",
       "</div>"
      ],
      "text/plain": [
       "   user_id  movie_id  rating  unix_timestamp\n",
       "0      196       242       3       881250949\n",
       "1      186       302       3       891717742\n",
       "2       22       377       1       878887116\n",
       "3      244        51       2       880606923\n",
       "4      166       346       1       886397596"
      ]
     },
     "execution_count": 4,
     "metadata": {},
     "output_type": "execute_result"
    }
   ],
   "source": [
    "r_cols = ['user_id', 'movie_id', 'rating', 'unix_timestamp']\n",
    "ratings = pd.read_csv(\n",
    "    'http://files.grouplens.org/datasets/movielens/ml-100k/u.data', \n",
    "    sep='\\t', names=r_cols)\n",
    "\n",
    "ratings.head() "
   ]
  },
  {
   "cell_type": "markdown",
   "metadata": {
    "slideshow": {
     "slide_type": "slide"
    }
   },
   "source": [
    "Now data about the movies\n",
    "========================="
   ]
  },
  {
   "cell_type": "code",
   "execution_count": 5,
   "metadata": {},
   "outputs": [
    {
     "data": {
      "text/html": [
       "<div>\n",
       "<style scoped>\n",
       "    .dataframe tbody tr th:only-of-type {\n",
       "        vertical-align: middle;\n",
       "    }\n",
       "\n",
       "    .dataframe tbody tr th {\n",
       "        vertical-align: top;\n",
       "    }\n",
       "\n",
       "    .dataframe thead th {\n",
       "        text-align: right;\n",
       "    }\n",
       "</style>\n",
       "<table border=\"1\" class=\"dataframe\">\n",
       "  <thead>\n",
       "    <tr style=\"text-align: right;\">\n",
       "      <th></th>\n",
       "      <th>movie_id</th>\n",
       "      <th>title</th>\n",
       "      <th>release_date</th>\n",
       "      <th>video_release_date</th>\n",
       "      <th>imdb_url</th>\n",
       "    </tr>\n",
       "  </thead>\n",
       "  <tbody>\n",
       "    <tr>\n",
       "      <th>0</th>\n",
       "      <td>1</td>\n",
       "      <td>Toy Story (1995)</td>\n",
       "      <td>01-Jan-1995</td>\n",
       "      <td>NaN</td>\n",
       "      <td>http://us.imdb.com/M/title-exact?Toy%20Story%2...</td>\n",
       "    </tr>\n",
       "    <tr>\n",
       "      <th>1</th>\n",
       "      <td>2</td>\n",
       "      <td>GoldenEye (1995)</td>\n",
       "      <td>01-Jan-1995</td>\n",
       "      <td>NaN</td>\n",
       "      <td>http://us.imdb.com/M/title-exact?GoldenEye%20(...</td>\n",
       "    </tr>\n",
       "    <tr>\n",
       "      <th>2</th>\n",
       "      <td>3</td>\n",
       "      <td>Four Rooms (1995)</td>\n",
       "      <td>01-Jan-1995</td>\n",
       "      <td>NaN</td>\n",
       "      <td>http://us.imdb.com/M/title-exact?Four%20Rooms%...</td>\n",
       "    </tr>\n",
       "    <tr>\n",
       "      <th>3</th>\n",
       "      <td>4</td>\n",
       "      <td>Get Shorty (1995)</td>\n",
       "      <td>01-Jan-1995</td>\n",
       "      <td>NaN</td>\n",
       "      <td>http://us.imdb.com/M/title-exact?Get%20Shorty%...</td>\n",
       "    </tr>\n",
       "    <tr>\n",
       "      <th>4</th>\n",
       "      <td>5</td>\n",
       "      <td>Copycat (1995)</td>\n",
       "      <td>01-Jan-1995</td>\n",
       "      <td>NaN</td>\n",
       "      <td>http://us.imdb.com/M/title-exact?Copycat%20(1995)</td>\n",
       "    </tr>\n",
       "  </tbody>\n",
       "</table>\n",
       "</div>"
      ],
      "text/plain": [
       "   movie_id              title release_date  video_release_date  \\\n",
       "0         1   Toy Story (1995)  01-Jan-1995                 NaN   \n",
       "1         2   GoldenEye (1995)  01-Jan-1995                 NaN   \n",
       "2         3  Four Rooms (1995)  01-Jan-1995                 NaN   \n",
       "3         4  Get Shorty (1995)  01-Jan-1995                 NaN   \n",
       "4         5     Copycat (1995)  01-Jan-1995                 NaN   \n",
       "\n",
       "                                            imdb_url  \n",
       "0  http://us.imdb.com/M/title-exact?Toy%20Story%2...  \n",
       "1  http://us.imdb.com/M/title-exact?GoldenEye%20(...  \n",
       "2  http://us.imdb.com/M/title-exact?Four%20Rooms%...  \n",
       "3  http://us.imdb.com/M/title-exact?Get%20Shorty%...  \n",
       "4  http://us.imdb.com/M/title-exact?Copycat%20(1995)  "
      ]
     },
     "execution_count": 5,
     "metadata": {},
     "output_type": "execute_result"
    }
   ],
   "source": [
    "# the movies file contains columns indicating the movie's genres\n",
    "# let's only load the first five columns of the file with usecols\n",
    "m_cols = ['movie_id', 'title', 'release_date', \n",
    "            'video_release_date', 'imdb_url']\n",
    "\n",
    "movies = pd.read_csv(\n",
    "    'http://files.grouplens.org/datasets/movielens/ml-100k/u.item', \n",
    "    sep='|', names=m_cols, usecols=range(5), encoding = 'ISO-8859-1')\n",
    "\n",
    "movies.head()"
   ]
  },
  {
   "cell_type": "markdown",
   "metadata": {
    "slideshow": {
     "slide_type": "slide"
    }
   },
   "source": [
    "Get information about data\n",
    "======================="
   ]
  },
  {
   "cell_type": "code",
   "execution_count": 6,
   "metadata": {},
   "outputs": [
    {
     "name": "stdout",
     "output_type": "stream",
     "text": [
      "movie_id                int64\n",
      "title                  object\n",
      "release_date           object\n",
      "video_release_date    float64\n",
      "imdb_url               object\n",
      "dtype: object\n",
      "\n",
      "\n",
      "          movie_id  video_release_date\n",
      "count  1682.000000                 0.0\n",
      "mean    841.500000                 NaN\n",
      "std     485.695893                 NaN\n",
      "min       1.000000                 NaN\n",
      "25%     421.250000                 NaN\n",
      "50%     841.500000                 NaN\n",
      "75%    1261.750000                 NaN\n",
      "max    1682.000000                 NaN\n"
     ]
    }
   ],
   "source": [
    "print(movies.dtypes)\n",
    "print('\\n')\n",
    "print(movies.describe())\n",
    "# *** Why only those two columns? ***"
   ]
  },
  {
   "cell_type": "markdown",
   "metadata": {
    "slideshow": {
     "slide_type": "slide"
    }
   },
   "source": [
    "Selecting data\n",
    "==============\n",
    "\n",
    "* DataFrame => group of Series with shared index\n",
    "* single DataFrame column => Series"
   ]
  },
  {
   "cell_type": "code",
   "execution_count": 7,
   "metadata": {
    "slideshow": {
     "slide_type": "slide"
    }
   },
   "outputs": [
    {
     "name": "stdout",
     "output_type": "stream",
     "text": [
      "   user_id  age sex  occupation zip_code\n",
      "0        1   24   M  technician    85711\n",
      "1        2   53   F       other    94043\n",
      "2        3   23   M      writer    32067\n",
      "3        4   24   M  technician    43537\n",
      "4        5   33   F       other    15213\n",
      "0    technician\n",
      "1         other\n",
      "2        writer\n",
      "3    technician\n",
      "4         other\n",
      "Name: occupation, dtype: object\n",
      "   occupation sex\n",
      "0  technician   M\n",
      "1       other   F\n",
      "2      writer   M\n",
      "3  technician   M\n",
      "4       other   F\n",
      "user_id                4\n",
      "age                   24\n",
      "sex                    M\n",
      "occupation    technician\n",
      "zip_code           43537\n",
      "Name: 3, dtype: object\n"
     ]
    }
   ],
   "source": [
    "print(users.head())\n",
    "print(users['occupation'].head())\n",
    "## *** Where did the nice design go? ***\n",
    "columns_you_want = ['occupation', 'sex'] \n",
    "print(users[columns_you_want].head())\n",
    "\n",
    "#print(users.head())\n",
    "\n",
    "print(users.iloc[3])"
   ]
  },
  {
   "cell_type": "markdown",
   "metadata": {
    "slideshow": {
     "slide_type": "slide"
    }
   },
   "source": [
    "Filtering data\n",
    "==============\n",
    "\n",
    "Select users older than 25"
   ]
  },
  {
   "cell_type": "code",
   "execution_count": 8,
   "metadata": {},
   "outputs": [
    {
     "data": {
      "text/html": [
       "<div>\n",
       "<style scoped>\n",
       "    .dataframe tbody tr th:only-of-type {\n",
       "        vertical-align: middle;\n",
       "    }\n",
       "\n",
       "    .dataframe tbody tr th {\n",
       "        vertical-align: top;\n",
       "    }\n",
       "\n",
       "    .dataframe thead th {\n",
       "        text-align: right;\n",
       "    }\n",
       "</style>\n",
       "<table border=\"1\" class=\"dataframe\">\n",
       "  <thead>\n",
       "    <tr style=\"text-align: right;\">\n",
       "      <th></th>\n",
       "      <th>user_id</th>\n",
       "      <th>age</th>\n",
       "      <th>sex</th>\n",
       "      <th>occupation</th>\n",
       "      <th>zip_code</th>\n",
       "    </tr>\n",
       "  </thead>\n",
       "  <tbody>\n",
       "    <tr>\n",
       "      <th>1</th>\n",
       "      <td>2</td>\n",
       "      <td>53</td>\n",
       "      <td>F</td>\n",
       "      <td>other</td>\n",
       "      <td>94043</td>\n",
       "    </tr>\n",
       "    <tr>\n",
       "      <th>4</th>\n",
       "      <td>5</td>\n",
       "      <td>33</td>\n",
       "      <td>F</td>\n",
       "      <td>other</td>\n",
       "      <td>15213</td>\n",
       "    </tr>\n",
       "    <tr>\n",
       "      <th>5</th>\n",
       "      <td>6</td>\n",
       "      <td>42</td>\n",
       "      <td>M</td>\n",
       "      <td>executive</td>\n",
       "      <td>98101</td>\n",
       "    </tr>\n",
       "    <tr>\n",
       "      <th>6</th>\n",
       "      <td>7</td>\n",
       "      <td>57</td>\n",
       "      <td>M</td>\n",
       "      <td>administrator</td>\n",
       "      <td>91344</td>\n",
       "    </tr>\n",
       "    <tr>\n",
       "      <th>7</th>\n",
       "      <td>8</td>\n",
       "      <td>36</td>\n",
       "      <td>M</td>\n",
       "      <td>administrator</td>\n",
       "      <td>05201</td>\n",
       "    </tr>\n",
       "  </tbody>\n",
       "</table>\n",
       "</div>"
      ],
      "text/plain": [
       "   user_id  age sex     occupation zip_code\n",
       "1        2   53   F          other    94043\n",
       "4        5   33   F          other    15213\n",
       "5        6   42   M      executive    98101\n",
       "6        7   57   M  administrator    91344\n",
       "7        8   36   M  administrator    05201"
      ]
     },
     "execution_count": 8,
     "metadata": {},
     "output_type": "execute_result"
    }
   ],
   "source": [
    "oldUsers = users[users.age > 25]\n",
    "oldUsers.head()"
   ]
  },
  {
   "cell_type": "code",
   "execution_count": 9,
   "metadata": {},
   "outputs": [
    {
     "data": {
      "text/html": [
       "<div>\n",
       "<style scoped>\n",
       "    .dataframe tbody tr th:only-of-type {\n",
       "        vertical-align: middle;\n",
       "    }\n",
       "\n",
       "    .dataframe tbody tr th {\n",
       "        vertical-align: top;\n",
       "    }\n",
       "\n",
       "    .dataframe thead th {\n",
       "        text-align: right;\n",
       "    }\n",
       "</style>\n",
       "<table border=\"1\" class=\"dataframe\">\n",
       "  <thead>\n",
       "    <tr style=\"text-align: right;\">\n",
       "      <th></th>\n",
       "      <th>user_id</th>\n",
       "      <th>age</th>\n",
       "      <th>sex</th>\n",
       "      <th>occupation</th>\n",
       "      <th>zip_code</th>\n",
       "    </tr>\n",
       "  </thead>\n",
       "  <tbody>\n",
       "    <tr>\n",
       "      <th>18</th>\n",
       "      <td>19</td>\n",
       "      <td>40</td>\n",
       "      <td>M</td>\n",
       "      <td>librarian</td>\n",
       "      <td>02138</td>\n",
       "    </tr>\n",
       "    <tr>\n",
       "      <th>82</th>\n",
       "      <td>83</td>\n",
       "      <td>40</td>\n",
       "      <td>M</td>\n",
       "      <td>other</td>\n",
       "      <td>44133</td>\n",
       "    </tr>\n",
       "    <tr>\n",
       "      <th>115</th>\n",
       "      <td>116</td>\n",
       "      <td>40</td>\n",
       "      <td>M</td>\n",
       "      <td>healthcare</td>\n",
       "      <td>97232</td>\n",
       "    </tr>\n",
       "    <tr>\n",
       "      <th>199</th>\n",
       "      <td>200</td>\n",
       "      <td>40</td>\n",
       "      <td>M</td>\n",
       "      <td>programmer</td>\n",
       "      <td>93402</td>\n",
       "    </tr>\n",
       "    <tr>\n",
       "      <th>283</th>\n",
       "      <td>284</td>\n",
       "      <td>40</td>\n",
       "      <td>M</td>\n",
       "      <td>executive</td>\n",
       "      <td>92629</td>\n",
       "    </tr>\n",
       "    <tr>\n",
       "      <th>289</th>\n",
       "      <td>290</td>\n",
       "      <td>40</td>\n",
       "      <td>M</td>\n",
       "      <td>engineer</td>\n",
       "      <td>93550</td>\n",
       "    </tr>\n",
       "    <tr>\n",
       "      <th>308</th>\n",
       "      <td>309</td>\n",
       "      <td>40</td>\n",
       "      <td>M</td>\n",
       "      <td>scientist</td>\n",
       "      <td>70802</td>\n",
       "    </tr>\n",
       "    <tr>\n",
       "      <th>357</th>\n",
       "      <td>358</td>\n",
       "      <td>40</td>\n",
       "      <td>M</td>\n",
       "      <td>educator</td>\n",
       "      <td>10022</td>\n",
       "    </tr>\n",
       "    <tr>\n",
       "      <th>397</th>\n",
       "      <td>398</td>\n",
       "      <td>40</td>\n",
       "      <td>M</td>\n",
       "      <td>other</td>\n",
       "      <td>60008</td>\n",
       "    </tr>\n",
       "    <tr>\n",
       "      <th>564</th>\n",
       "      <td>565</td>\n",
       "      <td>40</td>\n",
       "      <td>M</td>\n",
       "      <td>student</td>\n",
       "      <td>55422</td>\n",
       "    </tr>\n",
       "    <tr>\n",
       "      <th>646</th>\n",
       "      <td>647</td>\n",
       "      <td>40</td>\n",
       "      <td>M</td>\n",
       "      <td>educator</td>\n",
       "      <td>45810</td>\n",
       "    </tr>\n",
       "    <tr>\n",
       "      <th>791</th>\n",
       "      <td>792</td>\n",
       "      <td>40</td>\n",
       "      <td>M</td>\n",
       "      <td>programmer</td>\n",
       "      <td>12205</td>\n",
       "    </tr>\n",
       "    <tr>\n",
       "      <th>841</th>\n",
       "      <td>842</td>\n",
       "      <td>40</td>\n",
       "      <td>M</td>\n",
       "      <td>writer</td>\n",
       "      <td>93055</td>\n",
       "    </tr>\n",
       "    <tr>\n",
       "      <th>917</th>\n",
       "      <td>918</td>\n",
       "      <td>40</td>\n",
       "      <td>M</td>\n",
       "      <td>scientist</td>\n",
       "      <td>70116</td>\n",
       "    </tr>\n",
       "  </tbody>\n",
       "</table>\n",
       "</div>"
      ],
      "text/plain": [
       "     user_id  age sex  occupation zip_code\n",
       "18        19   40   M   librarian    02138\n",
       "82        83   40   M       other    44133\n",
       "115      116   40   M  healthcare    97232\n",
       "199      200   40   M  programmer    93402\n",
       "283      284   40   M   executive    92629\n",
       "289      290   40   M    engineer    93550\n",
       "308      309   40   M   scientist    70802\n",
       "357      358   40   M    educator    10022\n",
       "397      398   40   M       other    60008\n",
       "564      565   40   M     student    55422\n",
       "646      647   40   M    educator    45810\n",
       "791      792   40   M  programmer    12205\n",
       "841      842   40   M      writer    93055\n",
       "917      918   40   M   scientist    70116"
      ]
     },
     "execution_count": 9,
     "metadata": {},
     "output_type": "execute_result"
    }
   ],
   "source": [
    "users[(users.age == 40) & (users.sex == 'M')]"
   ]
  },
  {
   "cell_type": "code",
   "execution_count": 10,
   "metadata": {},
   "outputs": [
    {
     "data": {
      "text/plain": [
       "32.166666666666664"
      ]
     },
     "execution_count": 10,
     "metadata": {},
     "output_type": "execute_result"
    }
   ],
   "source": [
    "users[(users.sex == 'F') & (users.occupation == 'programmer')].age.mean()"
   ]
  },
  {
   "cell_type": "markdown",
   "metadata": {
    "slideshow": {
     "slide_type": "slide"
    }
   },
   "source": [
    "Quiz:\n",
    "=====\n",
    "\n",
    "* show users aged 40 and male\n",
    "\n",
    "* show the mean age of female programmers"
   ]
  },
  {
   "cell_type": "code",
   "execution_count": 11,
   "metadata": {
    "slideshow": {
     "slide_type": "slide"
    }
   },
   "outputs": [
    {
     "data": {
      "text/html": [
       "<div>\n",
       "<style scoped>\n",
       "    .dataframe tbody tr th:only-of-type {\n",
       "        vertical-align: middle;\n",
       "    }\n",
       "\n",
       "    .dataframe tbody tr th {\n",
       "        vertical-align: top;\n",
       "    }\n",
       "\n",
       "    .dataframe thead th {\n",
       "        text-align: right;\n",
       "    }\n",
       "</style>\n",
       "<table border=\"1\" class=\"dataframe\">\n",
       "  <thead>\n",
       "    <tr style=\"text-align: right;\">\n",
       "      <th></th>\n",
       "      <th>user_id</th>\n",
       "      <th>age</th>\n",
       "      <th>sex</th>\n",
       "      <th>occupation</th>\n",
       "      <th>zip_code</th>\n",
       "    </tr>\n",
       "  </thead>\n",
       "  <tbody>\n",
       "    <tr>\n",
       "      <th>18</th>\n",
       "      <td>19</td>\n",
       "      <td>40</td>\n",
       "      <td>M</td>\n",
       "      <td>librarian</td>\n",
       "      <td>02138</td>\n",
       "    </tr>\n",
       "    <tr>\n",
       "      <th>82</th>\n",
       "      <td>83</td>\n",
       "      <td>40</td>\n",
       "      <td>M</td>\n",
       "      <td>other</td>\n",
       "      <td>44133</td>\n",
       "    </tr>\n",
       "    <tr>\n",
       "      <th>115</th>\n",
       "      <td>116</td>\n",
       "      <td>40</td>\n",
       "      <td>M</td>\n",
       "      <td>healthcare</td>\n",
       "      <td>97232</td>\n",
       "    </tr>\n",
       "  </tbody>\n",
       "</table>\n",
       "</div>"
      ],
      "text/plain": [
       "     user_id  age sex  occupation zip_code\n",
       "18        19   40   M   librarian    02138\n",
       "82        83   40   M       other    44133\n",
       "115      116   40   M  healthcare    97232"
      ]
     },
     "execution_count": 11,
     "metadata": {},
     "output_type": "execute_result"
    }
   ],
   "source": [
    "# users aged 40 AND male\n",
    "users[(users.age == 40) & (users.sex == 'M')].head(3)"
   ]
  },
  {
   "cell_type": "code",
   "execution_count": 12,
   "metadata": {
    "slideshow": {
     "slide_type": "slide"
    }
   },
   "outputs": [
    {
     "name": "stdout",
     "output_type": "stream",
     "text": [
      "          user_id        age\n",
      "count    6.000000   6.000000\n",
      "mean   411.166667  32.166667\n",
      "std    149.987222   5.115336\n",
      "min    292.000000  26.000000\n",
      "25%    313.000000  28.250000\n",
      "50%    378.000000  32.000000\n",
      "75%    416.750000  36.500000\n",
      "max    698.000000  38.000000\n",
      "32.166666666666664\n",
      "32.166666666666664\n"
     ]
    }
   ],
   "source": [
    "## users who are female and programmers\n",
    "selected_users = users[(users.sex == 'F') & \n",
    "                       (users.occupation == 'programmer')]\n",
    "\n",
    "## show statistic summary\n",
    "print(selected_users.describe())\n",
    "\n",
    "## alternatives:\n",
    "print(selected_users.age.mean())\n",
    "print(selected_users['age'].mean())"
   ]
  },
  {
   "cell_type": "markdown",
   "metadata": {
    "slideshow": {
     "slide_type": "slide"
    }
   },
   "source": [
    "Split-apply-combine\n",
    "===================\n",
    "\n",
    "* splitting the data into groups based on some criteria\n",
    "* applying a function to each group independently\n",
    "* combining the results into a data structure"
   ]
  },
  {
   "cell_type": "markdown",
   "metadata": {
    "slideshow": {
     "slide_type": "slide"
    }
   },
   "source": [
    "Split-apply-combine\n",
    "===================\n",
    "\n",
    "<img src=http://i.imgur.com/yjNkiwL.png></img>"
   ]
  },
  {
   "cell_type": "markdown",
   "metadata": {
    "slideshow": {
     "slide_type": "slide"
    }
   },
   "source": [
    "Find Diligent Users\n",
    "===================\n",
    "\n",
    "* split data per user ID\n",
    "* count ratings\n",
    "* combine result"
   ]
  },
  {
   "cell_type": "code",
   "execution_count": 13,
   "metadata": {
    "slideshow": {
     "slide_type": "slide"
    }
   },
   "outputs": [
    {
     "name": "stdout",
     "output_type": "stream",
     "text": [
      "   user_id  movie_id  rating  unix_timestamp\n",
      "0      196       242       3       881250949\n",
      "1      186       302       3       891717742\n",
      "2       22       377       1       878887116\n",
      "3      244        51       2       880606923\n",
      "4      166       346       1       886397596\n"
     ]
    },
    {
     "data": {
      "text/plain": [
       "user_id\n",
       "1    272\n",
       "2     62\n",
       "3     54\n",
       "4     24\n",
       "5    175\n",
       "Name: movie_id, dtype: int64"
      ]
     },
     "execution_count": 13,
     "metadata": {},
     "output_type": "execute_result"
    }
   ],
   "source": [
    "print(ratings.head())\n",
    "## split data\n",
    "#grouped_data = ratings.groupby('user_id')\n",
    "grouped_data = ratings['movie_id'].groupby(ratings['user_id'])\n",
    "\n",
    "## count and combine\n",
    "ratings_per_user = grouped_data.count()\n",
    "\n",
    "ratings_per_user.head(5)"
   ]
  },
  {
   "cell_type": "code",
   "execution_count": 14,
   "metadata": {},
   "outputs": [
    {
     "data": {
      "text/plain": [
       "movie_id\n",
       "1       3.878319\n",
       "2       3.206107\n",
       "3       3.033333\n",
       "4       3.550239\n",
       "5       3.302326\n",
       "6       3.576923\n",
       "7       3.798469\n",
       "8       3.995434\n",
       "9       3.896321\n",
       "10      3.831461\n",
       "11      3.847458\n",
       "12      4.385768\n",
       "13      3.418478\n",
       "14      3.967213\n",
       "15      3.778157\n",
       "16      3.205128\n",
       "17      3.119565\n",
       "18      2.800000\n",
       "19      3.956522\n",
       "20      3.416667\n",
       "21      2.761905\n",
       "22      4.151515\n",
       "23      4.120879\n",
       "24      3.448276\n",
       "25      3.443686\n",
       "26      3.452055\n",
       "27      3.105263\n",
       "28      3.931159\n",
       "29      2.666667\n",
       "30      3.945946\n",
       "          ...   \n",
       "1653    5.000000\n",
       "1654    1.000000\n",
       "1655    2.000000\n",
       "1656    3.500000\n",
       "1657    3.000000\n",
       "1658    3.000000\n",
       "1659    1.000000\n",
       "1660    2.000000\n",
       "1661    1.000000\n",
       "1662    2.500000\n",
       "1663    2.000000\n",
       "1664    3.250000\n",
       "1665    2.000000\n",
       "1666    2.000000\n",
       "1667    3.000000\n",
       "1668    3.000000\n",
       "1669    2.000000\n",
       "1670    3.000000\n",
       "1671    1.000000\n",
       "1672    2.000000\n",
       "1673    3.000000\n",
       "1674    4.000000\n",
       "1675    3.000000\n",
       "1676    2.000000\n",
       "1677    3.000000\n",
       "1678    1.000000\n",
       "1679    3.000000\n",
       "1680    2.000000\n",
       "1681    3.000000\n",
       "1682    3.000000\n",
       "Name: rating, Length: 1682, dtype: float64"
      ]
     },
     "execution_count": 14,
     "metadata": {},
     "output_type": "execute_result"
    }
   ],
   "source": [
    "grouped_data_movie = ratings.groupby(ratings['movie_id'])\n",
    "grouped_data_movie.rating.mean()"
   ]
  },
  {
   "cell_type": "code",
   "execution_count": 15,
   "metadata": {},
   "outputs": [
    {
     "data": {
      "text/plain": [
       "[5.0,\n",
       " 5.0,\n",
       " 5.0,\n",
       " 5.0,\n",
       " 5.0,\n",
       " 5.0,\n",
       " 5.0,\n",
       " 5.0,\n",
       " 5.0,\n",
       " 5.0,\n",
       " 4.625,\n",
       " 4.5,\n",
       " 4.5,\n",
       " 4.5,\n",
       " 4.5,\n",
       " 4.491071428571429,\n",
       " 4.466442953020135,\n",
       " 4.466101694915254,\n",
       " 4.45679012345679,\n",
       " 4.447761194029851,\n",
       " 4.445229681978798,\n",
       " 4.3875598086124405,\n",
       " 4.385767790262173,\n",
       " 4.3584905660377355,\n",
       " 4.344,\n",
       " 4.333333333333333,\n",
       " 4.333333333333333,\n",
       " 4.333333333333333,\n",
       " 4.292929292929293,\n",
       " 4.2926829268292686,\n",
       " 4.292237442922374,\n",
       " 4.291666666666667,\n",
       " 4.28974358974359,\n",
       " 4.284916201117318,\n",
       " 4.283292978208232,\n",
       " 4.265432098765432,\n",
       " 4.262626262626263,\n",
       " 4.260869565217392,\n",
       " 4.259541984732825,\n",
       " 4.252577319587629,\n",
       " 4.252380952380952,\n",
       " 4.251396648044692,\n",
       " 4.25,\n",
       " 4.25,\n",
       " 4.25,\n",
       " 4.2457142857142856,\n",
       " 4.23121387283237,\n",
       " 4.212121212121212,\n",
       " 4.2101449275362315,\n",
       " 4.204359673024523,\n",
       " 4.203980099502488,\n",
       " 4.2,\n",
       " 4.2,\n",
       " 4.2,\n",
       " 4.198529411764706,\n",
       " 4.196428571428571,\n",
       " 4.1923076923076925,\n",
       " 4.186602870813397,\n",
       " 4.184210526315789,\n",
       " 4.175757575757576,\n",
       " 4.1735537190082646,\n",
       " 4.172839506172839,\n",
       " 4.163043478260869,\n",
       " 4.161616161616162,\n",
       " 4.155511811023622,\n",
       " 4.155172413793103,\n",
       " 4.151515151515151,\n",
       " 4.15,\n",
       " 4.138181818181818,\n",
       " 4.137096774193548,\n",
       " 4.136054421768708,\n",
       " 4.132231404958677,\n",
       " 4.127659574468085,\n",
       " 4.125,\n",
       " 4.123809523809523,\n",
       " 4.121212121212121,\n",
       " 4.1208791208791204,\n",
       " 4.120689655172414,\n",
       " 4.120689655172414,\n",
       " 4.115384615384615,\n",
       " 4.115384615384615,\n",
       " 4.111111111111111,\n",
       " 4.109375,\n",
       " 4.106060606060606,\n",
       " 4.104838709677419,\n",
       " 4.104602510460251,\n",
       " 4.102941176470588,\n",
       " 4.1022727272727275,\n",
       " 4.100418410041841,\n",
       " 4.1,\n",
       " 4.1,\n",
       " 4.1,\n",
       " 4.1,\n",
       " 4.1,\n",
       " 4.094017094017094,\n",
       " 4.078260869565217,\n",
       " 4.0772357723577235,\n",
       " 4.076023391812866,\n",
       " 4.0664556962025316,\n",
       " 4.064516129032258,\n",
       " 4.0625,\n",
       " 4.060913705583756,\n",
       " 4.0602409638554215,\n",
       " 4.058091286307054,\n",
       " 4.057971014492754,\n",
       " 4.053475935828877,\n",
       " 4.0508474576271185,\n",
       " 4.05,\n",
       " 4.05,\n",
       " 4.0476190476190474,\n",
       " 4.045454545454546,\n",
       " 4.045454545454546,\n",
       " 4.045454545454546,\n",
       " 4.04524886877828,\n",
       " 4.044642857142857,\n",
       " 4.037037037037037,\n",
       " 4.034364261168385,\n",
       " 4.029850746268656,\n",
       " 4.028846153846154,\n",
       " 4.027397260273973,\n",
       " 4.025,\n",
       " 4.023255813953488,\n",
       " 4.021739130434782,\n",
       " 4.02051282051282,\n",
       " 4.02,\n",
       " 4.015625,\n",
       " 4.012345679012346,\n",
       " 4.0111940298507465,\n",
       " 4.011111111111111,\n",
       " 4.007889546351085,\n",
       " 4.0078740157480315,\n",
       " 4.0067796610169495,\n",
       " 4.0,\n",
       " 4.0,\n",
       " 4.0,\n",
       " 4.0,\n",
       " 4.0,\n",
       " 4.0,\n",
       " 4.0,\n",
       " 4.0,\n",
       " 4.0,\n",
       " 4.0,\n",
       " 4.0,\n",
       " 4.0,\n",
       " 4.0,\n",
       " 4.0,\n",
       " 4.0,\n",
       " 4.0,\n",
       " 4.0,\n",
       " 4.0,\n",
       " 4.0,\n",
       " 4.0,\n",
       " 4.0,\n",
       " 4.0,\n",
       " 4.0,\n",
       " 4.0,\n",
       " 4.0,\n",
       " 4.0,\n",
       " 4.0,\n",
       " 4.0,\n",
       " 4.0,\n",
       " 4.0,\n",
       " 4.0,\n",
       " 4.0,\n",
       " 4.0,\n",
       " 4.0,\n",
       " 4.0,\n",
       " 4.0,\n",
       " 4.0,\n",
       " 4.0,\n",
       " 4.0,\n",
       " 4.0,\n",
       " 4.0,\n",
       " 4.0,\n",
       " 4.0,\n",
       " 4.0,\n",
       " 3.9954337899543377,\n",
       " 3.9939024390243905,\n",
       " 3.9927007299270074,\n",
       " 3.9926470588235294,\n",
       " 3.9914529914529915,\n",
       " 3.9864864864864864,\n",
       " 3.985074626865672,\n",
       " 3.984375,\n",
       " 3.978494623655914,\n",
       " 3.9782608695652173,\n",
       " 3.9696969696969697,\n",
       " 3.969111969111969,\n",
       " 3.9682539682539684,\n",
       " 3.967741935483871,\n",
       " 3.9672131147540983,\n",
       " 3.9655172413793105,\n",
       " 3.96,\n",
       " 3.9565217391304346,\n",
       " 3.9516129032258065,\n",
       " 3.9513274336283186,\n",
       " 3.949074074074074,\n",
       " 3.9479166666666665,\n",
       " 3.9471830985915495,\n",
       " 3.945945945945946,\n",
       " 3.945,\n",
       " 3.9444444444444446,\n",
       " 3.9421487603305785,\n",
       " 3.9411764705882355,\n",
       " 3.94,\n",
       " 3.9381443298969074,\n",
       " 3.9375,\n",
       " 3.9365079365079363,\n",
       " 3.9358974358974357,\n",
       " 3.935483870967742,\n",
       " 3.9335548172757475,\n",
       " 3.933333333333333,\n",
       " 3.931159420289855,\n",
       " 3.930513595166163,\n",
       " 3.9285714285714284,\n",
       " 3.926984126984127,\n",
       " 3.925,\n",
       " 3.923076923076923,\n",
       " 3.9224806201550386,\n",
       " 3.92,\n",
       " 3.917197452229299,\n",
       " 3.9166666666666665,\n",
       " 3.9163346613545817,\n",
       " 3.912621359223301,\n",
       " 3.911764705882353,\n",
       " 3.911764705882353,\n",
       " 3.911111111111111,\n",
       " 3.910344827586207,\n",
       " 3.909502262443439,\n",
       " 3.9057971014492754,\n",
       " 3.905759162303665,\n",
       " 3.9051724137931036,\n",
       " 3.903225806451613,\n",
       " 3.9005847953216373,\n",
       " 3.9,\n",
       " 3.896551724137931,\n",
       " 3.8963210702341136,\n",
       " 3.892857142857143,\n",
       " 3.888888888888889,\n",
       " 3.8857142857142857,\n",
       " 3.884,\n",
       " 3.881057268722467,\n",
       " 3.8783185840707963,\n",
       " 3.876923076923077,\n",
       " 3.875,\n",
       " 3.875,\n",
       " 3.8724279835390947,\n",
       " 3.871345029239766,\n",
       " 3.8684210526315788,\n",
       " 3.868131868131868,\n",
       " 3.8666666666666667,\n",
       " 3.8666666666666667,\n",
       " 3.864406779661017,\n",
       " 3.864406779661017,\n",
       " 3.8634361233480177,\n",
       " 3.8613138686131387,\n",
       " 3.859154929577465,\n",
       " 3.857142857142857,\n",
       " 3.857142857142857,\n",
       " 3.8555555555555556,\n",
       " 3.8548387096774195,\n",
       " 3.854014598540146,\n",
       " 3.853582554517134,\n",
       " 3.8512396694214877,\n",
       " 3.847457627118644,\n",
       " 3.8461538461538463,\n",
       " 3.838235294117647,\n",
       " 3.8366533864541834,\n",
       " 3.8358208955223883,\n",
       " 3.834285714285714,\n",
       " 3.8333333333333335,\n",
       " 3.8333333333333335,\n",
       " 3.8333333333333335,\n",
       " 3.8333333333333335,\n",
       " 3.8333333333333335,\n",
       " 3.831460674157303,\n",
       " 3.8306451612903225,\n",
       " 3.828025477707006,\n",
       " 3.825242718446602,\n",
       " 3.824,\n",
       " 3.823529411764706,\n",
       " 3.8217054263565893,\n",
       " 3.819672131147541,\n",
       " 3.8181818181818183,\n",
       " 3.8181818181818183,\n",
       " 3.8181818181818183,\n",
       " 3.8173076923076925,\n",
       " 3.816326530612245,\n",
       " 3.816,\n",
       " 3.8157894736842106,\n",
       " 3.8155737704918034,\n",
       " 3.814814814814815,\n",
       " 3.8127853881278537,\n",
       " 3.808641975308642,\n",
       " 3.804123711340206,\n",
       " 3.804054054054054,\n",
       " 3.804054054054054,\n",
       " 3.8035363457760316,\n",
       " 3.802721088435374,\n",
       " 3.8,\n",
       " 3.8,\n",
       " 3.8,\n",
       " 3.8,\n",
       " 3.798469387755102,\n",
       " 3.796875,\n",
       " 3.79296875,\n",
       " 3.7928994082840237,\n",
       " 3.792156862745098,\n",
       " 3.792079207920792,\n",
       " 3.7916666666666665,\n",
       " 3.7916666666666665,\n",
       " 3.791044776119403,\n",
       " 3.7901234567901234,\n",
       " 3.789473684210526,\n",
       " 3.7857142857142856,\n",
       " 3.785425101214575,\n",
       " 3.7818181818181817,\n",
       " 3.7781569965870307,\n",
       " 3.7777777777777777,\n",
       " 3.7761194029850746,\n",
       " 3.775,\n",
       " 3.772727272727273,\n",
       " 3.772727272727273,\n",
       " 3.7714285714285714,\n",
       " 3.7714285714285714,\n",
       " 3.77027027027027,\n",
       " 3.7701149425287355,\n",
       " 3.769230769230769,\n",
       " 3.769230769230769,\n",
       " 3.769230769230769,\n",
       " 3.769230769230769,\n",
       " 3.768041237113402,\n",
       " 3.765765765765766,\n",
       " 3.764705882352941,\n",
       " 3.7642857142857142,\n",
       " 3.761904761904762,\n",
       " 3.75,\n",
       " 3.75,\n",
       " 3.75,\n",
       " 3.75,\n",
       " 3.75,\n",
       " 3.75,\n",
       " 3.75,\n",
       " 3.75,\n",
       " 3.75,\n",
       " 3.7471264367816093,\n",
       " 3.745874587458746,\n",
       " 3.7450980392156863,\n",
       " 3.7411764705882353,\n",
       " 3.740740740740741,\n",
       " 3.7333333333333334,\n",
       " 3.72972972972973,\n",
       " 3.727272727272727,\n",
       " 3.727272727272727,\n",
       " 3.7263157894736842,\n",
       " 3.7247191011235956,\n",
       " 3.7232142857142856,\n",
       " 3.722772277227723,\n",
       " 3.7222222222222223,\n",
       " 3.7209302325581395,\n",
       " 3.7203065134099615,\n",
       " 3.7175141242937855,\n",
       " 3.7142857142857144,\n",
       " 3.7142857142857144,\n",
       " 3.7142857142857144,\n",
       " 3.712121212121212,\n",
       " 3.7109375,\n",
       " 3.7093023255813953,\n",
       " 3.7083333333333335,\n",
       " 3.7058823529411766,\n",
       " 3.704697986577181,\n",
       " 3.7045454545454546,\n",
       " 3.7017543859649122,\n",
       " 3.7,\n",
       " 3.7,\n",
       " 3.69811320754717,\n",
       " 3.697986577181208,\n",
       " 3.693121693121693,\n",
       " 3.6929133858267718,\n",
       " 3.6923076923076925,\n",
       " 3.6904761904761907,\n",
       " 3.6904761904761907,\n",
       " 3.690058479532164,\n",
       " 3.6875,\n",
       " 3.6865671641791047,\n",
       " 3.685344827586207,\n",
       " 3.6823529411764704,\n",
       " 3.6818181818181817,\n",
       " 3.68,\n",
       " 3.68,\n",
       " 3.676470588235294,\n",
       " 3.676470588235294,\n",
       " 3.675,\n",
       " 3.6732673267326734,\n",
       " 3.6714285714285713,\n",
       " 3.6666666666666665,\n",
       " 3.6666666666666665,\n",
       " 3.6666666666666665,\n",
       " 3.6666666666666665,\n",
       " 3.6666666666666665,\n",
       " 3.6666666666666665,\n",
       " 3.6666666666666665,\n",
       " 3.6666666666666665,\n",
       " 3.6666666666666665,\n",
       " 3.6666666666666665,\n",
       " 3.6666666666666665,\n",
       " 3.6666666666666665,\n",
       " 3.6666666666666665,\n",
       " 3.6666666666666665,\n",
       " 3.6666666666666665,\n",
       " 3.6666666666666665,\n",
       " 3.6638655462184873,\n",
       " 3.6613545816733066,\n",
       " 3.6610169491525424,\n",
       " 3.6610169491525424,\n",
       " 3.66027397260274,\n",
       " 3.658536585365854,\n",
       " 3.658536585365854,\n",
       " 3.656964656964657,\n",
       " 3.6545454545454548,\n",
       " 3.6538461538461537,\n",
       " 3.652173913043478,\n",
       " 3.651685393258427,\n",
       " 3.6511627906976742,\n",
       " 3.65,\n",
       " 3.6483516483516483,\n",
       " 3.6478260869565218,\n",
       " 3.645714285714286,\n",
       " 3.644194756554307,\n",
       " 3.6436781609195403,\n",
       " 3.642857142857143,\n",
       " 3.641025641025641,\n",
       " 3.6341463414634148,\n",
       " 3.6333333333333333,\n",
       " 3.6319018404907975,\n",
       " 3.6310904872389793,\n",
       " 3.6298701298701297,\n",
       " 3.6296296296296298,\n",
       " 3.6280487804878048,\n",
       " 3.625,\n",
       " 3.625,\n",
       " 3.6222222222222222,\n",
       " 3.6218487394957983,\n",
       " 3.6216216216216215,\n",
       " 3.619047619047619,\n",
       " 3.6176470588235294,\n",
       " 3.6153846153846154,\n",
       " 3.6153846153846154,\n",
       " 3.6153846153846154,\n",
       " 3.611111111111111,\n",
       " 3.611111111111111,\n",
       " 3.611111111111111,\n",
       " 3.6108597285067874,\n",
       " 3.609375,\n",
       " 3.608695652173913,\n",
       " 3.608695652173913,\n",
       " 3.601503759398496,\n",
       " 3.6011904761904763,\n",
       " 3.601123595505618,\n",
       " 3.6,\n",
       " 3.6,\n",
       " 3.6,\n",
       " 3.6,\n",
       " 3.6,\n",
       " 3.6,\n",
       " 3.5961538461538463,\n",
       " 3.5955882352941178,\n",
       " 3.5953488372093023,\n",
       " 3.5945945945945947,\n",
       " 3.5943396226415096,\n",
       " 3.593625498007968,\n",
       " 3.5925925925925926,\n",
       " 3.58974358974359,\n",
       " 3.589403973509934,\n",
       " 3.5874125874125875,\n",
       " 3.5873015873015874,\n",
       " 3.5833333333333335,\n",
       " 3.5813953488372094,\n",
       " 3.5789473684210527,\n",
       " 3.576923076923077,\n",
       " 3.574468085106383,\n",
       " 3.5714285714285716,\n",
       " 3.5714285714285716,\n",
       " 3.5714285714285716,\n",
       " 3.5714285714285716,\n",
       " 3.569832402234637,\n",
       " 3.569620253164557,\n",
       " 3.569506726457399,\n",
       " 3.5652173913043477,\n",
       " 3.5647058823529414,\n",
       " 3.5625,\n",
       " 3.5625,\n",
       " 3.557377049180328,\n",
       " 3.556603773584906,\n",
       " 3.5555555555555554,\n",
       " 3.5555555555555554,\n",
       " 3.5555555555555554,\n",
       " 3.5555555555555554,\n",
       " 3.5555555555555554,\n",
       " 3.5545454545454547,\n",
       " 3.5543478260869565,\n",
       " 3.5526315789473686,\n",
       " 3.550239234449761,\n",
       " 3.55,\n",
       " 3.549382716049383,\n",
       " 3.546875,\n",
       " 3.5454545454545454,\n",
       " 3.5454545454545454,\n",
       " 3.5454545454545454,\n",
       " 3.5443037974683542,\n",
       " 3.5441176470588234,\n",
       " 3.5434782608695654,\n",
       " 3.5416666666666665,\n",
       " 3.539906103286385,\n",
       " 3.5398230088495577,\n",
       " 3.5391304347826087,\n",
       " 3.5384615384615383,\n",
       " 3.5369127516778525,\n",
       " 3.5359477124183005,\n",
       " 3.5353535353535355,\n",
       " 3.532258064516129,\n",
       " 3.53,\n",
       " 3.5294117647058822,\n",
       " 3.5232558139534884,\n",
       " 3.5168539325842696,\n",
       " 3.515957446808511,\n",
       " 3.515151515151515,\n",
       " 3.514792899408284,\n",
       " 3.513333333333333,\n",
       " 3.510948905109489,\n",
       " 3.5041322314049586,\n",
       " 3.5,\n",
       " 3.5,\n",
       " 3.5,\n",
       " 3.5,\n",
       " 3.5,\n",
       " 3.5,\n",
       " 3.5,\n",
       " 3.5,\n",
       " 3.5,\n",
       " 3.5,\n",
       " 3.5,\n",
       " 3.5,\n",
       " 3.5,\n",
       " 3.5,\n",
       " 3.5,\n",
       " 3.5,\n",
       " 3.5,\n",
       " 3.5,\n",
       " 3.5,\n",
       " 3.5,\n",
       " 3.5,\n",
       " 3.4959349593495936,\n",
       " 3.490566037735849,\n",
       " 3.488888888888889,\n",
       " 3.4871794871794872,\n",
       " 3.486842105263158,\n",
       " 3.486111111111111,\n",
       " 3.485294117647059,\n",
       " 3.484375,\n",
       " 3.4831460674157304,\n",
       " 3.4827586206896552,\n",
       " 3.481818181818182,\n",
       " 3.4814814814814814,\n",
       " 3.4771573604060912,\n",
       " 3.4761904761904763,\n",
       " 3.4761904761904763,\n",
       " 3.4752475247524752,\n",
       " 3.475,\n",
       " 3.473684210526316,\n",
       " 3.4702702702702704,\n",
       " 3.46875,\n",
       " 3.46875,\n",
       " 3.466666666666667,\n",
       " 3.465909090909091,\n",
       " 3.464788732394366,\n",
       " 3.4647058823529413,\n",
       " 3.463768115942029,\n",
       " 3.4615384615384617,\n",
       " 3.4615384615384617,\n",
       " 3.4615384615384617,\n",
       " 3.4607843137254903,\n",
       " 3.4603174603174605,\n",
       " 3.46,\n",
       " 3.45985401459854,\n",
       " 3.458823529411765,\n",
       " 3.4583333333333335,\n",
       " 3.458064516129032,\n",
       " 3.45679012345679,\n",
       " 3.4565217391304346,\n",
       " 3.4565217391304346,\n",
       " 3.456140350877193,\n",
       " 3.4545454545454546,\n",
       " 3.4536082474226806,\n",
       " 3.452054794520548,\n",
       " 3.45,\n",
       " 3.4482758620689653,\n",
       " 3.4482758620689653,\n",
       " 3.4472361809045227,\n",
       " 3.4444444444444446,\n",
       " 3.4444444444444446,\n",
       " 3.4444444444444446,\n",
       " 3.4444444444444446,\n",
       " 3.4436860068259385,\n",
       " 3.4414225941422596,\n",
       " 3.438228438228438,\n",
       " 3.4375,\n",
       " 3.4310344827586206,\n",
       " 3.4307692307692306,\n",
       " 3.4285714285714284,\n",
       " 3.4285714285714284,\n",
       " 3.4285714285714284,\n",
       " 3.4285714285714284,\n",
       " 3.4285714285714284,\n",
       " 3.427860696517413,\n",
       " 3.4277777777777776,\n",
       " 3.426829268292683,\n",
       " 3.425,\n",
       " 3.4242424242424243,\n",
       " 3.4237288135593222,\n",
       " 3.421875,\n",
       " 3.4210526315789473,\n",
       " 3.4184782608695654,\n",
       " 3.417910447761194,\n",
       " 3.4177215189873418,\n",
       " 3.4166666666666665,\n",
       " 3.4166666666666665,\n",
       " 3.4166666666666665,\n",
       " 3.413793103448276,\n",
       " 3.4114583333333335,\n",
       " 3.4081632653061225,\n",
       " 3.4074074074074074,\n",
       " 3.4054054054054053,\n",
       " 3.4025974025974026,\n",
       " 3.4,\n",
       " 3.4,\n",
       " 3.4,\n",
       " 3.4,\n",
       " 3.4,\n",
       " 3.4,\n",
       " 3.4,\n",
       " 3.4,\n",
       " 3.391304347826087,\n",
       " 3.389261744966443,\n",
       " 3.388235294117647,\n",
       " 3.3859649122807016,\n",
       " 3.3859649122807016,\n",
       " 3.3846153846153846,\n",
       " 3.3846153846153846,\n",
       " 3.3846153846153846,\n",
       " 3.381443298969072,\n",
       " 3.38,\n",
       " 3.3783783783783785,\n",
       " 3.377952755905512,\n",
       " 3.3771428571428572,\n",
       " 3.375,\n",
       " 3.375,\n",
       " 3.375,\n",
       " 3.375,\n",
       " 3.37007874015748,\n",
       " 3.3636363636363638,\n",
       " 3.3636363636363638,\n",
       " 3.3636363636363638,\n",
       " 3.36046511627907,\n",
       " 3.36,\n",
       " 3.359375,\n",
       " 3.358974358974359,\n",
       " 3.357142857142857,\n",
       " 3.356687898089172,\n",
       " 3.355421686746988,\n",
       " 3.3548387096774195,\n",
       " 3.3508771929824563,\n",
       " 3.347058823529412,\n",
       " 3.34375,\n",
       " 3.3417721518987342,\n",
       " 3.341463414634146,\n",
       " 3.3404255319148937,\n",
       " 3.3380281690140845,\n",
       " 3.3376623376623376,\n",
       " 3.3376623376623376,\n",
       " 3.336206896551724,\n",
       " 3.3333333333333335,\n",
       " 3.3333333333333335,\n",
       " 3.3333333333333335,\n",
       " 3.3333333333333335,\n",
       " 3.3333333333333335,\n",
       " 3.3333333333333335,\n",
       " 3.3333333333333335,\n",
       " 3.3333333333333335,\n",
       " 3.3333333333333335,\n",
       " 3.3333333333333335,\n",
       " 3.3333333333333335,\n",
       " 3.3333333333333335,\n",
       " 3.3333333333333335,\n",
       " 3.3333333333333335,\n",
       " 3.3333333333333335,\n",
       " 3.3333333333333335,\n",
       " 3.3333333333333335,\n",
       " 3.3333333333333335,\n",
       " 3.3333333333333335,\n",
       " 3.3292682926829267,\n",
       " 3.323529411764706,\n",
       " 3.323170731707317,\n",
       " 3.3209876543209877,\n",
       " 3.319327731092437,\n",
       " 3.3181818181818183,\n",
       " 3.3181818181818183,\n",
       " 3.3181818181818183,\n",
       " 3.3157894736842106,\n",
       " 3.313953488372093,\n",
       " 3.3125,\n",
       " 3.3125,\n",
       " 3.3076923076923075,\n",
       " 3.3076923076923075,\n",
       " 3.3043478260869565,\n",
       " 3.303370786516854,\n",
       " 3.302325581395349,\n",
       " 3.3,\n",
       " 3.3,\n",
       " 3.3,\n",
       " 3.2962962962962963,\n",
       " 3.2941176470588234,\n",
       " 3.2903225806451615,\n",
       " 3.2903225806451615,\n",
       " 3.2857142857142856,\n",
       " 3.2857142857142856,\n",
       " 3.2857142857142856,\n",
       " 3.2857142857142856,\n",
       " 3.2857142857142856,\n",
       " 3.2857142857142856,\n",
       " 3.2857142857142856,\n",
       " 3.2857142857142856,\n",
       " 3.2847682119205297,\n",
       " 3.279503105590062,\n",
       " 3.2781456953642385,\n",
       " 3.2758620689655173,\n",
       " 3.2738095238095237,\n",
       " 3.272727272727273,\n",
       " 3.272727272727273,\n",
       " 3.272727272727273,\n",
       " 3.2720588235294117,\n",
       " 3.2666666666666666,\n",
       " 3.264367816091954,\n",
       " 3.26027397260274,\n",
       " 3.2564102564102564,\n",
       " 3.25531914893617,\n",
       " 3.25531914893617,\n",
       " 3.2551724137931033,\n",
       " 3.25,\n",
       " 3.25,\n",
       " 3.25,\n",
       " 3.25,\n",
       " 3.25,\n",
       " 3.25,\n",
       " 3.25,\n",
       " 3.25,\n",
       " 3.25,\n",
       " 3.25,\n",
       " 3.25,\n",
       " 3.246153846153846,\n",
       " 3.2439024390243905,\n",
       " 3.241758241758242,\n",
       " 3.2403846153846154,\n",
       " 3.24,\n",
       " 3.24,\n",
       " 3.24,\n",
       " 3.235294117647059,\n",
       " 3.234782608695652,\n",
       " 3.2333333333333334,\n",
       " 3.2322274881516586,\n",
       " 3.232142857142857,\n",
       " 3.230769230769231,\n",
       " 3.230769230769231,\n",
       " 3.230769230769231,\n",
       " 3.230769230769231,\n",
       " 3.230769230769231,\n",
       " 3.227722772277228,\n",
       " 3.2266666666666666,\n",
       " 3.225806451612903,\n",
       " 3.225,\n",
       " 3.2241379310344827,\n",
       " 3.2222222222222223,\n",
       " 3.2222222222222223,\n",
       " 3.2222222222222223,\n",
       " 3.2222222222222223,\n",
       " 3.2222222222222223,\n",
       " 3.2203389830508473,\n",
       " 3.2169811320754715,\n",
       " 3.2150170648464163,\n",
       " 3.2131147540983607,\n",
       " 3.210526315789474,\n",
       " 3.210526315789474,\n",
       " 3.2083333333333335,\n",
       " 3.2083333333333335,\n",
       " 3.207920792079208,\n",
       " 3.2061068702290076,\n",
       " 3.2051282051282053,\n",
       " 3.204081632653061,\n",
       " 3.203125,\n",
       " 3.2,\n",
       " 3.2,\n",
       " 3.2,\n",
       " 3.2,\n",
       " 3.2,\n",
       " 3.2,\n",
       " 3.2,\n",
       " 3.2,\n",
       " 3.2,\n",
       " 3.2,\n",
       " 3.193798449612403,\n",
       " 3.193548387096774,\n",
       " 3.1904761904761907,\n",
       " 3.1882352941176473,\n",
       " 3.1875,\n",
       " 3.1824817518248176,\n",
       " 3.1818181818181817,\n",
       " 3.1818181818181817,\n",
       " 3.1785714285714284,\n",
       " 3.1777777777777776,\n",
       " 3.176470588235294,\n",
       " 3.1739130434782608,\n",
       " 3.171875,\n",
       " 3.171171171171171,\n",
       " 3.169491525423729,\n",
       " 3.1666666666666665,\n",
       " 3.1666666666666665,\n",
       " 3.1666666666666665,\n",
       " 3.1666666666666665,\n",
       " 3.1666666666666665,\n",
       " 3.1666666666666665,\n",
       " 3.1666666666666665,\n",
       " 3.1666666666666665,\n",
       " 3.1666666666666665,\n",
       " 3.1666666666666665,\n",
       " 3.1666666666666665,\n",
       " 3.1666666666666665,\n",
       " 3.1666666666666665,\n",
       " 3.1641791044776117,\n",
       " 3.1627906976744184,\n",
       " 3.1625,\n",
       " 3.161764705882353,\n",
       " 3.161290322580645,\n",
       " 3.160621761658031,\n",
       " 3.159090909090909,\n",
       " 3.158333333333333,\n",
       " 3.156701030927835,\n",
       " 3.1551724137931036,\n",
       " 3.1549295774647885,\n",
       " 3.1538461538461537,\n",
       " 3.1538461538461537,\n",
       " 3.1538461538461537,\n",
       " 3.152173913043478,\n",
       " 3.150485436893204,\n",
       " 3.1494252873563218,\n",
       " 3.1481481481481484,\n",
       " 3.1475409836065573,\n",
       " 3.1470588235294117,\n",
       " 3.1463414634146343,\n",
       " 3.143835616438356,\n",
       " 3.142857142857143,\n",
       " 3.142857142857143,\n",
       " 3.142857142857143,\n",
       " 3.142857142857143,\n",
       " 3.142857142857143,\n",
       " 3.142857142857143,\n",
       " 3.142857142857143,\n",
       " 3.141732283464567,\n",
       " 3.1392405063291138,\n",
       " 3.136,\n",
       " 3.1333333333333333,\n",
       " 3.1333333333333333,\n",
       " 3.130434782608696,\n",
       " 3.130434782608696,\n",
       " 3.1301775147928996,\n",
       " 3.1296296296296298,\n",
       " 3.1296296296296298,\n",
       " 3.126984126984127,\n",
       " 3.125,\n",
       " 3.125,\n",
       " 3.1234177215189876,\n",
       " 3.1222222222222222,\n",
       " 3.119565217391304,\n",
       " 3.1176470588235294,\n",
       " 3.1153846153846154,\n",
       " 3.1145833333333335,\n",
       " 3.111111111111111,\n",
       " 3.111111111111111,\n",
       " 3.111111111111111,\n",
       " 3.111111111111111,\n",
       " 3.111111111111111,\n",
       " 3.111111111111111,\n",
       " 3.1083333333333334,\n",
       " 3.1052631578947367,\n",
       " 3.1052631578947367,\n",
       " 3.1020408163265305,\n",
       " 3.1,\n",
       " 3.1,\n",
       " 3.1,\n",
       " 3.097560975609756,\n",
       " 3.096774193548387,\n",
       " 3.096774193548387,\n",
       " 3.095890410958904,\n",
       " 3.0952380952380953,\n",
       " 3.09375,\n",
       " 3.0930232558139537,\n",
       " 3.090909090909091,\n",
       " 3.090909090909091,\n",
       " 3.0875912408759123,\n",
       " 3.0871559633027523,\n",
       " 3.0869565217391304,\n",
       " 3.0833333333333335,\n",
       " 3.0822784810126582,\n",
       " 3.081081081081081,\n",
       " 3.0784313725490198,\n",
       " 3.076923076923077,\n",
       " 3.076923076923077,\n",
       " 3.0754716981132075,\n",
       " 3.074074074074074,\n",
       " 3.0701754385964914,\n",
       " 3.0681818181818183,\n",
       " 3.0677966101694913,\n",
       " 3.0652173913043477,\n",
       " 3.061224489795918,\n",
       " 3.061224489795918,\n",
       " 3.06,\n",
       " 3.0555555555555554,\n",
       " 3.0526315789473686,\n",
       " 3.0526315789473686,\n",
       " 3.051282051282051,\n",
       " 3.0485436893203883,\n",
       " 3.046728971962617,\n",
       " 3.0454545454545454,\n",
       " 3.0454545454545454,\n",
       " 3.0416666666666665,\n",
       " 3.0405405405405403,\n",
       " 3.036144578313253,\n",
       " 3.0344827586206895,\n",
       " 3.034188034188034,\n",
       " 3.033333333333333,\n",
       " 3.031496062992126,\n",
       " 3.03125,\n",
       " 3.026315789473684,\n",
       " 3.024390243902439,\n",
       " 3.024390243902439,\n",
       " 3.0232558139534884,\n",
       " 3.022222222222222,\n",
       " 3.021505376344086,\n",
       " 3.018867924528302,\n",
       " 3.01875,\n",
       " 3.0136986301369864,\n",
       " 3.0083333333333333,\n",
       " 3.0,\n",
       " 3.0,\n",
       " 3.0,\n",
       " 3.0,\n",
       " 3.0,\n",
       " 3.0,\n",
       " 3.0,\n",
       " 3.0,\n",
       " 3.0,\n",
       " 3.0,\n",
       " 3.0,\n",
       " 3.0,\n",
       " 3.0,\n",
       " 3.0,\n",
       " 3.0,\n",
       " 3.0,\n",
       " 3.0,\n",
       " 3.0,\n",
       " 3.0,\n",
       " 3.0,\n",
       " 3.0,\n",
       " 3.0,\n",
       " 3.0,\n",
       " 3.0,\n",
       " 3.0,\n",
       " 3.0,\n",
       " 3.0,\n",
       " 3.0,\n",
       " 3.0,\n",
       " 3.0,\n",
       " 3.0,\n",
       " 3.0,\n",
       " 3.0,\n",
       " 3.0,\n",
       " 3.0,\n",
       " 3.0,\n",
       " 3.0,\n",
       " 3.0,\n",
       " 3.0,\n",
       " 3.0,\n",
       " 3.0,\n",
       " 3.0,\n",
       " 3.0,\n",
       " 3.0,\n",
       " 3.0,\n",
       " 3.0,\n",
       " 3.0,\n",
       " 3.0,\n",
       " 3.0,\n",
       " ...]"
      ]
     },
     "execution_count": 15,
     "metadata": {},
     "output_type": "execute_result"
    }
   ],
   "source": [
    "sorted(grouped_data_movie.rating.mean(), reverse=True)"
   ]
  },
  {
   "cell_type": "markdown",
   "metadata": {
    "slideshow": {
     "slide_type": "slide"
    }
   },
   "source": [
    "Quiz\n",
    "====\n",
    "\n",
    "* get the average rating per movie\n",
    "* advanced: get the movie titles with the highest average rating"
   ]
  },
  {
   "cell_type": "code",
   "execution_count": 16,
   "metadata": {
    "slideshow": {
     "slide_type": "slide"
    }
   },
   "outputs": [
    {
     "name": "stdout",
     "output_type": "stream",
     "text": [
      "Average ratings:\n",
      "movie_id\n",
      "1    3.878319\n",
      "2    3.206107\n",
      "3    3.033333\n",
      "4    3.550239\n",
      "5    3.302326\n",
      "Name: rating, dtype: float64\n",
      "\n",
      "\n"
     ]
    }
   ],
   "source": [
    "## split data\n",
    "grouped_data = ratings['rating'].groupby(ratings['movie_id'])\n",
    "## average and combine\n",
    "average_ratings = grouped_data.mean()\n",
    "print(\"Average ratings:\")\n",
    "print(average_ratings.head())\n",
    "print('\\n')\n",
    "\n",
    "maximum_rating = average_ratings.max()\n",
    "good_movie_ids = average_ratings[average_ratings == maximum_rating].index"
   ]
  },
  {
   "cell_type": "code",
   "execution_count": 17,
   "metadata": {
    "slideshow": {
     "slide_type": "slide"
    }
   },
   "outputs": [
    {
     "name": "stdout",
     "output_type": "stream",
     "text": [
      "Good movie ids:\n",
      "Int64Index([814, 1122, 1189, 1201, 1293, 1467, 1500, 1536, 1599, 1653], dtype='int64', name='movie_id')\n",
      "\n",
      "\n",
      "Best movie titles\n",
      "813                         Great Day in Harlem, A (1994)\n",
      "1121                       They Made Me a Criminal (1939)\n",
      "1188                                   Prefontaine (1997)\n",
      "1200           Marlene Dietrich: Shadow and Light (1996) \n",
      "1292                                      Star Kid (1997)\n",
      "1466                 Saint of Fort Washington, The (1993)\n",
      "1499                            Santa with Muscles (1996)\n",
      "1535                                 Aiqing wansui (1994)\n",
      "1598                        Someone Else's America (1995)\n",
      "1652    Entertaining Angels: The Dorothy Day Story (1996)\n",
      "Name: title, dtype: object\n",
      "\n",
      "\n"
     ]
    }
   ],
   "source": [
    "print(\"Good movie ids:\")\n",
    "print(good_movie_ids)\n",
    "print('\\n')\n",
    "\n",
    "print(\"Best movie titles\")\n",
    "print(movies[movies.movie_id.isin(good_movie_ids)].title)\n",
    "print('\\n')"
   ]
  },
  {
   "cell_type": "code",
   "execution_count": 18,
   "metadata": {
    "slideshow": {
     "slide_type": "slide"
    }
   },
   "outputs": [
    {
     "name": "stdout",
     "output_type": "stream",
     "text": [
      "Number of ratings per movie\n",
      "movie_id\n",
      "814     1\n",
      "1122    1\n",
      "1189    3\n",
      "1201    1\n",
      "1293    3\n",
      "1467    2\n",
      "1500    2\n",
      "1536    1\n",
      "1599    1\n",
      "1653    1\n",
      "Name: rating, dtype: int64\n"
     ]
    }
   ],
   "source": [
    "how_many_ratings = grouped_data.count()\n",
    "print(\"Number of ratings per movie\")\n",
    "print(how_many_ratings[average_ratings == maximum_rating])"
   ]
  },
  {
   "cell_type": "markdown",
   "metadata": {
    "slideshow": {
     "slide_type": "slide"
    }
   },
   "source": [
    "Passing a Function\n",
    "==================\n"
   ]
  },
  {
   "cell_type": "code",
   "execution_count": 19,
   "metadata": {},
   "outputs": [
    {
     "data": {
      "text/plain": [
       "movie_id\n",
       "1    3.878319\n",
       "2    3.206107\n",
       "3    3.033333\n",
       "4    3.550239\n",
       "5    3.302326\n",
       "Name: rating, dtype: float64"
      ]
     },
     "execution_count": 19,
     "metadata": {},
     "output_type": "execute_result"
    }
   ],
   "source": [
    "average_ratings = grouped_data.apply(lambda f: f.mean())\n",
    "average_ratings.head()"
   ]
  },
  {
   "cell_type": "code",
   "execution_count": 20,
   "metadata": {},
   "outputs": [
    {
     "data": {
      "text/plain": [
       "user_id\n",
       "1      3.610294\n",
       "2      3.709677\n",
       "3      2.796296\n",
       "4      4.333333\n",
       "5      2.874286\n",
       "6      3.635071\n",
       "7      3.965261\n",
       "8      3.796610\n",
       "9      4.272727\n",
       "10     4.206522\n",
       "11     3.464088\n",
       "12     4.392157\n",
       "13     3.097484\n",
       "14     4.091837\n",
       "15     2.875000\n",
       "16     4.328571\n",
       "17     3.035714\n",
       "18     3.880866\n",
       "19     3.550000\n",
       "20     3.104167\n",
       "21     2.670391\n",
       "22     3.351562\n",
       "23     3.635762\n",
       "24     4.323529\n",
       "25     4.051282\n",
       "26     2.943925\n",
       "27     3.240000\n",
       "28     3.721519\n",
       "29     3.647059\n",
       "30     3.767442\n",
       "         ...   \n",
       "914    3.086957\n",
       "915    3.115385\n",
       "916    3.365931\n",
       "917    3.542857\n",
       "918    3.349515\n",
       "919    3.470046\n",
       "920    3.230769\n",
       "921    3.272727\n",
       "922    3.370079\n",
       "923    4.148649\n",
       "924    3.756098\n",
       "925    3.125000\n",
       "926    3.300000\n",
       "927    3.691667\n",
       "928    4.687500\n",
       "929    3.693878\n",
       "930    2.968254\n",
       "931    3.721311\n",
       "932    3.966805\n",
       "933    2.646739\n",
       "934    3.701149\n",
       "935    3.923077\n",
       "936    3.746479\n",
       "937    3.375000\n",
       "938    3.268519\n",
       "939    4.265306\n",
       "940    3.457944\n",
       "941    4.045455\n",
       "942    4.265823\n",
       "943    3.410714\n",
       "Name: rating, Length: 943, dtype: float64"
      ]
     },
     "execution_count": 20,
     "metadata": {},
     "output_type": "execute_result"
    }
   ],
   "source": [
    "grouped_data = ratings.rating.groupby(ratings['user_id'])\n",
    "grouped_data.mean()"
   ]
  },
  {
   "cell_type": "code",
   "execution_count": 21,
   "metadata": {},
   "outputs": [
    {
     "data": {
      "text/plain": [
       "array(['technician', 'other', 'writer', 'executive', 'administrator',\n",
       "       'student', 'lawyer', 'educator', 'scientist', 'entertainment',\n",
       "       'programmer', 'librarian', 'homemaker', 'artist', 'engineer',\n",
       "       'marketing', 'none', 'healthcare', 'retired', 'salesman', 'doctor'], dtype=object)"
      ]
     },
     "execution_count": 21,
     "metadata": {},
     "output_type": "execute_result"
    }
   ],
   "source": [
    "users.occupation.unique()"
   ]
  },
  {
   "cell_type": "code",
   "execution_count": 22,
   "metadata": {},
   "outputs": [],
   "source": [
    "grouped_data = users.groupby(users.occupation)"
   ]
  },
  {
   "cell_type": "code",
   "execution_count": 23,
   "metadata": {},
   "outputs": [
    {
     "name": "stdout",
     "output_type": "stream",
     "text": [
      "administrator 43 36\n",
      "artist 15 13\n",
      "doctor 7 0\n",
      "educator 69 26\n",
      "engineer 65 2\n",
      "entertainment 16 2\n",
      "executive 29 3\n",
      "healthcare 5 11\n",
      "homemaker 1 6\n",
      "lawyer 10 2\n",
      "librarian 22 29\n",
      "marketing 16 10\n",
      "none 5 4\n",
      "other 69 36\n",
      "programmer 60 6\n",
      "retired 13 1\n",
      "salesman 9 3\n",
      "scientist 28 3\n",
      "student 136 60\n",
      "technician 26 1\n",
      "writer 26 19\n"
     ]
    }
   ],
   "source": [
    "for i in grouped_data:\n",
    "    print(i[0], sum(i[1].sex == 'M'), sum(i[1].sex == 'F'))"
   ]
  },
  {
   "cell_type": "code",
   "execution_count": null,
   "metadata": {},
   "outputs": [],
   "source": []
  },
  {
   "cell_type": "markdown",
   "metadata": {
    "slideshow": {
     "slide_type": "slide"
    }
   },
   "source": [
    "Quiz\n",
    "====\n",
    "\n",
    "* get the average rating per user\n",
    "* advanced: list all occupations and if they are male or female dominant"
   ]
  },
  {
   "cell_type": "code",
   "execution_count": 24,
   "metadata": {
    "slideshow": {
     "slide_type": "slide"
    }
   },
   "outputs": [
    {
     "data": {
      "text/plain": [
       "user_id\n",
       "1    3.610294\n",
       "2    3.709677\n",
       "3    2.796296\n",
       "4    4.333333\n",
       "5    2.874286\n",
       "Name: rating, dtype: float64"
      ]
     },
     "execution_count": 24,
     "metadata": {},
     "output_type": "execute_result"
    }
   ],
   "source": [
    "grouped_data = ratings['rating'].groupby(ratings['user_id'])\n",
    "average_ratings = grouped_data.mean()\n",
    "average_ratings.head()"
   ]
  },
  {
   "cell_type": "code",
   "execution_count": 25,
   "metadata": {
    "slideshow": {
     "slide_type": "slide"
    }
   },
   "outputs": [
    {
     "name": "stdout",
     "output_type": "stream",
     "text": [
      "occupation\n",
      "administrator     True\n",
      "artist            True\n",
      "doctor            True\n",
      "educator          True\n",
      "engineer          True\n",
      "entertainment     True\n",
      "executive         True\n",
      "healthcare       False\n",
      "homemaker        False\n",
      "lawyer            True\n",
      "librarian        False\n",
      "marketing         True\n",
      "none              True\n",
      "other             True\n",
      "programmer        True\n",
      "retired           True\n",
      "salesman          True\n",
      "scientist         True\n",
      "student           True\n",
      "technician        True\n",
      "writer            True\n",
      "Name: sex, dtype: bool\n",
      "\n",
      "\n"
     ]
    }
   ],
   "source": [
    "grouped_data = users['sex'].groupby(users['occupation'])\n",
    "male_dominant_occupations = grouped_data.apply(lambda f: \n",
    "                                               sum(f == 'M') > sum(f == 'F'))\n",
    "print(male_dominant_occupations)\n",
    "print('\\n')"
   ]
  },
  {
   "cell_type": "code",
   "execution_count": 26,
   "metadata": {
    "slideshow": {
     "slide_type": "slide"
    }
   },
   "outputs": [
    {
     "name": "stdout",
     "output_type": "stream",
     "text": [
      "number of male users: \n",
      "670\n",
      "number of female users: \n",
      "273\n"
     ]
    }
   ],
   "source": [
    "print('number of male users: ')\n",
    "print(sum(users['sex'] == 'M'))\n",
    "\n",
    "print('number of female users: ')\n",
    "print(sum(users['sex'] == 'F'))"
   ]
  },
  {
   "cell_type": "markdown",
   "metadata": {
    "slideshow": {
     "slide_type": "slide"
    }
   },
   "source": [
    "Pandas \"wrapup\"\n",
    "==========\n",
    "\n",
    "- create data frames\n",
    "- get sub-frames\n",
    "- filter data \n",
    "- use group-by\n",
    "- apply a user defined function\n",
    "\n",
    "\n",
    "![cute panda](images/cute_panda.jpg)"
   ]
  },
  {
   "cell_type": "markdown",
   "metadata": {
    "slideshow": {
     "slide_type": "slide"
    }
   },
   "source": [
    "Python data scraping\n",
    "====================\n",
    "\n",
    "* Why scrape the web?\n",
    "    - vast source of information\n",
    "    - automate tasks\n",
    "    - keep up with sites\n",
    "    - fun!\n",
    "\n",
    "** Can you think of examples ? **"
   ]
  },
  {
   "cell_type": "markdown",
   "metadata": {
    "slideshow": {
     "slide_type": "skip"
    }
   },
   "source": [
    "  \n",
    "Answer: Some examples we had were stock market monitoring, sports data, or airline prices."
   ]
  },
  {
   "cell_type": "markdown",
   "metadata": {
    "slideshow": {
     "slide_type": "slide"
    }
   },
   "source": [
    "Read and Tweet!\n",
    "=================\n",
    "\n",
    "![ReadTweet](http://developer.nytimes.com/files/readtweet.jpg)\n",
    "\n",
    "* by Justin Blinder\n",
    "* http://projects.justinblinder.com/We-Read-We-Tweet"
   ]
  },
  {
   "cell_type": "markdown",
   "metadata": {
    "slideshow": {
     "slide_type": "skip"
    }
   },
   "source": [
    "“We Read, We Tweet” geographically visualizes the dissemination of New York Times articles through Twitter. Each line connects the location of a tweet to the contextual location of the New York Times article it referenced. The lines are generated in a sequence based on the time in which a tweet occurs. The project explores digital news distribution in a temporal and spatial context through the social space of Twitter."
   ]
  },
  {
   "cell_type": "markdown",
   "metadata": {
    "slideshow": {
     "slide_type": "slide"
    }
   },
   "source": [
    "Twitter Sentiments\n",
    "=================\n",
    "\n",
    "![TwitterSentiments](http://www.csc.ncsu.edu/faculty/healey/tweet_viz/figs/tweet-viz-ex.png\n",
    " \"Twitter Sentiments\")\n",
    "\n",
    "* by Healey and Ramaswamy\n",
    "* http://www.csc.ncsu.edu/faculty/healey/tweet_viz/tweet_app/"
   ]
  },
  {
   "cell_type": "markdown",
   "metadata": {
    "slideshow": {
     "slide_type": "skip"
    }
   },
   "source": [
    "Type a keyword into the input field, then click the Query button. Recent tweets that contain your keyword are pulled from Twitter and visualized in the Sentiment tab as circles. Hover your mouse over a tweet or click on it to see its text."
   ]
  },
  {
   "cell_type": "markdown",
   "metadata": {
    "slideshow": {
     "slide_type": "slide"
    }
   },
   "source": [
    "Python data scraping\n",
    "====================\n",
    "\n",
    "* copyrights and permission:\n",
    "    - be careful and polite\n",
    "    - give credit\n",
    "    - care about media law\n",
    "    - don't be evil (no spam, overloading sites, etc.)"
   ]
  },
  {
   "cell_type": "markdown",
   "metadata": {
    "slideshow": {
     "slide_type": "slide"
    }
   },
   "source": [
    "Robots.txt\n",
    "==========\n",
    "\n",
    "![Robots.txt](images/robots_txt.jpg \"Robots.txt\")"
   ]
  },
  {
   "cell_type": "markdown",
   "metadata": {
    "slideshow": {
     "slide_type": "slide"
    }
   },
   "source": [
    "Robots.txt\n",
    "==========\n",
    "\n",
    "* specified by web site owner\n",
    "* gives instructions to web robots (aka your script)\n",
    "* is located at the top-level directory of the web server\n",
    "\n",
    "http://www.example.com/robots.txt\n",
    "\n",
    "If you want you can also have a look at\n",
    "\n",
    "http://google.com/robots.txt"
   ]
  },
  {
   "cell_type": "markdown",
   "metadata": {
    "slideshow": {
     "slide_type": "slide"
    }
   },
   "source": [
    "Robots.txt\n",
    "==========\n",
    "\n",
    "*** What does this one do? ***"
   ]
  },
  {
   "cell_type": "raw",
   "metadata": {},
   "source": [
    "\n",
    "User-agent: Google\n",
    "Disallow:\n",
    "\n",
    "User-agent: *\n",
    "Disallow: /"
   ]
  },
  {
   "cell_type": "markdown",
   "metadata": {
    "slideshow": {
     "slide_type": "skip"
    }
   },
   "source": [
    "Answer: This file allows google to search through everything on the server, while all others should stay completely away."
   ]
  },
  {
   "cell_type": "markdown",
   "metadata": {
    "slideshow": {
     "slide_type": "slide"
    }
   },
   "source": [
    "Things to consider:\n",
    "-------------------\n",
    "\n",
    "* can be just ignored\n",
    "* can be a security risk - *** Why? ***"
   ]
  },
  {
   "cell_type": "markdown",
   "metadata": {
    "slideshow": {
     "slide_type": "skip"
    }
   },
   "source": [
    "Answer: You are basically telling everybody who cares to look into the file where you have stored sensitive information."
   ]
  },
  {
   "cell_type": "markdown",
   "metadata": {
    "slideshow": {
     "slide_type": "slide"
    }
   },
   "source": [
    "Scraping with Python:\n",
    "=====================\n",
    "\n",
    "* scraping is all about HTML tags\n",
    "* bad news: \n",
    "    - need to learn about tags\n",
    "    - websites can be ugly"
   ]
  },
  {
   "cell_type": "markdown",
   "metadata": {
    "slideshow": {
     "slide_type": "slide"
    }
   },
   "source": [
    "HTML\n",
    "=====\n",
    "\n",
    "* HyperText Markup Language\n",
    "\n",
    "* standard for creating webpages\n",
    "\n",
    "* HTML tags \n",
    "    - have angle brackets\n",
    "    - typically come in pairs"
   ]
  },
  {
   "cell_type": "markdown",
   "metadata": {
    "slideshow": {
     "slide_type": "skip"
    }
   },
   "source": [
    "This is an example for a minimal webpage defined in HTML tags. The root tag is `<html>` and then you have the `<head>` tag. This part of the page typically includes the title of the page and might also have other meta information like the author or keywords that are important for search engines. The `<body>` tag marks the actual content of the page. You can play around with the `<h2>` tag trying different header levels. They range from 1 to 6. "
   ]
  },
  {
   "cell_type": "code",
   "execution_count": 27,
   "metadata": {
    "slideshow": {
     "slide_type": "slide"
    }
   },
   "outputs": [
    {
     "data": {
      "text/html": [
       "<!DOCTYPE html>\n",
       "<html>\n",
       "  <head>\n",
       "    <title>This is a title</title>\n",
       "  </head>\n",
       "  <body>\n",
       "    <h2> Test </h2>\n",
       "    <p>Hello world!</p>\n",
       "  </body>\n",
       "</html>"
      ],
      "text/plain": [
       "<IPython.core.display.HTML object>"
      ]
     },
     "execution_count": 27,
     "metadata": {},
     "output_type": "execute_result"
    }
   ],
   "source": [
    "htmlString = \"\"\"<!DOCTYPE html>\n",
    "<html>\n",
    "  <head>\n",
    "    <title>This is a title</title>\n",
    "  </head>\n",
    "  <body>\n",
    "    <h2> Test </h2>\n",
    "    <p>Hello world!</p>\n",
    "  </body>\n",
    "</html>\"\"\"\n",
    "\n",
    "htmlOutput = HTML(htmlString)\n",
    "htmlOutput"
   ]
  },
  {
   "cell_type": "markdown",
   "metadata": {
    "slideshow": {
     "slide_type": "slide"
    }
   },
   "source": [
    "Useful Tags\n",
    "===========\n",
    "\n",
    "* heading\n",
    "`<h1></h1> ... <h6></h6>`\n",
    "\n",
    "* paragraph\n",
    "`<p></p>` \n",
    "\n",
    "* line break\n",
    "`<br>` \n",
    "\n",
    "* link with attribute\n",
    "\n",
    "`<a href=\"http://www.example.com/\">An example link</a>`\n"
   ]
  },
  {
   "cell_type": "markdown",
   "metadata": {
    "slideshow": {
     "slide_type": "slide"
    }
   },
   "source": [
    "Scraping with Python:\n",
    "=====================\n",
    "\n",
    "* example of a beautifully simple webpage:\n",
    "\n",
    "http://www.crummy.com/software/BeautifulSoup"
   ]
  },
  {
   "cell_type": "markdown",
   "metadata": {
    "slideshow": {
     "slide_type": "slide"
    }
   },
   "source": [
    "Scraping with Python:\n",
    "=====================\n",
    "\n",
    "* good news: \n",
    "    - some browsers help\n",
    "    - look for: inspect element\n",
    "    - need only basic html\n",
    "    \n",
    "** Try 'Ctrl-Shift I' in Chrome **\n",
    "\n",
    "** Try 'Command-Option I' in Safari **\n"
   ]
  },
  {
   "cell_type": "markdown",
   "metadata": {
    "slideshow": {
     "slide_type": "slide"
    }
   },
   "source": [
    "Scraping with Python\n",
    "==================\n",
    "\n",
    "* different useful libraries:\n",
    "    - urllib\n",
    "    - beautifulsoup\n",
    "    - pattern\n",
    "    - soupy\n",
    "    - LXML\n",
    "    - ...\n",
    "    "
   ]
  },
  {
   "cell_type": "markdown",
   "metadata": {
    "slideshow": {
     "slide_type": "skip"
    }
   },
   "source": [
    "The following cell just defines a url as a string and then reads the data from that url using the `urllib` library. If you uncomment the print command you see that we got the whole HTML content of the page into the string variable source."
   ]
  },
  {
   "cell_type": "code",
   "execution_count": 28,
   "metadata": {
    "slideshow": {
     "slide_type": "slide"
    }
   },
   "outputs": [
    {
     "name": "stderr",
     "output_type": "stream",
     "text": [
      "/home/yash/anaconda3/lib/python3.6/site-packages/urllib3/connectionpool.py:858: InsecureRequestWarning: Unverified HTTPS request is being made. Adding certificate verification is strongly advised. See: https://urllib3.readthedocs.io/en/latest/advanced-usage.html#ssl-warnings\n",
      "  InsecureRequestWarning)\n",
      "/home/yash/anaconda3/lib/python3.6/site-packages/urllib3/connectionpool.py:858: InsecureRequestWarning: Unverified HTTPS request is being made. Adding certificate verification is strongly advised. See: https://urllib3.readthedocs.io/en/latest/advanced-usage.html#ssl-warnings\n",
      "  InsecureRequestWarning)\n"
     ]
    }
   ],
   "source": [
    "url = 'http://www.crummy.com/software/BeautifulSoup'\n",
    "http = urllib3.PoolManager()\n",
    "source = http.request('GET', url)"
   ]
  },
  {
   "cell_type": "code",
   "execution_count": 29,
   "metadata": {},
   "outputs": [
    {
     "data": {
      "text/plain": [
       "b'<!DOCTYPE HTML PUBLIC \"-//W3C//DTD HTML 4.0 Transitional//EN\"\\n\"http://www.w3.org/TR/REC-html40/transitional.dtd\">\\n<html>\\n<head>\\n<meta http-equiv=\"Content-Type\" content=\"text/html; charset=utf-8\">\\n<title>Beautiful Soup: We called him Tortoise because he taught us.</title>\\n<link rev=\"made\" href=\"mailto:leonardr@segfault.org\">\\n<link rel=\"stylesheet\" type=\"text/css\" href=\"/nb/themes/Default/nb.css\">\\n<meta name=\"Description\" content=\"Beautiful Soup: a library designed for screen-scraping HTML and XML.\">\\n<meta name=\"generator\" content=\"Markov Approximation 1.4 (module: leonardr)\">\\n<meta name=\"author\" content=\"Leonard Richardson\">\\n</head>\\n<body bgcolor=\"white\" text=\"black\" link=\"blue\" vlink=\"660066\" alink=\"red\">\\n<img align=\"right\" src=\"10.1.jpg\" width=\"250\"><br />\\n\\n<p>You didn\\'t write that awful page. You\\'re just trying to get some\\ndata out of it. Beautiful Soup is here to help. Since 2004, it\\'s been\\nsaving programmers hours or days of work on quick-turnaround\\nscreen scraping projects.</p>\\n\\n<div align=\"center\">\\n\\n<a href=\"bs4/download/\"><h1>Beautiful Soup</h1></a>\\n\\n<p>\"A tremendous boon.\" -- Python411 Podcast</p>\\n\\n<p>[ <a href=\"#Download\">Download</a> | <a\\nhref=\"bs4/doc/\">Documentation</a> | <a href=\"#HallOfFame\">Hall of Fame</a> | <a href=\"https://code.launchpad.net/beautifulsoup\">Source</a> | <a href=\"https://groups.google.com/forum/?fromgroups#!forum/beautifulsoup\">Discussion group</a>  | <a href=\"zine/\">Zine</a> ]</p>\\n\\n<small>If Beautiful Soup has saved you a lot of time and money, one way to pay me back is to read <a href=\"zine/\"><i>Tool Safety</i></a>, a short zine I wrote about what I learned about software development from working on Beautiful Soup. Thanks!</small> </div>\\n\\n<p><i>If you have questions, send them to <a\\nhref=\"https://groups.google.com/forum/?fromgroups#!forum/beautifulsoup\">the discussion\\ngroup</a>. If you find a bug, <a href=\"https://bugs.launchpad.net/beautifulsoup/\">file it</a>.</i></p>\\n\\n<p>Beautiful Soup is a Python library designed for quick turnaround\\nprojects like screen-scraping. Three features make it powerful:\\n\\n<ol>\\n\\n<li>Beautiful Soup provides a few simple methods and Pythonic idioms\\nfor navigating, searching, and modifying a parse tree: a toolkit for\\ndissecting a document and extracting what you need. It doesn\\'t take\\nmuch code to write an application\\n\\n<li>Beautiful Soup automatically converts incoming documents to\\nUnicode and outgoing documents to UTF-8. You don\\'t have to think\\nabout encodings, unless the document doesn\\'t specify an encoding and\\nBeautiful Soup can\\'t detect one. Then you just have to specify the\\noriginal encoding.\\n\\n<li>Beautiful Soup sits on top of popular Python parsers like <a\\nhref=\"http://lxml.de/\">lxml</a> and <a\\nhref=\"http://code.google.com/p/html5lib/\">html5lib</a>, allowing you\\nto try out different parsing strategies or trade speed for\\nflexibility.\\n\\n</ol>\\n\\n<p>Beautiful Soup parses anything you give it, and does the tree\\ntraversal stuff for you. You can tell it \"Find all the links\", or\\n\"Find all the links of class <tt>externalLink</tt>\", or \"Find all the\\nlinks whose urls match \"foo.com\", or \"Find the table heading that\\'s\\ngot bold text, then give me that text.\"\\n\\n<p>Valuable data that was once locked up in poorly-designed websites\\nis now within your reach. Projects that would have taken hours take\\nonly minutes with Beautiful Soup.\\n\\n<p>Interested? <a href=\"bs4/doc/\">Read more.</a>\\n\\n<a name=\"Download\"><h2>Download Beautiful Soup</h2></a>\\n\\n<p>The current release is <a href=\"bs4/download/\">Beautiful Soup\\n4.6.0</a> (May 7, 2017). You can install Beautiful Soup 4 with\\n<code>pip install beautifulsoup4</code>.\\n\\n<p>In Debian and Ubuntu, Beautiful Soup is available as the\\n<code>python-bs4</code> package (for Python 2) or the\\n<code>python3-bs4</code> package (for Python 3). In Fedora it\\'s\\navailable as the <code>python-beautifulsoup4</code> package.\\n\\n<p>Beautiful Soup is licensed under the MIT license, so you can also\\ndownload the tarball, drop the <code>bs4/</code> directory into almost\\nany Python application (or into your library path) and start using it\\nimmediately. (If you want to do this under Python 3, you will need to\\nmanually convert the code using <code>2to3</code>.)\\n\\n<p>Beautiful Soup 4 works on both Python 2 (2.7+) and Python 3.\\n\\n<h3>Beautiful Soup 3</h3>\\n\\n<p>Beautiful Soup 3 was the official release line of Beautiful Soup\\nfrom May 2006 to March 2012. It is considered stable, and only\\ncritical security bugs will be fixed. <a\\nhref=\"http://www.crummy.com/software/BeautifulSoup/bs3/documentation.html\">Here\\'s\\nthe Beautiful Soup 3 documentation.</a>\\n\\n<p>Beautiful Soup 3 works only under Python 2.x. It is licensed under\\nthe same license as Python itself.\\n\\n<p>The current release of Beautiful Soup 3 is <a\\nhref=\"download/3.x/BeautifulSoup-3.2.1.tar.gz\">3.2.1</a> (February 16,\\n2012). You can install Beautiful Soup 3 with <code>pip install\\nBeautifulSoup</code>. It\\'s also available as\\n<code>python-beautifulsoup</code> in Debian and Ubuntu, and as\\n<code>python-BeautifulSoup</code> in Fedora.\\n\\n<p>You can also download the tarball and use\\n<code>BeautifulSoup.py</code> in your project directly.\\n\\n\\n<a name=\"HallOfFame\"><h2>Hall of Fame</h2></a>\\n\\n<p>Over the years, Beautiful Soup has been used in hundreds of\\ndifferent projects. There\\'s no way I can list them all, but I want to\\nhighlight a few high-profile projects. Beautiful Soup isn\\'t what makes\\nthese projects interesting, but it did make their completion easier:\\n\\n<ul>\\n\\n<li><a\\n href=\"http://www.nytimes.com/2007/10/25/arts/design/25vide.html\">\"Movable\\n Type\"</a>, a work of digital art on display in the lobby of the New\\n York Times building, uses Beautiful Soup to scrape news feeds.\\n\\n<li>Reddit uses Beautiful Soup to <a\\nhref=\"https://github.com/reddit/reddit/blob/85f9cff3e2ab9bb8f19b96acd8da4ebacc079f04/r2/r2/lib/media.py\">parse\\na page that\\'s been linked to and find a representative image</a>.\\n\\n<li>Alexander Harrowell uses Beautiful Soup to <a\\n href=\"http://www.harrowell.org.uk/viktormap.html\">track the business\\n activities</a> of an arms merchant.\\n\\n<li>The developers of Python itself used Beautiful Soup to <a\\nhref=\"http://svn.python.org/view/tracker/importer/\">migrate the Python\\nbug tracker from Sourceforge to Roundup</a>.\\n\\n<li>The <a href=\"http://www2.ljworld.com/\">Lawrence Journal-World</a>\\nuses Beautiful Soup to <A\\nhref=\"http://www.b-list.org/weblog/2010/nov/02/news-done-broke/\">gather\\nstatewide election results</a>.\\n\\n<li>The <a href=\"http://esrl.noaa.gov/gsd/fab/\">NOAA\\'s Forecast\\nApplications Branch</a> uses Beautiful Soup in <a\\nhref=\"http://laps.noaa.gov/topograbber/\">TopoGrabber</a>, a script for\\ndownloading \"high resolution USGS datasets.\"\\n\\n</ul>\\n\\n<p>If you\\'ve used Beautiful Soup in a project you\\'d like me to know\\nabout, please do send email to me or <a\\nhref=\"http://groups.google.com/group/beautifulsoup/\">the discussion\\ngroup</a>.\\n\\n<h2>Development</h2>\\n\\n<p>Development happens at <a\\nhref=\"https://launchpad.net/beautifulsoup\">Launchpad</a>. You can <a\\nhref=\"https://code.launchpad.net/beautifulsoup/\">get the source\\ncode</a> or <a href=\"https://bugs.launchpad.net/beautifulsoup/\">file\\nbugs</a>.<hr><table><tr><td valign=\"top\">\\n<p>This document (<a href=\"/source/software/BeautifulSoup/index.bhtml\">source</a>) is part of Crummy, the webspace of <a href=\"/self/\">Leonard Richardson</a> (<a href=\"/self/contact.html\">contact information</a>). It was last modified on Friday, August 11 2017, 14:19:20 Nowhere Standard Time and last built on Thursday, June 28 2018, 17:00:02 Nowhere Standard Time.</p><p><table class=\"licenseText\"><tr><td><a href=\"http://creativecommons.org/licenses/by-sa/2.0/\"><img border=\"0\" src=\"/nb//resources/img/somerights20.jpg\"></a></td><td valign=\"top\">Crummy is &copy; 1996-2018 Leonard Richardson. Unless otherwise noted, all text licensed under a <a href=\"http://creativecommons.org/licenses/by-sa/2.0/\">Creative Commons License</a>.</td></tr></table></span><!--<rdf:RDF xmlns=\"http://web.resource.org/cc/\" xmlns:dc=\"http://purl.org/dc/elements/1.1/\" xmlns:rdf=\"http://www.w3.org/1999/02/22-rdf-syntax-ns#\"><Work rdf:about=\"http://www.crummy.com/\"><dc:title>Crummy: The Site</dc:title><dc:rights><Agent><dc:title>Crummy: the Site</dc:title></Agent></dc:rights><dc:format>text/html</dc:format><license rdf:resource=http://creativecommons.org/licenses/by-sa/2.0//></Work><License rdf:about=\"http://creativecommons.org/licenses/by-sa/2.0/\"></License></rdf:RDF>--></p></td><td valign=top><p><b>Document tree:</b>\\n<dl><dd><a href=\"http://www.crummy.com/\">http://www.crummy.com/</a><dl><dd><a href=\"http://www.crummy.com/software/\">software/</a><dl><dd><a href=\"http://www.crummy.com/software/BeautifulSoup/\">BeautifulSoup/</a></dl>\\n</dl>\\n</dl>\\n\\n\\nSite Search:\\n\\n<form method=\"get\" action=\"/search/\">\\n        <input type=\"text\" name=\"q\" maxlength=\"255\" value=\"\"></input>\\n        </form>\\n        </td>\\n\\n</tr>\\n\\n</table>\\n</body>\\n</html>\\n'"
      ]
     },
     "execution_count": 29,
     "metadata": {},
     "output_type": "execute_result"
    }
   ],
   "source": [
    "source.data"
   ]
  },
  {
   "cell_type": "code",
   "execution_count": 30,
   "metadata": {},
   "outputs": [
    {
     "data": {
      "text/plain": [
       "False"
      ]
     },
     "execution_count": 30,
     "metadata": {},
     "output_type": "execute_result"
    }
   ],
   "source": [
    "'Alice' in source.data.decode()"
   ]
  },
  {
   "cell_type": "code",
   "execution_count": 31,
   "metadata": {},
   "outputs": [
    {
     "data": {
      "text/plain": [
       "43"
      ]
     },
     "execution_count": 31,
     "metadata": {},
     "output_type": "execute_result"
    }
   ],
   "source": [
    "source.data.decode().count('Soup')"
   ]
  },
  {
   "cell_type": "code",
   "execution_count": 32,
   "metadata": {},
   "outputs": [
    {
     "data": {
      "text/plain": [
       "-1"
      ]
     },
     "execution_count": 32,
     "metadata": {},
     "output_type": "execute_result"
    }
   ],
   "source": [
    "source.data.decode().find('alien video games')"
   ]
  },
  {
   "cell_type": "markdown",
   "metadata": {
    "slideshow": {
     "slide_type": "slide"
    }
   },
   "source": [
    "Quiz :\n",
    "======\n",
    "\n",
    "* Is the word 'Alice' mentioned on the beautiful soup homepage?\n",
    "* How often does the word 'Soup' occur on the site?\n",
    "    - hint: use `.count()`\n",
    "* At what index occurs the substring 'alien video games' ?\n",
    "    - hint: use `.find()`"
   ]
  },
  {
   "cell_type": "code",
   "execution_count": 36,
   "metadata": {
    "slideshow": {
     "slide_type": "slide"
    }
   },
   "outputs": [
    {
     "name": "stdout",
     "output_type": "stream",
     "text": [
      "False\n",
      "43\n",
      "-1\n",
      "\n",
      "\n"
     ]
    }
   ],
   "source": [
    "## is 'Alice' in source?\n",
    "print('Alice' in source.data.decode())\n",
    "\n",
    "## count occurences of 'Soup'\n",
    "print(source.data.decode().count('Soup'))\n",
    "\n",
    "## find index of 'alien video games'\n",
    "position =  source.data.decode().find('alien video games')\n",
    "print(position)\n",
    "\n",
    "## quick test to see the substring in the source variable\n",
    "## you can access strings like lists\n",
    "print(source.data.decode()[position:position + 20])\n",
    "\n",
    "## or the tidier version:\n",
    "print(source.data.decode()[position:position + len('alien video games')])"
   ]
  },
  {
   "cell_type": "markdown",
   "metadata": {
    "slideshow": {
     "slide_type": "slide"
    }
   },
   "source": [
    "Beautiful Soup\n",
    "==============\n",
    "\n",
    "* designed to make your life easier\n",
    "* many good functions for parsing html code"
   ]
  },
  {
   "cell_type": "markdown",
   "metadata": {
    "slideshow": {
     "slide_type": "slide"
    }
   },
   "source": [
    "Some examples\n",
    "=============\n"
   ]
  },
  {
   "cell_type": "code",
   "execution_count": 38,
   "metadata": {},
   "outputs": [
    {
     "name": "stdout",
     "output_type": "stream",
     "text": [
      "<!DOCTYPE HTML PUBLIC \"-//W3C//DTD HTML 4.0 Transitional//EN\" \"http://www.w3.org/TR/REC-html40/transitional.dtd\">\n",
      "<html>\n",
      "<head>\n",
      "<meta content=\"text/html; charset=utf-8\" http-equiv=\"Content-Type\"/>\n",
      "<title>Beautiful Soup: We called him Tortoise because he taught us.</title>\n",
      "<link href=\"mailto:leonardr@segfault.org\" rev=\"made\"/>\n",
      "<link href=\"/nb/themes/Default/nb.css\" rel=\"stylesheet\" type=\"text/css\"/>\n",
      "<meta content=\"Beautiful Soup: a library designed for screen-scraping HTML and XML.\" name=\"Description\"/>\n",
      "<meta content=\"Markov Approximation 1.4 (module: leonardr)\" name=\"generator\"/>\n",
      "<meta content=\"Leonard Richardson\" name=\"author\"/>\n",
      "</head>\n",
      "<body alink=\"red\" bgcolor=\"white\" link=\"blue\" text=\"black\" vlink=\"660066\">\n",
      "<img align=\"right\" src=\"10.1.jpg\" width=\"250\"/><br/>\n",
      "<p>You didn't write that awful page. You're just trying to get some\n",
      "data out of it. Beautiful Soup is here to help. Since 2004, it's been\n",
      "saving programmers hours or days of work on quick-turnaround\n",
      "screen scraping projects.</p>\n",
      "<div align=\"center\">\n",
      "<a href=\"bs4/download/\"><h1>Beautiful Soup</h1></a>\n",
      "<p>\"A tremendous boon.\" -- Python411 Podcast</p>\n",
      "<p>[ <a href=\"#Download\">Download</a> | <a href=\"bs4/doc/\">Documentation</a> | <a href=\"#HallOfFame\">Hall of Fame</a> | <a href=\"https://code.launchpad.net/beautifulsoup\">Source</a> | <a href=\"https://groups.google.com/forum/?fromgroups#!forum/beautifulsoup\">Discussion group</a>  | <a href=\"zine/\">Zine</a> ]</p>\n",
      "<small>If Beautiful Soup has saved you a lot of time and money, one way to pay me back is to read <a href=\"zine/\"><i>Tool Safety</i></a>, a short zine I wrote about what I learned about software development from working on Beautiful Soup. Thanks!</small> </div>\n",
      "<p><i>If you have questions, send them to <a href=\"https://groups.google.com/forum/?fromgroups#!forum/beautifulsoup\">the discussion\n",
      "group</a>. If you find a bug, <a href=\"https://bugs.launchpad.net/beautifulsoup/\">file it</a>.</i></p>\n",
      "<p>Beautiful Soup is a Python library designed for quick turnaround\n",
      "projects like screen-scraping. Three features make it powerful:\n",
      "\n",
      "</p><ol>\n",
      "<li>Beautiful Soup provides a few simple methods and Pythonic idioms\n",
      "for navigating, searching, and modifying a parse tree: a toolkit for\n",
      "dissecting a document and extracting what you need. It doesn't take\n",
      "much code to write an application\n",
      "\n",
      "</li><li>Beautiful Soup automatically converts incoming documents to\n",
      "Unicode and outgoing documents to UTF-8. You don't have to think\n",
      "about encodings, unless the document doesn't specify an encoding and\n",
      "Beautiful Soup can't detect one. Then you just have to specify the\n",
      "original encoding.\n",
      "\n",
      "</li><li>Beautiful Soup sits on top of popular Python parsers like <a href=\"http://lxml.de/\">lxml</a> and <a href=\"http://code.google.com/p/html5lib/\">html5lib</a>, allowing you\n",
      "to try out different parsing strategies or trade speed for\n",
      "flexibility.\n",
      "\n",
      "</li></ol>\n",
      "<p>Beautiful Soup parses anything you give it, and does the tree\n",
      "traversal stuff for you. You can tell it \"Find all the links\", or\n",
      "\"Find all the links of class <tt>externalLink</tt>\", or \"Find all the\n",
      "links whose urls match \"foo.com\", or \"Find the table heading that's\n",
      "got bold text, then give me that text.\"\n",
      "\n",
      "</p><p>Valuable data that was once locked up in poorly-designed websites\n",
      "is now within your reach. Projects that would have taken hours take\n",
      "only minutes with Beautiful Soup.\n",
      "\n",
      "</p><p>Interested? <a href=\"bs4/doc/\">Read more.</a>\n",
      "<a name=\"Download\"><h2>Download Beautiful Soup</h2></a>\n",
      "</p><p>The current release is <a href=\"bs4/download/\">Beautiful Soup\n",
      "4.6.0</a> (May 7, 2017). You can install Beautiful Soup 4 with\n",
      "<code>pip install beautifulsoup4</code>.\n",
      "\n",
      "</p><p>In Debian and Ubuntu, Beautiful Soup is available as the\n",
      "<code>python-bs4</code> package (for Python 2) or the\n",
      "<code>python3-bs4</code> package (for Python 3). In Fedora it's\n",
      "available as the <code>python-beautifulsoup4</code> package.\n",
      "\n",
      "</p><p>Beautiful Soup is licensed under the MIT license, so you can also\n",
      "download the tarball, drop the <code>bs4/</code> directory into almost\n",
      "any Python application (or into your library path) and start using it\n",
      "immediately. (If you want to do this under Python 3, you will need to\n",
      "manually convert the code using <code>2to3</code>.)\n",
      "\n",
      "</p><p>Beautiful Soup 4 works on both Python 2 (2.7+) and Python 3.\n",
      "\n",
      "</p><h3>Beautiful Soup 3</h3>\n",
      "<p>Beautiful Soup 3 was the official release line of Beautiful Soup\n",
      "from May 2006 to March 2012. It is considered stable, and only\n",
      "critical security bugs will be fixed. <a href=\"http://www.crummy.com/software/BeautifulSoup/bs3/documentation.html\">Here's\n",
      "the Beautiful Soup 3 documentation.</a>\n",
      "</p><p>Beautiful Soup 3 works only under Python 2.x. It is licensed under\n",
      "the same license as Python itself.\n",
      "\n",
      "</p><p>The current release of Beautiful Soup 3 is <a href=\"download/3.x/BeautifulSoup-3.2.1.tar.gz\">3.2.1</a> (February 16,\n",
      "2012). You can install Beautiful Soup 3 with <code>pip install\n",
      "BeautifulSoup</code>. It's also available as\n",
      "<code>python-beautifulsoup</code> in Debian and Ubuntu, and as\n",
      "<code>python-BeautifulSoup</code> in Fedora.\n",
      "\n",
      "</p><p>You can also download the tarball and use\n",
      "<code>BeautifulSoup.py</code> in your project directly.\n",
      "\n",
      "\n",
      "<a name=\"HallOfFame\"><h2>Hall of Fame</h2></a>\n",
      "</p><p>Over the years, Beautiful Soup has been used in hundreds of\n",
      "different projects. There's no way I can list them all, but I want to\n",
      "highlight a few high-profile projects. Beautiful Soup isn't what makes\n",
      "these projects interesting, but it did make their completion easier:\n",
      "\n",
      "</p><ul>\n",
      "<li><a href=\"http://www.nytimes.com/2007/10/25/arts/design/25vide.html\">\"Movable\n",
      " Type\"</a>, a work of digital art on display in the lobby of the New\n",
      " York Times building, uses Beautiful Soup to scrape news feeds.\n",
      "\n",
      "</li><li>Reddit uses Beautiful Soup to <a href=\"https://github.com/reddit/reddit/blob/85f9cff3e2ab9bb8f19b96acd8da4ebacc079f04/r2/r2/lib/media.py\">parse\n",
      "a page that's been linked to and find a representative image</a>.\n",
      "\n",
      "</li><li>Alexander Harrowell uses Beautiful Soup to <a href=\"http://www.harrowell.org.uk/viktormap.html\">track the business\n",
      " activities</a> of an arms merchant.\n",
      "\n",
      "</li><li>The developers of Python itself used Beautiful Soup to <a href=\"http://svn.python.org/view/tracker/importer/\">migrate the Python\n",
      "bug tracker from Sourceforge to Roundup</a>.\n",
      "\n",
      "</li><li>The <a href=\"http://www2.ljworld.com/\">Lawrence Journal-World</a>\n",
      "uses Beautiful Soup to <a href=\"http://www.b-list.org/weblog/2010/nov/02/news-done-broke/\">gather\n",
      "statewide election results</a>.\n",
      "\n",
      "</li><li>The <a href=\"http://esrl.noaa.gov/gsd/fab/\">NOAA's Forecast\n",
      "Applications Branch</a> uses Beautiful Soup in <a href=\"http://laps.noaa.gov/topograbber/\">TopoGrabber</a>, a script for\n",
      "downloading \"high resolution USGS datasets.\"\n",
      "\n",
      "</li></ul>\n",
      "<p>If you've used Beautiful Soup in a project you'd like me to know\n",
      "about, please do send email to me or <a href=\"http://groups.google.com/group/beautifulsoup/\">the discussion\n",
      "group</a>.\n",
      "\n",
      "</p><h2>Development</h2>\n",
      "<p>Development happens at <a href=\"https://launchpad.net/beautifulsoup\">Launchpad</a>. You can <a href=\"https://code.launchpad.net/beautifulsoup/\">get the source\n",
      "code</a> or <a href=\"https://bugs.launchpad.net/beautifulsoup/\">file\n",
      "bugs</a>.</p><hr/><table><tr><td valign=\"top\">\n",
      "<p>This document (<a href=\"/source/software/BeautifulSoup/index.bhtml\">source</a>) is part of Crummy, the webspace of <a href=\"/self/\">Leonard Richardson</a> (<a href=\"/self/contact.html\">contact information</a>). It was last modified on Friday, August 11 2017, 14:19:20 Nowhere Standard Time and last built on Thursday, June 28 2018, 17:00:02 Nowhere Standard Time.</p><p></p><table class=\"licenseText\"><tr><td><a href=\"http://creativecommons.org/licenses/by-sa/2.0/\"><img border=\"0\" src=\"/nb//resources/img/somerights20.jpg\"/></a></td><td valign=\"top\">Crummy is © 1996-2018 Leonard Richardson. Unless otherwise noted, all text licensed under a <a href=\"http://creativecommons.org/licenses/by-sa/2.0/\">Creative Commons License</a>.</td></tr></table><!--<rdf:RDF xmlns=\"http://web.resource.org/cc/\" xmlns:dc=\"http://purl.org/dc/elements/1.1/\" xmlns:rdf=\"http://www.w3.org/1999/02/22-rdf-syntax-ns#\"><Work rdf:about=\"http://www.crummy.com/\"><dc:title>Crummy: The Site</dc:title><dc:rights><Agent><dc:title>Crummy: the Site</dc:title></Agent></dc:rights><dc:format>text/html</dc:format><license rdf:resource=http://creativecommons.org/licenses/by-sa/2.0//></Work><License rdf:about=\"http://creativecommons.org/licenses/by-sa/2.0/\"></License></rdf:RDF>--></td><td valign=\"top\"><p><b>Document tree:</b>\n",
      "</p><dl><dd><a href=\"http://www.crummy.com/\">http://www.crummy.com/</a><dl><dd><a href=\"http://www.crummy.com/software/\">software/</a><dl><dd><a href=\"http://www.crummy.com/software/BeautifulSoup/\">BeautifulSoup/</a></dd></dl>\n",
      "</dd></dl>\n",
      "</dd></dl>\n",
      "\n",
      "\n",
      "Site Search:\n",
      "\n",
      "<form action=\"/search/\" method=\"get\">\n",
      "<input maxlength=\"255\" name=\"q\" type=\"text\" value=\"\"/>\n",
      "</form>\n",
      "</td>\n",
      "</tr>\n",
      "</table>\n",
      "</body>\n",
      "</html>\n",
      "\n",
      "<!DOCTYPE HTML PUBLIC \"-//W3C//DTD HTML 4.0 Transitional//EN\" \"http://www.w3.org/TR/REC-html40/transitional.dtd\">\n",
      "<html>\n",
      " <head>\n",
      "  <meta content=\"text/html; charset=utf-8\" http-equiv=\"Content-Type\"/>\n",
      "  <title>\n",
      "   Beautiful Soup: We called him Tortoise because he taught us.\n",
      "  </title>\n",
      "  <link href=\"mailto:leonardr@segfault.org\" rev=\"made\"/>\n",
      "  <link href=\"/nb/themes/Default/nb.css\" rel=\"stylesheet\" type=\"text/css\"/>\n",
      "  <meta content=\"Beautiful Soup: a library designed for screen-scraping HTML and XML.\" name=\"Description\"/>\n",
      "  <meta content=\"Markov Approximation 1.4 (module: leonardr)\" name=\"generator\"/>\n",
      "  <meta content=\"Leonard Richardson\" name=\"author\"/>\n",
      " </head>\n",
      " <body alink=\"red\" bgcolor=\"white\" link=\"blue\" text=\"black\" vlink=\"660066\">\n",
      "  <img align=\"right\" src=\"10.1.jpg\" width=\"250\"/>\n",
      "  <br/>\n",
      "  <p>\n",
      "   You didn't write that awful page. You're just trying to get some\n",
      "data out of it. Beautiful Soup is here to help. Since 2004, it's been\n",
      "saving programmers hours or days of work on quick-turnaround\n",
      "screen scraping projects.\n",
      "  </p>\n",
      "  <div align=\"center\">\n",
      "   <a href=\"bs4/download/\">\n",
      "    <h1>\n",
      "     Beautiful Soup\n",
      "    </h1>\n",
      "   </a>\n",
      "   <p>\n",
      "    \"A tremendous boon.\" -- Python411 Podcast\n",
      "   </p>\n",
      "   <p>\n",
      "    [\n",
      "    <a href=\"#Download\">\n",
      "     Download\n",
      "    </a>\n",
      "    |\n",
      "    <a href=\"bs4/doc/\">\n",
      "     Documentation\n",
      "    </a>\n",
      "    |\n",
      "    <a href=\"#HallOfFame\">\n",
      "     Hall of Fame\n",
      "    </a>\n",
      "    |\n",
      "    <a href=\"https://code.launchpad.net/beautifulsoup\">\n",
      "     Source\n",
      "    </a>\n",
      "    |\n",
      "    <a href=\"https://groups.google.com/forum/?fromgroups#!forum/beautifulsoup\">\n",
      "     Discussion group\n",
      "    </a>\n",
      "    |\n",
      "    <a href=\"zine/\">\n",
      "     Zine\n",
      "    </a>\n",
      "    ]\n",
      "   </p>\n",
      "   <small>\n",
      "    If Beautiful Soup has saved you a lot of time and money, one way to pay me back is to read\n",
      "    <a href=\"zine/\">\n",
      "     <i>\n",
      "      Tool Safety\n",
      "     </i>\n",
      "    </a>\n",
      "    , a short zine I wrote about what I learned about software development from working on Beautiful Soup. Thanks!\n",
      "   </small>\n",
      "  </div>\n",
      "  <p>\n",
      "   <i>\n",
      "    If you have questions, send them to\n",
      "    <a href=\"https://groups.google.com/forum/?fromgroups#!forum/beautifulsoup\">\n",
      "     the discussion\n",
      "group\n",
      "    </a>\n",
      "    . If you find a bug,\n",
      "    <a href=\"https://bugs.launchpad.net/beautifulsoup/\">\n",
      "     file it\n",
      "    </a>\n",
      "    .\n",
      "   </i>\n",
      "  </p>\n",
      "  <p>\n",
      "   Beautiful Soup is a Python library designed for quick turnaround\n",
      "projects like screen-scraping. Three features make it powerful:\n",
      "  </p>\n",
      "  <ol>\n",
      "   <li>\n",
      "    Beautiful Soup provides a few simple methods and Pythonic idioms\n",
      "for navigating, searching, and modifying a parse tree: a toolkit for\n",
      "dissecting a document and extracting what you need. It doesn't take\n",
      "much code to write an application\n",
      "   </li>\n",
      "   <li>\n",
      "    Beautiful Soup automatically converts incoming documents to\n",
      "Unicode and outgoing documents to UTF-8. You don't have to think\n",
      "about encodings, unless the document doesn't specify an encoding and\n",
      "Beautiful Soup can't detect one. Then you just have to specify the\n",
      "original encoding.\n",
      "   </li>\n",
      "   <li>\n",
      "    Beautiful Soup sits on top of popular Python parsers like\n",
      "    <a href=\"http://lxml.de/\">\n",
      "     lxml\n",
      "    </a>\n",
      "    and\n",
      "    <a href=\"http://code.google.com/p/html5lib/\">\n",
      "     html5lib\n",
      "    </a>\n",
      "    , allowing you\n",
      "to try out different parsing strategies or trade speed for\n",
      "flexibility.\n",
      "   </li>\n",
      "  </ol>\n",
      "  <p>\n",
      "   Beautiful Soup parses anything you give it, and does the tree\n",
      "traversal stuff for you. You can tell it \"Find all the links\", or\n",
      "\"Find all the links of class\n",
      "   <tt>\n",
      "    externalLink\n",
      "   </tt>\n",
      "   \", or \"Find all the\n",
      "links whose urls match \"foo.com\", or \"Find the table heading that's\n",
      "got bold text, then give me that text.\"\n",
      "  </p>\n",
      "  <p>\n",
      "   Valuable data that was once locked up in poorly-designed websites\n",
      "is now within your reach. Projects that would have taken hours take\n",
      "only minutes with Beautiful Soup.\n",
      "  </p>\n",
      "  <p>\n",
      "   Interested?\n",
      "   <a href=\"bs4/doc/\">\n",
      "    Read more.\n",
      "   </a>\n",
      "   <a name=\"Download\">\n",
      "    <h2>\n",
      "     Download Beautiful Soup\n",
      "    </h2>\n",
      "   </a>\n",
      "  </p>\n",
      "  <p>\n",
      "   The current release is\n",
      "   <a href=\"bs4/download/\">\n",
      "    Beautiful Soup\n",
      "4.6.0\n",
      "   </a>\n",
      "   (May 7, 2017). You can install Beautiful Soup 4 with\n",
      "   <code>\n",
      "    pip install beautifulsoup4\n",
      "   </code>\n",
      "   .\n",
      "  </p>\n",
      "  <p>\n",
      "   In Debian and Ubuntu, Beautiful Soup is available as the\n",
      "   <code>\n",
      "    python-bs4\n",
      "   </code>\n",
      "   package (for Python 2) or the\n",
      "   <code>\n",
      "    python3-bs4\n",
      "   </code>\n",
      "   package (for Python 3). In Fedora it's\n",
      "available as the\n",
      "   <code>\n",
      "    python-beautifulsoup4\n",
      "   </code>\n",
      "   package.\n",
      "  </p>\n",
      "  <p>\n",
      "   Beautiful Soup is licensed under the MIT license, so you can also\n",
      "download the tarball, drop the\n",
      "   <code>\n",
      "    bs4/\n",
      "   </code>\n",
      "   directory into almost\n",
      "any Python application (or into your library path) and start using it\n",
      "immediately. (If you want to do this under Python 3, you will need to\n",
      "manually convert the code using\n",
      "   <code>\n",
      "    2to3\n",
      "   </code>\n",
      "   .)\n",
      "  </p>\n",
      "  <p>\n",
      "   Beautiful Soup 4 works on both Python 2 (2.7+) and Python 3.\n",
      "  </p>\n",
      "  <h3>\n",
      "   Beautiful Soup 3\n",
      "  </h3>\n",
      "  <p>\n",
      "   Beautiful Soup 3 was the official release line of Beautiful Soup\n",
      "from May 2006 to March 2012. It is considered stable, and only\n",
      "critical security bugs will be fixed.\n",
      "   <a href=\"http://www.crummy.com/software/BeautifulSoup/bs3/documentation.html\">\n",
      "    Here's\n",
      "the Beautiful Soup 3 documentation.\n",
      "   </a>\n",
      "  </p>\n",
      "  <p>\n",
      "   Beautiful Soup 3 works only under Python 2.x. It is licensed under\n",
      "the same license as Python itself.\n",
      "  </p>\n",
      "  <p>\n",
      "   The current release of Beautiful Soup 3 is\n",
      "   <a href=\"download/3.x/BeautifulSoup-3.2.1.tar.gz\">\n",
      "    3.2.1\n",
      "   </a>\n",
      "   (February 16,\n",
      "2012). You can install Beautiful Soup 3 with\n",
      "   <code>\n",
      "    pip install\n",
      "BeautifulSoup\n",
      "   </code>\n",
      "   . It's also available as\n",
      "   <code>\n",
      "    python-beautifulsoup\n",
      "   </code>\n",
      "   in Debian and Ubuntu, and as\n",
      "   <code>\n",
      "    python-BeautifulSoup\n",
      "   </code>\n",
      "   in Fedora.\n",
      "  </p>\n",
      "  <p>\n",
      "   You can also download the tarball and use\n",
      "   <code>\n",
      "    BeautifulSoup.py\n",
      "   </code>\n",
      "   in your project directly.\n",
      "   <a name=\"HallOfFame\">\n",
      "    <h2>\n",
      "     Hall of Fame\n",
      "    </h2>\n",
      "   </a>\n",
      "  </p>\n",
      "  <p>\n",
      "   Over the years, Beautiful Soup has been used in hundreds of\n",
      "different projects. There's no way I can list them all, but I want to\n",
      "highlight a few high-profile projects. Beautiful Soup isn't what makes\n",
      "these projects interesting, but it did make their completion easier:\n",
      "  </p>\n",
      "  <ul>\n",
      "   <li>\n",
      "    <a href=\"http://www.nytimes.com/2007/10/25/arts/design/25vide.html\">\n",
      "     \"Movable\n",
      " Type\"\n",
      "    </a>\n",
      "    , a work of digital art on display in the lobby of the New\n",
      " York Times building, uses Beautiful Soup to scrape news feeds.\n",
      "   </li>\n",
      "   <li>\n",
      "    Reddit uses Beautiful Soup to\n",
      "    <a href=\"https://github.com/reddit/reddit/blob/85f9cff3e2ab9bb8f19b96acd8da4ebacc079f04/r2/r2/lib/media.py\">\n",
      "     parse\n",
      "a page that's been linked to and find a representative image\n",
      "    </a>\n",
      "    .\n",
      "   </li>\n",
      "   <li>\n",
      "    Alexander Harrowell uses Beautiful Soup to\n",
      "    <a href=\"http://www.harrowell.org.uk/viktormap.html\">\n",
      "     track the business\n",
      " activities\n",
      "    </a>\n",
      "    of an arms merchant.\n",
      "   </li>\n",
      "   <li>\n",
      "    The developers of Python itself used Beautiful Soup to\n",
      "    <a href=\"http://svn.python.org/view/tracker/importer/\">\n",
      "     migrate the Python\n",
      "bug tracker from Sourceforge to Roundup\n",
      "    </a>\n",
      "    .\n",
      "   </li>\n",
      "   <li>\n",
      "    The\n",
      "    <a href=\"http://www2.ljworld.com/\">\n",
      "     Lawrence Journal-World\n",
      "    </a>\n",
      "    uses Beautiful Soup to\n",
      "    <a href=\"http://www.b-list.org/weblog/2010/nov/02/news-done-broke/\">\n",
      "     gather\n",
      "statewide election results\n",
      "    </a>\n",
      "    .\n",
      "   </li>\n",
      "   <li>\n",
      "    The\n",
      "    <a href=\"http://esrl.noaa.gov/gsd/fab/\">\n",
      "     NOAA's Forecast\n",
      "Applications Branch\n",
      "    </a>\n",
      "    uses Beautiful Soup in\n",
      "    <a href=\"http://laps.noaa.gov/topograbber/\">\n",
      "     TopoGrabber\n",
      "    </a>\n",
      "    , a script for\n",
      "downloading \"high resolution USGS datasets.\"\n",
      "   </li>\n",
      "  </ul>\n",
      "  <p>\n",
      "   If you've used Beautiful Soup in a project you'd like me to know\n",
      "about, please do send email to me or\n",
      "   <a href=\"http://groups.google.com/group/beautifulsoup/\">\n",
      "    the discussion\n",
      "group\n",
      "   </a>\n",
      "   .\n",
      "  </p>\n",
      "  <h2>\n",
      "   Development\n",
      "  </h2>\n",
      "  <p>\n",
      "   Development happens at\n",
      "   <a href=\"https://launchpad.net/beautifulsoup\">\n",
      "    Launchpad\n",
      "   </a>\n",
      "   . You can\n",
      "   <a href=\"https://code.launchpad.net/beautifulsoup/\">\n",
      "    get the source\n",
      "code\n",
      "   </a>\n",
      "   or\n",
      "   <a href=\"https://bugs.launchpad.net/beautifulsoup/\">\n",
      "    file\n",
      "bugs\n",
      "   </a>\n",
      "   .\n",
      "  </p>\n",
      "  <hr/>\n",
      "  <table>\n",
      "   <tr>\n",
      "    <td valign=\"top\">\n",
      "     <p>\n",
      "      This document (\n",
      "      <a href=\"/source/software/BeautifulSoup/index.bhtml\">\n",
      "       source\n",
      "      </a>\n",
      "      ) is part of Crummy, the webspace of\n",
      "      <a href=\"/self/\">\n",
      "       Leonard Richardson\n",
      "      </a>\n",
      "      (\n",
      "      <a href=\"/self/contact.html\">\n",
      "       contact information\n",
      "      </a>\n",
      "      ). It was last modified on Friday, August 11 2017, 14:19:20 Nowhere Standard Time and last built on Thursday, June 28 2018, 17:00:02 Nowhere Standard Time.\n",
      "     </p>\n",
      "     <p>\n",
      "     </p>\n",
      "     <table class=\"licenseText\">\n",
      "      <tr>\n",
      "       <td>\n",
      "        <a href=\"http://creativecommons.org/licenses/by-sa/2.0/\">\n",
      "         <img border=\"0\" src=\"/nb//resources/img/somerights20.jpg\"/>\n",
      "        </a>\n",
      "       </td>\n",
      "       <td valign=\"top\">\n",
      "        Crummy is © 1996-2018 Leonard Richardson. Unless otherwise noted, all text licensed under a\n",
      "        <a href=\"http://creativecommons.org/licenses/by-sa/2.0/\">\n",
      "         Creative Commons License\n",
      "        </a>\n",
      "        .\n",
      "       </td>\n",
      "      </tr>\n",
      "     </table>\n",
      "     <!--<rdf:RDF xmlns=\"http://web.resource.org/cc/\" xmlns:dc=\"http://purl.org/dc/elements/1.1/\" xmlns:rdf=\"http://www.w3.org/1999/02/22-rdf-syntax-ns#\"><Work rdf:about=\"http://www.crummy.com/\"><dc:title>Crummy: The Site</dc:title><dc:rights><Agent><dc:title>Crummy: the Site</dc:title></Agent></dc:rights><dc:format>text/html</dc:format><license rdf:resource=http://creativecommons.org/licenses/by-sa/2.0//></Work><License rdf:about=\"http://creativecommons.org/licenses/by-sa/2.0/\"></License></rdf:RDF>-->\n",
      "    </td>\n",
      "    <td valign=\"top\">\n",
      "     <p>\n",
      "      <b>\n",
      "       Document tree:\n",
      "      </b>\n",
      "     </p>\n",
      "     <dl>\n",
      "      <dd>\n",
      "       <a href=\"http://www.crummy.com/\">\n",
      "        http://www.crummy.com/\n",
      "       </a>\n",
      "       <dl>\n",
      "        <dd>\n",
      "         <a href=\"http://www.crummy.com/software/\">\n",
      "          software/\n",
      "         </a>\n",
      "         <dl>\n",
      "          <dd>\n",
      "           <a href=\"http://www.crummy.com/software/BeautifulSoup/\">\n",
      "            BeautifulSoup/\n",
      "           </a>\n",
      "          </dd>\n",
      "         </dl>\n",
      "        </dd>\n",
      "       </dl>\n",
      "      </dd>\n",
      "     </dl>\n",
      "     Site Search:\n",
      "     <form action=\"/search/\" method=\"get\">\n",
      "      <input maxlength=\"255\" name=\"q\" type=\"text\" value=\"\"/>\n",
      "     </form>\n",
      "    </td>\n",
      "   </tr>\n",
      "  </table>\n",
      " </body>\n",
      "</html>\n",
      "\n",
      "[<a href=\"bs4/download/\"><h1>Beautiful Soup</h1></a>, <a href=\"#Download\">Download</a>, <a href=\"bs4/doc/\">Documentation</a>, <a href=\"#HallOfFame\">Hall of Fame</a>, <a href=\"https://code.launchpad.net/beautifulsoup\">Source</a>, <a href=\"https://groups.google.com/forum/?fromgroups#!forum/beautifulsoup\">Discussion group</a>, <a href=\"zine/\">Zine</a>, <a href=\"zine/\"><i>Tool Safety</i></a>, <a href=\"https://groups.google.com/forum/?fromgroups#!forum/beautifulsoup\">the discussion\n",
      "group</a>, <a href=\"https://bugs.launchpad.net/beautifulsoup/\">file it</a>, <a href=\"http://lxml.de/\">lxml</a>, <a href=\"http://code.google.com/p/html5lib/\">html5lib</a>, <a href=\"bs4/doc/\">Read more.</a>, <a name=\"Download\"><h2>Download Beautiful Soup</h2></a>, <a href=\"bs4/download/\">Beautiful Soup\n",
      "4.6.0</a>, <a href=\"http://www.crummy.com/software/BeautifulSoup/bs3/documentation.html\">Here's\n",
      "the Beautiful Soup 3 documentation.</a>, <a href=\"download/3.x/BeautifulSoup-3.2.1.tar.gz\">3.2.1</a>, <a name=\"HallOfFame\"><h2>Hall of Fame</h2></a>, <a href=\"http://www.nytimes.com/2007/10/25/arts/design/25vide.html\">\"Movable\n",
      " Type\"</a>, <a href=\"https://github.com/reddit/reddit/blob/85f9cff3e2ab9bb8f19b96acd8da4ebacc079f04/r2/r2/lib/media.py\">parse\n",
      "a page that's been linked to and find a representative image</a>, <a href=\"http://www.harrowell.org.uk/viktormap.html\">track the business\n",
      " activities</a>, <a href=\"http://svn.python.org/view/tracker/importer/\">migrate the Python\n",
      "bug tracker from Sourceforge to Roundup</a>, <a href=\"http://www2.ljworld.com/\">Lawrence Journal-World</a>, <a href=\"http://www.b-list.org/weblog/2010/nov/02/news-done-broke/\">gather\n",
      "statewide election results</a>, <a href=\"http://esrl.noaa.gov/gsd/fab/\">NOAA's Forecast\n",
      "Applications Branch</a>, <a href=\"http://laps.noaa.gov/topograbber/\">TopoGrabber</a>, <a href=\"http://groups.google.com/group/beautifulsoup/\">the discussion\n",
      "group</a>, <a href=\"https://launchpad.net/beautifulsoup\">Launchpad</a>, <a href=\"https://code.launchpad.net/beautifulsoup/\">get the source\n",
      "code</a>, <a href=\"https://bugs.launchpad.net/beautifulsoup/\">file\n",
      "bugs</a>, <a href=\"/source/software/BeautifulSoup/index.bhtml\">source</a>, <a href=\"/self/\">Leonard Richardson</a>, <a href=\"/self/contact.html\">contact information</a>, <a href=\"http://creativecommons.org/licenses/by-sa/2.0/\"><img border=\"0\" src=\"/nb//resources/img/somerights20.jpg\"/></a>, <a href=\"http://creativecommons.org/licenses/by-sa/2.0/\">Creative Commons License</a>, <a href=\"http://www.crummy.com/\">http://www.crummy.com/</a>, <a href=\"http://www.crummy.com/software/\">software/</a>, <a href=\"http://www.crummy.com/software/BeautifulSoup/\">BeautifulSoup/</a>]\n"
     ]
    },
    {
     "name": "stderr",
     "output_type": "stream",
     "text": [
      "/home/yash/anaconda3/lib/python3.6/site-packages/bs4/__init__.py:181: UserWarning: No parser was explicitly specified, so I'm using the best available HTML parser for this system (\"lxml\"). This usually isn't a problem, but if you run this code on another system, or in a different virtual environment, it may use a different parser and behave differently.\n",
      "\n",
      "The code that caused this warning is on line 193 of the file /home/yash/anaconda3/lib/python3.6/runpy.py. To get rid of this warning, change code that looks like this:\n",
      "\n",
      " BeautifulSoup(YOUR_MARKUP})\n",
      "\n",
      "to this:\n",
      "\n",
      " BeautifulSoup(YOUR_MARKUP, \"lxml\")\n",
      "\n",
      "  markup_type=markup_type))\n"
     ]
    },
    {
     "data": {
      "text/plain": [
       "[]"
      ]
     },
     "execution_count": 38,
     "metadata": {},
     "output_type": "execute_result"
    }
   ],
   "source": [
    "## get bs4 object\n",
    "soup = bs4.BeautifulSoup(source.data.decode())\n",
    " \n",
    "## compare the two print statements\n",
    "print(soup)\n",
    "print(soup.prettify())\n",
    "\n",
    "## show how to find all a tags\n",
    "print(soup.findAll('a'))\n",
    "\n",
    "## ***Why does this not work? ***\n",
    "soup.findAll('Soup')"
   ]
  },
  {
   "cell_type": "markdown",
   "metadata": {
    "slideshow": {
     "slide_type": "skip"
    }
   },
   "source": [
    "The last command only returns an empty list, because `Soup` is not an HTML tag. It is just a string that occours in the webpage."
   ]
  },
  {
   "cell_type": "markdown",
   "metadata": {
    "slideshow": {
     "slide_type": "slide"
    }
   },
   "source": [
    "Some examples\n",
    "============="
   ]
  },
  {
   "cell_type": "code",
   "execution_count": 39,
   "metadata": {},
   "outputs": [
    {
     "data": {
      "text/plain": [
       "['bs4/download/',\n",
       " '#Download',\n",
       " 'bs4/doc/',\n",
       " '#HallOfFame',\n",
       " 'https://code.launchpad.net/beautifulsoup',\n",
       " 'https://groups.google.com/forum/?fromgroups#!forum/beautifulsoup',\n",
       " 'zine/',\n",
       " 'zine/',\n",
       " 'https://groups.google.com/forum/?fromgroups#!forum/beautifulsoup',\n",
       " 'https://bugs.launchpad.net/beautifulsoup/',\n",
       " 'http://lxml.de/',\n",
       " 'http://code.google.com/p/html5lib/',\n",
       " 'bs4/doc/',\n",
       " None,\n",
       " 'bs4/download/',\n",
       " 'http://www.crummy.com/software/BeautifulSoup/bs3/documentation.html',\n",
       " 'download/3.x/BeautifulSoup-3.2.1.tar.gz',\n",
       " None,\n",
       " 'http://www.nytimes.com/2007/10/25/arts/design/25vide.html',\n",
       " 'https://github.com/reddit/reddit/blob/85f9cff3e2ab9bb8f19b96acd8da4ebacc079f04/r2/r2/lib/media.py',\n",
       " 'http://www.harrowell.org.uk/viktormap.html',\n",
       " 'http://svn.python.org/view/tracker/importer/',\n",
       " 'http://www2.ljworld.com/',\n",
       " 'http://www.b-list.org/weblog/2010/nov/02/news-done-broke/',\n",
       " 'http://esrl.noaa.gov/gsd/fab/',\n",
       " 'http://laps.noaa.gov/topograbber/',\n",
       " 'http://groups.google.com/group/beautifulsoup/',\n",
       " 'https://launchpad.net/beautifulsoup',\n",
       " 'https://code.launchpad.net/beautifulsoup/',\n",
       " 'https://bugs.launchpad.net/beautifulsoup/',\n",
       " '/source/software/BeautifulSoup/index.bhtml',\n",
       " '/self/',\n",
       " '/self/contact.html',\n",
       " 'http://creativecommons.org/licenses/by-sa/2.0/',\n",
       " 'http://creativecommons.org/licenses/by-sa/2.0/',\n",
       " 'http://www.crummy.com/',\n",
       " 'http://www.crummy.com/software/',\n",
       " 'http://www.crummy.com/software/BeautifulSoup/']"
      ]
     },
     "execution_count": 39,
     "metadata": {},
     "output_type": "execute_result"
    }
   ],
   "source": [
    "## get attribute value from an element:\n",
    "## find tag: this only returns the first occurrence, not all tags in the string\n",
    "first_tag = soup.find('a')\n",
    "\n",
    "## get attribute `href`\n",
    "first_tag.get('href')\n",
    "\n",
    "## get all links in the page\n",
    "link_list = [l.get('href') for l in soup.findAll('a')]\n",
    "link_list"
   ]
  },
  {
   "cell_type": "code",
   "execution_count": 40,
   "metadata": {
    "slideshow": {
     "slide_type": "slide"
    }
   },
   "outputs": [
    {
     "ename": "TypeError",
     "evalue": "'NoneType' object is not subscriptable",
     "output_type": "error",
     "traceback": [
      "\u001b[0;31m---------------------------------------------------------------------------\u001b[0m",
      "\u001b[0;31mTypeError\u001b[0m                                 Traceback (most recent call last)",
      "\u001b[0;32m<ipython-input-40-0aee102cbae1>\u001b[0m in \u001b[0;36m<module>\u001b[0;34m()\u001b[0m\n\u001b[1;32m      6\u001b[0m \u001b[0;31m# if it starts with 'http' we are happy\u001b[0m\u001b[0;34m\u001b[0m\u001b[0;34m\u001b[0m\u001b[0m\n\u001b[1;32m      7\u001b[0m \u001b[0;32mfor\u001b[0m \u001b[0ml\u001b[0m \u001b[0;32min\u001b[0m \u001b[0mlink_list\u001b[0m\u001b[0;34m:\u001b[0m\u001b[0;34m\u001b[0m\u001b[0m\n\u001b[0;32m----> 8\u001b[0;31m     \u001b[0;32mif\u001b[0m \u001b[0ml\u001b[0m\u001b[0;34m[\u001b[0m\u001b[0;34m:\u001b[0m\u001b[0;36m4\u001b[0m\u001b[0;34m]\u001b[0m \u001b[0;34m==\u001b[0m \u001b[0;34m'http'\u001b[0m\u001b[0;34m:\u001b[0m\u001b[0;34m\u001b[0m\u001b[0m\n\u001b[0m\u001b[1;32m      9\u001b[0m         \u001b[0mexternal_links\u001b[0m\u001b[0;34m.\u001b[0m\u001b[0mappend\u001b[0m\u001b[0;34m(\u001b[0m\u001b[0ml\u001b[0m\u001b[0;34m)\u001b[0m\u001b[0;34m\u001b[0m\u001b[0m\n\u001b[1;32m     10\u001b[0m \u001b[0;34m\u001b[0m\u001b[0m\n",
      "\u001b[0;31mTypeError\u001b[0m: 'NoneType' object is not subscriptable"
     ]
    }
   ],
   "source": [
    "## filter all external links\n",
    "# create an empty list to collect the valid links\n",
    "external_links = []\n",
    "\n",
    "# write a loop to filter the links\n",
    "# if it starts with 'http' we are happy\n",
    "for l in link_list:\n",
    "    if l[:4] == 'http':\n",
    "        external_links.append(l)\n",
    "\n",
    "# this throws an error! It says something about 'NoneType'"
   ]
  },
  {
   "cell_type": "code",
   "execution_count": 42,
   "metadata": {
    "slideshow": {
     "slide_type": "slide"
    }
   },
   "outputs": [
    {
     "name": "stdout",
     "output_type": "stream",
     "text": [
      "2\n"
     ]
    }
   ],
   "source": [
    "# lets investigate. Have a close look at the link_list:\n",
    "link_list\n",
    "\n",
    "# Seems that there are None elements!\n",
    "# Let's verify\n",
    "print(sum([l is None for l in link_list]))\n",
    "\n",
    "# So there are two elements in the list that are None!"
   ]
  },
  {
   "cell_type": "code",
   "execution_count": 43,
   "metadata": {
    "slideshow": {
     "slide_type": "slide"
    }
   },
   "outputs": [
    {
     "data": {
      "text/plain": [
       "['https://code.launchpad.net/beautifulsoup',\n",
       " 'https://groups.google.com/forum/?fromgroups#!forum/beautifulsoup',\n",
       " 'https://groups.google.com/forum/?fromgroups#!forum/beautifulsoup',\n",
       " 'https://bugs.launchpad.net/beautifulsoup/',\n",
       " 'http://lxml.de/',\n",
       " 'http://code.google.com/p/html5lib/',\n",
       " 'http://www.crummy.com/software/BeautifulSoup/bs3/documentation.html',\n",
       " 'http://www.nytimes.com/2007/10/25/arts/design/25vide.html',\n",
       " 'https://github.com/reddit/reddit/blob/85f9cff3e2ab9bb8f19b96acd8da4ebacc079f04/r2/r2/lib/media.py',\n",
       " 'http://www.harrowell.org.uk/viktormap.html',\n",
       " 'http://svn.python.org/view/tracker/importer/',\n",
       " 'http://www2.ljworld.com/',\n",
       " 'http://www.b-list.org/weblog/2010/nov/02/news-done-broke/',\n",
       " 'http://esrl.noaa.gov/gsd/fab/',\n",
       " 'http://laps.noaa.gov/topograbber/',\n",
       " 'http://groups.google.com/group/beautifulsoup/',\n",
       " 'https://launchpad.net/beautifulsoup',\n",
       " 'https://code.launchpad.net/beautifulsoup/',\n",
       " 'https://bugs.launchpad.net/beautifulsoup/',\n",
       " 'http://creativecommons.org/licenses/by-sa/2.0/',\n",
       " 'http://creativecommons.org/licenses/by-sa/2.0/',\n",
       " 'http://www.crummy.com/',\n",
       " 'http://www.crummy.com/software/',\n",
       " 'http://www.crummy.com/software/BeautifulSoup/']"
      ]
     },
     "execution_count": 43,
     "metadata": {},
     "output_type": "execute_result"
    }
   ],
   "source": [
    "# Let's filter those objects out in the for loop\n",
    "external_links = []\n",
    "\n",
    "# write a loop to filter the links\n",
    "# if it is not None and starts with 'http' we are happy\n",
    "for l in link_list:\n",
    "    if l is not None and l[:4] == 'http':\n",
    "        external_links.append(l)\n",
    "        \n",
    "external_links"
   ]
  },
  {
   "cell_type": "markdown",
   "metadata": {
    "slideshow": {
     "slide_type": "skip"
    }
   },
   "source": [
    "Note: The above `if` condition works because of lazy evaluation in Python. The `and` statement becomes `False` if the first part is `False`, so there is no need to ever evaluate the second part. Thus a `None` entry in the list gets never asked about its first four characters. "
   ]
  },
  {
   "cell_type": "code",
   "execution_count": 44,
   "metadata": {
    "slideshow": {
     "slide_type": "slide"
    }
   },
   "outputs": [
    {
     "data": {
      "text/plain": [
       "['https://code.launchpad.net/beautifulsoup',\n",
       " 'https://groups.google.com/forum/?fromgroups#!forum/beautifulsoup',\n",
       " 'https://groups.google.com/forum/?fromgroups#!forum/beautifulsoup',\n",
       " 'https://bugs.launchpad.net/beautifulsoup/',\n",
       " 'http://lxml.de/',\n",
       " 'http://code.google.com/p/html5lib/',\n",
       " 'http://www.crummy.com/software/BeautifulSoup/bs3/documentation.html',\n",
       " 'http://www.nytimes.com/2007/10/25/arts/design/25vide.html',\n",
       " 'https://github.com/reddit/reddit/blob/85f9cff3e2ab9bb8f19b96acd8da4ebacc079f04/r2/r2/lib/media.py',\n",
       " 'http://www.harrowell.org.uk/viktormap.html',\n",
       " 'http://svn.python.org/view/tracker/importer/',\n",
       " 'http://www2.ljworld.com/',\n",
       " 'http://www.b-list.org/weblog/2010/nov/02/news-done-broke/',\n",
       " 'http://esrl.noaa.gov/gsd/fab/',\n",
       " 'http://laps.noaa.gov/topograbber/',\n",
       " 'http://groups.google.com/group/beautifulsoup/',\n",
       " 'https://launchpad.net/beautifulsoup',\n",
       " 'https://code.launchpad.net/beautifulsoup/',\n",
       " 'https://bugs.launchpad.net/beautifulsoup/',\n",
       " 'http://creativecommons.org/licenses/by-sa/2.0/',\n",
       " 'http://creativecommons.org/licenses/by-sa/2.0/',\n",
       " 'http://www.crummy.com/',\n",
       " 'http://www.crummy.com/software/',\n",
       " 'http://www.crummy.com/software/BeautifulSoup/']"
      ]
     },
     "execution_count": 44,
     "metadata": {},
     "output_type": "execute_result"
    }
   ],
   "source": [
    "# and we can put this in a list comprehension as well, it almost reads like \n",
    "# a sentence.\n",
    "\n",
    "[l for l in link_list if l is not None and l.startswith('http')]"
   ]
  },
  {
   "cell_type": "markdown",
   "metadata": {
    "slideshow": {
     "slide_type": "slide"
    }
   },
   "source": [
    "Parsing the Tree\n",
    "================\n",
    "\n"
   ]
  },
  {
   "cell_type": "code",
   "execution_count": 45,
   "metadata": {},
   "outputs": [
    {
     "name": "stderr",
     "output_type": "stream",
     "text": [
      "/home/yash/anaconda3/lib/python3.6/site-packages/bs4/__init__.py:181: UserWarning: No parser was explicitly specified, so I'm using the best available HTML parser for this system (\"lxml\"). This usually isn't a problem, but if you run this code on another system, or in a different virtual environment, it may use a different parser and behave differently.\n",
      "\n",
      "The code that caused this warning is on line 193 of the file /home/yash/anaconda3/lib/python3.6/runpy.py. To get rid of this warning, change code that looks like this:\n",
      "\n",
      " BeautifulSoup(YOUR_MARKUP})\n",
      "\n",
      "to this:\n",
      "\n",
      " BeautifulSoup(YOUR_MARKUP, \"lxml\")\n",
      "\n",
      "  markup_type=markup_type))\n"
     ]
    },
    {
     "data": {
      "text/plain": [
       "<body><h3> Test </h3><p>Hello world!</p></body>"
      ]
     },
     "execution_count": 45,
     "metadata": {},
     "output_type": "execute_result"
    }
   ],
   "source": [
    "# redifining `s` without any line breaks\n",
    "s = \"\"\"<!DOCTYPE html><html><head><title>This is a title</title></head><body><h3> Test </h3><p>Hello world!</p></body></html>\"\"\"\n",
    "## get bs4 object\n",
    "tree = bs4.BeautifulSoup(s)\n",
    "\n",
    "## get html root node\n",
    "root_node = tree.html\n",
    "\n",
    "## get head from root using contents\n",
    "head = root_node.contents[0]\n",
    "\n",
    "## get body from root\n",
    "body = root_node.contents[1]\n",
    "\n",
    "## could directly access body\n",
    "tree.body"
   ]
  },
  {
   "cell_type": "code",
   "execution_count": 46,
   "metadata": {},
   "outputs": [],
   "source": [
    "root_node = tree.body"
   ]
  },
  {
   "cell_type": "code",
   "execution_count": 47,
   "metadata": {},
   "outputs": [
    {
     "name": "stdout",
     "output_type": "stream",
     "text": [
      " Test \n"
     ]
    }
   ],
   "source": [
    "print(root_node.contents[0].text)"
   ]
  },
  {
   "cell_type": "code",
   "execution_count": 48,
   "metadata": {},
   "outputs": [
    {
     "name": "stderr",
     "output_type": "stream",
     "text": [
      "/home/yash/anaconda3/lib/python3.6/site-packages/bs4/__init__.py:181: UserWarning: No parser was explicitly specified, so I'm using the best available HTML parser for this system (\"lxml\"). This usually isn't a problem, but if you run this code on another system, or in a different virtual environment, it may use a different parser and behave differently.\n",
      "\n",
      "The code that caused this warning is on line 193 of the file /home/yash/anaconda3/lib/python3.6/runpy.py. To get rid of this warning, change code that looks like this:\n",
      "\n",
      " BeautifulSoup(YOUR_MARKUP})\n",
      "\n",
      "to this:\n",
      "\n",
      " BeautifulSoup(YOUR_MARKUP, \"lxml\")\n",
      "\n",
      "  markup_type=markup_type))\n"
     ]
    }
   ],
   "source": [
    "soup = bs4.BeautifulSoup(source.data.decode())"
   ]
  },
  {
   "cell_type": "code",
   "execution_count": 49,
   "metadata": {},
   "outputs": [
    {
     "name": "stdout",
     "output_type": "stream",
     "text": [
      "\n",
      "\"Movable\n",
      " Type\", a work of digital art on display in the lobby of the New\n",
      " York Times building, uses Beautiful Soup to scrape news feeds.\n",
      "\n",
      "Reddit uses Beautiful Soup to parse\n",
      "a page that's been linked to and find a representative image.\n",
      "\n",
      "Alexander Harrowell uses Beautiful Soup to track the business\n",
      " activities of an arms merchant.\n",
      "\n",
      "The developers of Python itself used Beautiful Soup to migrate the Python\n",
      "bug tracker from Sourceforge to Roundup.\n",
      "\n",
      "The Lawrence Journal-World\n",
      "uses Beautiful Soup to gather\n",
      "statewide election results.\n",
      "\n",
      "The NOAA's Forecast\n",
      "Applications Branch uses Beautiful Soup in TopoGrabber, a script for\n",
      "downloading \"high resolution USGS datasets.\"\n",
      "\n",
      "\n"
     ]
    }
   ],
   "source": [
    "print(soup.find_all('ul')[0].text)"
   ]
  },
  {
   "cell_type": "code",
   "execution_count": 50,
   "metadata": {},
   "outputs": [
    {
     "data": {
      "text/plain": [
       "<ul>\n",
       "<li><a href=\"http://www.nytimes.com/2007/10/25/arts/design/25vide.html\">\"Movable\n",
       " Type\"</a>, a work of digital art on display in the lobby of the New\n",
       " York Times building, uses Beautiful Soup to scrape news feeds.\n",
       "\n",
       "</li><li>Reddit uses Beautiful Soup to <a href=\"https://github.com/reddit/reddit/blob/85f9cff3e2ab9bb8f19b96acd8da4ebacc079f04/r2/r2/lib/media.py\">parse\n",
       "a page that's been linked to and find a representative image</a>.\n",
       "\n",
       "</li><li>Alexander Harrowell uses Beautiful Soup to <a href=\"http://www.harrowell.org.uk/viktormap.html\">track the business\n",
       " activities</a> of an arms merchant.\n",
       "\n",
       "</li><li>The developers of Python itself used Beautiful Soup to <a href=\"http://svn.python.org/view/tracker/importer/\">migrate the Python\n",
       "bug tracker from Sourceforge to Roundup</a>.\n",
       "\n",
       "</li><li>The <a href=\"http://www2.ljworld.com/\">Lawrence Journal-World</a>\n",
       "uses Beautiful Soup to <a href=\"http://www.b-list.org/weblog/2010/nov/02/news-done-broke/\">gather\n",
       "statewide election results</a>.\n",
       "\n",
       "</li><li>The <a href=\"http://esrl.noaa.gov/gsd/fab/\">NOAA's Forecast\n",
       "Applications Branch</a> uses Beautiful Soup in <a href=\"http://laps.noaa.gov/topograbber/\">TopoGrabber</a>, a script for\n",
       "downloading \"high resolution USGS datasets.\"\n",
       "\n",
       "</li></ul>"
      ]
     },
     "execution_count": 50,
     "metadata": {},
     "output_type": "execute_result"
    }
   ],
   "source": [
    "soup.find('ul')"
   ]
  },
  {
   "cell_type": "markdown",
   "metadata": {
    "slideshow": {
     "slide_type": "slide"
    }
   },
   "source": [
    "Quiz:\n",
    "=====\n",
    "\n",
    "* Find the `h3` tag by parsing the tree starting at `body`\n",
    "* Create a list of all __Hall of Fame__ entries listed on the Beautiful Soup webpage\n",
    "    - hint: it is the only unordered list in the page (tag `ul`)\n"
   ]
  },
  {
   "cell_type": "code",
   "execution_count": 51,
   "metadata": {
    "slideshow": {
     "slide_type": "slide"
    }
   },
   "outputs": [
    {
     "data": {
      "text/plain": [
       "<h3> Test </h3>"
      ]
     },
     "execution_count": 51,
     "metadata": {},
     "output_type": "execute_result"
    }
   ],
   "source": [
    "## get h3 tag from body\n",
    "body.contents[0]"
   ]
  },
  {
   "cell_type": "code",
   "execution_count": 52,
   "metadata": {
    "slideshow": {
     "slide_type": "slide"
    }
   },
   "outputs": [],
   "source": [
    "## use ul as entry point\n",
    "entry_point = soup.find('ul')\n",
    "\n",
    "## get hall of fame list from entry point\n",
    "## skip the first entry \n",
    "hall_of_fame_list = entry_point.contents[1:]\n",
    "\n",
    "## reformat into a list containing strings\n",
    "tmp = []\n",
    "for li in hall_of_fame_list:\n",
    "    tmp.append(li.contents)"
   ]
  },
  {
   "cell_type": "markdown",
   "metadata": {
    "slideshow": {
     "slide_type": "slide"
    }
   },
   "source": [
    "`tmp` now is actually a list of lists containing the hall of fame entries. \n",
    "Here is some advanced Python on how to print really just one entry per list item.\n",
    "\n",
    "The cool things about this are: \n",
    "* The use of `\"\"` to just access the `join` function of strings.\n",
    "* The `join` function itself\n",
    "* that you can actually have two nested for loops in a list comprehension"
   ]
  },
  {
   "cell_type": "code",
   "execution_count": 54,
   "metadata": {
    "slideshow": {
     "slide_type": "-"
    }
   },
   "outputs": [
    {
     "name": "stdout",
     "output_type": "stream",
     "text": [
      "<a href=\"http://www.nytimes.com/2007/10/25/arts/design/25vide.html\">\"Movable\n",
      " Type\"</a>, a work of digital art on display in the lobby of the New\n",
      " York Times building, uses Beautiful Soup to scrape news feeds.\n",
      "\n",
      "\n",
      "Reddit uses Beautiful Soup to <a href=\"https://github.com/reddit/reddit/blob/85f9cff3e2ab9bb8f19b96acd8da4ebacc079f04/r2/r2/lib/media.py\">parse\n",
      "a page that's been linked to and find a representative image</a>.\n",
      "\n",
      "\n",
      "Alexander Harrowell uses Beautiful Soup to <a href=\"http://www.harrowell.org.uk/viktormap.html\">track the business\n",
      " activities</a> of an arms merchant.\n",
      "\n",
      "\n",
      "The developers of Python itself used Beautiful Soup to <a href=\"http://svn.python.org/view/tracker/importer/\">migrate the Python\n",
      "bug tracker from Sourceforge to Roundup</a>.\n",
      "\n",
      "\n",
      "The <a href=\"http://www2.ljworld.com/\">Lawrence Journal-World</a>\n",
      "uses Beautiful Soup to <a href=\"http://www.b-list.org/weblog/2010/nov/02/news-done-broke/\">gather\n",
      "statewide election results</a>.\n",
      "\n",
      "\n",
      "The <a href=\"http://esrl.noaa.gov/gsd/fab/\">NOAA's Forecast\n",
      "Applications Branch</a> uses Beautiful Soup in <a href=\"http://laps.noaa.gov/topograbber/\">TopoGrabber</a>, a script for\n",
      "downloading \"high resolution USGS datasets.\"\n",
      "\n",
      "\n"
     ]
    }
   ],
   "source": [
    "test =  [\"\".join(str(a) for a in sublist) for sublist in tmp]\n",
    "print('\\n'.join(test))"
   ]
  },
  {
   "cell_type": "markdown",
   "metadata": {
    "slideshow": {
     "slide_type": "slide"
    }
   },
   "source": [
    "Advanced Example\n",
    "===============\n",
    "\n",
    "Idea by [Jesse Steinweg-Woods](https://jessesw.com/Data-Science-Skills/)\n",
    "--------------------------------------------------------------------------------"
   ]
  },
  {
   "cell_type": "markdown",
   "metadata": {
    "slideshow": {
     "slide_type": "slide"
    }
   },
   "source": [
    "Scraping data science skills\n",
    "=============================\n",
    "\n",
    "- What skills are in demand for data scientists?\n",
    "- Should we have a lecture on Spark or only on MapReduce?\n",
    "\n",
    "We want to scrape the information from job advertisements for data scientists from indeed.com\n",
    "Let's scrape and find out!"
   ]
  },
  {
   "cell_type": "code",
   "execution_count": 76,
   "metadata": {
    "slideshow": {
     "slide_type": "slide"
    }
   },
   "outputs": [
    {
     "name": "stderr",
     "output_type": "stream",
     "text": [
      "/home/yash/anaconda3/lib/python3.6/site-packages/urllib3/connectionpool.py:858: InsecureRequestWarning: Unverified HTTPS request is being made. Adding certificate verification is strongly advised. See: https://urllib3.readthedocs.io/en/latest/advanced-usage.html#ssl-warnings\n",
      "  InsecureRequestWarning)\n",
      "/home/yash/anaconda3/lib/python3.6/site-packages/bs4/__init__.py:181: UserWarning: No parser was explicitly specified, so I'm using the best available HTML parser for this system (\"lxml\"). This usually isn't a problem, but if you run this code on another system, or in a different virtual environment, it may use a different parser and behave differently.\n",
      "\n",
      "The code that caused this warning is on line 193 of the file /home/yash/anaconda3/lib/python3.6/runpy.py. To get rid of this warning, change code that looks like this:\n",
      "\n",
      " BeautifulSoup(YOUR_MARKUP})\n",
      "\n",
      "to this:\n",
      "\n",
      " BeautifulSoup(YOUR_MARKUP, \"lxml\")\n",
      "\n",
      "  markup_type=markup_type))\n"
     ]
    }
   ],
   "source": [
    "# Fixed url for job postings containing data scientist\n",
    "url = 'http://www.indeed.com/jobs?q=data+scientist&l='\n",
    "# read the website\n",
    "source = http.request('GET', url).data.decode()\n",
    "# parse html code\n",
    "bs_tree = bs4.BeautifulSoup(source)"
   ]
  },
  {
   "cell_type": "code",
   "execution_count": 77,
   "metadata": {},
   "outputs": [
    {
     "data": {
      "text/plain": [
       "<!DOCTYPE html>\n",
       "<html dir=\"ltr\" lang=\"en\">\n",
       "<head>\n",
       "<meta content=\"text/html;charset=utf-8\" http-equiv=\"content-type\"/>\n",
       "<script src=\"/s/9c21e18/en_US.js\" type=\"text/javascript\"></script>\n",
       "<link href=\"/s/78ef659/jobsearch_all.css\" rel=\"stylesheet\" type=\"text/css\"/>\n",
       "<link href=\"http://rss.indeed.com/rss?q=data+scientist\" rel=\"alternate\" title=\"Data Scientist Jobs, Employment\" type=\"application/rss+xml\"/>\n",
       "<link href=\"/m/jobs?q=data+scientist\" media=\"only screen and (max-width: 640px)\" rel=\"alternate\"/>\n",
       "<link href=\"/m/jobs?q=data+scientist\" media=\"handheld\" rel=\"alternate\"/>\n",
       "<script type=\"text/javascript\">\n",
       "    \n",
       "    if (typeof window['closureReadyCallbacks'] == 'undefined') {\n",
       "        window['closureReadyCallbacks'] = [];\n",
       "    }\n",
       "\n",
       "    function call_when_jsall_loaded(cb) {\n",
       "        if (window['closureReady']) {\n",
       "            cb();\n",
       "        } else {\n",
       "            window['closureReadyCallbacks'].push(cb);\n",
       "        }\n",
       "    }\n",
       "</script>\n",
       "<meta content=\"1\" name=\"ppstriptst\"/>\n",
       "<script src=\"/s/493acfd/jobsearch-all-compiled.js\" type=\"text/javascript\"></script>\n",
       "<script type=\"text/javascript\">\n",
       "\n",
       "var searchUID = '1cgf49t021fgp594';\n",
       "var tk = '1cgf49t021fgp594';\n",
       "\n",
       "var loggedIn = false;\n",
       "var dcmPayload = 'jobse0;jobal0;viewj0;savej0;6927552';\n",
       "var myindeed = true;\n",
       "var userEmail = '';\n",
       "var tellFriendEmail = '';\n",
       "var globalLoginURL = 'https:\\/\\/www.indeed.com\\/account\\/login?dest=%2Fq-data-scientist-jobs.html';\n",
       "var globalRegisterURL = 'https:\\/\\/www.indeed.com\\/account\\/register?dest=%2Fq-data-scientist-jobs.html';\n",
       "var searchKey = 'bebb41335ed80f2a';\n",
       "var searchState = 'q=data+scientist&amp;';\n",
       "var searchQS = 'q=data+scientist';\n",
       "var eventType = 'jobsearch';\n",
       "var locale = 'en_US';\n",
       "function clk(id) { var a = document.getElementById(id); var hr = a.href; var si = a.href.indexOf('&jsa='); if (si > 0) return; var jsh = hr + '&tk=1cgf49t021fgp594&jsa=2770'; a.href = jsh; }\n",
       "function sjomd(id) { var a = document.getElementById(id); var hr = a.href; var ocs = hr.indexOf('&oc=1'); if (ocs < 0) return; var oce = ocs + 5; a.href = hr.substring(0, ocs) + hr.substring(oce); }\n",
       "function sjoc(id, sal) { var a = document.getElementById(id); a.href = a.href + '&oc=1&sal='+sal; }\n",
       "function ptk(st,p) {document.cookie = 'PTK=\"tk=1cgf49t021fgp594&type=jobsearch&subtype='+st+(p?'&'+p:'')+'\"; path=/';}\n",
       "function rbptk(st, c, p) { ptk(st, 'cat='+c+(p?'&p='+p:''));}\n",
       "</script>\n",
       "<script type=\"text/javascript\">\n",
       "\tfunction loadJSAsync( ) {\n",
       "\t\tfor ( var i = 0; i < arguments.length; i++ ) {\n",
       "\t\t\tvar url = arguments[i];\n",
       "\t\t\t(function() {\n",
       "\t\t\t\tvar s = document.createElement(\"script\"), el = document.getElementsByTagName(\"script\")[0];\n",
       "\t\t\t\ts.async = true;\n",
       "\t\t\t\ts.src = url;\n",
       "\t\t\t\tel.parentNode.insertBefore(s, el);\n",
       "\t\t\t})();\n",
       "\t\t}\n",
       "\t}\n",
       "</script>\n",
       "<meta content=\"28,777 Data Scientist jobs available on Indeed.com. Search from Data Scientist, Predictive Modeler, Data Evaluator and more!\" name=\"description\"/>\n",
       "<meta content=\"Data Scientist Jobs, Employment,  careers,  employment,  job listings,  job search,  search engine, work in \" name=\"keywords\"/>\n",
       "<meta content=\"origin-when-cross-origin\" name=\"referrer\"/>\n",
       "<link href=\"/q-Data-Scientist-jobs.html\" rel=\"canonical\"/>\n",
       "<link href=\"/jobs?q=data+scientist&amp;start=10\" rel=\"next\"/><script type=\"text/javascript\">\n",
       "    var dcmPayload = 'jobse0;jobal0;viewj0;savej0;6927552';\n",
       "    var indeedCsrfToken = '4WfJ37Vokxok2pk5K3F219nQ3vmVKM0d';\n",
       "    var hashedCsrfToken = '54cfc346681ad2a7020ad6c8dc394e5c';\n",
       "</script>\n",
       "<style type=\"text/css\">\n",
       "    .jasxcustomfonttst-useCustomHostedFontFullPage *{font-family:\"Open Sans\", sans-serif !important}.jasxcustomfonttst-useLato *{font-family:\"Lato\", sans-serif !important}.jasxcustomfonttst-useFira *{font-family:\"Fira Sans\", sans-serif !important}.jasxcustomfonttst-useGibson *{font-family:\"Gibson\", sans-serif !important}.jasxcustomfonttst-useAvenir *{font-family:\"Avenir Next\", sans-serif !important}#accessibilityBanner{position:absolute;left:-10000%;height:50px;width:100%;color:#000;font-size:13px;font-family:Arial;background-color:#F2F2F2;border-width:1px;border-color:#E6E6E6;line-height:50px}#accessibilityText{position:relative;left:12px;white-space:nowrap}#accessibilityClose{position:absolute;right:12px}.icl-Button{box-sizing:border-box;display:inline-block;color:#fff;-webkit-font-smoothing:antialiased;text-decoration:none;text-overflow:ellipsis;white-space:nowrap;-webkit-highlight:none;-webkit-tap-highlight-color:transparent;-webkit-touch-callout:none;-webkit-appearance:none;-moz-appearance:none;appearance:none;-webkit-user-select:none;-moz-user-select:none;-ms-user-select:none;user-select:none;font-family:Helvetica Neue,Helvetica,Arial,Liberation Sans,Roboto,Noto,sans-serif;font-size:1rem;letter-spacing:0;line-height:1.5rem;font-weight:700;line-height:1.125rem}[dir] .icl-Button{background-color:#085ff7;border:.125rem solid #085ff7;border-radius:6.25rem;background-repeat:repeat-x;cursor:pointer;padding-top:1rem;padding-bottom:1rem}[dir=ltr] .icl-Button{margin:0.75rem 0.75rem 0.75rem 0;padding-left:1.5rem;padding-right:1.5rem}[dir=rtl] .icl-Button{margin:0.75rem 0 0.75rem 0.75rem;padding-right:1.5rem;padding-left:1.5rem}[dir] .icl-Button::-moz-focus-inner{border:0}.icl-Button:disabled,.icl-Button:disabled:hover{color:#ccc}[dir] .icl-Button:disabled,[dir] .icl-Button:disabled:hover{cursor:default;background:#fff;border:.125rem solid #ececec}.icl-Button:active,.icl-Button:hover{color:#fff;text-decoration:none}[dir] .icl-Button:active,[dir] .icl-Button:hover{background-color:#1497ff;border-color:#1497ff}.icl-Button--primary{box-sizing:border-box;display:inline-block;color:#fff;-webkit-font-smoothing:antialiased;text-decoration:none;text-overflow:ellipsis;white-space:nowrap;-webkit-highlight:none;-webkit-tap-highlight-color:transparent;-webkit-touch-callout:none;-webkit-appearance:none;-moz-appearance:none;appearance:none;-webkit-user-select:none;-moz-user-select:none;-ms-user-select:none;user-select:none}[dir] .icl-Button--primary{background-color:#085ff7;border:.125rem solid #085ff7;border-radius:6.25rem;background-repeat:repeat-x;cursor:pointer}[dir=ltr] .icl-Button--primary{margin:0.75rem 0.75rem 0.75rem 0}[dir=rtl] .icl-Button--primary{margin:0.75rem 0 0.75rem 0.75rem}[dir] .icl-Button--primary::-moz-focus-inner{border:0}.icl-Button--primary:disabled,.icl-Button--primary:disabled:hover{color:#ccc}[dir] .icl-Button--primary:disabled,[dir] .icl-Button--primary:disabled:hover{cursor:default;background:#fff;border:.125rem solid #ececec}.icl-Button--primary:active,.icl-Button--primary:hover{color:#fff;text-decoration:none}[dir] .icl-Button--primary:active,[dir] .icl-Button--primary:hover{background-color:#1497ff;border-color:#1497ff}.icl-Button--secondary{box-sizing:border-box;display:inline-block;color:#085ff7;-webkit-font-smoothing:antialiased;text-decoration:none;text-overflow:ellipsis;white-space:nowrap;-webkit-highlight:none;-webkit-tap-highlight-color:transparent;-webkit-touch-callout:none;-webkit-appearance:none;-moz-appearance:none;appearance:none;-webkit-user-select:none;-moz-user-select:none;-ms-user-select:none;user-select:none}[dir] .icl-Button--secondary{background-color:#fff;border:.125rem solid #085ff7;border-radius:6.25rem;background-repeat:repeat-x;cursor:pointer}[dir=ltr] .icl-Button--secondary{margin:0.75rem 0.75rem 0.75rem 0}[dir=rtl] .icl-Button--secondary{margin:0.75rem 0 0.75rem 0.75rem}[dir] .icl-Button--secondary::-moz-focus-inner{border:0}.icl-Button--secondary:disabled,.icl-Button--secondary:disabled:hover{color:#ccc}[dir] .icl-Button--secondary:disabled,[dir] .icl-Button--secondary:disabled:hover{cursor:default;background:#fff;border:.125rem solid #ececec}.icl-Button--secondary:active,.icl-Button--secondary:hover{color:#1497ff;text-decoration:none}[dir] .icl-Button--secondary:active,[dir] .icl-Button--secondary:hover{background-color:#fff;border-color:#1497ff}.icl-Button--tertiary{box-sizing:border-box;display:inline-block;color:#085ff7;-webkit-font-smoothing:antialiased;text-decoration:none;text-overflow:ellipsis;white-space:nowrap;-webkit-highlight:none;-webkit-tap-highlight-color:transparent;-webkit-touch-callout:none;-webkit-appearance:none;-moz-appearance:none;appearance:none;-webkit-user-select:none;-moz-user-select:none;-ms-user-select:none;user-select:none}[dir] .icl-Button--tertiary{background-color:#fff;border:.125rem solid #ececec;border-radius:6.25rem;background-repeat:repeat-x;cursor:pointer}[dir=ltr] .icl-Button--tertiary{margin:0.75rem 0.75rem 0.75rem 0}[dir=rtl] .icl-Button--tertiary{margin:0.75rem 0 0.75rem 0.75rem}[dir] .icl-Button--tertiary::-moz-focus-inner{border:0}.icl-Button--tertiary:disabled,.icl-Button--tertiary:disabled:hover{color:#ccc}[dir] .icl-Button--tertiary:disabled,[dir] .icl-Button--tertiary:disabled:hover{cursor:default;background:#fff;border:.125rem solid #ececec}.icl-Button--tertiary:active,.icl-Button--tertiary:hover{color:#1497ff;text-decoration:none}[dir] .icl-Button--tertiary:active,[dir] .icl-Button--tertiary:hover{background-color:#fff;border-color:#ececec}.icl-Button--xl{font-family:Helvetica Neue,Helvetica,Arial,Liberation Sans,Roboto,Noto,sans-serif;font-size:1.25rem;letter-spacing:-.1px;line-height:1.75rem;font-weight:700}[dir] .icl-Button--xl{padding-top:.5rem;padding-bottom:.5rem}[dir=ltr] .icl-Button--xl,[dir=rtl] .icl-Button--xl{padding-left:1.5rem;padding-right:1.5rem}.icl-Button--lg{font-family:Helvetica Neue,Helvetica,Arial,Liberation Sans,Roboto,Noto,sans-serif;font-size:1rem;letter-spacing:0;line-height:1.5rem;font-weight:700;line-height:1.125rem}[dir] .icl-Button--lg{padding-top:1rem;padding-bottom:1rem}[dir=ltr] .icl-Button--lg,[dir=rtl] .icl-Button--lg{padding-left:1.5rem;padding-right:1.5rem}.icl-Button--md{font-family:Helvetica Neue,Helvetica,Arial,Liberation Sans,Roboto,Noto,sans-serif;font-size:.875rem;letter-spacing:0;line-height:1.25rem;font-weight:700;line-height:1.5rem}[dir] .icl-Button--md{padding-top:.5rem;padding-bottom:.5rem}[dir=ltr] .icl-Button--md,[dir=rtl] .icl-Button--md{padding-left:1.5rem;padding-right:1.5rem}.icl-Button--sm{font-family:Helvetica Neue,Helvetica,Arial,Liberation Sans,Roboto,Noto,sans-serif;font-size:.75rem;letter-spacing:0;line-height:1.25rem;font-weight:700;line-height:1.5rem}[dir] .icl-Button--sm{padding-top:.25rem;padding-bottom:.25rem}[dir=ltr] .icl-Button--sm,[dir=rtl] .icl-Button--sm{padding-left:1rem;padding-right:1rem}.icl-Button--xs{font-family:Helvetica Neue,Helvetica,Arial,Liberation Sans,Roboto,Noto,sans-serif;font-size:.625rem;letter-spacing:0;line-height:1rem;font-weight:500;line-height:.875rem}[dir] .icl-Button--xs{padding-top:.125rem;padding-bottom:.125rem;padding-top:0}[dir=ltr] .icl-Button--xs,[dir=rtl] .icl-Button--xs{padding-left:.5rem;padding-right:.5rem}.icl-Button--block{display:block;width:100%;max-width:21.9375rem;overflow:hidden}[dir] .icl-Button--block{margin:.75rem auto}[dir] .icl-Button--group{border-radius:0;box-shadow:0 0 0 transparent}[dir=ltr] .icl-Button--group{float:left;margin:0 0 0 -1px}[dir=rtl] .icl-Button--group{float:right;margin:0 -1px 0 0}[dir] .icl-Button--group:hover{box-shadow:0 0 0 transparent}[dir=ltr] .icl-Button--group:first-child{margin-left:0;border-bottom-left-radius:6px;border-top-left-radius:6px}[dir=rtl] .icl-Button--group:first-child{margin-right:0}[dir=ltr] .icl-Button--group:last-child,[dir=rtl] .icl-Button--group:first-child{border-bottom-right-radius:6px;border-top-right-radius:6px}[dir=rtl] .icl-Button--group:last-child{border-bottom-left-radius:6px;border-top-left-radius:6px}[dir=ltr] .icl-Button--icon,[dir=rtl] .icl-Button--icon{padding-left:10px;padding-right:10px}.icl-Button--responsive{max-width:21.9375rem;width:100%}[dir] .icl-Button--responsive{margin:.75rem 0 0}[dir] .icl-Button--responsive:first-child{margin-top:0}@media only screen and (min-width: 768px){.icl-Button--responsive{width:auto}}.icl-Button--special{box-sizing:border-box;display:inline-block;color:#fff;-webkit-font-smoothing:antialiased;text-decoration:none;text-overflow:ellipsis;white-space:nowrap;-webkit-highlight:none;-webkit-tap-highlight-color:transparent;-webkit-touch-callout:none;-webkit-appearance:none;-moz-appearance:none;appearance:none;-webkit-user-select:none;-moz-user-select:none;-ms-user-select:none;user-select:none}[dir] .icl-Button--special{background-color:#f60;border:.125rem solid #f60;border-radius:6.25rem;background-repeat:repeat-x;cursor:pointer}[dir=ltr] .icl-Button--special{margin:0.75rem 0.75rem 0.75rem 0}[dir=rtl] .icl-Button--special{margin:0.75rem 0 0.75rem 0.75rem}[dir] .icl-Button--special::-moz-focus-inner{border:0}.icl-Button--special:disabled,.icl-Button--special:disabled:hover{color:#ccc}[dir] .icl-Button--special:disabled,[dir] .icl-Button--special:disabled:hover{cursor:default;background:#fff;border:.125rem solid #ececec}.icl-Button--special:active,.icl-Button--special:hover{color:#fff;text-decoration:none}[dir] .icl-Button--special:active,[dir] .icl-Button--special:hover{background-color:#f60;border-color:#f60}.icl-Button--danger{box-sizing:border-box;display:inline-block;color:#fff;-webkit-font-smoothing:antialiased;text-decoration:none;text-overflow:ellipsis;white-space:nowrap;-webkit-highlight:none;-webkit-tap-highlight-color:transparent;-webkit-touch-callout:none;-webkit-appearance:none;-moz-appearance:none;appearance:none;-webkit-user-select:none;-moz-user-select:none;-ms-user-select:none;user-select:none}[dir] .icl-Button--danger{background-color:#db183f;border:.125rem solid #db183f;border-radius:6.25rem;background-repeat:repeat-x;cursor:pointer}[dir=ltr] .icl-Button--danger{margin:0.75rem 0.75rem 0.75rem 0}[dir=rtl] .icl-Button--danger{margin:0.75rem 0 0.75rem 0.75rem}[dir] .icl-Button--danger::-moz-focus-inner{border:0}.icl-Button--danger:disabled,.icl-Button--danger:disabled:hover{color:#ccc}[dir] .icl-Button--danger:disabled,[dir] .icl-Button--danger:disabled:hover{cursor:default;background:#fff;border:.125rem solid #ececec}.icl-Button--danger:active,.icl-Button--danger:hover{color:#fff;text-decoration:none}[dir] .icl-Button--danger:active,[dir] .icl-Button--danger:hover{background-color:#db183f;border-color:#db183f}.icl-Button--working{box-sizing:border-box;display:inline-block;color:#fff;-webkit-font-smoothing:antialiased;text-decoration:none;text-overflow:ellipsis;white-space:nowrap;-webkit-highlight:none;-webkit-tap-highlight-color:transparent;-webkit-touch-callout:none;-webkit-appearance:none;-moz-appearance:none;appearance:none;-webkit-user-select:none;-moz-user-select:none;-ms-user-select:none;user-select:none}[dir] .icl-Button--working{background-color:#085ff7;border:.125rem solid #085ff7;border-radius:6.25rem;background-repeat:repeat-x;cursor:pointer}[dir=ltr] .icl-Button--working{margin:0.75rem 0.75rem 0.75rem 0}[dir=rtl] .icl-Button--working{margin:0.75rem 0 0.75rem 0.75rem}[dir] .icl-Button--working::-moz-focus-inner{border:0}.icl-Button--working:disabled,.icl-Button--working:disabled:hover{color:#ccc}[dir] .icl-Button--working:disabled,[dir] .icl-Button--working:disabled:hover{cursor:default;background:#fff;border:.125rem solid #ececec}.icl-Button--working:active,.icl-Button--working:hover{color:#fff;text-decoration:none}[dir] .icl-Button--working:active,[dir] .icl-Button--working:hover{background-color:#1497ff;border-color:#1497ff}.icl-Button--transparent{box-sizing:border-box;display:inline-block;color:#085ff7;-webkit-font-smoothing:antialiased;text-decoration:none;text-overflow:ellipsis;white-space:nowrap;-webkit-highlight:none;-webkit-tap-highlight-color:transparent;-webkit-touch-callout:none;-webkit-appearance:none;-moz-appearance:none;appearance:none;-webkit-user-select:none;-moz-user-select:none;-ms-user-select:none;user-select:none}[dir] .icl-Button--transparent{background-color:transparent;border:.125rem solid transparent;border-radius:6.25rem;background-repeat:repeat-x;cursor:pointer}[dir=ltr] .icl-Button--transparent{margin:0.75rem 0.75rem 0.75rem 0}[dir=rtl] .icl-Button--transparent{margin:0.75rem 0 0.75rem 0.75rem}[dir] .icl-Button--transparent::-moz-focus-inner{border:0}.icl-Button--transparent:disabled,.icl-Button--transparent:disabled:hover{color:#ccc}[dir] .icl-Button--transparent:disabled,[dir] .icl-Button--transparent:disabled:hover{cursor:default;background:#fff;border:.125rem solid #ececec}.icl-Button--transparent:active,.icl-Button--transparent:hover{color:#085ff7;text-decoration:none}[dir] .icl-Button--transparent:active,[dir] .icl-Button--transparent:hover{background-color:transparent;border-color:transparent}\n",
       "</style>\n",
       "<style type=\"text/css\">\n",
       "    #resultsCol { padding-top: 0; }\n",
       "    .searchCount { margin-top: 6px; }\n",
       "    .showing { padding-top: 9px; padding-bottom: 9px; }\n",
       "\n",
       "    .brdr { height: 1px; overflow: hidden; background-color: #ccc; }\n",
       "\n",
       "    /* Tall window sizes */\n",
       "    @media only screen and (min-height:780px){\n",
       "        .showing { padding-bottom: 0; }\n",
       "    }\n",
       "\n",
       "    /* Wide window sizes */\n",
       "    @media only screen and (min-width:1125px){\n",
       "        .brdr  { margin-left: 12px; margin-right: 12px; }\n",
       "    }\n",
       "\n",
       "    a, a:link, .link, .btn, .btn:hover { text-decoration:none; }\n",
       "a:hover, .link:hover { text-decoration:underline; }\n",
       ".dya-container a { text-decoration: underline!important; }</style>\n",
       "<script>\n",
       "        function onLoadHandler() {\n",
       "            \n",
       "                document.js.reset();\n",
       "                jobSeenInit('1cgf49t021fgp594', [{\n",
       "                    'jobClassName': 'result',\n",
       "                    'scanIta': true,\n",
       "                    'containsSponsored': true,\n",
       "                    'context': ''\n",
       "                }]);\n",
       "            \n",
       "            if ( document.radius_update ) { document.radius_update.reset(); }\n",
       "            \n",
       "\n",
       "            initJobsearchUnloadBeacon('1cgf49t021fgp594');\n",
       "        }\n",
       "\n",
       "        initLogInitialUserInteraction('1cgf49t021fgp594', 'serp');\n",
       "\n",
       "        window.onload = onLoadHandler;\n",
       "    </script>\n",
       "<link href=\"android-app://com.indeed.android.jobsearch/https/www.indeed.com/m/jobs?q=data+scientist\" rel=\"alternate\"/>\n",
       "<title>Data Scientist Jobs, Employment | Indeed.com</title>\n",
       "<style type=\"text/css\">\n",
       "    .btn,.sg-btn{display:inline-block;padding:9px 15px;border:1px solid #9a99ac;border-bottom-color:#a2a2a2;-webkit-border-radius:6px;-moz-border-radius:6px;-ms-border-radius:6px;-o-border-radius:6px;border-radius:6px;background-color:#D9D9E2;background-image:-moz-linear-gradient(top, #f8f8f9, #D9D9E2);background-image:-webkit-gradient(linear, 0 0, 0 100%, from(#f8f8f9), to(#D9D9E2));background-image:-webkit-linear-gradient(top, #f8f8f9, #D9D9E2);background-image:linear-gradient(to bottom, #f8f8f9, #D9D9E2);background-repeat:repeat-x;-webkit-box-shadow:0 1px 5px rgba(0,0,0,0.2);-moz-box-shadow:0 1px 5px rgba(0,0,0,0.2);-ms-box-shadow:0 1px 5px rgba(0,0,0,0.2);-o-box-shadow:0 1px 5px rgba(0,0,0,0.2);box-shadow:0 1px 5px rgba(0,0,0,0.2);color:#333;vertical-align:middle;text-align:center;text-decoration:none;text-shadow:0 1px #fff;font-weight:700;font-size:16px;font-family:\"Helvetica Neue\",Helvetica,Arial,\"Lucida Grande\",sans-serif;line-height:22px;filter:progid:DXImageTransform.Microsoft.gradient(startColorstr='#fff8f8f9', endColorstr='#ffe6e6e6', GradientType=0);cursor:pointer;-webkit-user-select:none;-moz-user-select:none;-ms-user-select:none;-o-user-select:none;user-select:none;-webkit-touch-callout:none;-webkit-highlight:none;-webkit-tap-highlight-color:transparent;text-overflow:ellipsis;white-space:nowrap;overflow:hidden}.btn.active,.btn.sg-active,.btn:active,.btn.disabled,.btn.sg-disabled,.btn[disabled],.sg-btn.active,.sg-btn.sg-active,.sg-btn:active,.sg-btn.disabled,.sg-btn.sg-disabled,.sg-btn[disabled]{outline:none;background-color:#f8f8f9;color:#333}.btn:focus,.sg-btn:focus{outline:0;box-shadow:0 0 1px 0 #1642bb;-webkit-transition:box-shadow 0.2s linear;-moz-transition:box-shadow 0.2s linear;transition:box-shadow 0.2s linear}.btn.active,.btn.sg-active,.btn:active,.sg-btn.active,.sg-btn.sg-active,.sg-btn:active{background-color:#f8f8f9;background-image:none;-webkit-box-shadow:inset 0 2px 4px rgba(0,0,0,0.15),0 1px 2px rgba(0,0,0,0.05);-moz-box-shadow:inset 0 2px 4px rgba(0,0,0,0.15),0 1px 2px rgba(0,0,0,0.05);box-shadow:inset 0 2px 4px rgba(0,0,0,0.15),0 1px 2px rgba(0,0,0,0.05)}.btn.disabled,.btn.sg-disabled,.btn[disabled],.sg-btn.disabled,.sg-btn.sg-disabled,.sg-btn[disabled]{background-color:#f8f8f9;background-image:none;-webkit-box-shadow:none;-moz-box-shadow:none;box-shadow:none;opacity:.65;filter:alpha(opacity=65);cursor:default}.btn-primary,.sg-btn-primary{border-color:#1642bb;background-color:#5585f2;background-image:-moz-linear-gradient(top, #6598ff, #2e5ad7);background-image:-webkit-gradient(linear, 0 0, 0 100%, from(#6598ff), to(#2e5ad7));background-image:-webkit-linear-gradient(top, #6598ff, #2e5ad7);background-image:linear-gradient(to bottom, #6598ff, #2e5ad7);background-repeat:repeat-x;color:#F8F8F9;text-shadow:0 -1px #0f2299;-ms-filter:progid:DXImageTransform.Microsoft.dropshadow(OffX=0, OffY=-1, Color=#e80f2299, Positive=true);filter:progid:DXImageTransform.Microsoft.dropshadow(OffX=0, OffY=-1, Color=#e80f2299, Positive=true);filter:progid:DXImageTransform.Microsoft.gradient(startColorstr='#ff6598fe', endColorstr='#ff3c69e0', GradientType=0);zoom:1}.btn-primary.active,.btn-primary.sg-active,.btn-primary:active,.btn-primary.disabled,.btn-primary.sg-disabled,.btn-primary[disabled],.sg-btn-primary.active,.sg-btn-primary.sg-active,.sg-btn-primary:active,.sg-btn-primary.disabled,.sg-btn-primary.sg-disabled,.sg-btn-primary[disabled]{background-color:#2e5ad7;color:#F8F8F9}.btn-primary:focus,.sg-btn-primary:focus{box-shadow:0 0 1px 0 #000}.btn-special,.sg-btn-special{border-color:#ba3200;background-color:#5585f2;background-image:-moz-linear-gradient(top, #f60, #f14200);background-image:-webkit-gradient(linear, 0 0, 0 100%, from(#f60), to(#f14200));background-image:-webkit-linear-gradient(top, #f60, #f14200);background-image:linear-gradient(to bottom, #f60, #f14200);background-repeat:repeat-x;color:#F8F8F9;text-shadow:0 -1px #000;-ms-filter:progid:DXImageTransform.Microsoft.dropshadow(OffX=0, OffY=-1, Color=#e80f2299, Positive=true);filter:progid:DXImageTransform.Microsoft.dropshadow(OffX=0, OffY=-1, Color=#e80f2299, Positive=true);filter:progid:DXImageTransform.Microsoft.gradient(startColorstr='#ff6598fe', endColorstr='#ff3c69e0', GradientType=0);zoom:1}.btn-special.active,.btn-special.sg-active,.btn-special:active,.btn-special.disabled,.btn-special.sg-disabled,.btn-special[disabled],.sg-btn-special.active,.sg-btn-special.sg-active,.sg-btn-special:active,.sg-btn-special.disabled,.sg-btn-special.sg-disabled,.sg-btn-special[disabled]{background-color:#f14200;color:#F8F8F9}.btn-special:focus,.sg-btn-special:focus{box-shadow:0 0 1px 0 #000}.btn-danger,.sg-btn-danger{border-color:#83121b;background-color:#5585f2;background-image:-moz-linear-gradient(top, #d1787f, #b01825);background-image:-webkit-gradient(linear, 0 0, 0 100%, from(#d1787f), to(#b01825));background-image:-webkit-linear-gradient(top, #d1787f, #b01825);background-image:linear-gradient(to bottom, #d1787f, #b01825);background-repeat:repeat-x;color:#F8F8F9;text-shadow:0 -1px #000;-ms-filter:progid:DXImageTransform.Microsoft.dropshadow(OffX=0, OffY=-1, Color=#e80f2299, Positive=true);filter:progid:DXImageTransform.Microsoft.dropshadow(OffX=0, OffY=-1, Color=#e80f2299, Positive=true);filter:progid:DXImageTransform.Microsoft.gradient(startColorstr='#ff6598fe', endColorstr='#ff3c69e0', GradientType=0);zoom:1}.btn-danger.active,.btn-danger.sg-active,.btn-danger:active,.btn-danger.disabled,.btn-danger.sg-disabled,.btn-danger[disabled],.sg-btn-danger.active,.sg-btn-danger.sg-active,.sg-btn-danger:active,.sg-btn-danger.disabled,.sg-btn-danger.sg-disabled,.sg-btn-danger[disabled]{background-color:#b01825;color:#F8F8F9}.btn-danger:focus,.sg-btn-danger:focus{box-shadow:0 0 1px 0 #000}input.btn,input.sg-btn{-webkit-appearance:none}button.btn::-moz-focus-inner,button.sg-btn::-moz-focus-inner{border:0}.btn-sm,.sg-btn-sm,.btn-xs,.sg-bt-xs{padding:6px 12px}.btn-xs,.sg-btn-xs{padding:3px 6px;line-height:15px}.btn-md,.sg-btn-md{padding:6px 6px}.btn-lg,.sg-btn-lg{padding:9px 18px;border-radius:6px;font-size:18px}.btn-block,.sg-btn-block{display:block;margin:9px auto;-webkit-box-sizing:border-box !important;-moz-box-sizing:border-box !important;box-sizing:border-box !important;max-width:352px}.btn-block-compact,.sg-btn-block-compact{margin:2px auto}input.btn-block,input.sg-btn-block,button.btn-block,button.sg-btn-block{width:100%;max-width:351px}.btn-block+.btn-block,.sg-btn-block+.sg-btn-block{margin-top:5px}#buttonContainer .btn,#buttonContainer .sg-btn{margin:0}.btn-icon .cssImage{margin-bottom:-40px;position:relative;top:-27px}.btn-pair{-webkit-box-sizing:border-box !important;-moz-box-sizing:border-box !important;box-sizing:border-box !important;width:49%}#refineresultscol{width:184px}#refineresults{width:180px}#branding-td{width:186px;text-align:center}.ltr #searchCount{margin-right:4px;margin-left:4px}.ltr #resultsCol .sorting{padding-right:4px}.ltr #resultsCol .showing{padding-left:4px}.ltr #jobsearch{padding-left:4px}.rtl #searchCount{margin-left:4px;margin-right:4px}.rtl #resultsCol .sorting{padding-left:4px}.rtl #resultsCol .showing{padding-right:4px}.rtl #jobsearch{padding-right:4px}.jaui,.hasu .gasc,.row,.message,.oocs{padding-left:4px;padding-right:4px}#resumePromo{padding-left:4px;padding-right:4px}#primePromo{padding-left:4px;padding-right:4px}@media only screen and (min-width: 1125px){.ltr #refineresults{padding-left:15px}.ltr #branding img{margin-left:16px;margin-right:28px}.rtl #refineresults{padding-right:15px}.rtl #branding img{margin-right:16px;margin-left:28px}.ltr #searchCount{margin-right:12px;margin-left:12px}.ltr #resultsCol .sorting{padding-right:12px}.ltr #resultsCol .showing{padding-left:12px}.ltr #jobsearch{padding-left:12px}.rtl #searchCount{margin-left:12px;margin-right:12px}.rtl #resultsCol .sorting{padding-left:12px}.rtl #resultsCol .showing{padding-right:12px}.rtl #jobsearch{padding-right:12px}.jaui,.hasu .gasc,.row,.message,.oocs{padding-left:12px;padding-right:12px}#resumePromo{padding-left:12px;padding-right:12px}#primePromo{padding-left:12px;padding-right:12px}#resultsBody{width:1125px}#refineresultscol,#branding-td{width:225px}#refineresults{width:210px}}@media only screen and (min-width: 1250px){#resultsBody{width:1250px}#auxCol{width:315px}#refineresultscol,#branding-td{width:275px}#refineresults{width:260px}.ltr #refineresults{padding-left:15px}.ltr #branding img{margin-left:16px;margin-right:28px}.rtl #refineresults{padding-right:15px}.rtl #branding img{margin-right:16px;margin-left:28px}.ltr #searchCount{margin-right:12px;margin-left:12px}.ltr #resultsCol .sorting{padding-right:12px}.ltr #resultsCol .showing{padding-left:12px}.ltr #jobsearch{padding-left:12px}.rtl #searchCount{margin-left:12px;margin-right:12px}.rtl #resultsCol .sorting{padding-left:12px}.rtl #resultsCol .showing{padding-right:12px}.rtl #jobsearch{padding-right:12px}.jaui,.hasu .gasc,.row,.message,.oocs{padding-left:12px;padding-right:12px}#resumePromo{padding-left:12px;padding-right:12px}#primePromo{padding-left:12px;padding-right:12px}}#branding-td{padding:5px 0 5px 0px}.resultsTop{padding-top:9px}\n",
       "</style>\n",
       "<style>\n",
       "        body.janus{background-color:#f6f6f6}body.janus *,body.janus .jasxcustomfonttst-useAvenir *{font-family:\"Helvetica Neue\",Helvetica,Arial,sans-serif !important;-webkit-font-smoothing:antialiased;-moz-osx-font-smoothing:grayscale;box-sizing:border-box}body.janus a,body.janus a:link{color:#2164f3}body.janus input::-webkit-contacts-auto-fill-button{visibility:hidden;display:none !important;pointer-events:none;position:absolute;right:0}body.janus .origin_site_link a{color:#085ff7}body.janus div#g_nav{border-bottom:2px solid #f6f6f6 !important;height:46px !important;margin-bottom:0}body.janus div#g_nav a{cursor:pointer;color:#4b4b4b !important;font-weight:400}body.janus div#g_nav#inboxLinkNavbar{font-weight:500 !important;font-size:12px !important;line-height:15.6px !important}body.janus div#g_nav .navBi a{font-size:12px;font-weight:500;position:relative;padding:12px 0;text-decoration:none}body.janus div#g_nav .navBi a:after{content:'';border-bottom:2px solid transparent;position:absolute;bottom:1px;left:0;right:0}body.janus div#g_nav .navBi a#userOptionsLabel{color:#2164f3 !important;font-size:12px;padding:12px 0}body.janus div#g_nav .navBi a:hover:after{border-color:#1497ff}body.janus div#g_nav .navBi a.selected{color:#000 !important;font-weight:700}body.janus div#g_nav .navBi a.selected:after{border-color:#2164f3}body.janus div#g_nav #userOptionsLabel{border-radius:15px 15px 0 0;border:2px solid transparent;margin-bottom:0 !important}body.janus div#g_nav #userOptionsLabel b{text-decoration:none}body.janus div#g_nav #userOptionsLabel.active{border-color:#f6f6f6;padding:9px 12px !important}body.janus div#g_nav #userOptions{border:2px solid #f6f6f6;border-radius:15px 0 15px 15px;box-shadow:2px 3px 8px 0 rgba(0,0,0,0.08);padding:4px 0;margin-top:-1px}body.janus div#g_nav #userOptions .userOptionGroupHeader,body.janus div#g_nav #userOptions .userOptionItem a,body.janus div#g_nav #userOptions .userNameRepeat{display:block;min-width:220px;padding:2px 16px}body.janus div#g_nav #userOptions .userOptionGroup{border-top:2px solid #f6f6f6}body.janus div#g_nav table{height:55px;margin-top:-8px}body.janus div#g_nav td{padding:0 !important}body.janus .inwrapBorder{border:0 !important}body.janus .inwrapBorder .inwrapBorderTop{background-color:transparent !important;background-image:none !important;border:0 !important}body.janus .inwrapBorder .input_submit{background-color:#085ff7 !important;border:2px solid #085ff7 !important;color:#fff !important;border-radius:100px !important;font-size:0.75rem;letter-spacing:0;line-height:1.25rem;font-weight:700;line-height:24px;padding:4px 1.5rem !important;min-width:95px;font-weight:500;box-sizing:border-box}body.janus .inwrapBorder .input_submit:hover{background-color:#1497ff !important;border-color:#1497ff !important}body.janus .inwrapBorder .input_submit:disabled{color:#ccc !important;background-color:#fff !important;border-color:#fff !important}body.janus .inwrapBorder .input_submit:hover{border-radius:100px !important}body.janus .inwrapBorder .input_submit.brandAdFollow,body.janus .inwrapBorder .input_submit.followButton{background-image:none !important}body.janus .inwrapBorder input.input_text{border:2px solid #ccc !important;box-sizing:border-box;background-color:#ececec}body.janus .inwrap{border:0 !important}body.janus #jobsearch .sl{background-position:right bottom;background-size:auto 80%;color:#767676;margin-left:10px;padding-right:20px}[dir=\"rtl\"] body.janus #jobsearch .sl{margin-left:0;margin-right:10px;padding-right:0;padding-left:20px;background-image:none}[dir=\"rtl\"] body.janus #jobsearch .sl:after{content:\"\";background-image:url(\"data:image/svg+xml,%3Csvg xmlns='http://www.w3.org/2000/svg' viewBox='3 3 19 19' width='16' height='16'%3E%3Cg%3E%3Cpath fill='#CCC' d='M10 6L8.59 7.41 13.17 12 8.59 16.59 10 18l6-6Z'/%3E%3C/g%3E%3C/svg%3E\");background-repeat:no-repeat;background-size:auto 80%;z-index:-1;transform:rotate(180deg);height:1.275em;width:1.275em;float:left;margin:0 1em}body.janus #jobsearch td.npl{padding:0 !important}body.janus #jobsearch #what_label_top,body.janus #jobsearch #where_label_top{color:#767676;font-weight:500 !important;padding:0 14px 7px !important;display:block;font-size:11px;letter-spacing:.5px}body.janus #jobsearch #what_label_bot,body.janus #jobsearch #where_label_bot,body.janus #jobsearch #what_label,body.janus #jobsearch #where_label{padding:9px 12px 0 !important;display:block;color:#767676;font-size:11px;white-space:normal !important;max-width:220px !important}body.janus #jobsearch .inwrapBorder .input_submit{background-color:#085ff7 !important;border:2px solid #085ff7 !important;color:#fff !important;border-radius:100px !important;font-size:0.75rem;letter-spacing:0;line-height:1.25rem;font-weight:700;line-height:24px;padding:4px 1.5rem !important;min-width:110px}body.janus #jobsearch .inwrapBorder .input_submit:hover{background-color:#1497ff !important;border-color:#1497ff !important}body.janus #jobsearch .inwrapBorder .input_submit:disabled{color:#ccc !important;background-color:#fff !important;border-color:#fff !important}body.janus #jobsearch .inwrapBorder .inwrapBorderTop{border:0 !important}[dir=\"ltr\"] body.janus #jobsearch .inwrapBorder .inwrapBorderTop{margin-left:10px}[dir=\"rtl\"] body.janus #jobsearch .inwrapBorder .inwrapBorderTop{margin-right:10px}body.janus #jobsearch .inwrap #what,body.janus #jobsearch .inwrap #where{width:264px !important;height:40px !important}body.janus #jobsearch .inwrap #what::-ms-clear,body.janus #jobsearch .inwrap #where::-ms-clear{display:none;width:0;height:0}#viewport body.janus #jobsearch .inwrap #what,#viewport body.janus #jobsearch .inwrap #where{width:280px !important}[dir=\"ltr\"] body.janus #jobsearch .inwrap #what{margin-right:2px !important}[dir=\"rtl\"] body.janus #jobsearch .inwrap #what{margin-left:2px !important}body.janus #jobsearch .auxColPad .input_submit{background-color:#fff !important;background-image:none !important;border:2px solid #ececec !important;color:#085ff7 !important;border-radius:100px !important;font-size:0.75rem;letter-spacing:0;line-height:1.25rem;font-weight:700;line-height:24px;padding:4px 1.5rem !important}body.janus #jobsearch .auxColPad .input_submit:hover{color:#1497ff !important;background-color:#fff !important;border-color:#ececec !important}body.janus #jobsearch .headerTipBubble{max-width:500px !important}body.janus [dir] .icl-LegalConsentBanner-action .icl-Button{background:#fff;background-image:none !important;border:2px solid transparent;border-radius:100px !important;box-shadow:none !important;box-sizing:border-box;color:#085ff7;max-width:100% !important;text-shadow:none !important}body.janus [dir] .icl-LegalConsentBanner-action .icl-Button--primary{background-color:#085ff7 !important;border:2px solid #085ff7 !important;color:#fff !important;border-radius:100px !important}body.janus [dir] .icl-LegalConsentBanner-action .icl-Button--primary:hover{background-color:#1497ff !important;border-color:#1497ff !important;box-shadow:none !important;background-image:none !important}body.janus .footerCta.greyBar{background-color:#f6f6f6 !important;border-top:2px solid #f6f6f6;font-size:20px;font-weight:700;padding:16px 0}body.janus .footerCta.greyBar>span{display:block}body.janus .footerCta.greyBar [dir] .icl-Button.cta_button.blue{background-color:#085ff7 !important;border:2px solid #085ff7 !important;color:#fff !important;border-radius:100px !important;font-size:0.875rem;letter-spacing:0;line-height:1.25rem;font-weight:700;line-height:24px;padding:0.5rem 1.5rem !important;box-shadow:none !important;text-shadow:none !important;background-image:none !important}body.janus .footerCta.greyBar [dir] .icl-Button.cta_button.blue:hover{background-color:#1497ff !important;border-color:#1497ff !important}body.janus .footerCta.greyBar [dir] .icl-Button.cta_button.blue:disabled{color:#ccc !important;background-color:#fff !important;border-color:#fff !important}body.janus #resumeCtaFooter,body.janus #updateResumeCtaFooter{height:auto !important}body.janus #resumeCtaFooter>div,body.janus #updateResumeCtaFooter>div{position:static !important}body.janus #what_acdiv.acd{width:calc(100% - 126px)}body.janus .content #what_acdiv.acd{width:calc(100% - 145px)}body.janus .content #acdiv.acd{width:calc(100% - 28px)}body.janus #refineresults{width:275px !important}body.janus #what_acdiv.acd,body.janus #acdiv.acd{border:2px solid #1497ff !important;border-radius:15px;box-shadow:2px 3px 8px 0 rgba(0,0,0,0.08)}body.janus #what_acdiv.acd .aci,body.janus #acdiv.acd .aci{padding:2px 12px}body.janus #what_acdiv.acd .aci:first-child,body.janus #acdiv.acd .aci:first-child{border-radius:13px 13px 0 0}body.janus #what_acdiv.acd .aci:last-child,body.janus #acdiv.acd .aci:last-child{border-radius:0 0 13px 13px}body.janus #what_acdiv.acd .acis,body.janus #acdiv.acd .acis{background-color:#1497ff}body.janus #footer{margin-top:0 !important}body.janus #footer-legal{font-size:11px !important}body.janus #valuePropFooter.bottom-border{border-bottom:2px solid #f6f6f6}body.janus #valuePropFooter .top-border{border-top:2px solid #f6f6f6}body.janus #valuePropFooter .vpfooter-content .vpfooter-btn-section>span:first-child{font-weight:700;margin-bottom:0.25rem}body.janus #valuePropFooter .vpfooter-content .vpfooter-btn-section [dir] .icl-Button.cta_button{box-shadow:none !important;text-shadow:none !important;background-image:none !important}body.janus #valuePropFooter .vpfooter-content .vpfooter-btn-section [dir] .icl-Button.cta_button.blue{background-color:#085ff7 !important;border:2px solid #085ff7 !important;color:#fff !important;border-radius:100px !important;font-size:0.875rem;letter-spacing:0;line-height:1.25rem;font-weight:700;line-height:24px;padding:0.5rem 1.5rem !important}body.janus #valuePropFooter .vpfooter-content .vpfooter-btn-section [dir] .icl-Button.cta_button.blue:hover{background-color:#1497ff !important;border-color:#1497ff !important}body.janus #valuePropFooter .vpfooter-content .vpfooter-btn-section [dir] .icl-Button.cta_button.blue:disabled{color:#ccc !important;background-color:#fff !important;border-color:#fff !important}body.janus #valuePropFooter .vpfooter-content .vpfooter-btn-section [dir] .icl-Button.cta_button.grey{background-color:#fff !important;background-image:none !important;border:2px solid #085ff7 !important;color:#085ff7 !important;border-radius:100px !important;font-size:0.875rem;letter-spacing:0;line-height:1.25rem;font-weight:700;line-height:24px;padding:0.5rem 1.5rem !important}body.janus #valuePropFooter .vpfooter-content .vpfooter-btn-section [dir] .icl-Button.cta_button.grey:hover{color:#1497ff !important;background-color:#fff !important;border-color:#1497ff !important}body.janus #valuePropFooter .vpfooter-content .vpfooter-values .vpimages-true>span{font-size:14px}body.janus #jobsearch .inwrap #what.input_text{background:#fff !important;border:2px solid #ececec !important;border-radius:100px !important;color:#4b4b4b !important;font-family:\"Helvetica Neue\",Helvetica,Arial,\"Liberation Sans\",Roboto,Noto,sans-serif;font-size:0.75rem;letter-spacing:0;line-height:1.25rem;font-weight:400;min-height:36px !important;padding:0.5rem 1rem !important}body.janus #jobsearch .inwrap #what.input_text:focus,body.janus #jobsearch .inwrap #what.input_text:active{border-color:#1497ff !important;outline:0 !important}[dir=\"ltr\"] body.janus #jobsearch .inwrap #what.input_text{border-top-left-radius:100px !important;border-top-right-radius:0 !important;border-bottom-right-radius:0 !important;border-bottom-left-radius:100px !important;padding-right:2.3em !important}[dir=\"rtl\"] body.janus #jobsearch .inwrap #what.input_text{border-top-left-radius:0 !important;border-top-right-radius:100px !important;border-bottom-right-radius:100px !important;border-bottom-left-radius:0 !important;padding-left:2.3em !important}body.janus #jobsearch .inwrap #where.input_text{background:#fff !important;border:2px solid #ececec !important;border-radius:100px !important;color:#4b4b4b !important;font-family:\"Helvetica Neue\",Helvetica,Arial,\"Liberation Sans\",Roboto,Noto,sans-serif;font-size:0.75rem;letter-spacing:0;line-height:1.25rem;font-weight:400;min-height:36px !important;padding:0.5rem 1rem !important}body.janus #jobsearch .inwrap #where.input_text:focus,body.janus #jobsearch .inwrap #where.input_text:active{border-color:#1497ff !important;outline:0 !important}[dir=\"ltr\"] body.janus #jobsearch .inwrap #where.input_text{border-top-left-radius:0 !important;border-top-right-radius:100px !important;border-bottom-right-radius:100px !important;border-bottom-left-radius:0 !important;padding-right:2.5em !important}[dir=\"rtl\"] body.janus #jobsearch .inwrap #where.input_text{border-top-left-radius:100px !important;border-top-right-radius:0 !important;border-bottom-right-radius:0 !important;border-bottom-left-radius:100px !important;padding-left:2.5em !important}body.janus .recJobs .viewJobRec a:after,body.janus .recJobs .sjr .ita-inline-job:after{background-position:left center;background-repeat:no-repeat;background-size:contain;content:'';display:block;position:absolute}body.janus .content #recPromoDisplay a,body.janus .recJobs .viewJobRec a:after,body.janus .recJobs .sjr .ita-inline-job:after,body.janus #jobsearch .sl,body.janus #gajui a,body.janus .srchlst_wrap .srchlst .rsi a,body.janus #promo_link a,body.janus #refineresultscol #recPromoDisplay:after,body.janus #populartable td a{background-image:url(\"data:image/svg+xml,%3Csvg xmlns='http://www.w3.org/2000/svg' viewBox='3 3 19 19' width='16' height='16'%3E%3Cg%3E%3Cpath fill='#CCC' d='M10 6L8.59 7.41 13.17 12 8.59 16.59 10 18l6-6Z'/%3E%3C/g%3E%3C/svg%3E\");background-repeat:no-repeat}body.janus #bviewrecs a,body.janus #bviewmorerecs a,body.janus .content #recPromoDisplay a{background-position:calc(101% - 1px) center}body.janus #promo_link a,body.janus .srchlst_wrap .srchlst .rsi a{background-position:98% center}body.janus #populartable td a{background-position:98% 52%;background-size:14px 14px}body.janus .recJobs .viewJobRec a:after,body.janus .recJobs .sjr .ita-inline-job:after{background-position:right center;width:18px;height:100%;top:0;right:8px;bottom:0}body.janus #refineresultscol #recPromoDisplay{position:relative}body.janus #refineresultscol #recPromoDisplay:after{background-position:right center;top:2px;right:100px;bottom:0;width:14px}body.janus #jobsearch .inwrap #where,body.janus #jobsearch .inwrap #what{padding-right:34px !important}body.janus #jobsearch td.npl .inwrap{position:relative}body.janus #jobsearch td.npl:nth-child(1) .inwrap:after,body.janus #jobsearch td.npl:nth-child(2) .inwrap:after{background-position:left center;background-repeat:no-repeat;background-size:contain;content:'';display:block;position:absolute}body.janus #jobsearch td.npl:nth-child(1) .inwrap:after{background-image:url(\"data:image/svg+xml;base64,PHN2ZyB4bWxucz0iaHR0cDovL3d3dy53My5vcmcvMjAwMC9zdmciIHZpZXdCb3g9IjAgMCAyMSAyMCI+PHRpdGxlPkFzc2V0IDE8L3RpdGxlPjxwYXRoIGQ9Ik0yMSAxOC42MmwtNC41Ni00LjU2YTkuMSA5LjEgMCAxIDAtMS4yOCAxLjQ4TDE5LjYyIDIwek05IDE2YTcgNyAwIDEgMSA3LTcgNyA3IDAgMCAxLTcgN3oiIGRhdGEtbmFtZT0iTGF5ZXIgMSIvPjwvc3ZnPg==\")}[dir=\"ltr\"] body.janus #jobsearch td.npl:nth-child(1) .inwrap:after{width:16px;height:16px;top:11px;right:14px}[dir=\"rtl\"] body.janus #jobsearch td.npl:nth-child(1) .inwrap:after{width:16px;height:16px;top:11px;left:14px}body.janus #jobsearch td.npl:nth-child(2) .inwrap:after{background-image:url(\"data:image/svg+xml;base64,PHN2ZyB4bWxucz0iaHR0cDovL3d3dy53My5vcmcvMjAwMC9zdmciIHdpZHRoPSIxOCIgaGVpZ2h0PSIyNyIgdmlld0JveD0iMCAwIDE4IDI3Ij48ZyBmaWxsPSJub25lIiBmaWxsLXJ1bGU9ImV2ZW5vZGQiPjxwYXRoIHN0cm9rZT0iIzAwMCIgc3Ryb2tlLXdpZHRoPSIyIiBkPSJNOSAyNC43MmM1LjMzLTcuNTQgOC0xMi44NCA4LTE1LjcyIDAtNC40Mi0zLjU4LTgtOC04UzEgNC41OCAxIDljMCAyLjg4IDIuNjYgOC4xOCA4IDE1LjcyeiIvPjxjaXJjbGUgY3g9IjkiIGN5PSI5IiByPSIzIiBmaWxsPSIjMDAwIi8+PC9nPjwvc3ZnPg==\")}[dir=\"ltr\"] body.janus #jobsearch td.npl:nth-child(2) .inwrap:after{width:16px;height:16px;top:11px;right:14px}[dir=\"rtl\"] body.janus #jobsearch td.npl:nth-child(2) .inwrap:after{width:16px;height:16px;top:11px;left:14px}body.janus #resumePromo .picard-ico{background-image:url(\"data:image/svg+xml;base64,PHN2ZyB4bWxucz0iaHR0cDovL3d3dy53My5vcmcvMjAwMC9zdmciIHZpZXdCb3g9IjAgMCAyMSAyNCI+PHRpdGxlPmljb25fZGVjb3JhdGl2ZS1wcm9maWxlPC90aXRsZT48cGF0aCBkPSJNMTAuNSAyYTQgNCAwIDEgMS00IDQgNCA0IDAgMCAxIDQtNHptMCAxMGE2IDYgMCAxIDAtNi02IDYgNiAwIDAgMCA2IDZ6TTIuNjMgMjJsMS40Ni01Ljg5QTEuMzYgMS4zNiAwIDAgMSA1LjM0IDE1aC4zNmw0LjgxIDQuNzFMMTUuMzIgMTVoLjM2YTEuMzUgMS4zNSAwIDAgMSAxLjIyIDEuMTFMMTguMzkgMjJ6bTExLjI0LTdsLTMuMzcgMy4yOUw3LjE1IDE1em01IC42MkEzLjM3IDMuMzcgMCAwIDAgMTUuNjYgMTNINS4zNGEzLjM3IDMuMzcgMCAwIDAtMy4yIDIuNjJMMCAyNGgyMXoiIGRhdGEtbmFtZT0iTGF5ZXIgMSIvPjwvc3ZnPg==\");background-size:16px 16px;width:16px;height:16px}body.janus .rbHeader .ws_bold,body.janus #radius_update label,body.janus .rbHeader,body.janus #recentsearches .rsh,body.janus #recPromoDisplay a,body.janus #refineresults span[role=\"heading\"]+div{font-size:14px;font-weight:500;color:#000 !important}body.janus #recPromoDisplay a{color:#2164f3 !important}body.janus .content #recPromoDisplay{margin-bottom:2em !important}body.janus .rbOpen .more_link{margin-top:-8px;margin-bottom:24px}body.janus #refineresults .more_link,body.janus #recentsearches .clearRSControl .sl,body.janus .result-link-bar-container .sl,body.janus .sl.ws_label{font-size:12px;color:#2164f3;font-weight:400}body.janus .row .new{color:#f60 !important}body.janus .nji.recDecoration,body.janus .rsList .nji,body.janus .rsi .nji,body.janus .row .new,body.janus .content #recPromoDisplay .nji.recDecoration,body.janus #recPromoDisplayPageLast .nji.recDecoration,body.janus #serpRecommendations #bviewmorerecs .nji.recDecoration,body.janus #resultsCol #bviewrecs .nji.recDecoration,body.janus #resultsCol #bviewmorerecs .nji.recDecoration,body.janus #job-content #bviewmorerecs .nji.recDecoration{color:#f60 !important;font-size:12px;line-height:1}body.janus #refineresultscol #recPromoDisplay .nji.recDecoration{color:#f60 !important;display:inline-block;font-weight:400 !important;line-height:1 !important;padding:0 4px 1px;position:relative}body.janus #jobsearch .inwrap #what.input_text{background:#fff !important;border:2px solid #ececec !important;border-radius:100px !important;color:#4b4b4b !important;font-family:\"Helvetica Neue\",Helvetica,Arial,\"Liberation Sans\",Roboto,Noto,sans-serif;font-size:0.75rem;letter-spacing:0;line-height:1.25rem;font-weight:400;min-height:36px !important;padding:0.5rem 1rem !important}body.janus #jobsearch .inwrap #what.input_text:focus,body.janus #jobsearch .inwrap #what.input_text:active{border-color:#1497ff !important;outline:0 !important}[dir=\"ltr\"] body.janus #jobsearch .inwrap #what.input_text{border-top-left-radius:100px !important;border-top-right-radius:0 !important;border-bottom-right-radius:0 !important;border-bottom-left-radius:100px !important;padding-right:2.3em !important}[dir=\"rtl\"] body.janus #jobsearch .inwrap #what.input_text{border-top-left-radius:0 !important;border-top-right-radius:100px !important;border-bottom-right-radius:100px !important;border-bottom-left-radius:0 !important;padding-left:2.3em !important}body.janus #jobsearch .inwrap #where.input_text{background:#fff !important;border:2px solid #ececec !important;border-radius:100px !important;color:#4b4b4b !important;font-family:\"Helvetica Neue\",Helvetica,Arial,\"Liberation Sans\",Roboto,Noto,sans-serif;font-size:0.75rem;letter-spacing:0;line-height:1.25rem;font-weight:400;min-height:36px !important;padding:0.5rem 1rem !important}body.janus #jobsearch .inwrap #where.input_text:focus,body.janus #jobsearch .inwrap #where.input_text:active{border-color:#1497ff !important;outline:0 !important}[dir=\"ltr\"] body.janus #jobsearch .inwrap #where.input_text{border-top-left-radius:0 !important;border-top-right-radius:100px !important;border-bottom-right-radius:100px !important;border-bottom-left-radius:0 !important;padding-right:2.5em !important}[dir=\"rtl\"] body.janus #jobsearch .inwrap #where.input_text{border-top-left-radius:100px !important;border-top-right-radius:0 !important;border-bottom-right-radius:0 !important;border-bottom-left-radius:100px !important;padding-left:2.5em !important}body.janus div#g_nav #p_nav{margin-left:20px}body.janus div#g_nav #u_nav{margin-right:18px}body.janus #refineresultscol,body.janus #resultsCol,body.janus #g_nav,body.janus #footerWrapper,body.janus #footer{background-color:#fff}body.janus #refineresultscol .rsList{margin:0 !important}body.janus #refineresultscol .rsList .nji{color:#f60 !important;font-weight:400 !important}body.janus #refineresults{box-sizing:border-box;padding-left:0;padding-right:0}body.janus #refineresults #recPromoDisplay,body.janus #refineresults>div{color:#2d2d2d;padding-left:20px;padding-right:17px}body.janus #refineresults #radius_update{padding-left:20px;padding-right:17px}body.janus #refineresults>div.rbSection{margin-left:4px}body.janus #refineresults>div.rbSection,body.janus #refineresults #radius_update,body.janus #refineresults #recPromoDisplay{margin-bottom:24px;margin-left:3px}body.janus #refineresults span[role=\"heading\"]+div{font-size:14px;font-weight:500;color:#767676;white-space:nowrap;margin-left:3px !important}body.janus #refineresults span[role=\"heading\"]+div .no-wrap{display:block;font-size:12px;margin-top:4px;margin-bottom:24px}body.janus #refineresults span[role=\"heading\"]+div .no-wrap b,body.janus #refineresults span[role=\"heading\"]+div .no-wrap a{font-weight:500 !important}body.janus #refineresults span[role=\"heading\"]+div .no-wrap b{color:#2d2d2d !important}body.janus #refineresults span[role=\"heading\"]+div .no-wrap a:visited{color:#2164f3}body.janus #refineresults h1{padding:0 16px}body.janus #refineresults h1 font{font-size:10px !important;font-weight:400 !important;color:#767676}body.janus #footer{margin:0;padding:1em 24px}body.janus #footerWrapper{width:100%;position:absolute;left:0;right:0}body.janus #resultsCol #bjobalerts{margin-bottom:0 !important}body.janus .footerJaPromoBubble,body.janus #bjobalertswrapper .jaPromoUi{margin-left:16px;margin-right:16px}body.janus #resultsCol #bjobalerts.jaPromoUi{margin-bottom:24px !important}body.janus #branding-td{width:253px !important}body.janus table[role=banner]{width:100%;background-color:#fff;padding-top:24px;padding-bottom:16px;border-bottom:2px solid #f6f6f6}[dir=\"ltr\"] body.janus #refineresultscol,[dir=\"ltr\"] body.janus #resultsCol{border-right:2px solid #f6f6f6}[dir=\"rtl\"] body.janus #refineresultscol,[dir=\"rtl\"] body.janus #resultsCol{border-left:2px solid #f6f6f6}body.janus #resultsCol .row,body.janus #resultsCol .related_searches,body.janus #resultsCol .dupetext,body.janus #footer{border-top:2px solid #f6f6f6}body.janus .rbOpen .more_link{margin-left:2px;margin-top:0 !important}body.janus #refineresultscol #recentsearches{margin-left:0 !important;margin-bottom:24px;padding-left:24px}body.janus #refineresultscol{position:relative}body.janus #refineresultscol #refineresults{padding-top:8px}body.janus #refineresultscol .no-wrap a{color:#2164f3}body.janus #refineresultscol .clearRSControl{margin-bottom:24px}body.janus #radius_update select{padding:4px;width:100%;font-size:12px !important;margin-top:4px}body.janus #resultsCol .row{padding:24px 16px;position:relative;margin-bottom:0}body.janus #resultsCol .row .sjcl,body.janus #resultsCol .row .snip .summary{margin-right:50px}body.janus #resultsCol .row .snip .summary,body.janus #resultsCol .row .ita-snippet{display:block;margin-top:4px !important;margin-bottom:16px}body.janus #resultsCol .row .company,body.janus #resultsCol .row .location,body.janus #resultsCol .row .slNoUnderline,body.janus #resultsCol .row .snip .summary,body.janus #resultsCol .row .ita-snippet,body.janus .result div.row table tr td.snip{font-size:14px}body.janus .div.row table tr td.snip{line-height:1.5 !important}body.janus #resultsCol .jobtitle{margin-bottom:2px;font-weight:700}body.janus #resultsCol h2.jobtitle{margin-right:50px;text-overflow:ellipsis}body.janus #resultsCol h2.jobtitle a{text-decoration:underline !important}body.janus #resultsCol .jobtitle a,body.janus #resultsCol .jobtitle{color:#2164f3 !important}body.janus #resultsCol .jobtitle a:visited,body.janus #resultsCol .jobtitle:visited{color:#767676 !important}body.janus .row .iaP .iaLabel{font-weight:500;color:#f60 !important}body.janus .result .company,body.janus [data-tn-element=reviewStars]:link,body.janus [data-tn-element=reviewStars] .slNoUnderline,body.janus .result .snip,body.janus .result .JobTags-list,body.janus .result .summary,body.janus #resultsCol #bjobalerts,body.janus #resultsCol #primePromo,body.janus .rbOpen .more_link span{color:#4b4b4b !important;width:auto}body.janus .result .experience{font-size:0.75rem;line-height:1.33}body.janus .result .experienceHeader{color:#6f6f6f}body.janus .result .experienceList{color:#4b4b4b}body.janus .result .company a,body.janus .result .turnstileLink .slNoUnderline{color:#2d2d2d !important;font-weight:500}body.janus .result .company a{color:#000 !important;font-weight:500}body.janus .result .turnstileLink .slNoUnderline{font-weight:400 !important}body.janus .result .more-link,body.janus .result .more_loc{font-size:11px;color:#2164f3}body.janus #resultsCol .related_searches,body.janus #resultsCol .ws_content,body.janus #resultsCol .more_actions,body.janus #resultsCol .dupetext,body.janus #resultsCol .showing{font-size:12px}body.janus #resultsCol .related_searches{padding:24px 16px 0;margin-bottom:0}body.janus #resultsCol .related_searches b{font-weight:700}body.janus #resultsCol .related_searches a{color:#000;border-right:0}body.janus #resultsCol .related_searches .rightBorder{border-right:0;margin-right:0;padding-right:0}body.janus #resultsCol .related_searches .rightBorder:after{content:'-';margin-left:3px;margin-right:3px}body.janus #resultsCol .related_searches .related_searches_list{margin-bottom:24px}body.janus #resultsCol #resumePromo{color:#4b4b4b;margin:0;padding:24px 16px;padding-top:0 !important;margin-top:12px !important;position:relative;font-weight:700}body.janus #resultsCol #resumePromo .new-ico{display:none}body.janus #resultsCol #resumePromo .resume-promo-link{color:#2164f3}body.janus #resultsCol #resumePromo .resume-promo-link b{font-weight:700}body.janus #resultsCol .ws_content,body.janus #resultsCol .more_actions{background:#ececec;border:0 !important;margin-top:16px}body.janus #resultsCol .ws_content a,body.janus #resultsCol .more_actions a{color:#2164f3}body.janus #resultsCol .dupetext{color:#4b4b4b;margin-bottom:0;margin-top:0 !important;padding:16px}body.janus #resultsCol .dupetext a{color:#2164f3;font-weight:700}body.janus #resultsCol #recPromoDisplayPageLast{padding:0 12px;margin:0}body.janus #resultsCol #recPromoDisplayPageLast a{margin-left:4px;color:#2164f3 !important}body.janus #resultsCol .jaui{background-color:#fff;border-top:2px solid #f6f6f6;border-bottom:2px solid #f6f6f6;padding:16px}body.janus #resultsCol .jaui .ico{display:none}body.janus #resultsCol .showing{color:#2d2d2d;margin-bottom:0 !important;padding:0 16px 8px !important;margin-top:8px !important;font-weight:500}body.janus #resultsCol .showing b,body.janus #resultsCol .showing a{font-weight:500 !important}body.janus #resultsCol .showing b{color:#2d2d2d !important}body.janus #resultsCol .showing a{color:#2164f3}body.janus #resultsCol .showing a:visited{color:#2164f3}body.janus #resultsCol #searchCount{margin:0 !important;color:#767676;font-size:12px}body.janus #resultsCol .resultsTop{padding:0;margin-bottom:0}body.janus #resultsCol .pagination{border-bottom:2px solid #f6f6f6 !important;margin-top:-2px !important;margin-bottom:0 !important;padding:24px 16px 32px;color:#767676;font-size:12px;font-weight:500;text-align:left;margin-right:-28px}body.janus #resultsCol .pagination .pn,body.janus #resultsCol .pagination .np,body.janus #resultsCol .pagination b{font-size:16px;font-weight:700}body.janus #resultsCol .pagination b{color:#000;margin-left:4px}body.janus #resultsCol .pagination a{margin-left:4px}body.janus #resultsCol .pagination a,body.janus #resultsCol .pagination a .pn{color:#2164f3 !important}body.janus .lastRow+div+div{margin-bottom:0 !important}body.janus #footer #secondary_nav .gaj_heading{margin-left:-1em;font-weight:700}body.janus #footer #secondary_nav a{color:#000}body.janus #footer #secondary_nav .origin_site_link a{color:#2164f3}body.janus #footer #secondary_nav,body.janus #footer #footer-legal{text-align:left;font-size:11px}body.janus #resultsCol .footerJaPromoBubble{margin-top:0 !important}body.janus #resultsCol #primePromo,body.janus #resultsCol #searchCount,body.janus #resultsCol .messageContainer{padding-left:16px;padding-right:16px}body.janus #resultsCol #primePromo a{color:#2164f3}body.janus #resultsCol .messageContainer .message{color:#000;margin:0;padding:8px 0}body.janus #resultsCol{position:relative;margin-top:8px !important;padding-right:0 !important}body.janus #resultsCol .messageContainer{border-bottom:2px solid #f6f6f6;margin-top:-2px}body.janus #resultsCol .no_results{padding-left:0;width:auto !important}body.janus #resultsCol .bad_query>h2,body.janus #resultsCol #suggested_queries,body.janus #resultsCol #search_suggestions{padding:12px 16px}body.janus .no_results{padding-left:0;width:auto !important}body.janus .no_results .bad_query div{width:auto !important}body.janus .no_results #suggested_queries{border-bottom:2px solid #f6f6f6}body.janus .no_results hr{display:none}body.janus .no_results #recommendations{font-size:14px;font-weight:700;padding:16px 16px 10px}body.janus .no_results #recommendations .row{margin-left:-16px;margin-right:-16px;font-weight:400}body.janus .no_results #recommendations .row.lastRow{border-bottom:2px solid #f6f6f6}body.janus .no_results #recommendations #bviewmorerecs a{color:#000 !important}body.janus #auxCol{padding-top:24px;padding-left:24px}body.janus #auxCol .jaui,body.janus #auxCol #femp_list,body.janus #univsrch-salary-v3 #univsrch-salary-info,body.janus .cmp_display .cmp_info,body.janus .rezcta_display .rezcta_info,body.janus .rightRail{border:0 !important;border-top:6px solid #ffca4f !important;background-color:#fff;box-shadow:none !important;color:#767676;font-size:12px;font-weight:400}body.janus #auxCol .ja_rec_confirm_ui_tst{border:0;border-top:6px solid #ffca4f !important}body.janus #auxCol #tjobalerts,body.janus #auxCol #jobalerts{border-radius:0 !important}body.janus #auxCol .ja_rec_confirm_ui_tst,body.janus #tjobalerts .jobalertlabel,body.janus #jobalerts .jobalertlabel,body.janus #femp_list .femp_header,body.janus #univsrch-salary-v3 #univsrch-salary-title{padding:12px 16px !important;border-bottom:2px solid #f6f6f6;background-color:#fff;font-size:12px;color:#4b4b4b;font-weight:500}body.janus #auxCol .ja_rec_confirm_ui_tst h4,body.janus #auxCol .ja_rec_action_text{font-size:12px;color:#4b4b4b}body.janus #tjobalerts.jaui .member,body.janus #jobalerts.jaui .member,body.janus #femp_list .femp_header,body.janus #univsrch-salary-v3 #univsrch-salary-title{color:#4b4b4b !important;font-weight:500}body.janus #tjobalerts .jobalertlabel,body.janus #jobalerts .jobalertlabel,body.janus #auxCol .ja_rec_confirm_ui_tst h4,body.janus #univsrch-salary-v3 #univsrch-salary-eval,body.janus #femp_list .femp_header,body.janus #univsrch-salary-v3 #univsrch-salary-title{margin:0}body.janus #auxCol .jaui{padding:0}body.janus #ja_active_check,body.janus #tjobalerts .jobalertlabel .ico,body.janus #jobalerts .jobalertlabel .ico{display:none}body.janus #jobalerts #jobalertmessage,body.janus #tjobalerts #tjobalertmessage{padding-top:0 !important}body.janus #tjobalerts #tjobalertmessage,body.janus #jobalerts #jobalertmessage,body.janus #femp_list .femp_item,body.janus #tjobalertswrapper .ja_rec_ui_tst_box,body.janus #jobalertswrapper .ja_rec_ui_tst_box,body.janus #univsrch-salary-v3 #univsrch-salary-eval{background-color:#fff;border:0;color:#767676;font-size:12px;font-weight:400;line-height:1.5;padding:16px}body.janus #tjobalerts #tjobalertmessage a,body.janus #tjobalerts #tjobalertmessage a.jobtitle,body.janus #jobalerts #jobalertmessage a,body.janus #jobalerts #jobalertmessage a.jobtitle,body.janus #femp_list .femp_item a,body.janus #femp_list .femp_item a.jobtitle,body.janus #tjobalertswrapper .ja_rec_ui_tst_box a,body.janus #tjobalertswrapper .ja_rec_ui_tst_box a.jobtitle,body.janus #jobalertswrapper .ja_rec_ui_tst_box a,body.janus #jobalertswrapper .ja_rec_ui_tst_box a.jobtitle,body.janus #univsrch-salary-v3 #univsrch-salary-eval a,body.janus #univsrch-salary-v3 #univsrch-salary-eval a.jobtitle{color:#2164f3 !important;font-weight:500;font-size:12px}body.janus #jobalerts #jobalerttext:not(:empty),body.janus #tjobalerts #tjobalerttext:not(:empty){padding-top:16px;padding-left:16px;padding-right:16px;display:block}body.janus #univsrch-salary-v3 #univsrch-salary-rates>#univsrch-salary-currentsalary.v3{color:#000;font-size:16px}body.janus #jobalerts #jobalertsending,body.janus #tjobalerts #tjobalertsending{margin:16px;display:block}body.janus .jaui .ws_label,body.janus .jaui .ws_label_open,body.janus .jaui .member{color:#2164f3}body.janus .related_searches_right-rail{border:0 !important;border-top:6px solid #ffca4f !important;background-color:#fff;box-shadow:none !important;color:#767676;font-size:12px;font-weight:400;margin-top:2em;width:inherit}body.janus .related_searches_right-rail_title{padding:12px 16px !important;border-bottom:2px solid #f6f6f6;background-color:#fff;font-size:12px;color:#4b4b4b;font-weight:500}body.janus .related_searches_right-rail_list{background-color:#fff;border:0;color:#767676;font-size:12px;font-weight:400;line-height:1.5;padding:16px;padding:16px 16px 20px;margin:0}body.janus .related_searches_right-rail_list .related_searches_right-rail_list-item{list-style-type:none}body.janus .related_searches_right-rail_list .related_searches_right-rail_list-item_with-border{display:inline}body.janus .related_searches_right-rail_list .related_searches_right-rail_list-item_with-border:not(last-child):after{content:'-';margin-left:3px;margin-right:3px}body.janus #jobsearch{padding-left:24px !important}body.janus #jobsearch .label,body.janus #jobsearch .label label,body.janus .lav .jsf .label,body.janus .result .location,body.janus #resultsCol .more_actions ul li .mat{color:#767676}body.janus .footer{height:50px;border-top-width:2px;padding:9px 0}body.janus #footerMainLinks{margin:10px 0 -5px}body.janus #resultsBody .indeed-apply-button{background-color:#fff !important;background-image:none !important;border:2px solid #ececec !important;color:#085ff7 !important;border-radius:100px !important;font-size:0.875rem;letter-spacing:0;line-height:1.25rem;font-weight:700;line-height:24px;padding:0.5rem 1.5rem !important;background-image:none !important;padding:0 !important;box-shadow:none !important;height:auto !important;border-color:#ececec !important}body.janus #resultsBody .indeed-apply-button:hover{color:#1497ff !important;background-color:#fff !important;border-color:#ececec !important}body.janus #resultsBody .indeed-apply-button .indeed-apply-button-inner{background:#fff;background-image:none !important;border:2px solid transparent;border-radius:100px !important;box-shadow:none !important;box-sizing:border-box;color:#085ff7;max-width:100% !important;text-shadow:none !important}body.janus #resultsBody .indeed-apply-button:hover{border-color:#1497ff !important;background-color:none !important;background-image:none !important}body.janus #resultsBody .indeed-apply-button:hover .indeed-apply-button-inner{background-image:none !important}body.janus #resultsBody .indeed-apply-button:hover .indeed-apply-button-label{color:#1497ff}body.janus #resultsBody .indeed-apply-button .indeed-apply-button-label{color:#085ff7;line-height:25px;padding:3px 14px;border-radius:0 !important}body.janus #alertemail,body.janus #talertemail,body.janus #balertemail{background:#fff !important;border:2px solid #ececec !important;border-radius:100px !important;color:#4b4b4b !important;font-family:\"Helvetica Neue\",Helvetica,Arial,\"Liberation Sans\",Roboto,Noto,sans-serif;font-size:0.75rem;letter-spacing:0;line-height:1.25rem;font-weight:400;min-height:36px !important;padding:0.5rem 1rem !important}body.janus #alertemail:focus,body.janus #alertemail:active,body.janus #talertemail:focus,body.janus #talertemail:active,body.janus #balertemail:focus,body.janus #balertemail:active{border-color:#1497ff !important;outline:0 !important}body.janus #resultsCol #balertemail{border-top-left-radius:100px !important;border-top-right-radius:0 !important;border-bottom-right-radius:0 !important;border-bottom-left-radius:100px !important;margin-right:-5px}body.janus #resultsCol #balertsubmit{border-top-left-radius:0 !important;border-top-right-radius:100px !important;border-bottom-right-radius:100px !important;border-bottom-left-radius:0 !important;position:relative;top:0 !important;left:-2px}body.janus #balertsubmit,body.janus #talertsubmit,body.janus #alertsubmit{background-color:#fff !important;background-image:none !important;border:2px solid #ececec !important;color:#085ff7 !important;border-radius:100px !important;font-size:0.75rem;letter-spacing:0;line-height:1.25rem;font-weight:700;line-height:24px;padding:4px 1.5rem !important;min-height:35px;min-width:100px}body.janus #balertsubmit:hover,body.janus #talertsubmit:hover,body.janus #alertsubmit:hover{color:#1497ff !important;background-color:#fff !important;border-color:#ececec !important}body.janus #jobalertmessage .indeed-serp-button,body.janus #tjobalertmessage .indeed-serp-button,body.janus #balertsubmit .indeed-serp-button,body.janus #tjobalertmessage span,body.janus #jobalertmessage span,body.janus #bjobalertmessage span{box-shadow:none !important;text-shadow:none !important;border-radius:0 !important;border:0 !important;font-weight:400 !important;background:none !important;height:auto !important}body.janus .jobalertform-terms-outer-wrapper .jobalertform-terms-inner-wrapper{background:#fff !important;height:auto !important}body.janus #bjobalertmessage .indeed-serp-button{margin-left:4px;margin-top:-1px}body.janus #pageContent .relatedQuerySpacing{border:0;border-bottom:2px solid #f6f6f6;padding:16px;margin:0}body.janus #pageContent .relatedQuerySpacing .grayText{color:#4b4b4b;font-size:12px;margin-bottom:2px}body.janus .rbOpen .rbHeader{padding-left:2px !important}body.janus .rsList li{color:#767676;margin:9px 0 !important}body.janus .rsList li a{color:#2164f3 !important;font-size:12px}body.janus .rbList{margin-left:2px !important;margin-bottom:16px}body.janus .rbList li{position:relative;color:#4b4b4b !important;margin:8px 0 !important;color:#6f6f6f !important}[dir=\"ltr\"] body.janus .rbList li{text-align:right}[dir=\"rtl\"] body.janus .rbList li{text-align:left}body.janus .rbList li a{overflow:hidden;text-overflow:ellipsis;color:#2d2d2d !important;font-weight:400;font-size:12px;max-width:75%}[dir=\"ltr\"] body.janus .rbList li a{float:left;text-align:left;padding-right:12px}[dir=\"rtl\"] body.janus .rbList li a{float:right;text-align:right;padding-left:12px}body.janus #bviewrecs,body.janus #bviewmorerecs{align-items:baseline;display:-ms-flexbox;display:flex;justify-content:space-around;-ms-flex-order:1;order:1}body.janus #bviewrecs .recDecoration,body.janus #bviewmorerecs .recDecoration{display:none;-ms-flex-order:4;order:4}body.janus #bviewrecs a,body.janus #bviewmorerecs a{padding:0 1em;-ms-flex-order:2;order:2;flex-grow:2}body.janus #bviewrecs .nji.recDecoration,body.janus #bviewmorerecs .nji.recDecoration{float:none;-ms-flex-order:3;order:3;position:relative;display:flex;margin:0;font-weight:400}body.janus #bviewrecs .nji.recDecoration::after,body.janus #bviewmorerecs .nji.recDecoration::after{display:block;padding-left:12px;content:url(\"data:image/svg+xml,%3Csvg xmlns='http://www.w3.org/2000/svg' viewBox='3 3 19 19' width='16' height='16'%3E%3Cg%3E%3Cpath fill='#CCC' d='M10 6L8.59 7.41 13.17 12 8.59 16.59 10 18l6-6Z'/%3E%3C/g%3E%3C/svg%3E\");margin-top:-1px}[dir=\"rtl\"] body.janus #bviewrecs .nji.recDecoration::after,[dir=\"rtl\"] body.janus #bviewmorerecs .nji.recDecoration::after{transform:rotate(180deg);margin-top:-3px}body.janus #serpRecommendations{border-top:2px solid #f6f6f6}body.janus #serpRecommendations .brdr{display:none}body.janus #serpRecommendations #bviewmorerecs{border-top:2px solid #f6f6f6;padding:16px 16px 2px}body.janus #serpRecommendations #bviewmorerecs a{color:#000 !important;font-size:16px;font-weight:500 !important}body.janus #serpRecommendations .recTitle{font-size:16px;font-weight:500;padding:0 16px}body.janus #bviewrecs{margin-top:0 !important}body.janus #popover-foreground{border-top:6px solid #ffca4f}body.janus #popover-foreground #popover-form-container{padding-top:0}body.janus #popover-foreground .popover-heading-container{border-bottom:2px solid #f6f6f6;margin:-10px -25px 25px;padding-bottom:15px}body.janus #popover-foreground .popover-heading-container .envelope{display:none}body.janus #popover-foreground #popover-x{margin-top:-18px}body.janus #popover-foreground .popover-heading{margin-left:25px;margin-right:25px;font-size:14px}body.janus #popover-foreground .popover-input{border:2px solid #ccc;border-radius:100px;padding:6px 15px;font-size:14px;box-sizing:border-box;height:37px;width:100%}body.janus #popover-foreground .popover-small.caption{font-size:12px;color:#767676;padding-bottom:4px;display:block}body.janus #popover-foreground .cleanuptst-indeed-serp-button{box-shadow:none !important;text-shadow:none !important;border-radius:0 !important;border:0 !important;font-weight:400 !important;background-image:none !important;background-color:#085ff7 !important;border:2px solid #085ff7;border-radius:100px !important;color:#fff;font-weight:500 !important;padding:2px 24px;font-size:14px}body.janus #popover-foreground .cleanuptst-indeed-serp-button:hover{background-color:#1497ff !important;border-color:#1497ff !important}body.janus #popover-foreground #popover-close-link{font-weight:400 !important}body.janus #postJobClickCta [dir] .icl-Button.icl-Button--primary.cta_button.blue{box-shadow:none !important;text-shadow:none !important;background-image:none !important;background-color:#085ff7 !important;border:2px solid #085ff7 !important;color:#fff !important;border-radius:100px !important;font-size:0.875rem;letter-spacing:0;line-height:1.25rem;font-weight:700;line-height:24px;padding:0.5rem 1.5rem !important}body.janus #postJobClickCta [dir] .icl-Button.icl-Button--primary.cta_button.blue:hover{background-color:#1497ff !important;border-color:#1497ff !important}body.janus #postJobClickCta [dir] .icl-Button.icl-Button--primary.cta_button.blue:disabled{color:#ccc !important;background-color:#fff !important;border-color:#fff !important}body.janus .univsrch-ci-logo{height:98px !important}body.janus .ja_col .ja_rec_ico_white{background-image:url(\"data:image/svg+xml;base64,PD94bWwgdmVyc2lvbj0iMS4wIiBlbmNvZGluZz0iVVRGLTgiPz48c3ZnIHdpZHRoPSIyNHB4IiBoZWlnaHQ9IjE4cHgiIHZpZXdCb3g9IjAgMCAyNCAxOCIgdmVyc2lvbj0iMS4xIiB4bWxucz0iaHR0cDovL3d3dy53My5vcmcvMjAwMC9zdmciIHhtbG5zOnhsaW5rPSJodHRwOi8vd3d3LnczLm9yZy8xOTk5L3hsaW5rIj4gICAgICAgIDx0aXRsZT5JY29uL0RlY29yYXRpdmUvU3Vic2NyaXB0aW9ucy9NRDwvdGl0bGU+ICAgIDxkZXNjPkNyZWF0ZWQgd2l0aCBTa2V0Y2guPC9kZXNjPiAgICA8ZGVmcz48L2RlZnM+ICAgIDxnIGlkPSJEUy0yNjItLS1JY29ucy1Db21wb25lbnQiIHN0cm9rZT0ibm9uZSIgc3Ryb2tlLXdpZHRoPSIxIiBmaWxsPSJub25lIiBmaWxsLXJ1bGU9ImV2ZW5vZGQiIHRyYW5zZm9ybT0idHJhbnNsYXRlKC00MTcuMDAwMDAwLCAtMTgxNC4wMDAwMDApIj4gICAgICAgIDxnIGlkPSJJY29uL0RlY29yYXRpdmUvU3Vic2NyaXB0aW9ucy9NRCIgdHJhbnNmb3JtPSJ0cmFuc2xhdGUoNDE3LjAwMDAwMCwgMTgxMS4wMDAwMDApIj4gICAgICAgICAgICA8cG9seWdvbiBpZD0iU2hhcGUiIHBvaW50cz0iMCAwIDI0IDAgMjQgMjQgMCAyNCI+PC9wb2x5Z29uPiAgICAgICAgICAgIDxwb2x5Z29uIGlkPSJGaWxsLTEiIGZpbGw9IiNGRkQzNUMiIGZpbGwtcnVsZT0iZXZlbm9kZCIgcG9pbnRzPSIwIDMuOTk5OSAxMiAxMy45MTU5IDI0IDMuOTk5OSI+PC9wb2x5Z29uPiAgICAgICAgICAgIDxwYXRoIGQ9Ik0wLDIxIEwyNCwyMSBMMjQsMyBMMCwzIEwwLDIxIFogTTIuNzc3LDUgTDIxLjIyMyw1IEwxMiwxMi43NDQgTDIuNzc3LDUgWiBNMjIsNS42MDMgTDIyLDE5IEwyLDE5IEwyLDUuNjAzIEwxMiwxNCBMMjIsNS42MDMgWiIgaWQ9IkZpbGwtMiIgZmlsbD0iIzAwMDAwMCIgZmlsbC1ydWxlPSJldmVub2RkIj48L3BhdGg+ICAgICAgICA8L2c+ICAgIDwvZz48L3N2Zz4=\");background-size:18px 12px}body.janus .rightRailAd.singleImageAd{background:#fff;border:none;padding:0 0 16px}body.janus .rightRailAd.singleImageAd .sdn{color:#767676 !important}body.janus #univsrch-sal-distribution ul>li.univsrch-sal-highlight{background-color:#ffdc7a}body.janus #univsrch-ci{padding-left:0px;margin-left:16px;margin-top:8px}body.janus #univsrch-ci .univsrch-ci-block{border:2px solid #f6f6f6;border-radius:2px;padding:8px 8px 4px;margin-right:16px}body.janus #univsrch-ci .univsrch-ci-block .univsrch-ci-logo-small{margin-right:8px}body.janus #univsrch-ci .univsrch-ci-block .univsrch-ci-ratings{margin-left:4px}body.janus #univsrch-ci .univsrch-ci-block .univsrch-ci-acme-link a{font-size:12px;line-height:1.5;margin-right:32px}body.janus #univsrch-ci #univsrch-ci-prompt{padding-top:8px;padding-bottom:8px}body.janus #wfh-prompt{font-style:italic;padding-top:8px;padding-bottom:8px;padding-left:15px}body.janus #jobsearch .inwrap #what.input_text{background:#fff !important;border:2px solid #ececec !important;border-radius:100px !important;color:#4b4b4b !important;font-family:\"Helvetica Neue\",Helvetica,Arial,\"Liberation Sans\",Roboto,Noto,sans-serif;font-size:0.75rem;letter-spacing:0;line-height:1.25rem;font-weight:400;min-height:36px !important;padding:0.5rem 1rem !important}body.janus #jobsearch .inwrap #what.input_text:focus,body.janus #jobsearch .inwrap #what.input_text:active{border-color:#1497ff !important;outline:0 !important}[dir=\"ltr\"] body.janus #jobsearch .inwrap #what.input_text{border-top-left-radius:100px !important;border-top-right-radius:0 !important;border-bottom-right-radius:0 !important;border-bottom-left-radius:100px !important;padding-right:2.3em !important}[dir=\"rtl\"] body.janus #jobsearch .inwrap #what.input_text{border-top-left-radius:0 !important;border-top-right-radius:100px !important;border-bottom-right-radius:100px !important;border-bottom-left-radius:0 !important;padding-left:2.3em !important}body.janus #jobsearch .inwrap #where.input_text{background:#fff !important;border:2px solid #ececec !important;border-radius:100px !important;color:#4b4b4b !important;font-family:\"Helvetica Neue\",Helvetica,Arial,\"Liberation Sans\",Roboto,Noto,sans-serif;font-size:0.75rem;letter-spacing:0;line-height:1.25rem;font-weight:400;min-height:36px !important;padding:0.5rem 1rem !important}body.janus #jobsearch .inwrap #where.input_text:focus,body.janus #jobsearch .inwrap #where.input_text:active{border-color:#1497ff !important;outline:0 !important}[dir=\"ltr\"] body.janus #jobsearch .inwrap #where.input_text{border-top-left-radius:0 !important;border-top-right-radius:100px !important;border-bottom-right-radius:100px !important;border-bottom-left-radius:0 !important;padding-right:2.5em !important}[dir=\"rtl\"] body.janus #jobsearch .inwrap #where.input_text{border-top-left-radius:100px !important;border-top-right-radius:0 !important;border-bottom-right-radius:0 !important;border-bottom-left-radius:100px !important;padding-left:2.5em !important}body.janus .lnav td{padding-bottom:0}body.janus .ltr #branding img{margin-left:32px !important;margin-bottom:0 !important;margin-top:10px !important}body.janus div#g_nav table{margin-top:-8px}body.janus table[role=\"banner\"]{padding-bottom:7px !important;padding-top:8px !important}body.janus #jobsearch #what_label_top,body.janus #jobsearch #where_label_top{color:#4b4b4b !important;font-size:12px !important;font-weight:500 !important;line-height:16px !important;padding-bottom:4px !important}body.janus #jobsearch .inwrap #where,body.janus #jobsearch .inwrap #what{background-color:#fff;height:36px !important}body.janus #jobsearch .inwrap #what.input_text{background:#fff !important;border:2px solid #ececec !important;border-radius:100px !important;color:#4b4b4b !important;font-family:\"Helvetica Neue\",Helvetica,Arial,\"Liberation Sans\",Roboto,Noto,sans-serif;font-size:0.75rem;letter-spacing:0;line-height:1.25rem;font-weight:400;min-height:36px !important;padding:0.5rem 1rem !important}body.janus #jobsearch .inwrap #what.input_text:focus,body.janus #jobsearch .inwrap #what.input_text:active{border-color:#1497ff !important;outline:0 !important}[dir=\"ltr\"] body.janus #jobsearch .inwrap #what.input_text{border-top-left-radius:100px !important;border-top-right-radius:0 !important;border-bottom-right-radius:0 !important;border-bottom-left-radius:100px !important;padding-right:2.3em !important}[dir=\"rtl\"] body.janus #jobsearch .inwrap #what.input_text{border-top-left-radius:0 !important;border-top-right-radius:100px !important;border-bottom-right-radius:100px !important;border-bottom-left-radius:0 !important;padding-left:2.3em !important}body.janus #jobsearch .inwrap #where.input_text{background:#fff !important;border:2px solid #ececec !important;border-radius:100px !important;color:#4b4b4b !important;font-family:\"Helvetica Neue\",Helvetica,Arial,\"Liberation Sans\",Roboto,Noto,sans-serif;font-size:0.75rem;letter-spacing:0;line-height:1.25rem;font-weight:400;min-height:36px !important;padding:0.5rem 1rem !important}body.janus #jobsearch .inwrap #where.input_text:focus,body.janus #jobsearch .inwrap #where.input_text:active{border-color:#1497ff !important;outline:0 !important}[dir=\"ltr\"] body.janus #jobsearch .inwrap #where.input_text{border-top-left-radius:0 !important;border-top-right-radius:100px !important;border-bottom-right-radius:100px !important;border-bottom-left-radius:0 !important;padding-right:2.5em !important}[dir=\"rtl\"] body.janus #jobsearch .inwrap #where.input_text{border-top-left-radius:100px !important;border-top-right-radius:0 !important;border-bottom-right-radius:0 !important;border-bottom-left-radius:100px !important;padding-left:2.5em !important}body.janus #jobsearch #what_label_bot,body.janus #jobsearch #where_label_bot,body.janus #jobsearch #what_label,body.janus #jobsearch #where_label{padding-top:4px !important}body.janus #resultsCol #primePromo,body.janus #resultsCol #resumePromo{margin-bottom:0 !important;margin-top:8px !important;padding:8px 16px !important;padding-top:0 !important;border-bottom:2px solid #f6f6f6}body.janus #refineresultscol #refineresults{padding-left:10px !important}body.janus #resultsCol .row{border-top:0 !important;padding:8px 16px !important}body.janus #resultsCol .row .snip .summary{margin-bottom:2px !important}body.janus #resultsCol .jobtitle a:visited,body.janus #resultsCol .jobtitle:visited{color:#5a38d6 !important}body.janus #resultsCol .row .snip .summary{font-size:12px !important}body.janus .result .iaP{display:block;margin-bottom:4px}body.janus .result .iaP .iaLabel{font-weight:400 !important}body.janus #resultsCol .pagination,body.janus #resultsCol .related_searches{border-top:0}body.janus .close-link.closeLink{background-image:url(\"data:image/svg+xml;base64,PHN2ZyB4bWxucz0iaHR0cDovL3d3dy53My5vcmcvMjAwMC9zdmciIHdpZHRoPSIxMiIgaGVpZ2h0PSIxMiI+PGcgZmlsbD0ibm9uZSIgZmlsbC1ydWxlPSJldmVub2RkIiBzdHJva2U9IiMwMDAiIHN0cm9rZS13aWR0aD0iMiI+PHBhdGggZD0iTTEwLjUxIDFMMSAxMC41MU0xIDFsOS41MSA5LjUxIi8+PC9nPjwvc3ZnPg==\");background-position:center;height:12px;width:12px;margin-right:12px;margin-top:12px}body.janus #resultsCol #resumePromo{padding-left:16px !important}body.janus #serpRecommendations .recTitle{position:relative;padding-left:42px !important}body.janus #serpRecommendations .recTitle:before{background-position:left center;background-repeat:no-repeat;background-size:contain;content:'';display:block;position:absolute;background-image:url(\"data:image/svg+xml;base64,PHN2ZyB4bWxucz0naHR0cDovL3d3dy53My5vcmcvMjAwMC9zdmcnIHdpZHRoPScyNCcgaGVpZ2h0PScyMicgdmlld0JveD0nMCAwIDI0IDIyJz48ZyBmaWxsPSdub25lJz48ZyB0cmFuc2Zvcm09J3RyYW5zbGF0ZSgtMzMwIC0xNzU4KXRyYW5zbGF0ZSgzMzAgMTc1OCknPjxwYXRoIGQ9J00xNy43IDE5LjlMMTYuNiAxMy41IDIxLjMgOSAxNC45IDguMSAxMiAyLjMgOS4xIDguMSAyLjcgOSA3LjQgMTMuNSA2LjMgMTkuOSAxMiAxNi45IDE3LjcgMTkuOVonIHN0eWxlPSdzdHJva2Utd2lkdGg6MjtzdHJva2U6IzAwMCcvPjxwb2x5Z29uIHBvaW50cz0nMTIgMTQuNSA5LjEgMTYgOS42IDEyLjggNy4yIDEwLjUgMTAuNSAxMCAxMiA3IDEzLjUgMTAgMTYuOCAxMC41IDE0LjQgMTIuOCAxNC45IDE2JyBmaWxsPScjRkZDQTRGJy8+PC9nPjwvZz48L3N2Zz4K\") !important;width:18px;height:18px;left:16px}body.janus #refineresultscol .more_link span{display:inline-block;overflow:hidden;white-space:nowrap}[dir=\"ltr\"] body.janus #refineresultscol .more_link span{padding-left:24px}[dir=\"rtl\"] body.janus #refineresultscol .more_link span{padding-right:24px}body.janus #refineresultscol .more_link span:before{background-position:left center;background-repeat:no-repeat;background-size:contain;content:'';display:block;position:absolute;background-image:url(\"data:image/svg+xml;base64,PHN2ZyB4bWxucz0iaHR0cDovL3d3dy53My5vcmcvMjAwMC9zdmciIHdpZHRoPSIyMCIgaGVpZ2h0PSIyMCI+PGcgZmlsbD0ibm9uZSIgZmlsbC1ydWxlPSJldmVub2RkIj48cGF0aCBmaWxsPSIjMTk1RkY3IiBkPSJNNSA5aDEwdjJINXoiLz48cGF0aCBmaWxsPSIjMTk1RkY3IiBkPSJNOSAxNVY1aDJ2MTB6Ii8+PGNpcmNsZSBjeD0iMTAiIGN5PSIxMCIgcj0iOSIgc3Ryb2tlPSIjRUNFQ0VDIiBzdHJva2Utd2lkdGg9IjIiLz48L2c+PC9zdmc+\");height:20px;width:20px;margin-top:-3px}[dir=\"ltr\"] body.janus #refineresultscol .more_link span:before{margin-left:-24px}[dir=\"rtl\"] body.janus #refineresultscol .more_link span:before{margin-right:-24px}body.janus .result-link-bar-container .result-link-bar .save-job-link{color:#2164f3 !important;font-size:12px;line-height:1.2}body.janus .result-link-bar-container{display:inline-block;color:transparent}body.janus .result-link-bar .date,body.janus .row .result-link-source,body.janus .row .sponsoredGray,body.janus .row .myjobs-serp-link,body.janus .result-link-bar a[href*='/myjobs?from=serp'],body.janus .row .sdn,body.janus .row .iaP .iaLabel,body.janus .result .more-link,body.janus .result-link-bar-container .sl{border-bottom:0 !important;color:#6f6f6f !important;display:inline-block;font-size:12px;line-height:1.167 !important}body.janus .row .iaP .iaLabel{color:#f60 !important}body.janus .iaP{display:inline-block;font-weight:400;margin-right:10px}body.janus #resultsCol .jobtitle a,body.janus #resultsCol .jobtitle{color:#000 !important;text-decoration:underline !important}body.janus #resultsCol .jobtitle a.visited,body.janus #resultsCol .jobtitle.visited{color:#5a38d6 !important}body.janus #resultsCol .jobtitle a:hover,body.janus #resultsCol .jobtitle:hover{text-decoration:none !important}body.janus #resultsCol h2.jobtitle{text-decoration:none !important}body.janus #recPromoDisplay a{color:#2164f3 !important}body.janus .row .new{border-color:#fff !important;color:#f60 !important}body.janus #refineresultscol #refineresults{padding-left:8px !important;margin-left:0px !important}body.janus #resultsCol{border-right:0 !important;padding-bottom:0 !important}body.janus #resultsCol .messageContainer{border:0 !important}body.janus .vjs-highlight:after,body.janus .vjs-highlight:before{display:none !important}body.janus #footer{border-top:0 !important}body.janus #footerWrapper{border-color:#F6F6F6 !important}body.janus #resultsCol .row.result{margin-right:0 !important;padding-left:12px !important;box-sizing:border-box !important;overflow:hidden !important;border:0px solid transparent !important}[dir=\"ltr\"] body.janus #resultsCol .row.result{border-left:4px solid transparent !important}[dir=\"rtl\"] body.janus #resultsCol .row.result{border-right:4px solid transparent !important}body.janus #resultsCol .row.result .jobtitle{margin-right:0 !important}body.janus #resultsCol .row.result .jobtitle a{display:inline-block !important;text-overflow:ellipsis}[dir=\"ltr\"] body.janus #resultsCol .row.result .sjcl,[dir=\"ltr\"] body.janus #resultsCol .row.result .summary{margin-left:0 !important;margin-right:24px !important}[dir=\"rtl\"] body.janus #resultsCol .row.result .sjcl,[dir=\"rtl\"] body.janus #resultsCol .row.result .summary{margin-right:0 !important;margin-left:24px !important}body.janus #resultsCol .row.result.vjs-highlight{background:#f6f6f6 !important;border-color:#ffca4f !important;border-bottom-color:transparent !important}[dir=\"ltr\"] body.janus #resultsCol .row.result.vjs-highlight{border-right-color:transparent !important}[dir=\"rtl\"] body.janus #resultsCol .row.result.vjs-highlight{border-left-color:transparent !important}body.janus #resultsCol .row.result:hover{border-color:transparent !important}body.janus #resultsCol .row.result:hover .jobtitle a{text-decoration:underline !important}body.janus #resultsCol .row.clickcard{border-bottom-color:transparent !important;border-right-color:transparent !important;border-top-color:transparent !important;border-left-color:transparent !important}body.janus #resultsCol .row.clickcard:hover{border-bottom-color:transparent !important;border-right-color:transparent !important;border-top-color:transparent !important;border-left-color:transparent !important}body.janus #resultsCol .row.clickcard:hover .jobtitle a{text-decoration:underline !important}body.janus #resultsCol .row.clickcard:hover{background-color:#f9f9f9 !important}body.janus #vjs-container{margin-top:24px !important;margin-bottom:24px !important;margin-left:0 !important;border:none !important}body.janus #vjs-container #vjs-header{border-top:8px solid #ffca4f !important;box-shadow:0 5px 6px -6px #000}body.janus #vjs-container #vjs-header .job-footer-button-row{margin-top:8px !important}body.janus #vjs-container #vjs-header #vjs-cmL{max-height:52px}[lang=\"en\"] body.janus #vjs-container .indeed-apply-button-container{width:48% !important;display:inline-block}body.janus #vjs-container .indeed-apply-button-placeholder{cursor:pointer}body.janus #vjs-container .indeed-apply-button,body.janus #vjs-container .indeed-apply-button-placeholder{background:transparent !important;background-color:#f60 !important;border:2px solid #f60 !important;color:#fff !important;border-radius:100px !important;font-size:0.875rem;letter-spacing:0;line-height:1.25rem;font-weight:700;line-height:24px;padding:0.5rem 1.5rem !important;margin:8px 16px 0 0 !important;line-height:1.25rem !important}body.janus #vjs-container .indeed-apply-button:hover,body.janus #vjs-container .indeed-apply-button-placeholder:hover{background-color:#FF6F09 !important;border-color:#FF6F09 !important}body.janus #vjs-container .indeed-apply-button:disabled,body.janus #vjs-container .indeed-apply-button-placeholder:disabled{color:#ccc !important;background-color:#fff !important;border-color:#fff !important}[lang=\"en\"] body.janus #vjs-container .indeed-apply-button,[lang=\"en\"] body.janus #vjs-container .indeed-apply-button-placeholder{box-sizing:border-box !important;text-align:center;width:calc(100% - 16px) !important}body.janus #vjs-container .indeed-apply-button .indeed-apply-button-inner,body.janus #vjs-container .indeed-apply-button-placeholder .indeed-apply-button-inner{background:none !important;border:0 !important;height:0 !important;padding:0 !important;font:inherit !important;float:none !important}body.janus #vjs-container .indeed-apply-button .indeed-apply-button-inner:hover,body.janus #vjs-container .indeed-apply-button-placeholder .indeed-apply-button-inner:hover{background-color:none !important}body.janus #vjs-container .indeed-apply-button .indeed-apply-button-inner .indeed-apply-button-label,body.janus #vjs-container .indeed-apply-button-placeholder .indeed-apply-button-inner .indeed-apply-button-label{background-image:none !important;box-shadow:none !important;box-sizing:border-box;max-width:100% !important;text-shadow:none !important;color:#fff !important;font-weight:700 !important;padding:0 !important;line-height:22px !important}body.janus #vjs-container .indeed-apply-button .indeed-apply-button-inner .indeed-apply-button-label:hover,body.janus #vjs-container .indeed-apply-button-placeholder .indeed-apply-button-inner .indeed-apply-button-label:hover{background-color:none !important;box-shadow:none !important}body.janus #vjs-container .blue-button{background-color:#085ff7 !important;border:2px solid #085ff7 !important;color:#fff !important;border-radius:100px !important;font-size:0.875rem;letter-spacing:0;line-height:1.25rem;font-weight:700;line-height:24px;padding:0.5rem 1.5rem !important;background-image:none !important;box-shadow:none !important;box-sizing:border-box;max-width:100% !important;text-shadow:none !important;margin:8px 16px 0 0 !important}body.janus #vjs-container .blue-button:hover{background-color:#1497ff !important;border-color:#1497ff !important}body.janus #vjs-container .blue-button:disabled{color:#ccc !important;background-color:#fff !important;border-color:#fff !important}[lang=\"en\"] body.janus #vjs-container .blue-button{width:48% !important}@media only screen and (min-width: 1200px) and (max-width: 1360px){[lang=\"en\"] body.janus #vjs-container .blue-button{width:auto !important}}[lang=\"en\"] body.janus #vjs-container #state-picker-container{width:47% !important}@media only screen and (min-width: 1200px) and (max-width: 1360px){[lang=\"en\"] body.janus #vjs-container #state-picker-container{width:auto !important}}body.janus #vjs-container #state-picker-container .state-picker-button{background-color:#fff !important;background-image:none !important;border:2px solid #085ff7 !important;color:#085ff7 !important;border-radius:100px !important;font-size:0.875rem;letter-spacing:0;line-height:1.25rem;font-weight:700;line-height:24px;padding:0.5rem 1.5rem !important}body.janus #vjs-container #state-picker-container .state-picker-button:hover{color:#1497ff !important;background-color:#fff !important;border-color:#1497ff !important}[lang=\"en\"] body.janus #vjs-container #state-picker-container .state-picker-button{width:100% !important}body.janus #vjs-container #indeed_apply .state-picker-button.dd-target,body.janus #vjs-container #state-picker-container .state-picker-button.dd-target{background-color:#fff !important;background-image:none !important;border:2px solid #ececec !important;color:#085ff7 !important;border-radius:100px !important;font-size:0.875rem;letter-spacing:0;line-height:1.25rem;font-weight:700;line-height:24px;padding:0.5rem 1.5rem !important;background-image:none !important;box-shadow:none !important;min-width:100%;margin-top:8px !important}body.janus #vjs-container #indeed_apply .state-picker-button.dd-target:hover,body.janus #vjs-container #state-picker-container .state-picker-button.dd-target:hover{color:#1497ff !important;background-color:#fff !important;border-color:#ececec !important}body.janus #vjs-container #state-picker-info-container .state-picker-info-body{background:#f6f6f6}body.janus #vjs-container #state-picker-container .state-picker-info-arrow{border-bottom:10px solid #f6f6f6 !important}body.janus #vjs-container #state-picker-container .dd-menu{border:2px solid #ccc;border-radius:15px;background-color:#fff;box-shadow:2px 3px 8px 0 rgba(0,0,0,0.08);color:#4b4b4b;margin-left:15px;margin-top:2px;width:100% !important;margin-bottom:48px}body.janus #vjs-container #state-picker-container .dd-menu .dd-menu-option{background-color:#fff;border:0}body.janus #vjs-container #state-picker-container .dd-menu .dd-menu-option:not(:last-of-type){border-bottom:2px solid #f6f6f6}body.janus #vjs-container #state-picker-container .dd-menu .dd-menu-option:first-child{border-radius:13px 13px 0 0}body.janus #vjs-container #state-picker-container .dd-menu .dd-menu-option:last-child{border-radius:0 0 13px 13px}body.janus #vjs-container #state-picker-container .dd-menu .dd-menu-option:hover{background-color:#f6f6f6 !important}body.janus #auxCol{padding-left:24px !important}body.janus #auxCol #femp_list,body.janus #jobalertswrapper,body.janus #univsrch-salary-v3,body.janus .rightRailAd{margin-left:0 !important}body.janus .indeed-apply-button-placeholder-overlay{position:fixed;display:flex;top:0;left:0;right:0;bottom:0;background-color:rgba(102,102,102,0.6)}body.janus .indeed-apply-button-placeholder-spinner{border:6px solid;border-top:6px solid;width:40px;height:40px;border-color:rgba(102,102,102,0.6);border-top-color:#00c;border-radius:50%;-webkit-animation:spin 1s linear infinite;animation:spin 1s linear infinite;margin:auto;top:0;bottom:0;left:0;right:0}@-webkit-keyframes spin{0%{-webkit-transform:rotate(0deg)}100%{-webkit-transform:rotate(360deg)}}@keyframes spin{0%{transform:rotate(0deg)}100%{transform:rotate(360deg)}}\n",
       "</style>\n",
       "<style>\n",
       "        body.janus #what_acdiv.acd{border:0 !important;border-color:inherit !important}body.janus .z-index-override{z-index:101 !important}body.janus #what_acdiv.acd,body.janus #acdiv.acd{border:0 !important;width:100% !important;z-index:101}body.janus #what_acdiv.acd ul,body.janus #acdiv.acd ul{border:2px solid #1497ff !important;border-radius:15px;box-shadow:2px 3px 8px 0 rgba(0,0,0,0.08);overflow:hidden}body.janus #what_acdiv.acd li.ac-active:hover,body.janus #what_acdiv.acd li.ac-active:active,body.janus #acdiv.acd li.ac-active:hover,body.janus #acdiv.acd li.ac-active:active{color:#4b4b4b !important}body.janus .ac-active{color:#4b4b4b !important;background-color:#ececec !important}body.janus .ac-row{font-size:.875rem;padding:0.5rem 1rem}body.janus .ac-row .bold{color:#000}\n",
       "</style>\n",
       "</head>\n",
       "<body class=\"ltr jasxcustomfonttst-inactive janus\" data-tn-application=\"jasx\" data-tn-olth=\"41be357fa1c7dc26c5ee98836f8950b3\" data-tn-originlogid=\"1cgf49t021fgp594\" data-tn-originlogtype=\"jobsearch\">\n",
       "<div id=\"accessibilityBanner\"><span id=\"accessibilityText\">Skip to <!-- This is translated before reaching this state --><a class=\"accessibilityMenu\" href=\"#jobPostingsAnchor\" id=\"skipToJobs\">Job Postings</a>, <!-- This is translated before reaching this state --><a class=\"accessibilityMenu\" href=\"#what\" id=\"skipToSearch\">Search</a></span><a id=\"accessibilityClose\">Close</a></div><script type=\"text/javascript\">\n",
       "     createTabBar('1cgf49t021fgp594');\n",
       "   </script>\n",
       "<script>\n",
       "        var vjsStable = true;\n",
       "        var viewJobOnSerp = new indeed.vjs('1cgf49t021fgp594', 'vjs');\n",
       "        var vjk = viewJobOnSerp.getVJK();\n",
       "        var vjFrom = viewJobOnSerp.getFrom();\n",
       "        var vjTk = viewJobOnSerp.getTk();\n",
       "        var vjUrl = viewJobOnSerp.vjUrl(vjk, vjFrom, vjTk);\n",
       "        var showVjOnSerp = vjsStable;\n",
       "        var zrp = false;\n",
       "        if ((zrp || !showVjOnSerp || window.innerWidth < 1200) && vjUrl) {\n",
       "            window.location.replace(vjUrl);\n",
       "        } else if (showVjOnSerp) {\n",
       "            var jobKeysWithInfo = {};\n",
       "            \n",
       "            jobKeysWithInfo['b2fb7de3ca3d79ed'] = true;\n",
       "            \n",
       "            jobKeysWithInfo['b2a630a32ccc4404'] = true;\n",
       "            \n",
       "            jobKeysWithInfo['a336320e13ab52e4'] = true;\n",
       "            \n",
       "            jobKeysWithInfo['613c99bbadd7ec02'] = true;\n",
       "            \n",
       "            jobKeysWithInfo['1bfa387ed870b463'] = true;\n",
       "            \n",
       "            jobKeysWithInfo['f0ba6c0293a4de16'] = true;\n",
       "            \n",
       "            jobKeysWithInfo['0e4e9a4c58a62169'] = true;\n",
       "            \n",
       "            jobKeysWithInfo['ddbe2ae81cccfd61'] = true;\n",
       "            \n",
       "            jobKeysWithInfo['8d109117cbd2846d'] = true;\n",
       "            \n",
       "            jobKeysWithInfo['ca7f5db2163ca560'] = true;\n",
       "            \n",
       "            if (vjk && !jobKeysWithInfo.hasOwnProperty(vjk)) {\n",
       "                jobKeysWithInfo[vjk] = true;\n",
       "            }\n",
       "            viewJobOnSerp.preloadDescs(jobKeysWithInfo);\n",
       "            var bindAndRender = function () {\n",
       "                if (showVjOnSerp) {\n",
       "                    viewJobOnSerp.bindJobKeys(jobKeysWithInfo);\n",
       "                    if (vjUrl) {\n",
       "                        var vjFrom = viewJobOnSerp.getFrom();\n",
       "                        var vjTk = viewJobOnSerp.getTk();\n",
       "                        viewJobOnSerp.renderOnJobKey(vjk, vjFrom, vjTk, undefined, function () {\n",
       "                            window.location.replace(vjUrl);\n",
       "                        });\n",
       "                    }\n",
       "                }\n",
       "            }\n",
       "        }\n",
       "    </script>\n",
       "<style type=\"text/css\">\n",
       "    body { margin-top: 0; margin-left: 0; margin-right: 0; padding-top: 0; padding-right: 0; padding-left: 0; }\n",
       "\n",
       "    #g_nav { border-bottom:1px solid #ccc; margin-bottom:9px; }\n",
       "\n",
       "    #g_nav a,\n",
       "    #g_nav a:visited { color: #00c; }\n",
       "\n",
       "    .navBi { display: -moz-inline-box; display: inline-block; padding: 9px 12px; margin: 0; list-style-type: none; }\n",
       "\n",
       "    </style>\n",
       "<div class=\"left\" data-tn-section=\"globalNav\" id=\"g_nav\" role=\"navigation\">\n",
       "<table cellpadding=\"0\" cellspacing=\"0\" width=\"100%\">\n",
       "<tr>\n",
       "<td nowrap=\"\"><style type=\"text/css\">\n",
       "#p_nav a.selected { font-weight: bold; text-decoration:none; color: #000 !important; }\n",
       "</style>\n",
       "<div id=\"p_nav\"><span class=\"navBi\"><a class=\"selected\" href=\"/\" id=\"jobsLink\" title=\"Jobs\">Find Jobs</a></span><span class=\"navBi\"><a href=\"/companies\" onmousedown=\"this.href = appendParamsOnce(this.href, '?from=headercmplink&amp;attributionid=jobsearch')\">Company Reviews</a></span><span class=\"navBi\"><a href=\"/salaries\" onmousedown=\"this.href = appendParamsOnce(this.href, '?from=headercmplink&amp;attributionid=jobsearch')\">Find Salaries</a></span><span class=\"navBi\"><a href=\"/resumes?isid=find-resumes&amp;ikw=SERPtop&amp;co=US&amp;hl=en\" id=\"rezLink\">Find Resumes</a></span><span class=\"navBi\"><a href=\"/hire?hl=en&amp;cc=US\" id=\"empLink\" onclick=\"if ( this.href.match('&amp;isid=employerlink-US-control&amp;ikw=SERPtop') == null ) { this.href += '&amp;isid=employerlink-US-control&amp;ikw=SERPtop' };\">Employers / Post Job</a></span></div>\n",
       "</td>\n",
       "<td align=\"right\" nowrap=\"\"><style type=\"text/css\">\n",
       "    \n",
       "\n",
       "    #navpromo a,\n",
       "    #navpromo a:visited {\n",
       "        color: #f60;\n",
       "    }\n",
       "\n",
       "    \n",
       "    #u_nav .login_unconfirmed,\n",
       "    #u_nav .login_unconfirmed a,\n",
       "    #u_nav .login_unconfirmed a:visited {\n",
       "        color: #c00\n",
       "    }\n",
       "\n",
       "    #u_nav .resume_pending,\n",
       "    #u_nav .resume_pending a,\n",
       "    #u_nav .resume_pending a:visited {\n",
       "        color: #c00\n",
       "    }\n",
       "\n",
       "    #userOptionsLabel {\n",
       "        position: relative;\n",
       "        z-index: 5;\n",
       "    }\n",
       "\n",
       "    #userOptionsLabel b {\n",
       "        cursor: pointer;\n",
       "        text-decoration: underline;\n",
       "        position: relative;\n",
       "        z-index: 5;\n",
       "    }\n",
       "\n",
       "    #userOptionsLabel:active {\n",
       "        outline: none;\n",
       "    }\n",
       "\n",
       "    #userOptionsLabel.active {\n",
       "        padding: 9px 11px;\n",
       "        margin-bottom: -1px;\n",
       "        _margin-bottom: 0px;\n",
       "        border: 1px solid #ccc;\n",
       "        border-top: 0;\n",
       "    }\n",
       "\n",
       "    #userOptionsLabel.active .arrowStub {\n",
       "        border-width: 0 3px 3px;\n",
       "        _border-width: 0px 3px 4px;\n",
       "        border-color: transparent;\n",
       "        border-bottom-color: #666;\n",
       "        top: -2px;\n",
       "        border-style: dashed dashed solid;\n",
       "    }\n",
       "\n",
       "    #userOptionsLabel.active .halfPxlFix {\n",
       "        background: #fff;\n",
       "        bottom: -3px;\n",
       "        height: 6px;\n",
       "        left: 0;\n",
       "        position: absolute;\n",
       "        right: 0;\n",
       "        border: 1px solid #fff;\n",
       "    }\n",
       "\n",
       "    .arrowStub {\n",
       "        position: relative;\n",
       "        border-style: solid dashed dashed;\n",
       "        border-color: transparent;\n",
       "        border-top-color: #666;\n",
       "        display: -moz-inline-box;\n",
       "        display: inline-block;\n",
       "        font-size: 0;\n",
       "        height: 0;\n",
       "        line-height: 0;\n",
       "        width: 0;\n",
       "    left: 4px;\n",
       "        border-top-width: 3px;\n",
       "        border-bottom-width: 0;\n",
       "        border-right-width: 3px;\n",
       "        padding-top: 1px;\n",
       "        top: -1px;\n",
       "    }\n",
       "\n",
       "    #userOptions {\n",
       "        z-index: 2;\n",
       "        visibility: hidden;\n",
       "        position: absolute;\n",
       "    right: 0;\n",
       "        x_right: -1px;\n",
       "        top: 100%;\n",
       "        padding: 9px 15px;\n",
       "        border: 1px solid #ccc;\n",
       "        background: #fff;\n",
       "        min-width: 150px;\n",
       "        _width: 150px;\n",
       "        text-align: left;\n",
       "    }\n",
       "\n",
       "    #userOptions.open {\n",
       "        visibility: visible;\n",
       "    }\n",
       "\n",
       "    .userOptionItem {\n",
       "        margin: 6px 0;\n",
       "    }\n",
       "\n",
       "    .userOptionItem a {\n",
       "        white-space: nowrap;\n",
       "    }\n",
       "\n",
       "    .userOptionGroup {\n",
       "        border-top: 1px solid #e8e8e8;\n",
       "        margin-top: 12px;\n",
       "    }\n",
       "\n",
       "    .userNameRepeat {\n",
       "        color: #a8a8a8;\n",
       "        padding-right: 48px;\n",
       "        font-weight: bold;\n",
       "    }\n",
       "\n",
       "    .userOptionGroupHeader {\n",
       "        font-weight: bold;\n",
       "        margin: 6px 0;\n",
       "    }\n",
       "\n",
       "    </style>\n",
       "<div id=\"u_nav\">\n",
       "<script>\n",
       "\n",
       "function regExpEscape(s) {\n",
       "    return String(s).replace(/([-()\\[\\]{}+?*.$\\^|,:#<!\\\\])/g, '\\\\$1').\n",
       "            replace(/\\x08/g, '\\\\x08');\n",
       "}\n",
       "\n",
       "\n",
       "function appendParamsOnce(url, params) {\n",
       "  var useParams = params.replace(/^(\\?|\\&)/, '');\n",
       "  var anchorRegExp = new RegExp(/#.*$/);\n",
       "  var urlAnchorMatch = url.match(anchorRegExp);\n",
       "\n",
       "  var anchor = urlAnchorMatch == null ? '' : urlAnchorMatch;\n",
       "  url = url.replace(anchorRegExp, '');\n",
       "\n",
       "  if (url.match(new RegExp('[\\\\?|\\\\&]' + regExpEscape(useParams))) == null) {\n",
       "    url += (url.indexOf('?') > 0 ? '&' : '?') + useParams;\n",
       "  }\n",
       "  url += anchor;\n",
       "\n",
       "  return url;\n",
       "}\n",
       "\n",
       "</script>\n",
       "<div id=\"user_actions\">\n",
       "<span class=\"navBi resumeCTAWhiteOutline \">\n",
       "<span class=\"resume-promo\" id=\"navpromo\">\n",
       "<a href=\"/promo/resume\" onclick=\"window.location=this.href + '?from=nav&amp;subfrom=rezprmstd&amp;trk.origin=jobsearch&amp;trk.variant=rezprmstd&amp;trk.pos=nav&amp;trk.tk=1cgf49t021fgp594'; return false;\">Upload your resume</a>\n",
       "</span>\n",
       "</span>\n",
       "<span class=\"navBi\"><a href=\"https://www.indeed.com/account/login?dest=%2Fjobs%3Fq%3Ddata%2Bscientist\" id=\"userOptionsLabel\" rel=\"nofollow\">Sign in</a></span>\n",
       "</div>\n",
       "</div>\n",
       "</td>\n",
       "</tr>\n",
       "</table>\n",
       "</div>\n",
       "<style type=\"text/css\">\n",
       "    .indeedLogo {\n",
       "        margin: 8px 0 0 9px;\n",
       "        border: 0;\n",
       "        width: 166px;\n",
       "        height: 64px;\n",
       "    }\n",
       "    \n",
       "            .indeedLogo {\n",
       "                background: url(\"data:image/svg+xml,%3Csvg xmlns='http://www.w3.org/2000/svg' viewBox='0 0 155 43'%3E%3Cstyle%3E.st0%7Bfill:%232164F3;%7D%3C/style%3E%3Cpath class='st0' d='M147.2 34.1c-.6 1.2-1.3 2.1-2.2 2.6-.9.6-2 .8-3.1.8s-2.2-.3-3.1-.9c-.9-.6-1.7-1.5-2.2-2.7-.5-1.2-.8-2.7-.8-4.4 0-1.6.3-3.1.8-4.3.5-1.2 1.2-2.2 2.2-2.8.9-.7 2-1 3.2-1h.1c1.1 0 2.1.3 3.1 1 .9.6 1.7 1.6 2.3 2.7.6 1.2.8 2.7.8 4.3-.3 2-.5 3.5-1.1 4.7m6.5-25.7c-.5-.6-1.3-.9-2.3-.9-1 0-1.7.3-2.3 1-.5.7-.8 1.6-.8 2.9v9.4c-1.2-1.3-2.5-2.3-3.7-2.9-.8-.4-1.7-.7-2.8-.8-.6-.1-1.2-.1-1.9-.1-3.2 0-5.8 1.1-7.8 3.3-2 2.2-3 5.3-3 9.2 0 1.9.3 3.6.8 5.2s1.2 3 2.2 4.2 2.1 2.1 3.4 2.7c1.3.6 2.7 1 4.3 1 .7 0 1.4-.1 2-.2l1.2-.3c1-.3 1.9-.8 2.7-1.4.8-.6 1.7-1.4 2.6-2.4v.6c0 1.2.3 2 .8 2.7.6.6 1.3.9 2.2.9s1.6-.3 2.2-.9c.6-.6.8-1.5.8-2.7V11.1c.2-1.2-.1-2.1-.6-2.7m-41.5 14.4c1-1.1 2.3-1.6 3.9-1.6 1.7 0 3 .5 4.1 1.6 1 1.1 1.6 2.6 1.8 4.8h-11.7c.2-2.1.8-3.7 1.9-4.8m15 11.6c-.4-.4-.9-.5-1.6-.5-.6 0-1.1.1-1.4.4-.8.7-1.5 1.3-2 1.8-.5.4-1.1.8-1.7 1.2-.6.4-1.2.7-1.8.8-.7.2-1.3.3-2.1.3h-.5c-1-.1-1.9-.3-2.7-.8-1-.5-1.7-1.4-2.3-2.4-.6-1.1-.8-2.5-.9-3.9h12.6c1.7 0 3-.1 3.9-.6.9-.5 1.4-1.5 1.4-3.1 0-1.7-.5-3.4-1.4-5.1-.9-1.6-2.2-3-4.1-4-1.8-1-3.9-1.6-6.5-1.6h-.2c-1.9 0-3.6.3-5.1.9-1.6.6-2.9 1.5-4 2.6-1.1 1.2-1.9 2.5-2.5 4.1-.6 1.6-.9 3.3-.9 5.2 0 4 1.2 7.1 3.5 9.4 2.2 2.2 5.2 3.3 9 3.5h.7c1.8 0 3.4-.2 4.8-.7 1.4-.5 2.6-1 3.5-1.7.9-.7 1.6-1.5 2.1-2.2.5-.8.7-1.4.7-2 .1-.8-.1-1.3-.5-1.6M86.3 22.8c1-1.1 2.3-1.6 3.9-1.6 1.7 0 3 .5 4.1 1.6 1 1.1 1.6 2.6 1.8 4.8H84.4c.3-2.1.9-3.7 1.9-4.8m13.5 11c-.6 0-1.1.1-1.4.4-.8.7-1.5 1.3-2 1.8-.5.4-1 .8-1.6 1.2-.6.4-1.2.7-1.9.8-.6.2-1.3.3-2.1.3h-.5c-1-.1-1.9-.3-2.7-.8-.9-.5-1.7-1.4-2.3-2.4-.6-1.1-.9-2.5-.9-3.9H97c1.7 0 3-.1 3.9-.6.9-.5 1.4-1.5 1.4-3.1 0-1.7-.4-3.4-1.3-5.1-.9-1.6-2.3-3-4.1-4-1.8-1-4-1.6-6.5-1.6h-.2c-1.9 0-3.5.3-5.1.9-1.6.6-2.9 1.5-4 2.6-1.1 1.2-1.9 2.5-2.5 4.1s-.9 3.3-.9 5.2c0 4 1.2 7.1 3.5 9.4 2.2 2.2 5.2 3.3 9 3.5h.7c1.8 0 3.4-.2 4.8-.7 1.4-.5 2.6-1 3.5-1.7.9-.7 1.6-1.5 2.1-2.2.5-.8.7-1.4.7-2 0-.6-.2-1.2-.6-1.5-.4-.4-1-.6-1.6-.6M14 38.3c0 1.4.3 2.4 1 3.1.7.7 1.5 1.1 2.5 1.1 1.1 0 1.9-.4 2.6-1 .7-.7 1-1.7 1-3.1V21.8c-1.7 1-3.6 1.5-5.7 1.5-.4 0-.9 0-1.3-.1L14 38.3m54.2-4.2c-.6 1.2-1.3 2.1-2.3 2.6-.9.6-2 .8-3.1.8s-2.2-.3-3.1-.9c-1-.6-1.7-1.5-2.2-2.7s-.8-2.7-.8-4.4c0-1.6.3-3.1.8-4.3.5-1.2 1.2-2.2 2.2-2.8.9-.7 2-1 3.1-1h.1c1.1 0 2.1.3 3.1 1 1 .6 1.7 1.6 2.3 2.7.5 1.2.8 2.7.8 4.3 0 2-.3 3.5-.9 4.7m6.5-25.7c-.5-.6-1.3-.9-2.2-.9-1 0-1.7.3-2.3 1-.5.7-.8 1.6-.8 2.9v9.3c-1.2-1.3-2.5-2.3-3.8-2.9-.8-.4-1.7-.7-2.8-.8-.6-.1-1.2-.1-1.9-.1-3.2 0-5.8 1.1-7.8 3.3-2 2.2-3 5.3-3 9.2 0 1.9.3 3.6.7 5.2.5 1.6 1.2 3 2.2 4.2 1 1.2 2.1 2.1 3.4 2.7 1.3.6 2.7 1 4.3 1 .7 0 1.4-.1 2-.2l1.2-.3c1-.3 1.9-.8 2.7-1.4.8-.6 1.7-1.4 2.6-2.4v.6c0 1.2.3 2 .9 2.7.6.6 1.3.9 2.2.9.8 0 1.6-.3 2.2-.9.6-.6.8-1.5.8-2.7V11.1c.2-1.2 0-2.1-.6-2.7M31.3 20.3c0-.7-.1-1.4-.4-1.9-.3-.5-.7-.9-1.1-1.2-.5-.3-1-.4-1.5-.4-.9 0-1.7.3-2.2.9-.5.6-.8 1.5-.8 2.7v18.2c0 1.2.3 2.2.8 2.8.6.7 1.4 1 2.3 1 1 0 1.7-.3 2.3-1 .6-.7.8-1.6.8-2.9v-7.9c0-2.6.2-4.3.5-5.3.4-1.2 1.2-2.1 2.1-2.8.9-.7 2-1 3.1-1 1.8 0 3 .6 3.5 1.6.6 1.1.8 2.7.8 4.8v10.5c0 1.2.4 2.2 1 2.8.6.7 1.4 1 2.3 1 .9 0 1.7-.3 2.3-1 .6-.6.9-1.6.9-2.9V26.9c0-1.4-.1-2.5-.2-3.4-.1-.9-.4-1.7-.8-2.5-.7-1.3-1.6-2.3-3-3.1s-2.9-1.1-4.6-1.1c-1.8 0-3.3.4-4.7 1-1.3.7-2.6 1.8-3.7 3.2M14 2.2c-6.3 2.6-10.7 8.2-12.7 15C1 18.5.7 19.7.5 21c0 0-.1 1.3.1 1 .2-.3.3-.8.4-1.1 1-3.2 2.1-6 3.9-8.8 4.3-6.2 11.2-10.2 18.6-8 1.3.5 2.5 1.2 3.8 1.9.2.2 1.9 1.5 1.6.3-.3-.9-1.1-1.7-1.8-2.4C23.3.8 18.3.7 14 2.2M19.6 19c2.6-1.3 3.7-4.4 2.3-7-1.3-2.6-4.5-3.6-7.1-2.3-2.6 1.3-3.6 4.4-2.3 7 1.3 2.6 4.5 3.6 7.1 2.3'/%3E%3C/svg%3E\") no-repeat;\n",
       "                background-size: 155px 43px;\n",
       "            }\n",
       "        \n",
       "#branding img { border: 0; }\n",
       "#jobsearch { margin: 0 }\n",
       ".inwrap { border-right: 1px solid #e8e8e8;border-bottom: 1px solid #e8e8e8;display:inline-block; }\n",
       ".inwrap input { box-sizing: border-box; margin:0; height: 30px; font-family:Arial,sans-serif;border:1px solid #ccc; border-bottom-color:#aaa;border-right-color:#aaa; -webkit-border-radius: 0; -webkit-appearance: none; }\n",
       ".inwrap .input_text { font-size:18px;padding:3px 6px;_margin: -1px 0; }\n",
       ".inwrap .input_submit {color:#614041;font-size:15px;height:30px;background: #e8e8e8; padding:3px 9px;cursor:pointer;_padding:3px;}\n",
       ".inwrap .input_submit:active { background: #ccc; }\n",
       ".lnav  {width:100%;line-height:1;;font-size:10pt;}\n",
       ".jsf .label {font-size:12px; line-height:1.2;padding-top:0;color:#aaa;font-weight:normal;white-space:nowrap;padding-right:1.5em}\n",
       ".jsf .label label {font-weight:normal}\n",
       ".jsf .sl { font-size: 11px; color: #77c; white-space: nowrap; }\n",
       ".npb { padding-bottom: 0; color: #f60; font-weight:bold; }\n",
       ".npl { padding-left: 0 }\n",
       "iframe { display:block; }\n",
       "\n",
       ".acd { position:absolute; width:100%; z-index: 1; }\n",
       "#acdiv { width: 364px; }\n",
       "#what_acdiv { width: 662px; }\n",
       ".acd ul { border: 1px solid #333; background: #fff; padding: 0; margin: 3px 0 0 0; }\n",
       ".acd li { list-style-type: none; font-size: 18px; padding:1px 6px; cursor:pointer; }\n",
       ".acd li.ac-active { background:#36c; color:#fff; }\n",
       "\n",
       "#jobalerts .ws_label,\n",
       "#jobalerts .member { z-index: 1; }\n",
       "#acr td { padding-top:0; padding-bottom:0; }\n",
       "#acr td .h { display:none; }\n",
       "\n",
       "#what { width: 280px; }\n",
       "#where { width: 260px; }\n",
       ".inwrapBorder{border:1px solid #1C4ED9;border-top-color:#2F62F1;border-bottom-color:#133FBB;display:inline-block;width:auto;}\n",
       ".inwrapBorderTop{border-top:1px solid #69F;display:inline-block;background-color:#3163F2;filter:progid:DXImageTransform.Microsoft.gradient(startColorstr='#3163F2',endColorstr='#2B57D5');background:-webkit-gradient(linear,left top,left bottom,from(#3163F2),to(#2B57D5));background:-moz-linear-gradient(top,#3163F2,#2B57D5);background:linear-gradient(top,#3163F2,#2B57D5);}\n",
       ".inwrapBorder .input_submit{background: transparent;border:0;color:#fff;font-family:Arial;font-size:15px;margin:0;padding:4px 9px;cursor:pointer;_padding:3px;}\n",
       ".inwrapBorder a.input_submit{text-decoration: none; display: block;}\n",
       "\n",
       ".inwrapBorder:hover{border-color:#235af6;border-top-color:#4072ff;border-bottom-color:#1e4fd9;}\n",
       ".inwrapBorderTop:hover{border-top-color:#7ba7ff;background-color:#4273ff;filter:progid:DXImageTransform.Microsoft.gradient(startColorstr='#4273ff',endColorstr='#3364f1');background:-webkit-gradient(linear,left top,left bottom,from(#4273ff),to(#3364f1));background:-moz-linear-gradient(top,#4273ff,#3364f1);background:linear-gradient(top,#4273ff,#3364f1);}\n",
       "\n",
       ".inwrapBorder:active{border-color:#536db7;border-top-color:#4b69c1;border-bottom-color:#3753a6;}\n",
       ".inwrapBorder:active .inwrapBorderTop{border-top-color:#6c82c1;background-color:#4b69c1;filter:progid:DXImageTransform.Microsoft.gradient(startColorstr='#4b69c1',endColorstr='#3753a6');background:-webkit-gradient(linear,left top,left bottom,from(#4b69c1),to(#3753a6));background:-moz-linear-gradient(top,#4b69c1,#3753a6);background:linear-gradient(top,#4b69c1,#3753a6);}\n",
       "\n",
       ".roundedCorner {\n",
       "    display: inline-block;\n",
       "    zoom: 1; /* zoom and *display = ie7 hack for display:inline-block */\n",
       "    *display: inline;\n",
       "    vertical-align: baseline;\n",
       "    margin: 0 2px;\n",
       "    outline: none;\n",
       "    cursor: pointer;\n",
       "    text-align: center;\n",
       "    text-decoration: none;\n",
       "    font: 15px/100% Arial, Helvetica, sans-serif;\n",
       "    padding: .5em 2em .55em;\n",
       "    text-shadow: 0 1px 1px rgba(0,0,0,.3);\n",
       "    -webkit-border-radius: .5em;\n",
       "    -moz-border-radius: .5em;\n",
       "    border-radius: .5em;\n",
       "    -webkit-box-shadow: 0 1px 2px rgba(0,0,0,.2);\n",
       "    -moz-box-shadow: 0 1px 2px rgba(0,0,0,.2);\n",
       "    box-shadow: 0 1px 2px rgba(0,0,0,.2);\n",
       "}\n",
       ".roundedCorner:hover {\n",
       "    text-decoration: none;\n",
       "}\n",
       ".roundedCorner:active {\n",
       "    position: relative;\n",
       "    top: 1px;\n",
       "}\n",
       "\n",
       ".bigrounded {\n",
       "    -webkit-border-radius: 2em;\n",
       "    -moz-border-radius: 2em;\n",
       "    border-radius: 2em;\n",
       "}\n",
       ".medium {\n",
       "    font-size: 12px;\n",
       "    padding: .4em 1.5em .42em;\n",
       "}\n",
       ".small {\n",
       "    font-size: 11px;\n",
       "    padding: .2em 1em .275em;\n",
       "}\n",
       "\n",
       ".indeedblue {\n",
       "    color: #d9eef7;\n",
       "    border: solid 1px #1C4ED9;\n",
       "    background: #3163F2;\n",
       "    background: -webkit-gradient(linear, left top, left bottom, from(#2F62F1), to(#133FBB));\n",
       "    background: -moz-linear-gradient(top,  #2F62F1,  #133FBB);\n",
       "    filter:  progid:DXImageTransform.Microsoft.gradient(startColorstr='#2F62F1', endColorstr='#133FBB');\n",
       "}\n",
       ".indeedblue:hover, .indeedblue:focus {\n",
       "    background: #235af6;\n",
       "    background: -webkit-gradient(linear, left top, left bottom, from(#4072ff), to(#1e4fd9));\n",
       "    background: -moz-linear-gradient(top,  #4072ff,  #1e4fd9);\n",
       "    filter:  progid:DXImageTransform.Microsoft.gradient(startColorstr='#4072ff', endColorstr='#1e4fd9');\n",
       "}\n",
       ".indeedblue:active {\n",
       "    color: #d9eef7;\n",
       "    background: -webkit-gradient(linear, left top, left bottom, from(#4b69c1), to(#3753a6));\n",
       "    background: -moz-linear-gradient(top,  #4b69c1,  #3753a6);\n",
       "    filter:  progid:DXImageTransform.Microsoft.gradient(startColorstr='#4b69c1', endColorstr='#3753a6');\n",
       "}\n",
       "</style>\n",
       "<span id=\"hidden_colon\" style=\"display:none\">:</span>\n",
       "<table border=\"0\" cellpadding=\"0\" cellspacing=\"0\" role=\"banner\"><tr><td width=\"1125\"><table cellpadding=\"0\" cellspacing=\"0\" class=\"lnav\">\n",
       "<tr>\n",
       "<td id=\"branding-td\" style=\"vertical-align:top;\"><a href=\"/\" id=\"branding\" onmousedown=\"ptk('logo');\"><img alt=\"one search. all jobs. Indeed\" class=\"indeedLogo\" src=\"data:image/gif;base64,R0lGODlhAQABAJEAAAAAAP///////wAAACH5BAEHAAIALAAAAAABAAEAAAICVAEAOw==\" style=\"margin-bottom:6px;display:block;\" title=\"one search. all jobs. Indeed\"/></a></td>\n",
       "<td style=\"padding-top:3px;\" valign=\"top\">\n",
       "<form action=\"/jobs\" class=\"jsf\" id=\"jobsearch\" method=\"get\" name=\"js\" onsubmit=\"ptk('topsearch');\n",
       "                formAutocompleteCookie(window['autocomplete']);\">\n",
       "<table align=\"left\" cellpadding=\"3\" cellspacing=\"0\">\n",
       "<tr>\n",
       "<td class=\"npb\"><label for=\"what\" id=\"what_label_top\">What</label></td>\n",
       "<td class=\"npb\" colspan=\"3\"><label for=\"where\" id=\"where_label_top\">Where</label></td>\n",
       "</tr>\n",
       "<tr role=\"search\">\n",
       "<td class=\"npl epr\">\n",
       "<span class=\"inwrap\" id=\"what_container\"><input class=\"input_text\" id=\"what\" maxlength=\"512\" name=\"q\" size=\"31\" value=\"data scientist\"/></span>\n",
       "<div style=\"width:250px\"><!-- --></div>\n",
       "<div style=\"position:relative;z-index:2\"><div class=\"acd\" id=\"what_acdiv\"></div></div>\n",
       "</td>\n",
       "<td class=\"npl epr\">\n",
       "<span class=\"inwrap\" id=\"where_container\"><input class=\"input_text\" id=\"where\" maxlength=\"45\" name=\"l\" size=\"27\" value=\"\"/></span>\n",
       "<div style=\"width:200px\"><!-- --></div>\n",
       "<div style=\"position:relative;z-index:2\"><div class=\"acd\" id=\"acdiv\"></div></div>\n",
       "</td>\n",
       "<td class=\"npl\" style=\"width:1px\"><span class=\"inwrapBorder\" style=\"width:auto;padding-right:0;\"><span class=\"inwrapBorderTop\"><input class=\"input_submit\" id=\"fj\" type=\"submit\" value=\"Find Jobs\"/></span></span></td>\n",
       "<td class=\"npl advanced-search\" style=\"width:240px;\"><div style=\"margin-left:12px; display:flex;\"><a class=\"sl\" href=\"/advanced_search?q=data+scientist\">Advanced Job Search</a></div></td>\n",
       "</tr>\n",
       "<tr valign=\"baseline\">\n",
       "<td class=\"label\" id=\"what_label_cell\">\n",
       "<label aria-hidden=\"true\" for=\"what\" id=\"what_label\">job title, keywords or company</label>\n",
       "</td>\n",
       "<td class=\"label\" colspan=\"3\" id=\"where_label_cell\">\n",
       "<label aria-hidden=\"true\" for=\"where\" id=\"where_label\">city, state, or zip</label>\n",
       "</td>\n",
       "</tr>\n",
       "</table>\n",
       "</form>\n",
       "</td>\n",
       "</tr>\n",
       "</table>\n",
       "</td></tr></table>\n",
       "<script type=\"text/javascript\">\n",
       "\n",
       "new AcController('where_ac', 'where_container', 'where', 'acdiv', 'acdiv_list',\n",
       "    '/rpc/suggest?from=serp&tk=1cgf49t021fgp594&version=2', 'l');\n",
       "\n",
       "new AcController('what_ac', 'what_container', 'what', 'what_acdiv', 'what_acdiv_list',\n",
       "    '/rpc/suggest?what=true&from=serp&tk=1cgf49t021fgp594&version=2', 'q');\n",
       "</script>\n",
       "<script type=\"text/javascript\">\n",
       "function rclk(el,jobdata,oc,sal) { var ocstr = oc ? '&onclick=1' : ''; document.cookie='RCLK=\"jk='+jobdata.jk+'&tk=1cgf49t021fgp594&from=web&rd='+jobdata.rd+'&qd=7tdTJLF8oc4dPpT7T_zGvGA3XpPBAN42oEhBbwa0-XP0q_5iKGXhGepJfZBzu_OoNnBW3PEtsNaf-Q1x92mElzLc80kptfYpo5CGXRXsoE0bdRbZTWTTkIGef5ktYd7X&ts=1529516192770&sal='+sal+ocstr+'\"; path=/'; return true;}\n",
       "\n",
       "function vjrclk(jk, qd, rd, oc, vjk, vjtk, jobsearchTk) {\n",
       "  var ocstr = oc ? '&onclick=1' : '';\n",
       "  var jobsearchTk = jobsearchTk ? jobsearchTk : '';\n",
       "  document.cookie = 'RCLK=\"jk=' + jk + '&vjtk=' + vjtk + '&jobsearchTk=' + jobsearchTk + '&rd=' + rd + '&qd=' + qd + '&ts=' + new Date().getTime() + ocstr + '\"; path=/';\n",
       "  return true;\n",
       "}\n",
       "\n",
       "var resumePopover;\n",
       "function updateResumePromoCookie(event) {\n",
       "    if (window['resumePopoverShowValue'] && !event.ctrlKey) {\n",
       "        if (!resumePopover) {\n",
       "            var setYearExpiration = true;\n",
       "            resumePopover = new ResumePopover('1cgf49t021fgp594', '1cgf49svr1fgp5rv', setYearExpiration);\n",
       "        }\n",
       "\n",
       "        resumePopover.updatePopoverCookieValue();\n",
       "        if (false) {\n",
       "            resumePopover.logConditionMet();\n",
       "        }\n",
       "    }\n",
       "    return true;\n",
       "}\n",
       "function zrprclk(el,jobdata,oc) { var ocstr = oc ? '&onclick=1' : ''; document.cookie='RCLK=\"jk='+jobdata.jk+'&tk=1cgf49t021fgp594&from=reconzrp&rd='+jobdata.rd+'&qd=7tdTJLF8oc4dPpT7T_zGvGA3XpPBAN42oEhBbwa0-XP0q_5iKGXhGepJfZBzu_OoNnBW3PEtsNaf-Q1x92mElzLc80kptfYpo5CGXRXsoE0bdRbZTWTTkIGef5ktYd7X&ts=1529516192770'+ocstr+'\"; path=/'; return true;}\n",
       "function prjbottomclk(el,jobdata,oc) { var ocstr = oc ? '&onclick=1' : ''; document.cookie='RCLK=\"jk='+jobdata.jk+'&tk=1cgf49t021fgp594&from=reconserp&rd='+jobdata.rd+'&qd=7tdTJLF8oc4dPpT7T_zGvGA3XpPBAN42oEhBbwa0-XP0q_5iKGXhGepJfZBzu_OoNnBW3PEtsNaf-Q1x92mElzLc80kptfYpo5CGXRXsoE0bdRbZTWTTkIGef5ktYd7X&ts=1529516192770'+ocstr+'\"; path=/'; return true;}\n",
       "\n",
       "\n",
       "var jobmap = {};\n",
       "\n",
       "jobmap[0]= {jk:'8d109117cbd2846d',efccid: 'caff23281376b83d',srcid:'c6c40f68ed4ae948',cmpid:'fe2d21eef233e94a',num:'0',srcname:'Amazon.com',cmp:'Amazon.com',cmpesc:'Amazon.com',cmplnk:'/q-Amazon.com-jobs.html',loc:'Seattle, WA',country:'US',zip:'',city:'Seattle',title:'Data Scientist, Private Label Apparel',locid:'1e8a7dce52945215',rd:'ifLLha17ynEBlt7hho3JcfEjTYFBCydOHIJo0jSLt2v643S2KwFAze-YU5kL_RQ0'};\n",
       "\n",
       "jobmap[1]= {jk:'b2a630a32ccc4404',efccid: 'caff23281376b83d',srcid:'c6c40f68ed4ae948',cmpid:'fe2d21eef233e94a',num:'1',srcname:'Amazon.com',cmp:'Amazon.com',cmpesc:'Amazon.com',cmplnk:'/q-Amazon.com-jobs.html',loc:'Seattle, WA',country:'US',zip:'',city:'Seattle',title:'Data Scientist',locid:'1e8a7dce52945215',rd:'KMmgpPP_N8Ma8_Z5coeA6vEjTYFBCydOHIJo0jSLt2v643S2KwFAze-YU5kL_RQ0'};\n",
       "\n",
       "jobmap[2]= {jk:'613c99bbadd7ec02',efccid: 'aacc7ab7e77fae54',srcid:'4fe346d4b740ed05',cmpid:'5bd99dfa21c8a490',num:'2',srcname:'Bank of America',cmp:'Bank of America',cmpesc:'Bank of America',cmplnk:'/q-Bank-of-America-jobs.html',loc:'New York, NY 10036',country:'US',zip:'10036',city:'New York',title:'Data Scientist I',locid:'45f6c4ded55c00bf',rd:'0nbXxlm8yujnNeH6qUX3_PEjTYFBCydOHIJo0jSLt2tC0Xa0m5LB2W65CWONpXaZ'};\n",
       "\n",
       "jobmap[3]= {jk:'1bfa387ed870b463',efccid: '6e7b40121fbb5e2f',srcid:'d52c7a354b0111bb',cmpid:'c1099851e9794854',num:'3',srcname:'Apple',cmp:'Apple',cmpesc:'Apple',cmplnk:'/q-Apple-jobs.html',loc:'Santa Clara Valley, CA',country:'US',zip:'',city:'Santa Clara Valley',title:'Data Scientist Machine Learning - Maps Evaluation',locid:'5dda947cc2f297aa',rd:'yiFpXy0V5VnR7pRG_LDt7_EjTYFBCydOHIJo0jSLt2uuIEyVEsFa1GnfHxCZMExg'};\n",
       "\n",
       "jobmap[4]= {jk:'b2fb7de3ca3d79ed',efccid: 'caff23281376b83d',srcid:'c6c40f68ed4ae948',cmpid:'fe2d21eef233e94a',num:'4',srcname:'Amazon.com',cmp:'Amazon.com',cmpesc:'Amazon.com',cmplnk:'/q-Amazon.com-jobs.html',loc:'Seattle, WA',country:'US',zip:'',city:'Seattle',title:'Data Scientist, FBA fees',locid:'1e8a7dce52945215',rd:'UoSLGNYeoaCEbrc4zUQx7_EjTYFBCydOHIJo0jSLt2v643S2KwFAze-YU5kL_RQ0'};\n",
       "\n",
       "jobmap[5]= {jk:'ca7f5db2163ca560',efccid: 'ce06f5c590c5cb5b',srcid:'dca838d2fb16216b',cmpid:'d7d9a8241ba2f3ec',num:'5',srcname:'Cargill',cmp:'Cargill',cmpesc:'Cargill',cmplnk:'/q-Cargill-jobs.html',loc:'Plymouth, MN',country:'US',zip:'',city:'Plymouth',title:'Data Scientist',locid:'760d333db3e3d94e',rd:'ypQSWt1Kpk7SEQoWpXENyvEjTYFBCydOHIJo0jSLt2tC0Xa0m5LB2W65CWONpXaZ'};\n",
       "\n",
       "jobmap[6]= {jk:'f0ba6c0293a4de16',efccid: '4c2402b102115f20',srcid:'b222b3c65b3c319f',cmpid:'8a813d7674dea751',num:'6',srcname:'Perspecta',cmp:'Perspecta',cmpesc:'Perspecta',cmplnk:'/q-Perspecta-jobs.html',loc:'Loveland, CO',country:'US',zip:'',city:'Loveland',title:'Jr. Data Scientist',locid:'e6e9c38c070ae1fa',rd:'A1kmjcdO9UbIpSbViw6K6vEjTYFBCydOHIJo0jSLt2vnsWMusEadUYGbhcoa7LdW'};\n",
       "\n",
       "jobmap[7]= {jk:'ddbe2ae81cccfd61',efccid: 'cd8a5fadd03864ba',srcid:'47029bfd7b3a14df',cmpid:'14bf2da92865aecf',num:'7',srcname:'Carvana',cmp:'Carvana',cmpesc:'Carvana',cmplnk:'/q-Carvana-jobs.html',loc:'Tempe, AZ',country:'US',zip:'',city:'Tempe',title:'Data Scientist - Predictive Modeling',locid:'e35c25ae01c2c67e',rd:'AIC5B1NZEYecQ3bNq-c_ePEjTYFBCydOHIJo0jSLt2s39a-ILVTuohSkbF3C7xbr'};\n",
       "\n",
       "jobmap[8]= {jk:'a336320e13ab52e4',efccid: 'caff23281376b83d',srcid:'c6c40f68ed4ae948',cmpid:'fe2d21eef233e94a',num:'8',srcname:'Amazon.com',cmp:'Amazon.com',cmpesc:'Amazon.com',cmplnk:'/q-Amazon.com-jobs.html',loc:'Boston, MA',country:'US',zip:'',city:'Boston',title:'Data Scientist - Natural Language Processing',locid:'e167aeb8a259bcac',rd:'id9YYX5O4_uiUP8-vquUm_EjTYFBCydOHIJo0jSLt2v643S2KwFAze-YU5kL_RQ0'};\n",
       "\n",
       "jobmap[9]= {jk:'0e4e9a4c58a62169',efccid: '395127672ebe2389',srcid:'b62502b790175976',cmpid:'d88024438adeb57a',num:'9',srcname:'Indeed',cmp:'Inframatix Inc',cmpesc:'Inframatix Inc',cmplnk:'/q-Inframatix-jobs.html',loc:'Greenville, SC',country:'US',zip:'',city:'Greenville',title:'Data Scientist',locid:'c5f3fd203eec3ed6',rd:'0Pmsoov30oFk_hjTcso-wQfmkRX_hXv5vdGF0Dj9Cb8'};\n",
       "</script>\n",
       "<style type=\"text/css\">\n",
       "            .jobtitle {\n",
       "                font-weight: bold;\n",
       "            }\n",
       "            td.snip b, span.company b, #femp_list .jobtitle, #cmpinfo_list .jobtitle, .jobtitle .new {\n",
       "                font-weight: normal;\n",
       "            }\n",
       "            div.result-link-bar b {\n",
       "                font-weight: bold;\n",
       "            }\n",
       "        </style>\n",
       "<style type=\"text/css\">\n",
       "    div.row table tr td.snip { line-height: 1.4; }\n",
       "</style>\n",
       "<table border=\"0\" cellpadding=\"0\" cellspacing=\"0\" id=\"resultsBody\" role=\"main\"><tr><td>\n",
       "<script type=\"text/javascript\">\n",
       "    window['ree'] = \"pdsssps\";\n",
       "    window['jas'] = \"oa9oM1I\";\n",
       "</script>\n",
       "<style type=\"text/css\">\n",
       "    /* Promos Generic Styling */\n",
       "\n",
       "/* Single Link with text */\n",
       ".basePromo {\n",
       "    margin-top: 8px; margin-bottom: 13px; padding-left: 12px; padding-right: 12px;\n",
       "}\n",
       "\n",
       ".redText {\n",
       "    color: #FF0000;\n",
       "}\n",
       "\n",
       ".bold {\n",
       "    font-weight: bold;\n",
       "}\n",
       "\n",
       ".basePromo.resume {\n",
       "    font-size: 14px;\n",
       "    margin-top: 5px;\n",
       "}\n",
       "\n",
       ".basePromo.resume > img {\n",
       "    height: 20px;\n",
       "    margin-right: 5px;\n",
       "    margin-bottom: 3px;\n",
       "    width: 16px;\n",
       "}</style>\n",
       "<style type=\"text/css\">\n",
       "        @import url(/styles/component/resumematch.css);@import url(/styles/viewjob-footer.css);@import url(/styles/component/dropdown.css);@import url(/styles/component/blue-button.css);@import url(/styles/component/statepicker.css);.icl-Alert,.icl-Alert-body,.icl-Alert-close,.icl-Alert-headline,.icl-Alert-iconContainer,.icl-Alert-text{box-sizing:border-box}.icl-Alert{position:relative;width:100%}[dir] .icl-Alert{padding:1rem}@media (min-width: 48em){[dir] .icl-Alert{text-align:center}}[dir] .icl-Alert--success{background-color:#e6fff6}.icl-Alert--success .icl-Alert-headline{color:#00825f}.icl-Alert--success .icl-Alert-icon{fill:#00b887;width:22px;height:22px;fill-rule:evenodd}.icl-Alert--success .icl-Alert-iconContainer{width:22px;height:22px}[dir] .icl-Alert--info{background-color:#ebfeff}.icl-Alert--info .icl-Alert-headline{color:set-text-color(primary)}.icl-Alert--info .icl-Alert-icon{fill:#085ff7;width:22px;height:22px;fill-rule:evenodd}.icl-Alert--info .icl-Alert-iconContainer{width:22px;height:22px}[dir] .icl-Alert--warning{background-color:#fffbde}.icl-Alert--warning .icl-Alert-headline{color:set-text-color(primary)}.icl-Alert--warning .icl-Alert-icon{fill:#fce356;width:24px;height:22px;fill-rule:evenodd}.icl-Alert--warning .icl-Alert-iconContainer{width:24px;height:22px}[dir] .icl-Alert--danger{background-color:#fff0ef}.icl-Alert--danger .icl-Alert-headline{color:#db183f}.icl-Alert--danger .icl-Alert-icon{fill:#ff575f;width:22px;height:22px;fill-rule:evenodd}.icl-Alert--danger .icl-Alert-iconContainer{width:22px;height:22px}.icl-Alert-text{display:inline-block;vertical-align:middle;max-width:80%}[dir=ltr] .icl-Alert-text{text-align:left}[dir=rtl] .icl-Alert-text{text-align:right}.icl-Alert-headline{font-size:1rem;line-height:1.5rem;font-weight:700}.icl-Alert-body,.icl-Alert-headline{font-family:Helvetica Neue,Helvetica,Arial,Liberation Sans,Roboto,Noto,sans-serif;letter-spacing:0}.icl-Alert-body{font-size:.6875rem;line-height:1rem;font-weight:400}.icl-Alert-body a{color:#085ff7}.icl-Alert-body a,.icl-Alert-body a:active,.icl-Alert-body a:focus,.icl-Alert-body a:hover,.icl-Alert-body a:link,.icl-Alert-body a:visited{text-decoration:none}.icl-Alert-body a:visited{color:#5a38d6}.icl-Alert-body a:active,.icl-Alert-body a:focus,.icl-Alert-body a:hover{color:#1497ff}.icl-Alert-iconContainer{display:inline-block;vertical-align:middle}[dir=ltr] .icl-Alert-iconContainer{margin-right:1rem}[dir=rtl] .icl-Alert-iconContainer{margin-left:1rem}.icl-Alert-close{position:absolute;top:0}[dir] .icl-Alert-close{padding:1rem}[dir=ltr] .icl-Alert-close{right:0}[dir=rtl] .icl-Alert-close{left:0}.icl-Radio,.icl-Radio-control,.icl-Radio-errorText,.icl-Radio-helpText,.icl-Radio-item,.icl-Radio-label,.icl-Radio-legend{box-sizing:border-box}[dir] .icl-Radio{border:none;padding:0}.icl-Radio-legend{font-family:Helvetica Neue,Helvetica,Arial,Liberation Sans,Roboto,Noto,sans-serif;font-size:.875rem;letter-spacing:0;line-height:1.25rem;font-weight:700;color:#2d2d2d}[dir] .icl-Radio-legend{padding:0}.icl-Radio-helpText{font-family:Helvetica Neue,Helvetica,Arial,Liberation Sans,Roboto,Noto,sans-serif;font-size:.6875rem;letter-spacing:0;line-height:1rem;font-weight:500;color:#767676}[dir] .icl-Radio-item{padding-top:.5rem;padding-bottom:.5rem}[dir] .icl-Radio-control{margin:0}[dir=ltr] .icl-Radio-control{margin-right:1rem}[dir=rtl] .icl-Radio-control{margin-left:1rem}.icl-Radio-label{font-family:Helvetica Neue,Helvetica,Arial,Liberation Sans,Roboto,Noto,sans-serif;font-size:.875rem;letter-spacing:0;line-height:1.25rem;font-weight:400;color:#2d2d2d}[dir] .icl-Radio-label{padding-top:.5rem;padding-bottom:.5rem}.icl-Radio-errorText{font-family:Helvetica Neue,Helvetica,Arial,Liberation Sans,Roboto,Noto,sans-serif;font-size:.625rem;letter-spacing:0;line-height:1rem;font-weight:500;color:#db183f}.icl-CloseButton{box-sizing:border-box}[dir] .icl-CloseButton{cursor:pointer;background:none;border:none}[dir=ltr] .icl-CloseButton{float:right}[dir=rtl] .icl-CloseButton{float:left}.icl-Icon{box-sizing:border-box;display:inline-block;vertical-align:middle;height:48px;width:48px}.icl-Icon--input{display:inline-block;position:absolute;height:44px;width:40px;fill:#ccc;bottom:0}.icl-Icon--md{height:24px;width:24px}.icl-Icon--sm{height:18px;width:18px}[dir=ltr] .icl-Icon--right{margin-left:.2rem;right:0}[dir=rtl] .icl-Icon--right{margin-right:.2rem;left:0}[dir=ltr] .icl-Icon--left{margin-right:.2rem}[dir=rtl] .icl-Icon--left{margin-left:.2rem}.icl-Icon--black{fill:#000}.icl-Icon--blue{fill:#00c}.icl-Icon--grey{fill:#6f6f6f}.icl-Icon--orange{fill:#f60}.icl-Icon--white{fill:#fff}#tjobalertswrapper{margin-left:inherit;width:inherit}.resultsTop::after{content:'';clear:both;display:block}#vjs-container{background-color:#fff;border:1px solid #CCC;position:fixed;transition:opacity 150ms ease-in-out;width:440px;top:0;overflow:hidden;z-index:1}@media only screen and (min-width: 1200px){.row .jobtitle{white-space:normal !important}}@media only screen and (min-width: 1280px){#vjs-container{width:504px}}@media only screen and (min-width: 1360px){#vjs-container{width:530px}}@media only screen and (min-width: 1440px){#vjs-container{width:600px}}@media only screen and (min-width: 1740px){#vjs-container{width:790px}}#vjs-header{background:#FFFFFF;height:auto;border-bottom:1px solid #CCC;box-shadow:0 1px 2px rgba(0,0,0,0.05);position:relative;padding:16px 44px 16px 24px}#vjs-header #apply-button-container{margin-top:0;margin-bottom:0}#vjs-header #apply-button-container .job-footer-button-row{margin-top:10px}#vjs-content{overflow-x:auto;height:calc(100% - 140px);padding:0 24px 10px 24px}#vjs-jbspot-content{overflow-x:auto;height:calc(100% - 140px);padding:0 0 10px 24px}#vjs-jbspot-iframe{width:100%;height:100%;border:0}#vjs-footer #apply-button-container{margin-bottom:10px}#vjs-desc{padding:16px 0 24px 0;line-height:1.5}#vjs-jobtitle{color:#000000;line-height:20px;font-size:18px;font-weight:700;margin-bottom:3px}#vjs-jobinfo{font-size:11pt;line-height:20px}#vjs-header-jobinfo{display:flex;align-items:center}#vjs-x{position:absolute;top:10px}.ltr #vjs-x{right:10px}.rtl #vjs-x{left:10px}#vjs-footer{margin-bottom:24px;height:90px}#vjs-footer #apply-state-picker-container{margin-bottom:0}#vjs-jobcategory{margin-bottom:2px}.row.vjs-highlight{background:#F5F5F5;border:1px solid #CCC !important;position:relative}.vjs-highlight:before,.vjs-highlight:after{content:\" \";border-style:solid;position:absolute;z-index:101}.vjs-highlight:before{border-color:transparent transparent transparent #ccc;border-width:13px 0 13px 13px;right:-13px;top:calc(50% - 13px)}.vjs-highlight:after{border-color:transparent transparent transparent #f5f5f5;border-width:12px 0 12px 12px;right:-12px;top:calc(50% - 12px)}.vjs-trustworthymsg{color:#666666;font-size:12px;font-family:AvenirNext, regular;line-height:17px;margin-top:5px}.rtl .vjs-highlight:before{border-color:transparent #ccc transparent transparent !important;border-width:13px 13px 13px 0 !important;left:-13px;right:auto}.rtl .vjs-highlight:after{border-color:transparent #f5f5f5 transparent transparent;border-width:12px 12px 12px 0;left:-12px;right:auto}.vjs-expired{color:#900;font-size:13.5pt}#vjs-cmL{max-height:50px;border:1px solid #D7D7D7}[dir=\"ltr\"] #vjs-cmL{margin-right:12px}[dir=\"rtl\"] #vjs-cmL{margin-left:12px}#vjs-img-cmL{max-width:100px;max-height:50px;overflow:hidden}#footerWrapper{position:absolute;left:0;right:0;width:100%;border-top:1px solid #CCC;padding-top:10px}.no-scroll{overflow-x:auto;overflow-y:hidden}#PlaceholderContainer{display:block;margin:8px}.PlaceholderCopy-line,.PlaceholderHeader-jobTitle{display:block;background-color:#e8e8e8}.PlaceholderHeader-company,.PlaceholderHeader-location{display:inline-block;height:12px;background-color:#e8e8e8}.PlaceholderHeader-company{width:18%}.PlaceholderHeader-location{width:40%}.PlaceholderHeader-stars{display:inline-block;height:12px;width:65px;background-image:url(\"/images/stars.png\");background-size:contain}.PlaceholderHeader{padding:20px 0;margin-bottom:20px;border-bottom:1px solid #ccc;min-width:200px}.PlaceholderHeader-jobTitle{height:16px;margin-bottom:12px;width:55%}.PlaceholderHeader-companyLocation{display:block}.PlaceHolderCopy{display:block;margin-bottom:28px;max-width:400px}.PlaceholderCopy-line{height:12px;margin-bottom:8px}.PlaceholderCopy-line--1{width:24%}.PlaceholderCopy-line--2{width:100%}.PlaceholderCopy-line--3{width:90%}.PlaceholderCopy-line--4{width:95%}.PlaceholderCopy-line--5{width:80%}.indeedLogo{width:205px !important}#refineresults{box-sizing:border-box;width:260px;margin-right:20px;margin-left:5px}#resultsCol{width:410px;min-width:410px;padding:6px 28px 9px 0 !important}#branding-td{min-width:290px}@media only screen and (min-width: 1125px){#branding-td{min-width:282px}}@media screen and (min-width: 1366px){#resultsCol{min-width:470px}}@media only screen and (min-width: 1740px){#resultsCol{min-width:586px}}table#pageContent{max-width:1024px;min-height:432px}#auxCol{position:relative !important;width:320px;padding-left:0}#serpRecommendations .row,.row.result{padding:10px;border:1px solid transparent;position:relative}.ltr #serpRecommendations .row,.ltr .row.result{padding-right:28px}.rtl #serpRecommendations .row,.rtl .row.result{padding-left:28px}.ltr #resultsCol .showing{padding-left:10px}@media only screen and (min-width: 1125px){.ltr #branding img{margin-left:16px;margin-right:0}}@media only screen and (min-width: 1250px){.ltr #branding img{margin-left:16px;margin-right:0}}#resumePromo{padding-left:12px}.ita-base-container{min-height:1px;width:1px;text-align:center;font-size:40px;position:absolute;top:0;box-sizing:border-box}.popover{position:fixed;display:none;-webkit-box-shadow:0 1px 3px 0 rgba(0,0,0,0.28);-moz-box-shadow:0 1px 3px 0 rgba(0,0,0,0.28);box-shadow:0 1px 3px 0 rgba(0,0,0,0.28)}#popover-background{position:fixed;z-index:999;background:#000000;width:100%;height:100%;opacity:.30;filter:alpha(opacity=30);top:0;left:0}.ita-base-container>#popover-foreground{max-height:700px;width:750px;text-align:left;z-index:1000;font-size:40px;position:fixed;box-sizing:border-box;padding:25px;background:white;margin:0 auto;overflow-y:auto}#popover-x{float:right;margin:-12px -12px 0 0}.popover-x-span{font-weight:bold;font-size:18px;cursor:pointer}.popover-heading-div{text-align:center;font-size:14px;padding-bottom:15px}#popover-ita-container .btn-primary{color:#F8F8F9 !important}.ita-base-container>#fullpage-div{margin:0 !important}.itaHeader{width:100%;background:white}.itaLogo{display:block;margin-top:9px;margin-left:auto;margin-right:auto;max-height:40px;max-width:159px}.itaClose{text-align:center;font-weight:bold}.itaText{text-align:left;color:#6f6f6f;font-size:90%}.itaLocation{text-align:left;color:#6f6f6f}.itaBold{font-weight:bold}.itaNoFormatting{text-decoration:none}.ita-ctas{text-align:center}.aquo{font-size:140%;font-weight:bold;line-height:0.5;color:#f60}#bvjl{font-size:16px;margin:1em 0 1.5em}.snip .sl,.snip .view_job_link{white-space:nowrap}.row.result{margin-bottom:4px}.clickcard:hover{border:1px solid #d8d8d8 !important;cursor:pointer !important}#jobalertswrapper,#femp_list,#picard-profile-completeness-widget,#univsrch-salary-v3,.rightRailAd{margin-left:12px;width:inherit}.ltr #serpRecommendations .row,.ltr .row.result{margin-right:-24px}.ltr #serpRecommendations .row,.ltr .row.result.vjs-highlight{margin-right:-29px}\n",
       "</style>\n",
       "<table border=\"0\" cellpadding=\"0\" cellspacing=\"0\" id=\"pageContent\" width=\"100%\">\n",
       "<tr valign=\"top\">\n",
       "<td data-tn-section=\"refineBy\" id=\"refineresultscol\">\n",
       "<div id=\"refineresults\">\n",
       "<h1><font size=\"+1\">data scientist jobs</font></h1>\n",
       "<span aria-level=\"2\" role=\"heading\" style=\"height: 0; overflow: hidden; position: absolute;\">Filter results by:</span>\n",
       "<div style=\"margin-left: 6px; margin-bottom: 1em;\">Sort by: <span class=\"no-wrap\"><b>relevance</b> -\n",
       "            <a href=\"/jobs?q=data+scientist&amp;sort=date\" rel=\"nofollow\">date</a></span></div>\n",
       "<div class=\"rbSection rbOpen\" id=\"rb_Salary Estimate\">\n",
       "<div class=\"rbHeader\">\n",
       "<span aria-level=\"3\" class=\"ws_bold\" role=\"heading\">\n",
       "                    Salary Estimate</span>\n",
       "</div>\n",
       "<div class=\"rbsrbo\" id=\"SALARY_rbo\">\n",
       "<ul class=\"rbList\">\n",
       "<li onmousedown=\"rbptk('rb', 'salest', '1');\">\n",
       "<a href=\"/q-data-scientist-$60,000-jobs.html\" rel=\"nofollow\" title=\"$60,000 (22896)\">$60,000</a> (22896)</li>\n",
       "<li onmousedown=\"rbptk('rb', 'salest', '2');\">\n",
       "<a href=\"/q-data-scientist-$80,000-jobs.html\" rel=\"nofollow\" title=\"$80,000 (18445)\">$80,000</a> (18445)</li>\n",
       "<li onmousedown=\"rbptk('rb', 'salest', '3');\">\n",
       "<a href=\"/q-data-scientist-$95,000-jobs.html\" rel=\"nofollow\" title=\"$95,000 (14785)\">$95,000</a> (14785)</li>\n",
       "<li onmousedown=\"rbptk('rb', 'salest', '4');\">\n",
       "<a href=\"/q-data-scientist-$110,000-jobs.html\" rel=\"nofollow\" title=\"$110,000 (10305)\">$110,000</a> (10305)</li>\n",
       "<li onmousedown=\"rbptk('rb', 'salest', '5');\">\n",
       "<a href=\"/q-data-scientist-$130,000-jobs.html\" rel=\"nofollow\" title=\"$130,000 (5037)\">$130,000</a> (5037)</li>\n",
       "</ul>\n",
       "</div>\n",
       "</div>\n",
       "<div class=\"rbSection rbOpen\" id=\"rb_Job Type\">\n",
       "<div class=\"rbHeader\">\n",
       "<span aria-level=\"3\" class=\"ws_bold\" role=\"heading\">\n",
       "                    Job Type</span>\n",
       "</div>\n",
       "<div class=\"rbsrbo\" id=\"JOB_TYPE_rbo\">\n",
       "<ul class=\"rbList\">\n",
       "<li onmousedown=\"rbptk('rb', 'jobtype', '1');\">\n",
       "<a href=\"/jobs?q=data+scientist&amp;jt=fulltime\" rel=\"nofollow\" title=\"Full-time (27366)\">Full-time</a> (27366)</li>\n",
       "<li onmousedown=\"rbptk('rb', 'jobtype', '2');\">\n",
       "<a href=\"/jobs?q=data+scientist&amp;jt=contract\" rel=\"nofollow\" title=\"Contract (1221)\">Contract</a> (1221)</li>\n",
       "<li onmousedown=\"rbptk('rb', 'jobtype', '3');\">\n",
       "<a href=\"/jobs?q=data+scientist&amp;jt=parttime\" rel=\"nofollow\" title=\"Part-time (713)\">Part-time</a> (713)</li>\n",
       "<li onmousedown=\"rbptk('rb', 'jobtype', '4');\">\n",
       "<a href=\"/jobs?q=data+scientist&amp;jt=temporary\" rel=\"nofollow\" title=\"Temporary (373)\">Temporary</a> (373)</li>\n",
       "<li onmousedown=\"rbptk('rb', 'jobtype', '5');\">\n",
       "<a href=\"/jobs?q=data+scientist&amp;jt=internship\" rel=\"nofollow\" title=\"Internship (297)\">Internship</a> (297)</li>\n",
       "<li onmousedown=\"rbptk('rb', 'jobtype', '6');\">\n",
       "<a href=\"/jobs?q=data+scientist&amp;jt=commission\" rel=\"nofollow\" title=\"Commission (81)\">Commission</a> (81)</li>\n",
       "</ul>\n",
       "</div>\n",
       "</div>\n",
       "<div class=\"rbSection rbOpen\" id=\"rb_Location\">\n",
       "<div class=\"rbHeader\">\n",
       "<span aria-level=\"3\" class=\"ws_bold\" role=\"heading\">\n",
       "                    Location</span>\n",
       "</div>\n",
       "<div class=\"rbsrbo\" id=\"LOCATION_rbo\">\n",
       "<ul class=\"rbList\">\n",
       "<li onmousedown=\"rbptk('rb', 'loc', '1');\">\n",
       "<a href=\"/jobs?q=data+scientist&amp;rbl=New+York,+NY&amp;jlid=45f6c4ded55c00bf\" rel=\"nofollow\" title=\"New York, NY (1967)\">New York, NY</a> (1967)</li>\n",
       "<li onmousedown=\"rbptk('rb', 'loc', '2');\">\n",
       "<a href=\"/jobs?q=data+scientist&amp;rbl=San+Francisco,+CA&amp;jlid=6cf5e6d389fd6d6b\" rel=\"nofollow\" title=\"San Francisco, CA (1299)\">San Francisco, CA</a> (1299)</li>\n",
       "<li onmousedown=\"rbptk('rb', 'loc', '3');\">\n",
       "<a href=\"/jobs?q=data+scientist&amp;rbl=Austin,+TX&amp;jlid=d2a39b6d57d82344\" rel=\"nofollow\" title=\"Austin, TX (1009)\">Austin, TX</a> (1009)</li>\n",
       "<li onmousedown=\"rbptk('rb', 'loc', '4');\">\n",
       "<a href=\"/jobs?q=data+scientist&amp;rbl=Seattle,+WA&amp;jlid=1e8a7dce52945215\" rel=\"nofollow\" title=\"Seattle, WA (978)\">Seattle, WA</a> (978)</li>\n",
       "<li onmousedown=\"rbptk('rb', 'loc', '5');\">\n",
       "<a href=\"/jobs?q=data+scientist&amp;rbl=Cambridge,+MA&amp;jlid=28b85bba6e466386\" rel=\"nofollow\" title=\"Cambridge, MA (915)\">Cambridge, MA</a> (915)</li>\n",
       "<li class=\"moreLi\" onmousedown=\"rbptk('rb', 'loc', '6');\">\n",
       "<a href=\"/jobs?q=data+scientist&amp;rbl=Boston,+MA&amp;jlid=e167aeb8a259bcac\" rel=\"nofollow\" title=\"Boston, MA (740)\">Boston, MA</a> (740)</li>\n",
       "<li class=\"moreLi\" onmousedown=\"rbptk('rb', 'loc', '7');\">\n",
       "<a href=\"/jobs?q=data+scientist&amp;rbl=Chicago,+IL&amp;jlid=402d6ad50e16c894\" rel=\"nofollow\" title=\"Chicago, IL (550)\">Chicago, IL</a> (550)</li>\n",
       "<li class=\"moreLi\" onmousedown=\"rbptk('rb', 'loc', '8');\">\n",
       "<a href=\"/jobs?q=data+scientist&amp;rbl=Washington,+DC&amp;jlid=c08ec92d8c031faa\" rel=\"nofollow\" title=\"Washington, DC (440)\">Washington, DC</a> (440)</li>\n",
       "<li class=\"moreLi\" onmousedown=\"rbptk('rb', 'loc', '9');\">\n",
       "<a href=\"/jobs?q=data+scientist&amp;rbl=San+Diego,+CA&amp;jlid=15daff915f69f903\" rel=\"nofollow\" title=\"San Diego, CA (415)\">San Diego, CA</a> (415)</li>\n",
       "<li class=\"moreLi\" onmousedown=\"rbptk('rb', 'loc', '10');\">\n",
       "<a href=\"/jobs?q=data+scientist&amp;rbl=Redmond,+WA&amp;jlid=a7d60f4fa63c73eb\" rel=\"nofollow\" title=\"Redmond, WA (398)\">Redmond, WA</a> (398)</li>\n",
       "<li class=\"moreLi\" onmousedown=\"rbptk('rb', 'loc', '11');\">\n",
       "<a href=\"/jobs?q=data+scientist&amp;rbl=Sunnyvale,+CA&amp;jlid=62f8f620fe0679b7\" rel=\"nofollow\" title=\"Sunnyvale, CA (350)\">Sunnyvale, CA</a> (350)</li>\n",
       "<li class=\"moreLi\" onmousedown=\"rbptk('rb', 'loc', '12');\">\n",
       "<a href=\"/jobs?q=data+scientist&amp;rbl=Atlanta,+GA&amp;jlid=966e6327a98f7e81\" rel=\"nofollow\" title=\"Atlanta, GA (345)\">Atlanta, GA</a> (345)</li>\n",
       "<li class=\"moreLi\" onmousedown=\"rbptk('rb', 'loc', '13');\">\n",
       "<a href=\"/jobs?q=data+scientist&amp;rbl=Albuquerque,+NM&amp;jlid=0c54fa8350e60614\" rel=\"nofollow\" title=\"Albuquerque, NM (314)\">Albuquerque, NM</a> (314)</li>\n",
       "<li class=\"moreLi\" onmousedown=\"rbptk('rb', 'loc', '14');\">\n",
       "<a href=\"/jobs?q=data+scientist&amp;rbl=Mountain+View,+CA&amp;jlid=b0a70c53f51e95a6\" rel=\"nofollow\" title=\"Mountain View, CA (301)\">Mountain View, CA</a> (301)</li>\n",
       "</ul>\n",
       "<div class=\"more_link\"><span onclick=\"showAllRefinements('rb_Location'); return false;\" onkeyup=\"if (event.keyCode == 13) showAllRefinements('rb_Location'); return false;\" tabindex=\"0\">more »</span></div></div>\n",
       "</div>\n",
       "<div class=\"rbSection rbOpen\" id=\"rb_Company\">\n",
       "<div class=\"rbHeader\">\n",
       "<span aria-level=\"3\" class=\"ws_bold\" role=\"heading\">\n",
       "                    Company</span>\n",
       "</div>\n",
       "<div class=\"rbsrbo\" id=\"COMPANY_rbo\">\n",
       "<ul class=\"rbList\">\n",
       "<li onmousedown=\"rbptk('rb', 'cmp', '1');\">\n",
       "<a href=\"/jobs?q=data+scientist&amp;rbc=Asuragen&amp;jcid=2f5b2a12422b193d\" rel=\"nofollow\" title=\"Asuragen (715)\">Asuragen</a> (715)</li>\n",
       "<li onmousedown=\"rbptk('rb', 'cmp', '2');\">\n",
       "<a href=\"/jobs?q=data+scientist&amp;rbc=Amazon.com&amp;jcid=fe2d21eef233e94a\" rel=\"nofollow\" title=\"Amazon.com (617)\">Amazon.com</a> (617)</li>\n",
       "<li onmousedown=\"rbptk('rb', 'cmp', '3');\">\n",
       "<a href=\"/jobs?q=data+scientist&amp;rbc=Microsoft&amp;jcid=734cb5a01ee60f80\" rel=\"nofollow\" title=\"Microsoft (514)\">Microsoft</a> (514)</li>\n",
       "<li onmousedown=\"rbptk('rb', 'cmp', '4');\">\n",
       "<a href=\"/jobs?q=data+scientist&amp;rbc=Presbyterian+Healthcare+Services&amp;jcid=2faa77e8dc712650\" rel=\"nofollow\" title=\"Presbyterian Healthcare Services (466)\">Presbyterian Healthcare Services</a> (466)</li>\n",
       "<li onmousedown=\"rbptk('rb', 'cmp', '5');\">\n",
       "<a href=\"/jobs?q=data+scientist&amp;rbc=Ball+Aerospace&amp;jcid=82c5e27e77990fa2\" rel=\"nofollow\" title=\"Ball Aerospace (367)\">Ball Aerospace</a> (367)</li>\n",
       "<li class=\"moreLi\" onmousedown=\"rbptk('rb', 'cmp', '6');\">\n",
       "<a href=\"/jobs?q=data+scientist&amp;rbc=BOEING&amp;jcid=edae4285faf6c2f0\" rel=\"nofollow\" title=\"BOEING (335)\">BOEING</a> (335)</li>\n",
       "<li class=\"moreLi\" onmousedown=\"rbptk('rb', 'cmp', '7');\">\n",
       "<a href=\"/jobs?q=data+scientist&amp;rbc=Bristol-Myers+Squibb&amp;jcid=45f7e11d0973ee3a\" rel=\"nofollow\" title=\"Bristol-Myers Squibb (335)\">Bristol-Myers Squibb</a> (335)</li>\n",
       "<li class=\"moreLi\" onmousedown=\"rbptk('rb', 'cmp', '8');\">\n",
       "<a href=\"/jobs?q=data+scientist&amp;rbc=Pfizer&amp;jcid=7ff126af0cd3d93b\" rel=\"nofollow\" title=\"Pfizer (274)\">Pfizer</a> (274)</li>\n",
       "<li class=\"moreLi\" onmousedown=\"rbptk('rb', 'cmp', '9');\">\n",
       "<a href=\"/jobs?q=data+scientist&amp;rbc=Walmart+eCommerce&amp;jcid=8c49e99f20f89e48\" rel=\"nofollow\" title=\"Walmart eCommerce (228)\">Walmart eCommerce</a> (228)</li>\n",
       "<li class=\"moreLi\" onmousedown=\"rbptk('rb', 'cmp', '10');\">\n",
       "<a href=\"/jobs?q=data+scientist&amp;rbc=Jacobs&amp;jcid=de56d7554bea5214\" rel=\"nofollow\" title=\"Jacobs (221)\">Jacobs</a> (221)</li>\n",
       "<li class=\"moreLi\" onmousedown=\"rbptk('rb', 'cmp', '11');\">\n",
       "<a href=\"/jobs?q=data+scientist&amp;rbc=Burns+%26+McDonnell&amp;jcid=75aff752794baac1\" rel=\"nofollow\" title=\"Burns &amp; McDonnell (156)\">Burns &amp; McDonnell</a> (156)</li>\n",
       "<li class=\"moreLi\" onmousedown=\"rbptk('rb', 'cmp', '12');\">\n",
       "<a href=\"/jobs?q=data+scientist&amp;rbc=Booz+Allen+Hamilton&amp;jcid=4e041af1d0af1bc8\" rel=\"nofollow\" title=\"Booz Allen Hamilton (150)\">Booz Allen Hamilton</a> (150)</li>\n",
       "<li class=\"moreLi\" onmousedown=\"rbptk('rb', 'cmp', '13');\">\n",
       "<a href=\"/jobs?q=data+scientist&amp;rbc=Google&amp;jcid=a5b4499d9e91a5c6\" rel=\"nofollow\" title=\"Google (148)\">Google</a> (148)</li>\n",
       "<li class=\"moreLi\" onmousedown=\"rbptk('rb', 'cmp', '14');\">\n",
       "<a href=\"/jobs?q=data+scientist&amp;rbc=The+Aerospace+Corporation&amp;jcid=ba923b146fa75d0d\" rel=\"nofollow\" title=\"The Aerospace Corporation (139)\">The Aerospace Corporation</a> (139)</li>\n",
       "<li class=\"moreLi\" onmousedown=\"rbptk('rb', 'cmp', '15');\">\n",
       "<a href=\"/jobs?q=data+scientist&amp;rbc=Thermo+Fisher+Scientific&amp;jcid=126e3afd205caa95\" rel=\"nofollow\" title=\"Thermo Fisher Scientific (131)\">Thermo Fisher Scientific</a> (131)</li>\n",
       "</ul>\n",
       "<div class=\"more_link\"><span onclick=\"showAllRefinements('rb_Company'); return false;\" onkeyup=\"if (event.keyCode == 13) showAllRefinements('rb_Company'); return false;\" tabindex=\"0\">more »</span></div></div>\n",
       "</div>\n",
       "<div class=\"rbSection rbOpen\" id=\"rb_Experience Level\">\n",
       "<div class=\"rbHeader\">\n",
       "<span aria-level=\"3\" class=\"ws_bold\" role=\"heading\">\n",
       "                    Experience Level</span>\n",
       "</div>\n",
       "<div class=\"rbsrbo\" id=\"EXP_LVL_rbo\">\n",
       "<ul class=\"rbList\">\n",
       "<li onmousedown=\"rbptk('rb', 'explvl', '1');\">\n",
       "<a href=\"/jobs?q=data+scientist&amp;explvl=mid_level\" rel=\"nofollow\" title=\"Mid Level (12549)\">Mid Level</a> (12549)</li>\n",
       "<li onmousedown=\"rbptk('rb', 'explvl', '2');\">\n",
       "<a href=\"/jobs?q=data+scientist&amp;explvl=entry_level\" rel=\"nofollow\" title=\"Entry Level (6727)\">Entry Level</a> (6727)</li>\n",
       "<li onmousedown=\"rbptk('rb', 'explvl', '3');\">\n",
       "<a href=\"/jobs?q=data+scientist&amp;explvl=senior_level\" rel=\"nofollow\" title=\"Senior Level (4666)\">Senior Level</a> (4666)</li>\n",
       "</ul>\n",
       "</div>\n",
       "</div>\n",
       "</div>\n",
       "</td>\n",
       "<td id=\"resultsCol\">\n",
       "<div class=\"messageContainer\">\n",
       "<script type=\"text/javascript\">\n",
       "    function setRefineByCookie(refineByTypes) {\n",
       "        var expires = new Date();\n",
       "        expires.setTime(expires.getTime() + (10 * 1000));\n",
       "        for (var i = 0; i < refineByTypes.length; i++) {\n",
       "            setCookie(refineByTypes[i], \"1\", expires);\n",
       "        }\n",
       "    }\n",
       "</script>\n",
       "<p class=\"message\">Tip: Enter your zip code in the \"where\" box to show results in your area.</p>\n",
       "</div>\n",
       "<style type=\"text/css\">\n",
       "    #increased_radius_result {\n",
       "        font-size: 16px;\n",
       "        font-style: italic;\n",
       "    }\n",
       "    #original_radius_result{\n",
       "        font-size: 13px;\n",
       "        font-style: italic;\n",
       "        color: #666666;\n",
       "    }\n",
       "</style>\n",
       "<div class=\"resultsTop\"><div id=\"searchCount\">\n",
       "        Page 1 of 28,777 jobs</div>\n",
       "<div data-tn-section=\"primePromo\" id=\"primePromo\">\n",
       "<span class=\"new\">New!</span> <a href=\"/promo/prime\" onclick=\"this.href = appendParamsOnce( this.href, '?from=serptop&amp;subfrom=primeprmtop&amp;trk.origin=jobsearch&amp;trk.variant=primeprmtop&amp;trk.tk=1cgf49t021fgp594&amp;vertical=TECH&amp;x_isid=serptop&amp;x_ikw=data+scientist&amp;x_sid=serptop&amp;x_kw=data+scientist')\">Join Indeed Prime</a> - Get offers from great tech companies</div></div>\n",
       "<a id=\"jobPostingsAnchor\" tabindex=\"-1\"></a>\n",
       "<div class=\" row result\" data-jk=\"8d109117cbd2846d\" data-tn-component=\"organicJob\" data-tu=\"\" id=\"p_8d109117cbd2846d\">\n",
       "<h2 class=\"jobtitle\" id=\"jl_8d109117cbd2846d\">\n",
       "<a class=\"turnstileLink\" data-tn-element=\"jobTitle\" href=\"/rc/clk?jk=8d109117cbd2846d&amp;fccid=fe2d21eef233e94a&amp;vjs=3\" onclick=\"setRefineByCookie([]); return rclk(this,jobmap[0],true,0);\" onmousedown=\"return rclk(this,jobmap[0],0);\" rel=\"noopener nofollow\" target=\"_blank\" title=\"Data Scientist, Private Label Apparel\"><b>Data</b> <b>Scientist</b>, Private Label Apparel</a>\n",
       "</h2>\n",
       "<span class=\"company\">\n",
       "<a href=\"/cmp/Amazon.com\" onmousedown=\"this.href = appendParamsOnce(this.href, 'from=SERP&amp;campaignid=serp-linkcompanyname&amp;fromjk=8d109117cbd2846d&amp;jcid=fe2d21eef233e94a')\" rel=\"noopener\" target=\"_blank\">\n",
       "    Amazon.com</a></span>\n",
       "\n",
       " - <a class=\"turnstileLink slNoUnderline \" data-tn-element=\"reviewStars\" data-tn-variant=\"cmplinktst2\" href=\"/cmp/Amazon.com/reviews\" onmousedown=\"this.href = appendParamsOnce(this.href, '?campaignid=cmplinktst2&amp;from=SERP&amp;jt=Data+Scientist%2C+Private+Label+Apparel&amp;fromjk=8d109117cbd2846d&amp;jcid=fe2d21eef233e94a');\" rel=\"noopener\" target=\"_blank\" title=\"Amazon.com reviews\">\n",
       "<span class=\"ratings\"><span class=\"rating\" style=\"width:43.2px\"><!-- --></span></span>\n",
       "<span class=\"slNoUnderline\">24,665 reviews</span></a>\n",
       " - <span class=\"location\">Seattle, WA</span><table border=\"0\" cellpadding=\"0\" cellspacing=\"0\">\n",
       "<tr>\n",
       "<td class=\"snip\">\n",
       "<div class=\"paddedSummaryExperience\">\n",
       "<span class=\"summary\">\n",
       "            4+ years of relevant work experience in <b>data</b> science, business analytics, business intelligence (BI), or comparable experience in other big <b>data</b> environments....</span>\n",
       "<div class=\"experience\">\n",
       "<span class=\"experienceHeader\">Desired Experience: </span><span class=\"experienceList\">Hive, Microsoft SQL Server, Machine Learning, R, C/C++, Big Data, S3, Data Mining, Ruby, Hadoop, Oracle, Java, .Net, Spark, Data Warehouse, Python, AWS</span>\n",
       "</div>\n",
       "</div>\n",
       "<div class=\"result-link-bar-container\">\n",
       "<div class=\"result-link-bar\"><span class=\"date\">30+ days ago</span> <span class=\"tt_set\" id=\"tt_set_0\">  -  <a class=\"sl resultLink save-job-link \" href=\"#\" id=\"sj_8d109117cbd2846d\" onclick=\"changeJobState('8d109117cbd2846d', 'save', 'linkbar', false, ''); return false;\" title=\"Save this job to my.indeed\">save job</a> - <a class=\"sl resultLink more-link \" href=\"#\" id=\"tog_0\" onclick=\"toggleMoreLinks('8d109117cbd2846d'); return false;\">more...</a></span><div class=\"edit_note_content\" id=\"editsaved2_8d109117cbd2846d\" style=\"display:none;\"></div><script>if (!window['result_8d109117cbd2846d']) {window['result_8d109117cbd2846d'] = {};}window['result_8d109117cbd2846d']['showSource'] = false; window['result_8d109117cbd2846d']['source'] = \"Amazon.com\"; window['result_8d109117cbd2846d']['loggedIn'] = false; window['result_8d109117cbd2846d']['showMyJobsLinks'] = false;window['result_8d109117cbd2846d']['undoAction'] = \"unsave\";window['result_8d109117cbd2846d']['relativeJobAge'] = \"30+ days ago\";window['result_8d109117cbd2846d']['jobKey'] = \"8d109117cbd2846d\"; window['result_8d109117cbd2846d']['myIndeedAvailable'] = true; window['result_8d109117cbd2846d']['showMoreActionsLink'] = window['result_8d109117cbd2846d']['showMoreActionsLink'] || true; window['result_8d109117cbd2846d']['resultNumber'] = 0; window['result_8d109117cbd2846d']['jobStateChangedToSaved'] = false; window['result_8d109117cbd2846d']['searchState'] = \"q=data scientist&amp;\"; window['result_8d109117cbd2846d']['basicPermaLink'] = \"https://www.indeed.com\"; window['result_8d109117cbd2846d']['saveJobFailed'] = false; window['result_8d109117cbd2846d']['removeJobFailed'] = false; window['result_8d109117cbd2846d']['requestPending'] = false; window['result_8d109117cbd2846d']['notesEnabled'] = true; window['result_8d109117cbd2846d']['currentPage'] = \"serp\"; window['result_8d109117cbd2846d']['sponsored'] = false;window['result_8d109117cbd2846d']['reportJobButtonEnabled'] = false; window['result_8d109117cbd2846d']['showMyJobsHired'] = false; window['result_8d109117cbd2846d']['showSaveForSponsored'] = false; window['result_8d109117cbd2846d']['showJobAge'] = true;</script></div></div>\n",
       "<div class=\"tab-container\">\n",
       "<div class=\"more-links-container result-tab\" id=\"tt_display_0\" style=\"display:none;\"><a class=\"close-link closeLink\" href=\"#\" onclick=\"toggleMoreLinks('8d109117cbd2846d'); return false;\" title=\"Close\"></a><div class=\"more_actions\" id=\"more_0\"><ul><li><span class=\"mat\">View all <a href=\"/q-Amazon-Com-l-Seattle,-WA-jobs.html\" rel=\"nofollow\">Amazon.com jobs in Seattle, WA</a> - <a href=\"/l-Seattle,-WA-jobs.html\">Seattle jobs</a></span></li><li><span class=\"mat\">Salary Search: <a href=\"/salaries/Data-Scientist-Salaries,-Seattle-WA\" onmousedown=\"this.href = appendParamsOnce(this.href, '?campaignid=serp-more&amp;fromjk=8d109117cbd2846d&amp;from=serp-more');\">Data Scientist salaries in Seattle, WA</a></span></li><li><span class=\"mat\">Learn more about working at <a href=\"/cmp/Amazon.com\" onmousedown=\"this.href = appendParamsOnce(this.href, '?fromjk=8d109117cbd2846d&amp;from=serp-more&amp;campaignid=serp-more&amp;jcid=fe2d21eef233e94a');\">Amazon.com</a></span></li><li><span class=\"mat\"><a href=\"/cmp/Amazon.com/faq\" onmousedown=\"this.href = appendParamsOnce(this.href, '?from=serp-more&amp;campaignid=serp-more&amp;fromjk=8d109117cbd2846d&amp;jcid=fe2d21eef233e94a');\">Amazon.com questions about work, benefits, interviews and hiring process:</a><ul><li><a href=\"/cmp/Amazon.com/faq/what-would-you-suggest-amazon-com-management-do-to-prevent-others-from-leaving-for-this-reason?quid=1bb857n98brch8lj\" onmousedown=\"this.href = appendParamsOnce(this.href, '?from=serp-more&amp;campaignid=serp-more&amp;fromjk=8d109117cbd2846d&amp;jcid=fe2d21eef233e94a');\">What would you suggest Amazon.com management do to prevent others from l...</a></li><li><a href=\"/cmp/Amazon.com/faq/if-you-were-to-leave-amazon-com-what-would-be-the-reason?quid=1bb9r3ilcakgj8dv\" onmousedown=\"this.href = appendParamsOnce(this.href, '?from=serp-more&amp;campaignid=serp-more&amp;fromjk=8d109117cbd2846d&amp;jcid=fe2d21eef233e94a');\">If you were to leave Amazon.com, what would be the reason?</a></li></ul></span></li><li><span class=\"mat\">Related forums: <a href=\"/forum/loc/Seattle-Washington.html\">Seattle, Washington</a></span></li></ul></div></div><div class=\"dya-container result-tab\"></div>\n",
       "<div class=\"tellafriend-container result-tab email_job_content\"></div>\n",
       "<div class=\"sign-in-container result-tab\"></div>\n",
       "<div class=\"notes-container result-tab\"></div>\n",
       "</div>\n",
       "</td>\n",
       "</tr>\n",
       "</table>\n",
       "</div>\n",
       "<div class=\" row result\" data-jk=\"b2a630a32ccc4404\" data-tn-component=\"organicJob\" data-tu=\"\" id=\"p_b2a630a32ccc4404\">\n",
       "<h2 class=\"jobtitle\" id=\"jl_b2a630a32ccc4404\">\n",
       "<a class=\"turnstileLink\" data-tn-element=\"jobTitle\" href=\"/rc/clk?jk=b2a630a32ccc4404&amp;fccid=fe2d21eef233e94a&amp;vjs=3\" onclick=\"setRefineByCookie([]); return rclk(this,jobmap[1],true,0);\" onmousedown=\"return rclk(this,jobmap[1],0);\" rel=\"noopener nofollow\" target=\"_blank\" title=\"Data Scientist\"><b>Data</b> <b>Scientist</b></a>\n",
       "</h2>\n",
       "<span class=\"company\">\n",
       "<a href=\"/cmp/Amazon.com\" onmousedown=\"this.href = appendParamsOnce(this.href, 'from=SERP&amp;campaignid=serp-linkcompanyname&amp;fromjk=b2a630a32ccc4404&amp;jcid=fe2d21eef233e94a')\" rel=\"noopener\" target=\"_blank\">\n",
       "    Amazon.com</a></span>\n",
       "\n",
       " - <a class=\"turnstileLink slNoUnderline \" data-tn-element=\"reviewStars\" data-tn-variant=\"cmplinktst2\" href=\"/cmp/Amazon.com/reviews\" onmousedown=\"this.href = appendParamsOnce(this.href, '?campaignid=cmplinktst2&amp;from=SERP&amp;jt=Data+Scientist&amp;fromjk=b2a630a32ccc4404&amp;jcid=fe2d21eef233e94a');\" rel=\"noopener\" target=\"_blank\" title=\"Amazon.com reviews\">\n",
       "<span class=\"ratings\"><span class=\"rating\" style=\"width:43.2px\"><!-- --></span></span>\n",
       "<span class=\"slNoUnderline\">24,665 reviews</span></a>\n",
       " - <span class=\"location\">Seattle, WA</span>\n",
       "         <a class=\"more_loc\" href=\"/addlLoc/redirect?tk=1cgf49t021fgp594&amp;jk=b2a630a32ccc4404&amp;dest=%2Fjobs%3Fq%3Ddata%2Bscientist%26rbt%3DData%2BScientist%26rbc%3DAmazon.com%26jtid%3D1872a3288ede048a%26jcid%3Dfe2d21eef233e94a%26grp%3Dtcl\" onmousedown=\"ptk('addlloc');\" rel=\"nofollow\">\n",
       "        +1 location</a><table border=\"0\" cellpadding=\"0\" cellspacing=\"0\">\n",
       "<tr>\n",
       "<td class=\"snip\">\n",
       "<div class=\"paddedSummaryExperience\">\n",
       "<span class=\"summary\">\n",
       "            As a <b>Data</b> <b>Scientist</b> on the Topline team, you will collaborate directly with economists and statisticians to produce modeling solutions, you will partner with...</span>\n",
       "<div class=\"experience\">\n",
       "<span class=\"experienceHeader\">Desired Experience: </span><span class=\"experienceList\">STATA, Machine Learning, Project Management, R, MATLAB, Python</span>\n",
       "</div>\n",
       "</div>\n",
       "<div class=\"result-link-bar-container\">\n",
       "<div class=\"result-link-bar\"><span class=\"date\">22 hours ago</span> <span class=\"tt_set\" id=\"tt_set_1\">  -  <a class=\"sl resultLink save-job-link \" href=\"#\" id=\"sj_b2a630a32ccc4404\" onclick=\"changeJobState('b2a630a32ccc4404', 'save', 'linkbar', false, ''); return false;\" title=\"Save this job to my.indeed\">save job</a> - <a class=\"sl resultLink more-link \" href=\"#\" id=\"tog_1\" onclick=\"toggleMoreLinks('b2a630a32ccc4404'); return false;\">more...</a></span><div class=\"edit_note_content\" id=\"editsaved2_b2a630a32ccc4404\" style=\"display:none;\"></div><script>if (!window['result_b2a630a32ccc4404']) {window['result_b2a630a32ccc4404'] = {};}window['result_b2a630a32ccc4404']['showSource'] = false; window['result_b2a630a32ccc4404']['source'] = \"Amazon.com\"; window['result_b2a630a32ccc4404']['loggedIn'] = false; window['result_b2a630a32ccc4404']['showMyJobsLinks'] = false;window['result_b2a630a32ccc4404']['undoAction'] = \"unsave\";window['result_b2a630a32ccc4404']['relativeJobAge'] = \"22 hours ago\";window['result_b2a630a32ccc4404']['jobKey'] = \"b2a630a32ccc4404\"; window['result_b2a630a32ccc4404']['myIndeedAvailable'] = true; window['result_b2a630a32ccc4404']['showMoreActionsLink'] = window['result_b2a630a32ccc4404']['showMoreActionsLink'] || true; window['result_b2a630a32ccc4404']['resultNumber'] = 1; window['result_b2a630a32ccc4404']['jobStateChangedToSaved'] = false; window['result_b2a630a32ccc4404']['searchState'] = \"q=data scientist&amp;\"; window['result_b2a630a32ccc4404']['basicPermaLink'] = \"https://www.indeed.com\"; window['result_b2a630a32ccc4404']['saveJobFailed'] = false; window['result_b2a630a32ccc4404']['removeJobFailed'] = false; window['result_b2a630a32ccc4404']['requestPending'] = false; window['result_b2a630a32ccc4404']['notesEnabled'] = true; window['result_b2a630a32ccc4404']['currentPage'] = \"serp\"; window['result_b2a630a32ccc4404']['sponsored'] = false;window['result_b2a630a32ccc4404']['reportJobButtonEnabled'] = false; window['result_b2a630a32ccc4404']['showMyJobsHired'] = false; window['result_b2a630a32ccc4404']['showSaveForSponsored'] = false; window['result_b2a630a32ccc4404']['showJobAge'] = true;</script></div></div>\n",
       "<div class=\"tab-container\">\n",
       "<div class=\"more-links-container result-tab\" id=\"tt_display_1\" style=\"display:none;\"><a class=\"close-link closeLink\" href=\"#\" onclick=\"toggleMoreLinks('b2a630a32ccc4404'); return false;\" title=\"Close\"></a><div class=\"more_actions\" id=\"more_1\"><ul><li><span class=\"mat\">View all <a href=\"/q-Amazon-Com-l-Seattle,-WA-jobs.html\" rel=\"nofollow\">Amazon.com jobs in Seattle, WA</a> - <a href=\"/l-Seattle,-WA-jobs.html\">Seattle jobs</a></span></li><li><span class=\"mat\">Salary Search: <a href=\"/salaries/Data-Scientist-Salaries,-Seattle-WA\" onmousedown=\"this.href = appendParamsOnce(this.href, '?campaignid=serp-more&amp;fromjk=b2a630a32ccc4404&amp;from=serp-more');\">Data Scientist salaries in Seattle, WA</a></span></li><li><span class=\"mat\">Learn more about working at <a href=\"/cmp/Amazon.com\" onmousedown=\"this.href = appendParamsOnce(this.href, '?fromjk=b2a630a32ccc4404&amp;from=serp-more&amp;campaignid=serp-more&amp;jcid=fe2d21eef233e94a');\">Amazon.com</a></span></li><li><span class=\"mat\"><a href=\"/cmp/Amazon.com/faq\" onmousedown=\"this.href = appendParamsOnce(this.href, '?from=serp-more&amp;campaignid=serp-more&amp;fromjk=b2a630a32ccc4404&amp;jcid=fe2d21eef233e94a');\">Amazon.com questions about work, benefits, interviews and hiring process:</a><ul><li><a href=\"/cmp/Amazon.com/faq/what-would-you-suggest-amazon-com-management-do-to-prevent-others-from-leaving-for-this-reason?quid=1bb857n98brch8lj\" onmousedown=\"this.href = appendParamsOnce(this.href, '?from=serp-more&amp;campaignid=serp-more&amp;fromjk=b2a630a32ccc4404&amp;jcid=fe2d21eef233e94a');\">What would you suggest Amazon.com management do to prevent others from l...</a></li><li><a href=\"/cmp/Amazon.com/faq/if-you-were-to-leave-amazon-com-what-would-be-the-reason?quid=1bb9r3ilcakgj8dv\" onmousedown=\"this.href = appendParamsOnce(this.href, '?from=serp-more&amp;campaignid=serp-more&amp;fromjk=b2a630a32ccc4404&amp;jcid=fe2d21eef233e94a');\">If you were to leave Amazon.com, what would be the reason?</a></li></ul></span></li><li><span class=\"mat\">Related forums: <a href=\"/forum/loc/Seattle-Washington.html\">Seattle, Washington</a></span></li></ul></div></div><div class=\"dya-container result-tab\"></div>\n",
       "<div class=\"tellafriend-container result-tab email_job_content\"></div>\n",
       "<div class=\"sign-in-container result-tab\"></div>\n",
       "<div class=\"notes-container result-tab\"></div>\n",
       "</div>\n",
       "</td>\n",
       "</tr>\n",
       "</table>\n",
       "</div>\n",
       "<div class=\" row result\" data-jk=\"613c99bbadd7ec02\" data-tn-component=\"organicJob\" data-tu=\"https://click.appcast.io/jview-te8/a31.png?ent=121&amp;e=3165&amp;jid=3165_18036810-1&amp;org=true&amp;src=2780&amp;bid=kzV5I2YEOFCzdDk7YVxw2A==&amp;indeed=organic\" id=\"p_613c99bbadd7ec02\">\n",
       "<h2 class=\"jobtitle\" id=\"jl_613c99bbadd7ec02\">\n",
       "<a class=\"turnstileLink\" data-tn-element=\"jobTitle\" href=\"/rc/clk?jk=613c99bbadd7ec02&amp;fccid=5bd99dfa21c8a490&amp;vjs=3\" onclick=\"setRefineByCookie([]); return rclk(this,jobmap[2],true,0);\" onmousedown=\"return rclk(this,jobmap[2],0);\" rel=\"noopener nofollow\" target=\"_blank\" title=\"Data Scientist I\"><b>Data</b> <b>Scientist</b> I</a>\n",
       "</h2>\n",
       "<span class=\"company\">\n",
       "<a href=\"/cmp/Bank-of-America\" onmousedown=\"this.href = appendParamsOnce(this.href, 'from=SERP&amp;campaignid=serp-linkcompanyname&amp;fromjk=613c99bbadd7ec02&amp;jcid=5bd99dfa21c8a490')\" rel=\"noopener\" target=\"_blank\">\n",
       "    Bank of America</a></span>\n",
       "\n",
       " - <a class=\"turnstileLink slNoUnderline \" data-tn-element=\"reviewStars\" data-tn-variant=\"cmplinktst2\" href=\"/cmp/Bank-of-America/reviews\" onmousedown=\"this.href = appendParamsOnce(this.href, '?campaignid=cmplinktst2&amp;from=SERP&amp;jt=Data+Scientist+I&amp;fromjk=613c99bbadd7ec02&amp;jcid=5bd99dfa21c8a490');\" rel=\"noopener\" target=\"_blank\" title=\"Bank of America reviews\">\n",
       "<span class=\"ratings\"><span class=\"rating\" style=\"width:44.4px\"><!-- --></span></span>\n",
       "<span class=\"slNoUnderline\">21,510 reviews</span></a>\n",
       " - <span class=\"location\">New York, NY 10036</span>\n",
       "         <a class=\"more_loc\" href=\"/addlLoc/redirect?tk=1cgf49t021fgp594&amp;jk=613c99bbadd7ec02&amp;dest=%2Fjobs%3Fq%3Ddata%2Bscientist%26rbt%3DData%2BScientist%2BI%26rbc%3DBank%2Bof%2BAmerica%26jtid%3D701ae7bdd9533e1b%26jcid%3D5bd99dfa21c8a490%26grp%3Dtcl\" onmousedown=\"ptk('addlloc');\" rel=\"nofollow\">\n",
       "        +1 location</a><table border=\"0\" cellpadding=\"0\" cellspacing=\"0\">\n",
       "<tr>\n",
       "<td class=\"snip\">\n",
       "<div class=\"paddedSummaryExperience\">\n",
       "<span class=\"summary\">\n",
       "            Experience using SQL on large datasets for <b>data</b> analysis and transformations to convert ‘raw’ <b>data</b> into a consumable format....</span>\n",
       "<div class=\"experience\">\n",
       "<span class=\"experienceHeader\">Desired Experience: </span><span class=\"experienceList\">Natural Language Processing, Data Mining, Machine Learning, Visual Basic, Python, Excel</span>\n",
       "</div>\n",
       "</div>\n",
       "<div class=\"result-link-bar-container\">\n",
       "<div class=\"result-link-bar\"><span class=\"date\">4 days ago</span> <span class=\"tt_set\" id=\"tt_set_2\">  -  <a class=\"sl resultLink save-job-link \" href=\"#\" id=\"sj_613c99bbadd7ec02\" onclick=\"changeJobState('613c99bbadd7ec02', 'save', 'linkbar', false, ''); return false;\" title=\"Save this job to my.indeed\">save job</a> - <a class=\"sl resultLink more-link \" href=\"#\" id=\"tog_2\" onclick=\"toggleMoreLinks('613c99bbadd7ec02'); return false;\">more...</a></span><div class=\"edit_note_content\" id=\"editsaved2_613c99bbadd7ec02\" style=\"display:none;\"></div><script>if (!window['result_613c99bbadd7ec02']) {window['result_613c99bbadd7ec02'] = {};}window['result_613c99bbadd7ec02']['showSource'] = false; window['result_613c99bbadd7ec02']['source'] = \"Bank of America\"; window['result_613c99bbadd7ec02']['loggedIn'] = false; window['result_613c99bbadd7ec02']['showMyJobsLinks'] = false;window['result_613c99bbadd7ec02']['undoAction'] = \"unsave\";window['result_613c99bbadd7ec02']['relativeJobAge'] = \"4 days ago\";window['result_613c99bbadd7ec02']['jobKey'] = \"613c99bbadd7ec02\"; window['result_613c99bbadd7ec02']['myIndeedAvailable'] = true; window['result_613c99bbadd7ec02']['showMoreActionsLink'] = window['result_613c99bbadd7ec02']['showMoreActionsLink'] || true; window['result_613c99bbadd7ec02']['resultNumber'] = 2; window['result_613c99bbadd7ec02']['jobStateChangedToSaved'] = false; window['result_613c99bbadd7ec02']['searchState'] = \"q=data scientist&amp;\"; window['result_613c99bbadd7ec02']['basicPermaLink'] = \"https://www.indeed.com\"; window['result_613c99bbadd7ec02']['saveJobFailed'] = false; window['result_613c99bbadd7ec02']['removeJobFailed'] = false; window['result_613c99bbadd7ec02']['requestPending'] = false; window['result_613c99bbadd7ec02']['notesEnabled'] = true; window['result_613c99bbadd7ec02']['currentPage'] = \"serp\"; window['result_613c99bbadd7ec02']['sponsored'] = false;window['result_613c99bbadd7ec02']['reportJobButtonEnabled'] = false; window['result_613c99bbadd7ec02']['showMyJobsHired'] = false; window['result_613c99bbadd7ec02']['showSaveForSponsored'] = false; window['result_613c99bbadd7ec02']['showJobAge'] = true;</script></div></div>\n",
       "<div class=\"tab-container\">\n",
       "<div class=\"more-links-container result-tab\" id=\"tt_display_2\" style=\"display:none;\"><a class=\"close-link closeLink\" href=\"#\" onclick=\"toggleMoreLinks('613c99bbadd7ec02'); return false;\" title=\"Close\"></a><div class=\"more_actions\" id=\"more_2\"><ul><li><span class=\"mat\">View all <a href=\"/q-Bank-of-America-l-New-York,-NY-jobs.html\" rel=\"nofollow\">Bank of America jobs in New York, NY</a> - <a href=\"/l-New-York,-NY-jobs.html\">New York jobs</a></span></li><li><span class=\"mat\">Salary Search: <a href=\"/salaries/Data-Scientist-Salaries,-New-York-NY\" onmousedown=\"this.href = appendParamsOnce(this.href, '?campaignid=serp-more&amp;fromjk=613c99bbadd7ec02&amp;from=serp-more');\">Data Scientist salaries in New York, NY</a></span></li><li><span class=\"mat\">Learn more about working at <a href=\"/cmp/Bank-of-America\" onmousedown=\"this.href = appendParamsOnce(this.href, '?fromjk=613c99bbadd7ec02&amp;from=serp-more&amp;campaignid=serp-more&amp;jcid=5bd99dfa21c8a490');\">Bank of America</a></span></li><li><span class=\"mat\"><a href=\"/cmp/Bank-of-America/faq\" onmousedown=\"this.href = appendParamsOnce(this.href, '?from=serp-more&amp;campaignid=serp-more&amp;fromjk=613c99bbadd7ec02&amp;jcid=5bd99dfa21c8a490');\">Bank of America questions about work, benefits, interviews and hiring process:</a><ul><li><a href=\"/cmp/Bank-of-America/faq/what-questions-did-they-ask-during-your-interview?quid=1acdc07i552vga2j\" onmousedown=\"this.href = appendParamsOnce(this.href, '?from=serp-more&amp;campaignid=serp-more&amp;fromjk=613c99bbadd7ec02&amp;jcid=5bd99dfa21c8a490');\">What questions did they ask during your interview?</a></li><li><a href=\"/cmp/Bank-of-America/faq/do-you-have-to-have-good-credit-to-be-considered?quid=1aumc1oju5naaeub\" onmousedown=\"this.href = appendParamsOnce(this.href, '?from=serp-more&amp;campaignid=serp-more&amp;fromjk=613c99bbadd7ec02&amp;jcid=5bd99dfa21c8a490');\">Do you have to have good credit to be considered?</a></li></ul></span></li><li><span class=\"mat\">Related forums: <a href=\"/forum/cmp/Bank-of-America.html\">Bank Of America</a> - <a href=\"/forum/loc/New-York-New-York.html\">New York, New York</a></span></li></ul></div></div><div class=\"dya-container result-tab\"></div>\n",
       "<div class=\"tellafriend-container result-tab email_job_content\"></div>\n",
       "<div class=\"sign-in-container result-tab\"></div>\n",
       "<div class=\"notes-container result-tab\"></div>\n",
       "</div>\n",
       "</td>\n",
       "</tr>\n",
       "</table>\n",
       "</div>\n",
       "<div class=\" row result\" data-jk=\"1bfa387ed870b463\" data-tn-component=\"organicJob\" data-tu=\"\" id=\"p_1bfa387ed870b463\">\n",
       "<h2 class=\"jobtitle\" id=\"jl_1bfa387ed870b463\">\n",
       "<a class=\"turnstileLink\" data-tn-element=\"jobTitle\" href=\"/rc/clk?jk=1bfa387ed870b463&amp;fccid=c1099851e9794854&amp;vjs=3\" onclick=\"setRefineByCookie([]); return rclk(this,jobmap[3],true,0);\" onmousedown=\"return rclk(this,jobmap[3],0);\" rel=\"noopener nofollow\" target=\"_blank\" title=\"Data Scientist Machine Learning - Maps Evaluation\"><b>Data</b> <b>Scientist</b> Machine Learning - Maps Evaluation</a>\n",
       "</h2>\n",
       "<span class=\"company\">\n",
       "<a href=\"/cmp/Apple\" onmousedown=\"this.href = appendParamsOnce(this.href, 'from=SERP&amp;campaignid=serp-linkcompanyname&amp;fromjk=1bfa387ed870b463&amp;jcid=c1099851e9794854')\" rel=\"noopener\" target=\"_blank\">\n",
       "    Apple</a></span>\n",
       "\n",
       " - <a class=\"turnstileLink slNoUnderline \" data-tn-element=\"reviewStars\" data-tn-variant=\"cmplinktst2\" href=\"/cmp/Apple/reviews\" onmousedown=\"this.href = appendParamsOnce(this.href, '?campaignid=cmplinktst2&amp;from=SERP&amp;jt=Data+Scientist+Machine+Learning+-+Maps+Evaluation&amp;fromjk=1bfa387ed870b463&amp;jcid=c1099851e9794854');\" rel=\"noopener\" target=\"_blank\" title=\"Apple reviews\">\n",
       "<span class=\"ratings\"><span class=\"rating\" style=\"width:52.2px\"><!-- --></span></span>\n",
       "<span class=\"slNoUnderline\">5,521 reviews</span></a>\n",
       " - <span class=\"location\">Santa Clara Valley, CA</span><table border=\"0\" cellpadding=\"0\" cellspacing=\"0\">\n",
       "<tr>\n",
       "<td class=\"snip\">\n",
       "<div class=\"paddedSummaryExperience\">\n",
       "<span class=\"summary\">\n",
       "<b>Data</b> engineering (pipelines, <b>data</b> wrangling/transformation). It takes a strong background in <b>Data</b> Science and Machine Learning to qualify for this job....</span>\n",
       "<div class=\"experience\">\n",
       "<span class=\"experienceHeader\">Desired Experience: </span><span class=\"experienceList\">Quantitative Analysis, Machine Learning, Hadoop, R, Scala, Java, Natural Language Processing, S3, Spark, GIS, Python</span>\n",
       "</div>\n",
       "</div>\n",
       "<div class=\"result-link-bar-container\">\n",
       "<div class=\"result-link-bar\"><span class=\"date\">5 days ago</span> <span class=\"tt_set\" id=\"tt_set_3\">  -  <a class=\"sl resultLink save-job-link \" href=\"#\" id=\"sj_1bfa387ed870b463\" onclick=\"changeJobState('1bfa387ed870b463', 'save', 'linkbar', false, ''); return false;\" title=\"Save this job to my.indeed\">save job</a> - <a class=\"sl resultLink more-link \" href=\"#\" id=\"tog_3\" onclick=\"toggleMoreLinks('1bfa387ed870b463'); return false;\">more...</a></span><div class=\"edit_note_content\" id=\"editsaved2_1bfa387ed870b463\" style=\"display:none;\"></div><script>if (!window['result_1bfa387ed870b463']) {window['result_1bfa387ed870b463'] = {};}window['result_1bfa387ed870b463']['showSource'] = false; window['result_1bfa387ed870b463']['source'] = \"Apple\"; window['result_1bfa387ed870b463']['loggedIn'] = false; window['result_1bfa387ed870b463']['showMyJobsLinks'] = false;window['result_1bfa387ed870b463']['undoAction'] = \"unsave\";window['result_1bfa387ed870b463']['relativeJobAge'] = \"5 days ago\";window['result_1bfa387ed870b463']['jobKey'] = \"1bfa387ed870b463\"; window['result_1bfa387ed870b463']['myIndeedAvailable'] = true; window['result_1bfa387ed870b463']['showMoreActionsLink'] = window['result_1bfa387ed870b463']['showMoreActionsLink'] || true; window['result_1bfa387ed870b463']['resultNumber'] = 3; window['result_1bfa387ed870b463']['jobStateChangedToSaved'] = false; window['result_1bfa387ed870b463']['searchState'] = \"q=data scientist&amp;\"; window['result_1bfa387ed870b463']['basicPermaLink'] = \"https://www.indeed.com\"; window['result_1bfa387ed870b463']['saveJobFailed'] = false; window['result_1bfa387ed870b463']['removeJobFailed'] = false; window['result_1bfa387ed870b463']['requestPending'] = false; window['result_1bfa387ed870b463']['notesEnabled'] = true; window['result_1bfa387ed870b463']['currentPage'] = \"serp\"; window['result_1bfa387ed870b463']['sponsored'] = false;window['result_1bfa387ed870b463']['reportJobButtonEnabled'] = false; window['result_1bfa387ed870b463']['showMyJobsHired'] = false; window['result_1bfa387ed870b463']['showSaveForSponsored'] = false; window['result_1bfa387ed870b463']['showJobAge'] = true;</script></div></div>\n",
       "<div class=\"tab-container\">\n",
       "<div class=\"more-links-container result-tab\" id=\"tt_display_3\" style=\"display:none;\"><a class=\"close-link closeLink\" href=\"#\" onclick=\"toggleMoreLinks('1bfa387ed870b463'); return false;\" title=\"Close\"></a><div class=\"more_actions\" id=\"more_3\"><ul><li><span class=\"mat\">View all <a href=\"/q-Apple-l-Santa-Clara-Valley,-CA-jobs.html\" rel=\"nofollow\">Apple jobs in Santa Clara Valley, CA</a> - <a href=\"/l-Santa-Clara-Valley,-CA-jobs.html\">Santa Clara Valley jobs</a></span></li><li><span class=\"mat\">Salary Search: <a href=\"/salaries/Data-Evaluator-Salaries,-Santa-Clara-Valley-CA\" onmousedown=\"this.href = appendParamsOnce(this.href, '?campaignid=serp-more&amp;fromjk=1bfa387ed870b463&amp;from=serp-more-nofollow');\" rel='\"nofollow\"'>Data Evaluator salaries in Santa Clara Valley, CA</a></span></li><li><span class=\"mat\">Learn more about working at <a href=\"/cmp/Apple\" onmousedown=\"this.href = appendParamsOnce(this.href, '?fromjk=1bfa387ed870b463&amp;from=serp-more&amp;campaignid=serp-more&amp;jcid=c1099851e9794854');\">Apple</a></span></li><li><span class=\"mat\"><a href=\"/cmp/Apple/faq\" onmousedown=\"this.href = appendParamsOnce(this.href, '?from=serp-more&amp;campaignid=serp-more&amp;fromjk=1bfa387ed870b463&amp;jcid=c1099851e9794854');\">Apple questions about work, benefits, interviews and hiring process:</a><ul><li><a href=\"/cmp/Apple/faq/do-you-need-previous-job-experience-to-work-at-apple?quid=1akheqvhkb86mc2d\" onmousedown=\"this.href = appendParamsOnce(this.href, '?from=serp-more&amp;campaignid=serp-more&amp;fromjk=1bfa387ed870b463&amp;jcid=c1099851e9794854');\">Do you need previous job experience to work at Apple?</a></li><li><a href=\"/cmp/Apple/faq/how-long-does-it-take-to-get-hired-from-start-to-finish-what-are-the-steps-along-the-way?quid=1all5rd3hak8haih\" onmousedown=\"this.href = appendParamsOnce(this.href, '?from=serp-more&amp;campaignid=serp-more&amp;fromjk=1bfa387ed870b463&amp;jcid=c1099851e9794854');\">How long does it take to get hired from start to finish? What are the st...</a></li></ul></span></li><li><span class=\"mat\">Related forums: <a href=\"/forum/cmp/Apple.html\">Apple</a></span></li></ul></div></div><div class=\"dya-container result-tab\"></div>\n",
       "<div class=\"tellafriend-container result-tab email_job_content\"></div>\n",
       "<div class=\"sign-in-container result-tab\"></div>\n",
       "<div class=\"notes-container result-tab\"></div>\n",
       "</div>\n",
       "</td>\n",
       "</tr>\n",
       "</table>\n",
       "</div>\n",
       "<div class=\" row result\" data-jk=\"b2fb7de3ca3d79ed\" data-tn-component=\"organicJob\" data-tu=\"\" id=\"p_b2fb7de3ca3d79ed\">\n",
       "<h2 class=\"jobtitle\" id=\"jl_b2fb7de3ca3d79ed\">\n",
       "<a class=\"turnstileLink\" data-tn-element=\"jobTitle\" href=\"/rc/clk?jk=b2fb7de3ca3d79ed&amp;fccid=fe2d21eef233e94a&amp;vjs=3\" onclick=\"setRefineByCookie([]); return rclk(this,jobmap[4],true,0);\" onmousedown=\"return rclk(this,jobmap[4],0);\" rel=\"noopener nofollow\" target=\"_blank\" title=\"Data Scientist, FBA fees\"><b>Data</b> <b>Scientist</b>, FBA fees</a>\n",
       "</h2>\n",
       "<span class=\"company\">\n",
       "<a href=\"/cmp/Amazon.com\" onmousedown=\"this.href = appendParamsOnce(this.href, 'from=SERP&amp;campaignid=serp-linkcompanyname&amp;fromjk=b2fb7de3ca3d79ed&amp;jcid=fe2d21eef233e94a')\" rel=\"noopener\" target=\"_blank\">\n",
       "    Amazon.com</a></span>\n",
       "\n",
       " - <a class=\"turnstileLink slNoUnderline \" data-tn-element=\"reviewStars\" data-tn-variant=\"cmplinktst2\" href=\"/cmp/Amazon.com/reviews\" onmousedown=\"this.href = appendParamsOnce(this.href, '?campaignid=cmplinktst2&amp;from=SERP&amp;jt=Data+Scientist%2C+FBA+fees&amp;fromjk=b2fb7de3ca3d79ed&amp;jcid=fe2d21eef233e94a');\" rel=\"noopener\" target=\"_blank\" title=\"Amazon.com reviews\">\n",
       "<span class=\"ratings\"><span class=\"rating\" style=\"width:43.2px\"><!-- --></span></span>\n",
       "<span class=\"slNoUnderline\">24,665 reviews</span></a>\n",
       " - <span class=\"location\">Seattle, WA</span><table border=\"0\" cellpadding=\"0\" cellspacing=\"0\">\n",
       "<tr>\n",
       "<td class=\"snip\">\n",
       "<div class=\"paddedSummaryExperience\">\n",
       "<span class=\"summary\">\n",
       "            The FBA Fees Advanced Analytics team is looking for a talented <b>Data</b> <b>Scientist</b> to leverage the latest in <b>data</b> mining, predictive modeling and optimization...</span>\n",
       "<div class=\"experience\">\n",
       "<span class=\"experienceHeader\">Desired Experience: </span><span class=\"experienceList\">STATA, S3, Data Mining, Machine Learning, R, SAS, Python, AWS</span>\n",
       "</div>\n",
       "</div>\n",
       "<div class=\"result-link-bar-container\">\n",
       "<div class=\"result-link-bar\"><span class=\"date\">6 days ago</span> <span class=\"tt_set\" id=\"tt_set_4\">  -  <a class=\"sl resultLink save-job-link \" href=\"#\" id=\"sj_b2fb7de3ca3d79ed\" onclick=\"changeJobState('b2fb7de3ca3d79ed', 'save', 'linkbar', false, ''); return false;\" title=\"Save this job to my.indeed\">save job</a> - <a class=\"sl resultLink more-link \" href=\"#\" id=\"tog_4\" onclick=\"toggleMoreLinks('b2fb7de3ca3d79ed'); return false;\">more...</a></span><div class=\"edit_note_content\" id=\"editsaved2_b2fb7de3ca3d79ed\" style=\"display:none;\"></div><script>if (!window['result_b2fb7de3ca3d79ed']) {window['result_b2fb7de3ca3d79ed'] = {};}window['result_b2fb7de3ca3d79ed']['showSource'] = false; window['result_b2fb7de3ca3d79ed']['source'] = \"Amazon.com\"; window['result_b2fb7de3ca3d79ed']['loggedIn'] = false; window['result_b2fb7de3ca3d79ed']['showMyJobsLinks'] = false;window['result_b2fb7de3ca3d79ed']['undoAction'] = \"unsave\";window['result_b2fb7de3ca3d79ed']['relativeJobAge'] = \"6 days ago\";window['result_b2fb7de3ca3d79ed']['jobKey'] = \"b2fb7de3ca3d79ed\"; window['result_b2fb7de3ca3d79ed']['myIndeedAvailable'] = true; window['result_b2fb7de3ca3d79ed']['showMoreActionsLink'] = window['result_b2fb7de3ca3d79ed']['showMoreActionsLink'] || true; window['result_b2fb7de3ca3d79ed']['resultNumber'] = 4; window['result_b2fb7de3ca3d79ed']['jobStateChangedToSaved'] = false; window['result_b2fb7de3ca3d79ed']['searchState'] = \"q=data scientist&amp;\"; window['result_b2fb7de3ca3d79ed']['basicPermaLink'] = \"https://www.indeed.com\"; window['result_b2fb7de3ca3d79ed']['saveJobFailed'] = false; window['result_b2fb7de3ca3d79ed']['removeJobFailed'] = false; window['result_b2fb7de3ca3d79ed']['requestPending'] = false; window['result_b2fb7de3ca3d79ed']['notesEnabled'] = true; window['result_b2fb7de3ca3d79ed']['currentPage'] = \"serp\"; window['result_b2fb7de3ca3d79ed']['sponsored'] = false;window['result_b2fb7de3ca3d79ed']['reportJobButtonEnabled'] = false; window['result_b2fb7de3ca3d79ed']['showMyJobsHired'] = false; window['result_b2fb7de3ca3d79ed']['showSaveForSponsored'] = false; window['result_b2fb7de3ca3d79ed']['showJobAge'] = true;</script></div></div>\n",
       "<div class=\"tab-container\">\n",
       "<div class=\"more-links-container result-tab\" id=\"tt_display_4\" style=\"display:none;\"><a class=\"close-link closeLink\" href=\"#\" onclick=\"toggleMoreLinks('b2fb7de3ca3d79ed'); return false;\" title=\"Close\"></a><div class=\"more_actions\" id=\"more_4\"><ul><li><span class=\"mat\">View all <a href=\"/q-Amazon-Com-l-Seattle,-WA-jobs.html\" rel=\"nofollow\">Amazon.com jobs in Seattle, WA</a> - <a href=\"/l-Seattle,-WA-jobs.html\">Seattle jobs</a></span></li><li><span class=\"mat\">Salary Search: <a href=\"/salaries/Data-Scientist-Salaries,-Seattle-WA\" onmousedown=\"this.href = appendParamsOnce(this.href, '?campaignid=serp-more&amp;fromjk=b2fb7de3ca3d79ed&amp;from=serp-more');\">Data Scientist salaries in Seattle, WA</a></span></li><li><span class=\"mat\">Learn more about working at <a href=\"/cmp/Amazon.com\" onmousedown=\"this.href = appendParamsOnce(this.href, '?fromjk=b2fb7de3ca3d79ed&amp;from=serp-more&amp;campaignid=serp-more&amp;jcid=fe2d21eef233e94a');\">Amazon.com</a></span></li><li><span class=\"mat\"><a href=\"/cmp/Amazon.com/faq\" onmousedown=\"this.href = appendParamsOnce(this.href, '?from=serp-more&amp;campaignid=serp-more&amp;fromjk=b2fb7de3ca3d79ed&amp;jcid=fe2d21eef233e94a');\">Amazon.com questions about work, benefits, interviews and hiring process:</a><ul><li><a href=\"/cmp/Amazon.com/faq/what-would-you-suggest-amazon-com-management-do-to-prevent-others-from-leaving-for-this-reason?quid=1bb857n98brch8lj\" onmousedown=\"this.href = appendParamsOnce(this.href, '?from=serp-more&amp;campaignid=serp-more&amp;fromjk=b2fb7de3ca3d79ed&amp;jcid=fe2d21eef233e94a');\">What would you suggest Amazon.com management do to prevent others from l...</a></li><li><a href=\"/cmp/Amazon.com/faq/if-you-were-to-leave-amazon-com-what-would-be-the-reason?quid=1bb9r3ilcakgj8dv\" onmousedown=\"this.href = appendParamsOnce(this.href, '?from=serp-more&amp;campaignid=serp-more&amp;fromjk=b2fb7de3ca3d79ed&amp;jcid=fe2d21eef233e94a');\">If you were to leave Amazon.com, what would be the reason?</a></li></ul></span></li><li><span class=\"mat\">Related forums: <a href=\"/forum/loc/Seattle-Washington.html\">Seattle, Washington</a></span></li></ul></div></div><div class=\"dya-container result-tab\"></div>\n",
       "<div class=\"tellafriend-container result-tab email_job_content\"></div>\n",
       "<div class=\"sign-in-container result-tab\"></div>\n",
       "<div class=\"notes-container result-tab\"></div>\n",
       "</div>\n",
       "</td>\n",
       "</tr>\n",
       "</table>\n",
       "</div>\n",
       "<div class=\" row result\" data-jk=\"ca7f5db2163ca560\" data-tn-component=\"organicJob\" data-tu=\"\" id=\"p_ca7f5db2163ca560\">\n",
       "<h2 class=\"jobtitle\" id=\"jl_ca7f5db2163ca560\">\n",
       "<a class=\"turnstileLink\" data-tn-element=\"jobTitle\" href=\"/rc/clk?jk=ca7f5db2163ca560&amp;fccid=d7d9a8241ba2f3ec&amp;vjs=3\" onclick=\"setRefineByCookie([]); return rclk(this,jobmap[5],true,0);\" onmousedown=\"return rclk(this,jobmap[5],0);\" rel=\"noopener nofollow\" target=\"_blank\" title=\"Data Scientist\"><b>Data</b> <b>Scientist</b></a>\n",
       "</h2>\n",
       "<span class=\"company\">\n",
       "<a href=\"/cmp/Cargill\" onmousedown=\"this.href = appendParamsOnce(this.href, 'from=SERP&amp;campaignid=serp-linkcompanyname&amp;fromjk=ca7f5db2163ca560&amp;jcid=d7d9a8241ba2f3ec')\" rel=\"noopener\" target=\"_blank\">\n",
       "    Cargill</a></span>\n",
       "\n",
       " - <a class=\"turnstileLink slNoUnderline \" data-tn-element=\"reviewStars\" data-tn-variant=\"cmplinktst2\" href=\"/cmp/Cargill/reviews\" onmousedown=\"this.href = appendParamsOnce(this.href, '?campaignid=cmplinktst2&amp;from=SERP&amp;jt=Data+Scientist&amp;fromjk=ca7f5db2163ca560&amp;jcid=d7d9a8241ba2f3ec');\" rel=\"noopener\" target=\"_blank\" title=\"Cargill reviews\">\n",
       "<span class=\"ratings\"><span class=\"rating\" style=\"width:44.4px\"><!-- --></span></span>\n",
       "<span class=\"slNoUnderline\">2,598 reviews</span></a>\n",
       " - <span class=\"location\">Plymouth, MN</span><table border=\"0\" cellpadding=\"0\" cellspacing=\"0\">\n",
       "<tr>\n",
       "<td class=\"snip\">\n",
       "<div class=\"paddedSummaryExperience\">\n",
       "<span class=\"summary\">\n",
       "            10% Work in a cross-disciplinary project team of database specialists, <b>data</b> <b>scientists</b>, and business subject-matter experts to complete project deliverables on...</span>\n",
       "<div class=\"experience\">\n",
       "<span class=\"experienceHeader\">Desired Experience: </span><span class=\"experienceList\">Machine Learning, R, Big Data, Hadoop, Image Processing, Spark, Git, Python, AWS</span>\n",
       "</div>\n",
       "</div>\n",
       "<div class=\"result-link-bar-container\">\n",
       "<div class=\"result-link-bar\"><span class=\"date\">15 days ago</span> <span class=\"tt_set\" id=\"tt_set_5\">  -  <a class=\"sl resultLink save-job-link \" href=\"#\" id=\"sj_ca7f5db2163ca560\" onclick=\"changeJobState('ca7f5db2163ca560', 'save', 'linkbar', false, ''); return false;\" title=\"Save this job to my.indeed\">save job</a> - <a class=\"sl resultLink more-link \" href=\"#\" id=\"tog_5\" onclick=\"toggleMoreLinks('ca7f5db2163ca560'); return false;\">more...</a></span><div class=\"edit_note_content\" id=\"editsaved2_ca7f5db2163ca560\" style=\"display:none;\"></div><script>if (!window['result_ca7f5db2163ca560']) {window['result_ca7f5db2163ca560'] = {};}window['result_ca7f5db2163ca560']['showSource'] = false; window['result_ca7f5db2163ca560']['source'] = \"Cargill\"; window['result_ca7f5db2163ca560']['loggedIn'] = false; window['result_ca7f5db2163ca560']['showMyJobsLinks'] = false;window['result_ca7f5db2163ca560']['undoAction'] = \"unsave\";window['result_ca7f5db2163ca560']['relativeJobAge'] = \"15 days ago\";window['result_ca7f5db2163ca560']['jobKey'] = \"ca7f5db2163ca560\"; window['result_ca7f5db2163ca560']['myIndeedAvailable'] = true; window['result_ca7f5db2163ca560']['showMoreActionsLink'] = window['result_ca7f5db2163ca560']['showMoreActionsLink'] || true; window['result_ca7f5db2163ca560']['resultNumber'] = 5; window['result_ca7f5db2163ca560']['jobStateChangedToSaved'] = false; window['result_ca7f5db2163ca560']['searchState'] = \"q=data scientist&amp;\"; window['result_ca7f5db2163ca560']['basicPermaLink'] = \"https://www.indeed.com\"; window['result_ca7f5db2163ca560']['saveJobFailed'] = false; window['result_ca7f5db2163ca560']['removeJobFailed'] = false; window['result_ca7f5db2163ca560']['requestPending'] = false; window['result_ca7f5db2163ca560']['notesEnabled'] = true; window['result_ca7f5db2163ca560']['currentPage'] = \"serp\"; window['result_ca7f5db2163ca560']['sponsored'] = false;window['result_ca7f5db2163ca560']['reportJobButtonEnabled'] = false; window['result_ca7f5db2163ca560']['showMyJobsHired'] = false; window['result_ca7f5db2163ca560']['showSaveForSponsored'] = false; window['result_ca7f5db2163ca560']['showJobAge'] = true;</script></div></div>\n",
       "<div class=\"tab-container\">\n",
       "<div class=\"more-links-container result-tab\" id=\"tt_display_5\" style=\"display:none;\"><a class=\"close-link closeLink\" href=\"#\" onclick=\"toggleMoreLinks('ca7f5db2163ca560'); return false;\" title=\"Close\"></a><div class=\"more_actions\" id=\"more_5\"><ul><li><span class=\"mat\">View all <a href=\"/q-Cargill-l-Plymouth,-MN-jobs.html\" rel=\"nofollow\">Cargill jobs in Plymouth, MN</a> - <a href=\"/l-Plymouth,-MN-jobs.html\">Plymouth jobs</a></span></li><li><span class=\"mat\">Salary Search: <a href=\"/salaries/Data-Scientist-Salaries,-Plymouth-MN\" onmousedown=\"this.href = appendParamsOnce(this.href, '?campaignid=serp-more&amp;fromjk=ca7f5db2163ca560&amp;from=serp-more-nofollow');\" rel='\"nofollow\"'>Data Scientist salaries in Plymouth, MN</a></span></li><li><span class=\"mat\">Learn more about working at <a href=\"/cmp/Cargill\" onmousedown=\"this.href = appendParamsOnce(this.href, '?fromjk=ca7f5db2163ca560&amp;from=serp-more&amp;campaignid=serp-more&amp;jcid=d7d9a8241ba2f3ec');\">Cargill</a></span></li><li><span class=\"mat\"><a href=\"/cmp/Cargill/faq\" onmousedown=\"this.href = appendParamsOnce(this.href, '?from=serp-more&amp;campaignid=serp-more&amp;fromjk=ca7f5db2163ca560&amp;jcid=d7d9a8241ba2f3ec');\">Cargill questions about work, benefits, interviews and hiring process:</a><ul><li><a href=\"/cmp/Cargill/faq/do-you-get-paid-weekly?quid=1b249c8h31bad7ai\" onmousedown=\"this.href = appendParamsOnce(this.href, '?from=serp-more&amp;campaignid=serp-more&amp;fromjk=ca7f5db2163ca560&amp;jcid=d7d9a8241ba2f3ec');\">Do you get paid weekly</a></li><li><a href=\"/cmp/Cargill/faq/what-benefits-does-the-company-provide?quid=1am96e5mpakaccit\" onmousedown=\"this.href = appendParamsOnce(this.href, '?from=serp-more&amp;campaignid=serp-more&amp;fromjk=ca7f5db2163ca560&amp;jcid=d7d9a8241ba2f3ec');\">What benefits does the company provide?</a></li></ul></span></li><li><span class=\"mat\">Related forums: <a href=\"/forum/cmp/Cargill.html\">Cargill</a> - <a href=\"/forum/loc/Plymouth-Minnesota.html\">Plymouth, Minnesota</a></span></li></ul></div></div><div class=\"dya-container result-tab\"></div>\n",
       "<div class=\"tellafriend-container result-tab email_job_content\"></div>\n",
       "<div class=\"sign-in-container result-tab\"></div>\n",
       "<div class=\"notes-container result-tab\"></div>\n",
       "</div>\n",
       "</td>\n",
       "</tr>\n",
       "</table>\n",
       "</div>\n",
       "<div class=\" row result\" data-jk=\"f0ba6c0293a4de16\" data-tn-component=\"organicJob\" data-tu=\"\" id=\"p_f0ba6c0293a4de16\">\n",
       "<h2 class=\"jobtitle\" id=\"jl_f0ba6c0293a4de16\">\n",
       "<a class=\"turnstileLink\" data-tn-element=\"jobTitle\" href=\"/rc/clk?jk=f0ba6c0293a4de16&amp;fccid=8a813d7674dea751&amp;vjs=3\" onclick=\"setRefineByCookie([]); return rclk(this,jobmap[6],true,0);\" onmousedown=\"return rclk(this,jobmap[6],0);\" rel=\"noopener nofollow\" target=\"_blank\" title=\"Jr. Data Scientist\">Jr. <b>Data</b> <b>Scientist</b></a>\n",
       "</h2>\n",
       "<span class=\"company\">\n",
       "<a href=\"/cmp/Perspecta\" onmousedown=\"this.href = appendParamsOnce(this.href, 'from=SERP&amp;campaignid=serp-linkcompanyname&amp;fromjk=f0ba6c0293a4de16&amp;jcid=8a813d7674dea751')\" rel=\"noopener\" target=\"_blank\">\n",
       "    Perspecta</a></span>\n",
       "\n",
       " - <a class=\"turnstileLink slNoUnderline \" data-tn-element=\"reviewStars\" data-tn-variant=\"cmplinktst2\" href=\"/cmp/Perspecta/reviews\" onmousedown=\"this.href = appendParamsOnce(this.href, '?campaignid=cmplinktst2&amp;from=SERP&amp;jt=Jr.+Data+Scientist&amp;fromjk=f0ba6c0293a4de16&amp;jcid=8a813d7674dea751');\" rel=\"noopener\" target=\"_blank\" title=\"Perspecta reviews\">\n",
       "<span class=\"ratings\"><span class=\"rating\" style=\"width:52.8px\"><!-- --></span></span>\n",
       "<span class=\"slNoUnderline\">3 reviews</span></a>\n",
       " - <span class=\"location\">Loveland, CO</span><table border=\"0\" cellpadding=\"0\" cellspacing=\"0\">\n",
       "<tr>\n",
       "<td class=\"snip\">\n",
       "<div class=\"paddedSummaryExperience\">\n",
       "<span class=\"summary\">\n",
       "            Has knowledge of commonly-used <b>data</b> aggregation, visualization, and modelling techniques. Knowledge of statistical analysis methodologies and experimental...</span>\n",
       "<div class=\"experience\">\n",
       "<span class=\"experienceHeader\">Desired Experience: </span><span class=\"experienceList\">R, SAS</span>\n",
       "</div>\n",
       "</div>\n",
       "<div class=\"result-link-bar-container\">\n",
       "<div class=\"result-link-bar\"><span class=\"date\">1 day ago</span> <span class=\"tt_set\" id=\"tt_set_6\">  -  <a class=\"sl resultLink save-job-link \" href=\"#\" id=\"sj_f0ba6c0293a4de16\" onclick=\"changeJobState('f0ba6c0293a4de16', 'save', 'linkbar', false, ''); return false;\" title=\"Save this job to my.indeed\">save job</a> - <a class=\"sl resultLink more-link \" href=\"#\" id=\"tog_6\" onclick=\"toggleMoreLinks('f0ba6c0293a4de16'); return false;\">more...</a></span><div class=\"edit_note_content\" id=\"editsaved2_f0ba6c0293a4de16\" style=\"display:none;\"></div><script>if (!window['result_f0ba6c0293a4de16']) {window['result_f0ba6c0293a4de16'] = {};}window['result_f0ba6c0293a4de16']['showSource'] = false; window['result_f0ba6c0293a4de16']['source'] = \"Perspecta\"; window['result_f0ba6c0293a4de16']['loggedIn'] = false; window['result_f0ba6c0293a4de16']['showMyJobsLinks'] = false;window['result_f0ba6c0293a4de16']['undoAction'] = \"unsave\";window['result_f0ba6c0293a4de16']['relativeJobAge'] = \"1 day ago\";window['result_f0ba6c0293a4de16']['jobKey'] = \"f0ba6c0293a4de16\"; window['result_f0ba6c0293a4de16']['myIndeedAvailable'] = true; window['result_f0ba6c0293a4de16']['showMoreActionsLink'] = window['result_f0ba6c0293a4de16']['showMoreActionsLink'] || true; window['result_f0ba6c0293a4de16']['resultNumber'] = 6; window['result_f0ba6c0293a4de16']['jobStateChangedToSaved'] = false; window['result_f0ba6c0293a4de16']['searchState'] = \"q=data scientist&amp;\"; window['result_f0ba6c0293a4de16']['basicPermaLink'] = \"https://www.indeed.com\"; window['result_f0ba6c0293a4de16']['saveJobFailed'] = false; window['result_f0ba6c0293a4de16']['removeJobFailed'] = false; window['result_f0ba6c0293a4de16']['requestPending'] = false; window['result_f0ba6c0293a4de16']['notesEnabled'] = true; window['result_f0ba6c0293a4de16']['currentPage'] = \"serp\"; window['result_f0ba6c0293a4de16']['sponsored'] = false;window['result_f0ba6c0293a4de16']['reportJobButtonEnabled'] = false; window['result_f0ba6c0293a4de16']['showMyJobsHired'] = false; window['result_f0ba6c0293a4de16']['showSaveForSponsored'] = false; window['result_f0ba6c0293a4de16']['showJobAge'] = true;</script></div></div>\n",
       "<div class=\"tab-container\">\n",
       "<div class=\"more-links-container result-tab\" id=\"tt_display_6\" style=\"display:none;\"><a class=\"close-link closeLink\" href=\"#\" onclick=\"toggleMoreLinks('f0ba6c0293a4de16'); return false;\" title=\"Close\"></a><div class=\"more_actions\" id=\"more_6\"><ul><li><span class=\"mat\">View all <a href=\"/q-Perspecta-l-Loveland,-CO-jobs.html\" rel=\"nofollow\">Perspecta jobs in Loveland, CO</a> - <a href=\"/l-Loveland,-CO-jobs.html\">Loveland jobs</a></span></li><li><span class=\"mat\">Salary Search: <a href=\"/salaries/Data-Scientist-Salaries,-Loveland-CO\" onmousedown=\"this.href = appendParamsOnce(this.href, '?campaignid=serp-more&amp;fromjk=f0ba6c0293a4de16&amp;from=serp-more-nofollow');\" rel='\"nofollow\"'>Data Scientist salaries in Loveland, CO</a></span></li><li><span class=\"mat\">Learn more about working at <a href=\"/cmp/Perspecta\" onmousedown=\"this.href = appendParamsOnce(this.href, '?fromjk=f0ba6c0293a4de16&amp;from=serp-more&amp;campaignid=serp-more&amp;jcid=8a813d7674dea751');\">Perspecta</a></span></li><li><span class=\"mat\">Related forums: <a href=\"/forum/cmp/Perspecta.html\">Perspecta</a> - <a href=\"/forum/loc/Loveland-Colorado.html\">Loveland, Colorado</a></span></li></ul></div></div><div class=\"dya-container result-tab\"></div>\n",
       "<div class=\"tellafriend-container result-tab email_job_content\"></div>\n",
       "<div class=\"sign-in-container result-tab\"></div>\n",
       "<div class=\"notes-container result-tab\"></div>\n",
       "</div>\n",
       "</td>\n",
       "</tr>\n",
       "</table>\n",
       "</div>\n",
       "<div class=\" row result\" data-jk=\"ddbe2ae81cccfd61\" data-tn-component=\"organicJob\" data-tu=\"\" id=\"p_ddbe2ae81cccfd61\">\n",
       "<h2 class=\"jobtitle\" id=\"jl_ddbe2ae81cccfd61\">\n",
       "<a class=\"turnstileLink\" data-tn-element=\"jobTitle\" href=\"/rc/clk?jk=ddbe2ae81cccfd61&amp;fccid=14bf2da92865aecf&amp;vjs=3\" onclick=\"setRefineByCookie([]); return rclk(this,jobmap[7],true,0);\" onmousedown=\"return rclk(this,jobmap[7],0);\" rel=\"noopener nofollow\" target=\"_blank\" title=\"Data Scientist - Predictive Modeling\"><b>Data</b> <b>Scientist</b> - Predictive Modeling</a>\n",
       "</h2>\n",
       "<span class=\"company\">\n",
       "<a href=\"/cmp/Carvana\" onmousedown=\"this.href = appendParamsOnce(this.href, 'from=SERP&amp;campaignid=serp-linkcompanyname&amp;fromjk=ddbe2ae81cccfd61&amp;jcid=14bf2da92865aecf')\" rel=\"noopener\" target=\"_blank\">\n",
       "    Carvana</a></span>\n",
       "\n",
       " - <a class=\"turnstileLink slNoUnderline \" data-tn-element=\"reviewStars\" data-tn-variant=\"cmplinktst2\" href=\"/cmp/Carvana/reviews\" onmousedown=\"this.href = appendParamsOnce(this.href, '?campaignid=cmplinktst2&amp;from=SERP&amp;jt=Data+Scientist+-+Predictive+Modeling&amp;fromjk=ddbe2ae81cccfd61&amp;jcid=14bf2da92865aecf');\" rel=\"noopener\" target=\"_blank\" title=\"Carvana reviews\">\n",
       "<span class=\"ratings\"><span class=\"rating\" style=\"width:40.8px\"><!-- --></span></span>\n",
       "<span class=\"slNoUnderline\">53 reviews</span></a>\n",
       " - <span class=\"location\">Tempe, AZ</span><table border=\"0\" cellpadding=\"0\" cellspacing=\"0\">\n",
       "<tr>\n",
       "<td class=\"snip\">\n",
       "<div class=\"paddedSummaryExperience\">\n",
       "<span class=\"summary\">\n",
       "            You will have the opportunity to work with a top-caliber team of former professors and PhDs, develop insights from a large array of proprietary datasets, and...</span>\n",
       "<div class=\"experience\">\n",
       "<span class=\"experienceHeader\">Desired Experience: </span><span class=\"experienceList\">Quantitative Analysis, Data Mining, Machine Learning, Hadoop, R, SAS, Java, .Net, Natural Language Processing, MATLAB, Python</span>\n",
       "</div>\n",
       "</div>\n",
       "<div class=\"result-link-bar-container\">\n",
       "<div class=\"result-link-bar\"><span class=\"date\">7 days ago</span> <span class=\"tt_set\" id=\"tt_set_7\">  -  <a class=\"sl resultLink save-job-link \" href=\"#\" id=\"sj_ddbe2ae81cccfd61\" onclick=\"changeJobState('ddbe2ae81cccfd61', 'save', 'linkbar', false, ''); return false;\" title=\"Save this job to my.indeed\">save job</a> - <a class=\"sl resultLink more-link \" href=\"#\" id=\"tog_7\" onclick=\"toggleMoreLinks('ddbe2ae81cccfd61'); return false;\">more...</a></span><div class=\"edit_note_content\" id=\"editsaved2_ddbe2ae81cccfd61\" style=\"display:none;\"></div><script>if (!window['result_ddbe2ae81cccfd61']) {window['result_ddbe2ae81cccfd61'] = {};}window['result_ddbe2ae81cccfd61']['showSource'] = false; window['result_ddbe2ae81cccfd61']['source'] = \"Carvana\"; window['result_ddbe2ae81cccfd61']['loggedIn'] = false; window['result_ddbe2ae81cccfd61']['showMyJobsLinks'] = false;window['result_ddbe2ae81cccfd61']['undoAction'] = \"unsave\";window['result_ddbe2ae81cccfd61']['relativeJobAge'] = \"7 days ago\";window['result_ddbe2ae81cccfd61']['jobKey'] = \"ddbe2ae81cccfd61\"; window['result_ddbe2ae81cccfd61']['myIndeedAvailable'] = true; window['result_ddbe2ae81cccfd61']['showMoreActionsLink'] = window['result_ddbe2ae81cccfd61']['showMoreActionsLink'] || true; window['result_ddbe2ae81cccfd61']['resultNumber'] = 7; window['result_ddbe2ae81cccfd61']['jobStateChangedToSaved'] = false; window['result_ddbe2ae81cccfd61']['searchState'] = \"q=data scientist&amp;\"; window['result_ddbe2ae81cccfd61']['basicPermaLink'] = \"https://www.indeed.com\"; window['result_ddbe2ae81cccfd61']['saveJobFailed'] = false; window['result_ddbe2ae81cccfd61']['removeJobFailed'] = false; window['result_ddbe2ae81cccfd61']['requestPending'] = false; window['result_ddbe2ae81cccfd61']['notesEnabled'] = true; window['result_ddbe2ae81cccfd61']['currentPage'] = \"serp\"; window['result_ddbe2ae81cccfd61']['sponsored'] = false;window['result_ddbe2ae81cccfd61']['reportJobButtonEnabled'] = false; window['result_ddbe2ae81cccfd61']['showMyJobsHired'] = false; window['result_ddbe2ae81cccfd61']['showSaveForSponsored'] = false; window['result_ddbe2ae81cccfd61']['showJobAge'] = true;</script></div></div>\n",
       "<div class=\"tab-container\">\n",
       "<div class=\"more-links-container result-tab\" id=\"tt_display_7\" style=\"display:none;\"><a class=\"close-link closeLink\" href=\"#\" onclick=\"toggleMoreLinks('ddbe2ae81cccfd61'); return false;\" title=\"Close\"></a><div class=\"more_actions\" id=\"more_7\"><ul><li><span class=\"mat\">View all <a href=\"/q-Carvana-l-Tempe,-AZ-jobs.html\" rel=\"nofollow\">Carvana jobs in Tempe, AZ</a> - <a href=\"/l-Tempe,-AZ-jobs.html\">Tempe jobs</a></span></li><li><span class=\"mat\">Salary Search: <a href=\"/salaries/Predictive-Modeler-Salaries,-Tempe-AZ\" onmousedown=\"this.href = appendParamsOnce(this.href, '?campaignid=serp-more&amp;fromjk=ddbe2ae81cccfd61&amp;from=serp-more-nofollow');\" rel='\"nofollow\"'>Predictive Modeler salaries in Tempe, AZ</a></span></li><li><span class=\"mat\">Learn more about working at <a href=\"/cmp/Carvana\" onmousedown=\"this.href = appendParamsOnce(this.href, '?fromjk=ddbe2ae81cccfd61&amp;from=serp-more&amp;campaignid=serp-more&amp;jcid=14bf2da92865aecf');\">Carvana</a></span></li><li><span class=\"mat\"><a href=\"/cmp/Carvana/faq\" onmousedown=\"this.href = appendParamsOnce(this.href, '?from=serp-more&amp;campaignid=serp-more&amp;fromjk=ddbe2ae81cccfd61&amp;jcid=14bf2da92865aecf');\">Carvana questions about work, benefits, interviews and hiring process:</a><ul><li><a href=\"/cmp/Carvana/faq/what-is-the-work-environment-and-culture-like-at-carvana?quid=1aqunesb4aqiqdrt\" onmousedown=\"this.href = appendParamsOnce(this.href, '?from=serp-more&amp;campaignid=serp-more&amp;fromjk=ddbe2ae81cccfd61&amp;jcid=14bf2da92865aecf');\">What is the work environment and culture like at CARVANA?</a></li><li><a href=\"/cmp/Carvana/faq/what-is-the-most-stressful-part-about-working-at-carvana?quid=1avde5veeb86ielh\" onmousedown=\"this.href = appendParamsOnce(this.href, '?from=serp-more&amp;campaignid=serp-more&amp;fromjk=ddbe2ae81cccfd61&amp;jcid=14bf2da92865aecf');\">What is the most stressful part about working at CARVANA?</a></li></ul></span></li><li><span class=\"mat\">Related forums: <a href=\"/forum/loc/Tempe-Arizona.html\">Tempe, Arizona</a> - <a href=\"/forum/cmp/Carvana.html\">CARVANA</a></span></li></ul></div></div><div class=\"dya-container result-tab\"></div>\n",
       "<div class=\"tellafriend-container result-tab email_job_content\"></div>\n",
       "<div class=\"sign-in-container result-tab\"></div>\n",
       "<div class=\"notes-container result-tab\"></div>\n",
       "</div>\n",
       "</td>\n",
       "</tr>\n",
       "</table>\n",
       "</div>\n",
       "<div class=\" row result\" data-jk=\"a336320e13ab52e4\" data-tn-component=\"organicJob\" data-tu=\"\" id=\"p_a336320e13ab52e4\">\n",
       "<h2 class=\"jobtitle\" id=\"jl_a336320e13ab52e4\">\n",
       "<a class=\"turnstileLink\" data-tn-element=\"jobTitle\" href=\"/rc/clk?jk=a336320e13ab52e4&amp;fccid=fe2d21eef233e94a&amp;vjs=3\" onclick=\"setRefineByCookie([]); return rclk(this,jobmap[8],true,0);\" onmousedown=\"return rclk(this,jobmap[8],0);\" rel=\"noopener nofollow\" target=\"_blank\" title=\"Data Scientist - Natural Language Processing\"><b>Data</b> <b>Scientist</b> - Natural Language Processing</a>\n",
       "</h2>\n",
       "<span class=\"company\">\n",
       "<a href=\"/cmp/Amazon.com\" onmousedown=\"this.href = appendParamsOnce(this.href, 'from=SERP&amp;campaignid=serp-linkcompanyname&amp;fromjk=a336320e13ab52e4&amp;jcid=fe2d21eef233e94a')\" rel=\"noopener\" target=\"_blank\">\n",
       "    Amazon.com</a></span>\n",
       "\n",
       " - <a class=\"turnstileLink slNoUnderline \" data-tn-element=\"reviewStars\" data-tn-variant=\"cmplinktst2\" href=\"/cmp/Amazon.com/reviews\" onmousedown=\"this.href = appendParamsOnce(this.href, '?campaignid=cmplinktst2&amp;from=SERP&amp;jt=Data+Scientist+-+Natural+Language+Processing&amp;fromjk=a336320e13ab52e4&amp;jcid=fe2d21eef233e94a');\" rel=\"noopener\" target=\"_blank\" title=\"Amazon.com reviews\">\n",
       "<span class=\"ratings\"><span class=\"rating\" style=\"width:43.2px\"><!-- --></span></span>\n",
       "<span class=\"slNoUnderline\">24,665 reviews</span></a>\n",
       " - <span class=\"location\">Boston, MA</span><table border=\"0\" cellpadding=\"0\" cellspacing=\"0\">\n",
       "<tr>\n",
       "<td class=\"snip\">\n",
       "<div class=\"paddedSummaryExperience\">\n",
       "<span class=\"summary\">\n",
       "            Ensure <b>data</b> quality throughout all stages of acquisition and processing, including such areas as <b>data</b> sourcing/collection, ground truth generation,...</span>\n",
       "<div class=\"experience\">\n",
       "<span class=\"experienceHeader\">Desired Experience: </span><span class=\"experienceList\">Natural Language Processing, Machine Learning, Perl, Python</span>\n",
       "</div>\n",
       "</div>\n",
       "<div class=\"result-link-bar-container\">\n",
       "<div class=\"result-link-bar\"><span class=\"date\">30+ days ago</span> <span class=\"tt_set\" id=\"tt_set_8\">  -  <a class=\"sl resultLink save-job-link \" href=\"#\" id=\"sj_a336320e13ab52e4\" onclick=\"changeJobState('a336320e13ab52e4', 'save', 'linkbar', false, ''); return false;\" title=\"Save this job to my.indeed\">save job</a> - <a class=\"sl resultLink more-link \" href=\"#\" id=\"tog_8\" onclick=\"toggleMoreLinks('a336320e13ab52e4'); return false;\">more...</a></span><div class=\"edit_note_content\" id=\"editsaved2_a336320e13ab52e4\" style=\"display:none;\"></div><script>if (!window['result_a336320e13ab52e4']) {window['result_a336320e13ab52e4'] = {};}window['result_a336320e13ab52e4']['showSource'] = false; window['result_a336320e13ab52e4']['source'] = \"Amazon.com\"; window['result_a336320e13ab52e4']['loggedIn'] = false; window['result_a336320e13ab52e4']['showMyJobsLinks'] = false;window['result_a336320e13ab52e4']['undoAction'] = \"unsave\";window['result_a336320e13ab52e4']['relativeJobAge'] = \"30+ days ago\";window['result_a336320e13ab52e4']['jobKey'] = \"a336320e13ab52e4\"; window['result_a336320e13ab52e4']['myIndeedAvailable'] = true; window['result_a336320e13ab52e4']['showMoreActionsLink'] = window['result_a336320e13ab52e4']['showMoreActionsLink'] || true; window['result_a336320e13ab52e4']['resultNumber'] = 8; window['result_a336320e13ab52e4']['jobStateChangedToSaved'] = false; window['result_a336320e13ab52e4']['searchState'] = \"q=data scientist&amp;\"; window['result_a336320e13ab52e4']['basicPermaLink'] = \"https://www.indeed.com\"; window['result_a336320e13ab52e4']['saveJobFailed'] = false; window['result_a336320e13ab52e4']['removeJobFailed'] = false; window['result_a336320e13ab52e4']['requestPending'] = false; window['result_a336320e13ab52e4']['notesEnabled'] = true; window['result_a336320e13ab52e4']['currentPage'] = \"serp\"; window['result_a336320e13ab52e4']['sponsored'] = false;window['result_a336320e13ab52e4']['reportJobButtonEnabled'] = false; window['result_a336320e13ab52e4']['showMyJobsHired'] = false; window['result_a336320e13ab52e4']['showSaveForSponsored'] = false; window['result_a336320e13ab52e4']['showJobAge'] = true;</script></div></div>\n",
       "<div class=\"tab-container\">\n",
       "<div class=\"more-links-container result-tab\" id=\"tt_display_8\" style=\"display:none;\"><a class=\"close-link closeLink\" href=\"#\" onclick=\"toggleMoreLinks('a336320e13ab52e4'); return false;\" title=\"Close\"></a><div class=\"more_actions\" id=\"more_8\"><ul><li><span class=\"mat\">View all <a href=\"/q-Amazon-Com-l-Boston,-MA-jobs.html\" rel=\"nofollow\">Amazon.com jobs in Boston, MA</a> - <a href=\"/l-Boston,-MA-jobs.html\">Boston jobs</a></span></li><li><span class=\"mat\">Salary Search: <a href=\"/salaries/Data-Scientist-Salaries,-Boston-MA\" onmousedown=\"this.href = appendParamsOnce(this.href, '?campaignid=serp-more&amp;fromjk=a336320e13ab52e4&amp;from=serp-more');\">Data Scientist salaries in Boston, MA</a></span></li><li><span class=\"mat\">Learn more about working at <a href=\"/cmp/Amazon.com\" onmousedown=\"this.href = appendParamsOnce(this.href, '?fromjk=a336320e13ab52e4&amp;from=serp-more&amp;campaignid=serp-more&amp;jcid=fe2d21eef233e94a');\">Amazon.com</a></span></li><li><span class=\"mat\"><a href=\"/cmp/Amazon.com/faq\" onmousedown=\"this.href = appendParamsOnce(this.href, '?from=serp-more&amp;campaignid=serp-more&amp;fromjk=a336320e13ab52e4&amp;jcid=fe2d21eef233e94a');\">Amazon.com questions about work, benefits, interviews and hiring process:</a><ul><li><a href=\"/cmp/Amazon.com/faq/what-would-you-suggest-amazon-com-management-do-to-prevent-others-from-leaving-for-this-reason?quid=1bb857n98brch8lj\" onmousedown=\"this.href = appendParamsOnce(this.href, '?from=serp-more&amp;campaignid=serp-more&amp;fromjk=a336320e13ab52e4&amp;jcid=fe2d21eef233e94a');\">What would you suggest Amazon.com management do to prevent others from l...</a></li><li><a href=\"/cmp/Amazon.com/faq/if-you-were-to-leave-amazon-com-what-would-be-the-reason?quid=1bb9r3ilcakgj8dv\" onmousedown=\"this.href = appendParamsOnce(this.href, '?from=serp-more&amp;campaignid=serp-more&amp;fromjk=a336320e13ab52e4&amp;jcid=fe2d21eef233e94a');\">If you were to leave Amazon.com, what would be the reason?</a></li></ul></span></li><li><span class=\"mat\">Related forums: <a href=\"/forum/loc/Boston-Massachusetts.html\">Boston, Massachusetts</a></span></li></ul></div></div><div class=\"dya-container result-tab\"></div>\n",
       "<div class=\"tellafriend-container result-tab email_job_content\"></div>\n",
       "<div class=\"sign-in-container result-tab\"></div>\n",
       "<div class=\"notes-container result-tab\"></div>\n",
       "</div>\n",
       "</td>\n",
       "</tr>\n",
       "</table>\n",
       "</div>\n",
       "<div class=\"lastRow row result\" data-jk=\"0e4e9a4c58a62169\" data-tn-component=\"organicJob\" data-tu=\"\" id=\"p_0e4e9a4c58a62169\">\n",
       "<h2 class=\"jobtitle\" id=\"jl_0e4e9a4c58a62169\">\n",
       "<a class=\"turnstileLink\" data-tn-element=\"jobTitle\" href=\"/company/Simarn-Solutions/jobs/Data-Scientist-0e4e9a4c58a62169?fccid=134f1ec06be0790f&amp;vjs=3\" onclick=\"setRefineByCookie([]); return rclk(this,jobmap[9],true,0);\" onmousedown=\"return rclk(this,jobmap[9],0);\" rel=\"noopener nofollow\" target=\"_blank\" title=\"Data Scientist\"><b>Data</b> <b>Scientist</b></a>\n",
       "</h2>\n",
       "<span class=\"company\">\n",
       "    Inframatix Inc</span>\n",
       "\n",
       " - <span class=\"location\">Greenville, SC</span><table border=\"0\" cellpadding=\"0\" cellspacing=\"0\">\n",
       "<tr>\n",
       "<td class=\"snip\">\n",
       "<div class=\"paddedSummaryExperience\">\n",
       "<span class=\"summary\">\n",
       "            1+ years post university experience in advanced analytics in the fields of <b>data</b> science and applying specific <b>data</b> analytics methods in retail/finance/customer...</span>\n",
       "<div class=\"experience\">\n",
       "<span class=\"experienceHeader\">Desired Experience: </span><span class=\"experienceList\">AI, Business Intelligence, Hive, Data Mining, Machine Learning, Hadoop, SAP, R, Oracle, C/C++, HBase, Tableau, Java, Big Data, Splunk, Natural Language Processing, Spark, QlikView, NoSQL, Python</span>\n",
       "</div>\n",
       "</div>\n",
       "<div class=\"result-link-bar-container\">\n",
       "<div class=\"result-link-bar\"><span class=\"date\">1 hour ago</span> <span class=\"tt_set\" id=\"tt_set_9\">  -  <a class=\"sl resultLink save-job-link \" href=\"#\" id=\"sj_0e4e9a4c58a62169\" onclick=\"changeJobState('0e4e9a4c58a62169', 'save', 'linkbar', false, ''); return false;\" title=\"Save this job to my.indeed\">save job</a> - <a class=\"sl resultLink more-link \" href=\"#\" id=\"tog_9\" onclick=\"toggleMoreLinks('0e4e9a4c58a62169'); return false;\">more...</a></span><div class=\"edit_note_content\" id=\"editsaved2_0e4e9a4c58a62169\" style=\"display:none;\"></div><script>if (!window['result_0e4e9a4c58a62169']) {window['result_0e4e9a4c58a62169'] = {};}window['result_0e4e9a4c58a62169']['showSource'] = false; window['result_0e4e9a4c58a62169']['source'] = \"Indeed\"; window['result_0e4e9a4c58a62169']['loggedIn'] = false; window['result_0e4e9a4c58a62169']['showMyJobsLinks'] = false;window['result_0e4e9a4c58a62169']['undoAction'] = \"unsave\";window['result_0e4e9a4c58a62169']['relativeJobAge'] = \"1 hour ago\";window['result_0e4e9a4c58a62169']['jobKey'] = \"0e4e9a4c58a62169\"; window['result_0e4e9a4c58a62169']['myIndeedAvailable'] = true; window['result_0e4e9a4c58a62169']['showMoreActionsLink'] = window['result_0e4e9a4c58a62169']['showMoreActionsLink'] || true; window['result_0e4e9a4c58a62169']['resultNumber'] = 9; window['result_0e4e9a4c58a62169']['jobStateChangedToSaved'] = false; window['result_0e4e9a4c58a62169']['searchState'] = \"q=data scientist&amp;\"; window['result_0e4e9a4c58a62169']['basicPermaLink'] = \"https://www.indeed.com\"; window['result_0e4e9a4c58a62169']['saveJobFailed'] = false; window['result_0e4e9a4c58a62169']['removeJobFailed'] = false; window['result_0e4e9a4c58a62169']['requestPending'] = false; window['result_0e4e9a4c58a62169']['notesEnabled'] = true; window['result_0e4e9a4c58a62169']['currentPage'] = \"serp\"; window['result_0e4e9a4c58a62169']['sponsored'] = false;window['result_0e4e9a4c58a62169']['reportJobButtonEnabled'] = false; window['result_0e4e9a4c58a62169']['showMyJobsHired'] = false; window['result_0e4e9a4c58a62169']['showSaveForSponsored'] = false; window['result_0e4e9a4c58a62169']['showJobAge'] = true;</script></div></div>\n",
       "<div class=\"tab-container\">\n",
       "<div class=\"more-links-container result-tab\" id=\"tt_display_9\" style=\"display:none;\"><a class=\"close-link closeLink\" href=\"#\" onclick=\"toggleMoreLinks('0e4e9a4c58a62169'); return false;\" title=\"Close\"></a><div class=\"more_actions\" id=\"more_9\"><ul><li><span class=\"mat\">View all <a href=\"/jobs?q=Inframatix+Inc&amp;l=Greenville,+SC&amp;nc=jasx\" rel=\"nofollow\">Inframatix Inc jobs in Greenville, SC</a> - <a href=\"/l-Greenville,-SC-jobs.html\">Greenville jobs</a></span></li><li><span class=\"mat\">Salary Search: <a href=\"/salaries/Data-Scientist-Salaries,-Greenville-SC\" onmousedown=\"this.href = appendParamsOnce(this.href, '?campaignid=serp-more&amp;fromjk=0e4e9a4c58a62169&amp;from=serp-more-nofollow');\" rel='\"nofollow\"'>Data Scientist salaries in Greenville, SC</a></span></li><li><span class=\"mat\">Related forums: <a href=\"/forum/loc/Greenville-South-Carolina.html\">Greenville, South Carolina</a> - <a href=\"/forum/cmp/Simarn-Solutions-1.html\">Simarn Solutions</a></span></li></ul></div></div><div class=\"dya-container result-tab\"></div>\n",
       "<div class=\"tellafriend-container result-tab email_job_content\"></div>\n",
       "<div class=\"sign-in-container result-tab\"></div>\n",
       "<div class=\"notes-container result-tab\"></div>\n",
       "</div>\n",
       "</td>\n",
       "</tr>\n",
       "</table>\n",
       "</div>\n",
       "<script type=\"text/javascript\">\n",
       "function ptk(st,p) {\n",
       "  document.cookie = 'PTK=\"tk=&type=jobsearch&subtype=' + st + (p ? '&' + p : '')\n",
       "     + (st == 'pagination' ? '&fp=1' : '')\n",
       "    +'\"; path=/';\n",
       "}\n",
       "</script>\n",
       "<script type=\"text/javascript\">\n",
       "function pclk(event) {\n",
       "  var evt = event || window.event;\n",
       "  var target = evt.target || evt.srcElement;\n",
       "  var el = target.nodeType == 1 ? target : target.parentNode;\n",
       "  var tag = el.tagName.toLowerCase();\n",
       "  if (tag == 'span' || tag == 'a') {\n",
       "    ptk('pagination');\n",
       "  }\n",
       "  return true;\n",
       "}\n",
       "function addPPUrlParam(obj) {\n",
       "  var pp = obj.getAttribute('data-pp');\n",
       "  var href = obj.getAttribute('href');\n",
       "  if (pp && href) {\n",
       "    obj.setAttribute('href', href + '&pp=' + pp);\n",
       "  }\n",
       "}\n",
       "</script>\n",
       "<div class=\"pagination\" onmousedown=\"pclk(event);\">Results Page:  <b>1</b>  <a data-pp=\"AAoAAAAAAAAAAAAAAAE-j_ohAQABNHuWUgKOfDm__BewoFkm_7YoBvpUMnIq4oI\" href=\"/jobs?q=data+scientist&amp;start=10\" onmousedown=\"addPPUrlParam &amp;&amp; addPPUrlParam(this);\"><span class=\"pn\">2</span></a>  <a data-pp=\"ABQAAAAAAAAAAAAAAAE-j_ohAQACSR2eneAtJNfQh9CUXgeYXY5ZeXr-AzHvl0GBAZn35sFqIfWn6Lg6wPUEF616tTSe\" href=\"/jobs?q=data+scientist&amp;start=20\" onmousedown=\"addPPUrlParam &amp;&amp; addPPUrlParam(this);\"><span class=\"pn\">3</span></a>  <a data-pp=\"AB4AAAAAAAAAAAAAAAE-j_ohAQIBBxAHJklanLpvFtBch23Y5NvgLMNZulrna_uZr5VJhOGws1c6lcnPZeAwagOTy0311dKgNLrGKVXnAo7Dqezo\" href=\"/jobs?q=data+scientist&amp;start=30\" onmousedown=\"addPPUrlParam &amp;&amp; addPPUrlParam(this);\"><span class=\"pn\">4</span></a>  <a data-pp=\"ACgAAAAAAAAAAAAAAAE-j_ohAQEBEACclUKL5nMpoyOzPIM0Tdyb8TcSkTbC8gN55zOrzlgtr3ZK97ZpnUv81C6zyaUDMwxSVvcdTUlN1-T3yG6fxpGn-JNnSo_5-qopbqM8Low\" href=\"/jobs?q=data+scientist&amp;start=40\" onmousedown=\"addPPUrlParam &amp;&amp; addPPUrlParam(this);\"><span class=\"pn\">5</span></a>   <a data-pp=\"AAoAAAAAAAAAAAAAAAE-j_ohAQABNHuWUgKOfDm__BewoFkm_7YoBvpUMnIq4oI\" href=\"/jobs?q=data+scientist&amp;start=10\" onmousedown=\"addPPUrlParam &amp;&amp; addPPUrlParam(this);\"><span class=\"pn\"><span class=\"np\">Next »</span></span></a></div>\n",
       "<div class=\"related_searches\">\n",
       "<div class=\"related_searches_list\">\n",
       "<b>People also searched: </b><ul class=\"relatedQueries-listView-pageFirst\"><li class=\"relatedQueries-listItem-pageFirst rightBorder\"><a href=\"/q-Data-Analyst-jobs.html\" onmousedown=\"this.href = appendParamsOnce(this.href, '?from=relatedQueries&amp;saIdx=1&amp;rqf=1&amp;parentQnorm=data+scientist');\">data analyst</a></li><li class=\"relatedQueries-listItem-pageFirst rightBorder\"><a href=\"/q-Data-Science-jobs.html\" onmousedown=\"this.href = appendParamsOnce(this.href, '?from=relatedQueries&amp;saIdx=2&amp;rqf=1&amp;parentQnorm=data+scientist');\">data science</a></li><li class=\"relatedQueries-listItem-pageFirst rightBorder\"><a href=\"/q-Machine-Learning-jobs.html\" onmousedown=\"this.href = appendParamsOnce(this.href, '?from=relatedQueries&amp;saIdx=3&amp;rqf=1&amp;parentQnorm=data+scientist');\">machine learning</a></li><li class=\"relatedQueries-listItem-pageFirst rightBorder\"><a href=\"/q-Data-jobs.html\" onmousedown=\"this.href = appendParamsOnce(this.href, '?from=relatedQueries&amp;saIdx=4&amp;rqf=1&amp;parentQnorm=data+scientist');\">data</a></li><li class=\"relatedQueries-listItem-pageFirst rightBorder\"><a href=\"/q-Software-Engineer-jobs.html\" onmousedown=\"this.href = appendParamsOnce(this.href, '?from=relatedQueries&amp;saIdx=5&amp;rqf=1&amp;parentQnorm=data+scientist');\">software engineer</a></li><li class=\"relatedQueries-listItem-pageFirst rightBorder\"><a href=\"/q-Python-jobs.html\" onmousedown=\"this.href = appendParamsOnce(this.href, '?from=relatedQueries&amp;saIdx=6&amp;rqf=1&amp;parentQnorm=data+scientist');\">python</a></li><li class=\"relatedQueries-listItem-pageFirst rightBorder\"><a href=\"/q-Analyst-jobs.html\" onmousedown=\"this.href = appendParamsOnce(this.href, '?from=relatedQueries&amp;saIdx=7&amp;rqf=1&amp;parentQnorm=data+scientist');\">analyst</a></li><li class=\"relatedQueries-listItem-pageFirst rightBorder\"><a href=\"/q-Business-Analyst-jobs.html\" onmousedown=\"this.href = appendParamsOnce(this.href, '?from=relatedQueries&amp;saIdx=8&amp;rqf=1&amp;parentQnorm=data+scientist');\">business analyst</a></li><li class=\"relatedQueries-listItem-pageFirst rightBorder\"><a href=\"/q-Statistician-jobs.html\" onmousedown=\"this.href = appendParamsOnce(this.href, '?from=relatedQueries&amp;saIdx=9&amp;rqf=1&amp;parentQnorm=data+scientist');\">statistician</a></li><li class=\"relatedQueries-listItem-pageFirst\"><a href=\"/q-Statistics-jobs.html\" onmousedown=\"this.href = appendParamsOnce(this.href, '?from=relatedQueries&amp;saIdx=10&amp;rqf=1&amp;parentQnorm=data+scientist');\">statistics</a></li></ul></div>\n",
       "<style type=\"text/css\">\n",
       "                .relatedQueries-listView-pageFirst {\n",
       "                    list-style-type: none;\n",
       "                    margin: 0;\n",
       "                    padding: 0;\n",
       "                }\n",
       "                .relatedQueries-listItem-pageFirst {\n",
       "                    display: inline-block;\n",
       "                }\n",
       "                .rightBorder {\n",
       "                    border-right: 1px solid #77c;\n",
       "                    margin-right: 5px;\n",
       "                    padding-right: 5px;\n",
       "                }\n",
       "                .related_searches_list > * {\n",
       "                    display: inline;\n",
       "                }\n",
       "            </style>\n",
       "</div> </td>\n",
       "<td id=\"auxCol\" role=\"complementary\">\n",
       "<div id=\"jobalertswrapper\">\n",
       "<div class=\"open jaui \" id=\"jobalerts\">\n",
       "<div class=\"jobalertlabel\">\n",
       "<span class=\"jobalerts_title\" id=\"jobalertlabel\"><span aria-label=\"alert icon\" class=\"ico\" role=\"img\"></span>Be the first to see new <b>data scientist jobs</b></span>\n",
       "</div>\n",
       "<div class=\"jaform\" id=\"jobalertform\">\n",
       "<span class=\"ja_checkmark_ui\" id=\"jobalerttext\"></span><span id=\"jobalertsending\"></span>\n",
       "<div id=\"jobalertmessage\">\n",
       "<form action=\"/alert\" method=\"POST\" onsubmit=\"return addAlertFormSubmit()\">\n",
       "<input name=\"a\" type=\"hidden\" value=\"add\"/>\n",
       "<input name=\"q\" type=\"hidden\" value=\"data scientist\"/>\n",
       "<input name=\"l\" type=\"hidden\" value=\"\"/>\n",
       "<input name=\"radius\" type=\"hidden\" value=\"25\"/>\n",
       "<input name=\"noscript\" type=\"hidden\" value=\"1\"/>\n",
       "<input name=\"tk\" type=\"hidden\" value=\"1cgf49t021fgp594\"/>\n",
       "<input id=\"alertverified\" name=\"verified\" type=\"hidden\" value=\"0\"/>\n",
       "<input name=\"alertparams\" type=\"hidden\" value=\"\"/>\n",
       "<label for=\"alertemail\">My email:</label> <input id=\"alertemail\" maxlength=\"100\" name=\"email\" size=\"25\" type=\"text\" value=\"\"/>\n",
       "<label for=\"recjobalert\" id=\"recjobalertlabel\">\n",
       "<input id=\"recjobalert\" name=\"recjobalert\" type=\"checkbox\"/>\n",
       "<span>Also get an email with jobs recommended just for me</span>\n",
       "</label>\n",
       "<span class=\"indeed-serp-button\"><span class=\"indeed-serp-button-inner\"><input class=\"indeed-serp-button-label\" id=\"alertsubmit\" type=\"submit\" value=\"Activate\"/></span></span>\n",
       "<style type=\"text/css\">\n",
       "    .indeed-serp-button { cursor : pointer !important; display : inline-block !important; padding : 1px !important; height : 31px !important; -moz-border-radius : 7px !important; border-radius : 7px !important; position : relative !important; text-decoration : none !important;background-color:#79788B; filter:progid:DXImageTransform.Microsoft.gradient(startColorstr='#BCBBCD', endColorstr='#79788B', GradientType=0);background-image: -webkit-gradient(linear, center top, center bottom, from(#BCBBCD), to(#79788B)) !important;background-image: -webkit-linear-gradient(top, #BCBBCD, #79788B) !important;background-image: -moz-linear-gradient(top, #BCBBCD, #79788B) !important;background-image: -o-linear-gradient(top, #BCBBCD, #79788B) !important;background-image: -ms-linear-gradient(top, #BCBBCD, #79788B) !important;background-image: linear-gradient(top, #BCBBCD, #79788B) !important;-webkit-box-shadow: 0 1px 2px rgba(0,0,0,0.2) !important;-moz-box-shadow: 0 1px 2px rgba(0,0,0,0.2) !important;box-shadow: 0 1px 2px rgba(0,0,0,0.2) !important; } #indeed-ia-1329175190441-0:link, #indeed-ia-1329175190441-0:visited, #indeed-ia-1329175190441-0:hover, #indeed-ia-1329175190441-0:active { border : 0 !important; text-decoration : none !important; }\n",
       "\n",
       "    .indeed-serp-button:hover { filter:progid:DXImageTransform.Microsoft.gradient(startColorstr='#6D99F6', endColorstr='#1B45A3', GradientType=0);background-image: -webkit-gradient(linear, center top, center bottom, from(#6D99F6), to(#1B45A3)) !important;background-image: -webkit-linear-gradient(top, #6D99F6, #1B45A3) !important;background-image: -moz-linear-gradient(top, #6D99F6, #1B45A3) !important;background-image: -o-linear-gradient(top, #6D99F6, #1B45A3) !important;background-image: -ms-linear-gradient(top, #6D99F6, #1B45A3) !important;background-image: linear-gradient(top, #6D99F6, #1B45A3) !important; }\n",
       "\n",
       "    .indeed-apply-state-clicked .indeed-serp-button,\n",
       "    .indeed-serp-button:active { filter:progid:DXImageTransform.Microsoft.gradient(startColorstr='#B3BACA', endColorstr='#7C8493', GradientType=0);background-image: -webkit-gradient(linear, center top, center bottom, from(#B3BACA), to(#7C8493)) !important;background-image: -webkit-linear-gradient(top, #B3BACA, #7C8493) !important;background-image: -moz-linear-gradient(top, #B3BACA, #7C8493) !important;background-image: -o-linear-gradient(top, #B3BACA, #7C8493) !important;background-image: -ms-linear-gradient(top, #B3BACA, #7C8493) !important;background-image: linear-gradient(top, #B3BACA, #7C8493) !important;-webkit-box-shadow: none !important;-moz-box-shadow: none !important;box-shadow: none !important; }\n",
       "\n",
       "    .indeed-serp-button-inner { display : inline-block !important; height : 31px !important; -moz-border-radius : 6px !important; border-radius : 6px !important; font : 18px 'Helvetica Neue','Helvetica',Arial !important; font-weight : 200 !important; text-decoration : none !important; text-shadow : 0px 1px #F1F1F4 !important;background-color:#D9D9E2;  color: #FF6703;filter:progid:DXImageTransform.Microsoft.gradient(startColorstr='#FAFAFB', endColorstr='#D9D9E2', GradientType=0);background-image: -webkit-gradient(linear, center top, center bottom, from(#FAFAFB), to(#D9D9E2)) !important;background-image: -webkit-linear-gradient(top, #FAFAFB, #D9D9E2) !important;background-image: -moz-linear-gradient(top, #FAFAFB, #D9D9E2) !important;background-image: -o-linear-gradient(top, #FAFAFB, #D9D9E2) !important;background-image: -ms-linear-gradient(top, #FAFAFB, #D9D9E2) !important;background-image: linear-gradient(top, #FAFAFB, #D9D9E2) !important; }\n",
       "\n",
       "    .indeed-serp-button:active .indeed-serp-button-inner { filter:progid:DXImageTransform.Microsoft.gradient(startColorstr='#E8E8E9', endColorstr='#CBCBD3', GradientType=0);background-image: -webkit-gradient(linear, center top, center bottom, from(#E8E8E9), to(#CBCBD3)) !important;background-image: -webkit-linear-gradient(top, #E8E8E9, #CBCBD3) !important;background-image: -moz-linear-gradient(top, #E8E8E9, #CBCBD3) !important;background-image: -o-linear-gradient(top, #E8E8E9, #CBCBD3) !important;background-image: -ms-linear-gradient(top, #E8E8E9, #CBCBD3) !important;background-image: linear-gradient(top, #E8E8E9, #CBCBD3) !important; }\n",
       "\n",
       "    .indeed-serp-button-label {cursor: pointer; text-align : center !important; border:0; background: transparent;font-size: 12px; font-family: Arial, sans-serif; padding:3px 14px 2px 12px; margin:0; line-height: 26px; }\n",
       "\n",
       "    .indeed-serp-button:active .indeed-serp-button-label,\n",
       "    .indeed-apply-state-clicked .indeed-serp-button-label { -ms-filter: \"progid:DXImageTransform.Microsoft.Alpha(Opacity=0.75)\" !important;filter: alpha(opacity=75) !important;-moz-opacity: 0.75 !important;-khtml-opacity: 0.75 !important;opacity: 0.75 !important; }\n",
       "\n",
       "    #alertemail {  height: 27px; line-height: 24px; padding-left: 6px; padding-right: 6px; font-size: 14px; font-family: Arial, sans-serif; }\n",
       "\n",
       "    .jobalertform-terms-outer-wrapper label {  position: fixed;  font-size: 1px;  transform: scale(0.3);  }\n",
       "\n",
       "    .jobalertform-terms-inner-wrapper {  position: relative;  z-index: 20;  width: 50%;  background: #ebebeb;  height: 12px;  }\n",
       "</style>\n",
       "<div class=\"g-recaptcha\" id=\"invisible-recaptcha-div\"></div></form>\n",
       "</div>\n",
       "</div>\n",
       "</div>\n",
       "</div>\n",
       "<script type=\"text/javascript\">\n",
       "\tvar addAlertFormSubmit = function() {\n",
       "\t\tvar email = document.getElementById('alertemail').value;\n",
       "\t\tvar verified = document.getElementById('alertverified').value;\n",
       "\t\tvar recJACheckbox = document.getElementById('recjobalert');\n",
       "\t\tvar tacCheckbox = document.getElementById('termsandconditionscheckbox');\n",
       "\t\tvar recjobalertchecked = recJACheckbox ? recJACheckbox.checked : false;\n",
       "\t\tvar termsandconditionschecked = tacCheckbox ? tacCheckbox.checked : false;\n",
       "\n",
       "\t\treturn addalertdelegate(\n",
       "\t\t\t'data+scientist',\n",
       "\t\t\t'',\n",
       "\t\t\t'',\n",
       "\t\t\temail,\n",
       "\t\t\t'1cgf49t021fgp594',\n",
       "\t\t\tverified,\n",
       "\t\t\ttrue,\n",
       "\t\t\t'661982',\n",
       "\t\t\t'US',\n",
       "\t\t\t'54cfc346681ad2a7020ad6c8dc394e5c',\n",
       "\t\t\trecjobalertchecked,\n",
       "\t\t\tfalse,\n",
       "\t\t\ttermsandconditionschecked,\n",
       "\t\t\ttrue\n",
       "\t\t);\n",
       "\t}\n",
       "</script><div id=\"univsrch-salary-v3\"><div id=\"univsrch-salary-info\"><div id=\"univsrch-salary-title\">Data Scientist salaries in United States</div><div id=\"univsrch-salary-eval\"><div class=\"v3\" id=\"univsrch-salary-rates\"><p class=\"v3\" id=\"univsrch-salary-currentsalary\"><b>$131,351</b> per year</p></div><div class=\"v3\" id=\"univsrch-salary-stats\"><p class=\"v3\" id=\"univsrch-salary-stats-para\">Based on 9,297 salaries</p></div><div id=\"univsrch-sal-distribution\"><ul><li style=\"height:66.14758272882908%; width:9.2%; left:0.0%;\"></li><li style=\"height:82.00459396445403%; width:9.2%; left:10.088999999999999%;\"></li><li class=\"univsrch-sal-highlight\" style=\"height:90.0%; width:9.2%; left:20.177999999999997%;\"></li><li style=\"height:89.98488545865007%; width:9.2%; left:30.266999999999996%;\"></li><li style=\"height:83.68905268791666%; width:9.2%; left:40.355999999999995%;\"></li><li style=\"height:73.52989226350134%; width:9.2%; left:50.44499999999999%;\"></li><li style=\"height:61.751168400240275%; width:9.2%; left:60.53399999999999%;\"></li><li style=\"height:50.01812228957788%; width:9.2%; left:70.62299999999999%;\"></li><li style=\"height:39.35177754833683%; width:9.2%; left:80.71199999999999%;\"></li><li style=\"height:30.239011452984947%; width:9.2%; left:90.80099999999999%;\"></li></ul><div class=\"univsrch-sal-min univsrch-sal-caption float-left\"><div class=\"float-left\" style=\"width: 13.07px;\"></div><span>Min<br/>$46,000</span></div><div class=\"univsrch-sal-max univsrch-sal-caption float-right\"><div class=\"float-right\" style=\"width: 13.07px;\"></div><span>Max<br/>$260,000</span></div></div><div id=\"univsrch-salary-link\"><a href=\"/salaries/Data-Scientist-Salaries\" onmousedown=\"this.href = appendParamsOnce(this.href, 'from=serpsalaryblock');\" title=\"Data Scientist salaries by company in United States\">Data Scientist salaries by company in United States</a></div></div></div></div><script type=\"text/javascript\">usBindSalaryWidgetLoggingNew();</script><script id=\"jaFloatScript\" type=\"text/javascript\">\n",
       "      initFloatingBoxes(\"#jobalertswrapper, #related-searches.related_searches_sticky\");\n",
       "    </script>\n",
       "</td></tr>\n",
       "</table>\n",
       "<div class=\"prime-popover\" id=\"prime-popover-background\">\n",
       "</div>\n",
       "<div class=\"prime-popover\" data-logging-url=\"https://www.indeed.com/imgping?type=primepromo&amp;keyword=data scientist&amp;location=&amp;vertical=TECH&amp;promo=primepopover&amp;tk=1cgf49t021fgp594\" id=\"prime-popover-div\">\n",
       "<div id=\"prime-popover-x\">\n",
       "<button aria-label=\"close\" id=\"prime-popover-close-button\"><span>×</span></button>\n",
       "</div>\n",
       "<style type=\"text/css\">\n",
       "    #prime_promo_logos {\n",
       "        width: 620px;\n",
       "        height: 436px;\n",
       "    }\n",
       "\n",
       "    #prime_promo_logos .heading_logo_div {\n",
       "        margin: 30px 0 24px 0;\n",
       "        text-align: center;\n",
       "    }\n",
       "\n",
       "    #prime_promo_logos .heading_logo_div .heading_logo {\n",
       "        max-height: 50px;\n",
       "        vertical-align: middle;\n",
       "    }\n",
       "\n",
       "    #prime_promo_logos .heading {\n",
       "        font-size: 24px;\n",
       "        color: #ff6600;\n",
       "        text-align: center;\n",
       "        line-height: 26px;\n",
       "    }\n",
       "\n",
       "    #prime_promo_logos .subheading {\n",
       "        font-size: 15px;\n",
       "        color: #666666;\n",
       "        text-align: center;\n",
       "        margin-top: 15px;\n",
       "        margin-bottom: 25px;\n",
       "    }\n",
       "\n",
       "    #prime_promo_logos .content {\n",
       "        background: #F8F8F8;\n",
       "    }\n",
       "\n",
       "    #prime_promo_logos .content .legal {\n",
       "        font-size: 11px;\n",
       "        color: #666666;\n",
       "        padding-top: 15px;\n",
       "        padding-bottom: 20px;\n",
       "        text-align: center;\n",
       "    }\n",
       "\n",
       "    #prime_promo_logos .apply_div {\n",
       "        margin-top: 22px;\n",
       "        margin-bottom: 31px;\n",
       "    }\n",
       "\n",
       "    #learnMore {\n",
       "        color: #FFFFFF;\n",
       "        text-decoration: none !important;\n",
       "        font-size: 18px;\n",
       "        font-weight: bold;\n",
       "    }\n",
       "\n",
       "    #learnMore:hover,  #learnMore:focus {\n",
       "        text-decoration: none !important;\n",
       "    }\n",
       "\n",
       "    #prime_promo_logos .logo_div div {\n",
       "        display: inline-block;\n",
       "        width: 144px;\n",
       "        height: 35px;\n",
       "        text-align: center;\n",
       "    }\n",
       "\n",
       "    #prime_promo_logos .logo {\n",
       "        padding: 0 22.5px 0 22.5px;\n",
       "        max-width: 576px;\n",
       "        max-height: 94px;\n",
       "    }\n",
       "\n",
       "    #prime_promo_logos .logo_center_helper {\n",
       "        display: inline-block;\n",
       "        height: 100%;\n",
       "        vertical-align: middle;\n",
       "    }\n",
       "\n",
       "    #learnMore_div {\n",
       "        text-align: center;\n",
       "    }\n",
       "    #hiddenPrimeButton {\n",
       "        height: 0;\n",
       "        border: 0;\n",
       "        width: 0;\n",
       "        padding: 0;\n",
       "    }\n",
       "</style>\n",
       "<div id=\"prime_promo_logos\">\n",
       "<div class=\"heading_logo_div\">\n",
       "<span class=\"logo_center_helper\"></span>\n",
       "<img alt=\"Indeed Prime\" class=\"heading_logo\" src=\"/images/prime/indeed_prime_logo.png\"/>\n",
       "</div>\n",
       "<div class=\"heading\"><b>3 minutes</b> could get you</div>\n",
       "<div class=\"heading\"><b>10 offers</b> from top tech companies</div>\n",
       "<div class=\"apply_div\" id=\"learnMore_div\">\n",
       "<button autofocus=\"\" id=\"hiddenPrimeButton\" tabindex=\"-1\"></button>\n",
       "<a class=\"roundedCorner indeedblue\" href=\"/promo/prime\" id=\"learnMore\" onclick=\"this.href = appendParamsOnce( this.href, '?from=primepopover&amp;subfrom=primepopover&amp;trk.origin=jobsearch&amp;trk.variant=primepopover&amp;trk.tk=1cgf49t021fgp594&amp;vertical=TECH&amp;x_isid=primepopover&amp;x_ikw=data+scientist&amp;x_sid=primepopover&amp;x_kw=data+scientist')\" role=\"button\">Learn More</a>\n",
       "</div>\n",
       "<div class=\"content\">\n",
       "<div class=\"logo_div\">\n",
       "<div>\n",
       "<span class=\"logo_center_helper\"></span>\n",
       "<img alt=\"Dropbox, Evernote, Facebook, Redfin, Twilio, Uber, Slack... and more!\" class=\"logo\" src=\"/images/prime/cmp-logos.png\"/>\n",
       "</div>\n",
       "</div>\n",
       "<div class=\"legal\">Representative Companies Using Indeed Prime</div>\n",
       "</div>\n",
       "</div>\n",
       "</div>\n",
       "<style type=\"text/css\">\n",
       "    #prime-popover-background {\n",
       "        z-index: 2;\n",
       "        background: #000000;\n",
       "        width: 100%;\n",
       "        height: 100%;\n",
       "        opacity: .30;\n",
       "        filter: alpha(opacity=30);\n",
       "        top: 0;\n",
       "    }\n",
       "    #prime-popover-x {\n",
       "        float: right;\n",
       "        margin: 1px 1px 0 0;\n",
       "        cursor: pointer;\n",
       "        font-weight: bold;\n",
       "        font-size: 18px;\n",
       "        color: #666;\n",
       "    }\n",
       "    #prime-popover-close-button {\n",
       "        background:none;\n",
       "        border:none;\n",
       "        font-weight: bold;\n",
       "        font-size: 18px;\n",
       "        color: #666;\n",
       "    }\n",
       "    #prime-popover-close-button:hover {\n",
       "        cursor: pointer;\n",
       "    }\n",
       "    .prime-popover {\n",
       "        position: fixed;\n",
       "        display: none;\n",
       "    }\n",
       "    #prime-popover-div {\n",
       "        z-index: 3;\n",
       "        height: auto;\n",
       "        width: auto;\n",
       "        background: #ffffff;\n",
       "        display: none; /*hide before the cookie check*/\n",
       "        max-width: 620px;\n",
       "    }\n",
       "    \n",
       "    #prime_promo {\n",
       "        background:#ffffff\n",
       "    }\n",
       "</style>\n",
       "<script type=\"text/javascript\">\n",
       "            window['primePopoverShown'] = 'popover';\n",
       "        </script>\n",
       "<script type=\"text/javascript\">\n",
       "    function onClickResumePopoverPromo(uploadLink) {\n",
       "        var setYearExpiration = true;\n",
       "        var resumePopover = new ResumePopover('1cgf49t021fgp594', '1cgf49svr1fgp5rv', setYearExpiration);\n",
       "        resumePopover.onClickPromo(uploadLink);\n",
       "        return true;\n",
       "    }\n",
       "</script>\n",
       "<div class=\"resume-popover\" id=\"resume-popover-background\"></div>\n",
       "<div class=\"resume-popover\" id=\"resume-popover-div\">\n",
       "<div id=\"resume-popover-x\">\n",
       "<button aria-label=\"close\" id=\"resume-popover-close-button\"><span>×</span></button>\n",
       "</div>\n",
       "<div id=\"postJobClickCta\"><div class=\"postJobClickCta_title\">Let Employers Find You</div><div class=\"postJobClickCta_body\">Every day, thousands of employers search Indeed.com for candidates like you.</div><span dir=\"ltr\"><a class=\"icl-Button icl-Button--primary icl-Button--lg cta_button blue\" href=\"/promo/resume?from=resumePostJobClickCTA&amp;trk.origin=jobsearch\" onclick=\"return onClickResumePopoverPromo('/promo/resume?from=resumePostJobClickCTA&amp;trk.origin=jobsearch');\" target=\"_blank\">Upload Your Resume</a></span></div></div>\n",
       "<link href=\"/s/fb0bd3a/resumepopover.css\" rel=\"stylesheet\" type=\"text/css\"/>\n",
       "<script type=\"text/javascript\">\n",
       "        window['resumePopoverShowValue'] = '1';\n",
       "    </script>\n",
       "<script>\n",
       "var focusHandlers = [];\n",
       "var linkHighlighter = new LinkHighlighter();\n",
       "focusHandlers.push(googBind(linkHighlighter.fadeToOriginalColor, linkHighlighter));\n",
       "var lostFocusHandlers = [];\n",
       "lostFocusHandlers.push(googBind(linkHighlighter.clickedAway, linkHighlighter, \"#551a8b\"));\n",
       "</script>\n",
       "<script>\n",
       "        if (!showVjOnSerp) {\n",
       "            var didYouApplyPrompt = new DidYouApplyPrompt('1cgf49t021fgp594', 60, 'serp',\n",
       "                false);\n",
       "            focusHandlers.push(googBind(didYouApplyPrompt.returnedToPage, didYouApplyPrompt));\n",
       "            lostFocusHandlers.push(googBind(didYouApplyPrompt.leftPage, didYouApplyPrompt));\n",
       "            didYouApplyPrompt.dyaChangeFromCookie();\n",
       "        }\n",
       "    </script>\n",
       "<script>\n",
       "var clickTime = new ClickTime(window.tk, 'serp', 'jobtitle', focusHandlers, lostFocusHandlers);\n",
       "</script>\n",
       "<script type=\"text/javascript\">\n",
       "        if (bindAndRender && typeof bindAndRender === 'function') {\n",
       "            bindAndRender.apply();\n",
       "    \n",
       "        }\n",
       "    </script>\n",
       "<script>usBindRightRailLogging();</script>\n",
       "<script>\n",
       "        window['recaptchaSitekeyV2'] = \"6Lc1uUEUAAAAAPHQRK9uCuJsLbJbUpwmnx5SARHu\";\n",
       "        window['recaptchaSitekeyInvisible'] = \"6Lc5uUEUAAAAAHBFgzyc9no20EC0e7A-_R0QFgww\";\n",
       "    </script>\n",
       "<style type=\"text/css\">\n",
       "    #secondary_nav a,\n",
       "#secondary_nav a:link,\n",
       "#secondary_nav a:visited { color: #77c; text-decoration: none; }\n",
       "#secondary_nav a:hover { text-decoration: underline;  }</style>\n",
       "<!-- jobs -->\n",
       "<div id=\"footerWrapper\" role=\"contentinfo\" style=\"text-align:center;\">\n",
       "<div id=\"footer\" style=\"text-align:left;\">\n",
       "<div class=\"separator_bottom\"></div>\n",
       "<div id=\"secondary_nav\">\n",
       "<div style=\"margin: 1em;\"><span class=\"gaj_heading\">Indeed helps people get jobs:</span> <a class=\"sl\" href=\"/promo/gotajob\" onmousedown=\"null\">Over 10 million stories shared</a></div><div class=\"origin_site_link\" style=\"text-align:center; padding:1em;\">For India jobs, visit <a href=\"http://www.indeed.co.in/\">Indeed India</a></div><a href=\"/\" id=\"jobs_product_link\" title=\"Jobs\">Jobs</a> - <a href=\"/career-advice?isid=jasx_us-en&amp;ikw=jsfooter\" id=\"careeradvice_product_link\" title=\"Career Advice\">Career Advice</a> - <script type=\"text/javascript\">\n",
       "                    var jobsProductLink = document.getElementById('jobs_product_link');\n",
       "                    </script>\n",
       "<a href=\"http://www.hiringlab.org\">Hiring Lab</a> - <a href=\"/find-jobs.jsp\">Browse Jobs</a> - <a href=\"/tools/jobseeker\">Tools</a> - <a href=\"http://www.indeedevents.com/?hl=en_US\">Employer Events</a> - <a href=\"http://www.indeed.jobs\">Work at Indeed</a> - <a href=\"/intl/en/about.html\"><span style=\"white-space: nowrap;\">About</span></a> - <a href=\"https://indeed.zendesk.com/hc/en-us\">Help Center</a>\n",
       "<style type=\"text/css\">\n",
       "                #footer-legal {\n",
       "                    margin-top: 10px;\n",
       "                    font-size: 9pt;\n",
       "                }\n",
       "            </style>\n",
       "<div id=\"footer-legal\">\n",
       "<div class=\"legal-footer\">©2018 Indeed - <a href=\"/legal\">Cookies, Privacy and Terms</a></div></div>\n",
       "</div>\n",
       "</div>\n",
       "<style type=\"text/css\">\n",
       "    /*Need to update this file when there is a update on frontend-icl library, details see ITAD-358*/\n",
       ".icl-Button{box-sizing:border-box;display:inline-block;vertical-align:middle;font-family:Helvetica Neue,Helvetica,Arial,Roboto,Noto,sans-serif;font-size:1.125rem;line-height:1.8rem;font-weight:700;text-decoration:none;text-overflow:ellipsis;white-space:nowrap;filter:progid:DXImageTransform.Microsoft.dropshadow(OffX=0,OffY=-1,Color=#e80f2299,Positive=true);-webkit-appearance:none;-moz-appearance:none;appearance:none;overflow:hidden;-webkit-user-select:none;-moz-user-select:none;-ms-user-select:none;user-select:none;-webkit-touch-callout:none;-webkit-highlight:none;-webkit-tap-highlight-color:transparent}[dir] .icl-Button{padding:.5rem 1.125rem;text-align:center;background-repeat:repeat-x;border:1px solid;border-radius:6px;box-shadow:0 1px 5px rgba(0,0,0,.2);cursor:pointer}[dir=ltr] .icl-Button{margin:12px 12px 12px 0}[dir=rtl] .icl-Button{margin:12px 0 12px 12px}[dir] .icl-Button::-moz-focus-inner{border:0}[dir] .icl-Button:hover{background-image:none;box-shadow:0 1px 5px rgba(0,0,0,.4)}.icl-Button:active{outline:none}[dir] .icl-Button:active{background-image:none;box-shadow:inset 0 2px 4px rgba(0,0,0,.15),0 1px 2px rgba(0,0,0,.05)}.icl-Button:disabled{opacity:.65}[dir] .icl-Button:disabled{background-image:none;box-shadow:none;cursor:default}[dir] .icl-Button:disabled:hover{box-shadow:none}.icl-Button--primary{color:#f8f8f9;filter:progid:DXImageTransform.Microsoft.gradient(startColorstr=\"#ff6598fe\",endColorstr=\"#ff3c69e0\",GradientType=0)}[dir] .icl-Button--primary{text-shadow:0 -1px #0f2299;background-color:#5585f2;background-image:-webkit-linear-gradient(top,#6598ff,#2e5ad7);background-image:linear-gradient(180deg,#6598ff,#2e5ad7);border-color:#1642bb;border-bottom-color:#1642bb}.icl-Button--primary:hover{text-decoration:none}[dir] .icl-Button--primary:active,[dir] .icl-Button--primary:disabled,[dir] .icl-Button--primary:hover{background-color:#2e5ad7}.icl-Button--secondary{color:#333;filter:progid:DXImageTransform.Microsoft.gradient(startColorstr=\"#fff8f8f9\",endColorstr=\"#ffe6e6e6\",GradientType=0)}[dir] .icl-Button--secondary{text-shadow:0 1px #fff;background-color:#d9d9e2;background-image:-webkit-linear-gradient(top,#f8f8f9,#d9d9e2);background-image:linear-gradient(180deg,#f8f8f9,#d9d9e2);border-color:#9a99ac;border-bottom-color:#a2a2a2}.icl-Button--secondary:hover{text-decoration:none}[dir] .icl-Button--secondary:active,[dir] .icl-Button--secondary:disabled,[dir] .icl-Button--secondary:hover{background-color:#f8f8f9}.icl-Button--special{color:#f8f8f9;filter:progid:DXImageTransform.Microsoft.gradient(startColorstr=\"#ff6598fe\",endColorstr=\"#ff3c69e0\",GradientType=0)}[dir] .icl-Button--special{text-shadow:0 -1px #000;background-color:#f14200;background-image:-webkit-linear-gradient(top,#f60,#f14200);background-image:linear-gradient(180deg,#f60,#f14200);border-color:#ba3200;border-bottom-color:#ba3200}.icl-Button--special:hover{text-decoration:none}[dir] .icl-Button--special:active,[dir] .icl-Button--special:disabled,[dir] .icl-Button--special:hover{background-color:#f14200}.icl-Button--danger{color:#f8f8f9;filter:progid:DXImageTransform.Microsoft.gradient(startColorstr=\"#ff6598fe\",endColorstr=\"#ff3c69e0\",GradientType=0)}[dir] .icl-Button--danger{text-shadow:0 -1px #000;background-color:#b01825;background-image:-webkit-linear-gradient(top,#d1787f,#b01825);background-image:linear-gradient(180deg,#d1787f,#b01825);border-color:#83121b;border-bottom-color:#83121b}.icl-Button--danger:hover{text-decoration:none}[dir] .icl-Button--danger:active,[dir] .icl-Button--danger:disabled,[dir] .icl-Button--danger:hover{background-color:#b01825}[dir] .icl-Button--working{border-color:#9a99ac;border-bottom-color:#a2a2a2}.icl-Button--working:hover{text-decoration:none}[dir] .icl-Button--working:disabled{background-color:#f8f8f9}.icl-Button--transparent{color:#00c}[dir] .icl-Button--transparent{text-shadow:none;background:transparent none;border:none;box-shadow:none}.icl-Button--transparent:hover{color:#00c;text-decoration:underline}[dir] .icl-Button--transparent:active,[dir] .icl-Button--transparent:hover{box-shadow:0 0 0 transparent}.icl-Button--transparent:disabled:hover{color:#00c}.icl-Button--block{display:block;width:100%;max-width:351px}[dir] .icl-Button--block{margin:12px auto}.icl-Button--md{font-size:.9375rem;font-weight:600}[dir] .icl-Button--md{padding:.5rem 1rem;border-radius:5px}.icl-Button--sm{font-size:.8125rem;font-weight:500}[dir] .icl-Button--sm{padding:.325rem .8125rem;border-radius:4px}[dir] .icl-Button--group{border-radius:0;box-shadow:0 0 0 transparent}[dir=ltr] .icl-Button--group{float:left;margin:0 0 0 -1px}[dir=rtl] .icl-Button--group{float:right;margin:0 -1px 0 0}[dir] .icl-Button--group:hover{box-shadow:0 0 0 transparent}[dir=ltr] .icl-Button--group:first-child{margin-left:0;border-bottom-left-radius:6px;border-top-left-radius:6px}[dir=rtl] .icl-Button--group:first-child{margin-right:0}[dir=ltr] .icl-Button--group:last-child,[dir=rtl] .icl-Button--group:first-child{border-bottom-right-radius:6px;border-top-right-radius:6px}[dir=rtl] .icl-Button--group:last-child{border-bottom-left-radius:6px;border-top-left-radius:6px}[dir=ltr] .icl-Button--icon,[dir=rtl] .icl-Button--icon{padding-left:10px;padding-right:10px}\n",
       "/*# sourceMappingURL=Button.css.map*/</style>\n",
       "<div id=\"resumeCtaFooter\" style=\"height:64px;\"><div style=\"position:absolute;width:100%;\"><style type=\"text/css\">\n",
       "                    .footerCta {\n",
       "                        text-align:center;\n",
       "                        margin:0px;\n",
       "                        font-size:15px;\n",
       "                        width:100%;\n",
       "                    }\n",
       "\n",
       "                    .footerCta.blueBar {\n",
       "                        background-color:#2164f3;\n",
       "                        color:#ffffff;\n",
       "                    }\n",
       "\n",
       "                    .footerCta.greyBar {\n",
       "                        background-color:#ebebeb;\n",
       "                        color:#000000;\n",
       "                    }\n",
       "\n",
       "                    div.content >table {\n",
       "                        margin-bottom: 4em;\n",
       "                    }\n",
       "                </style><script type=\"text/javascript\">if(null !== call_when_jsall_loaded) {call_when_jsall_loaded(function() {if(!!window.logPromoImpression) {window.logPromoImpression('trk.origin=jobsearch&trk.variant=FooterGrayBelow&trk.pos=below&trk.tk=1cgf49t021fgp594', 'resume');}})}</script><div class=\"footerCta greyBar\">Let Employers Find You  <style type=\"text/css\">\n",
       "        .cta_button {\n",
       "            text-decoration:none !important;\n",
       "            margin: 12px !important;\n",
       "        }\n",
       "\n",
       "        .cta_button.blue  {\n",
       "            color: #f8f8f9 !important;\n",
       "        }\n",
       "\n",
       "        .cta_button.grey {\n",
       "            color: #000000 !important;\n",
       "        }\n",
       "        </style><span dir=\"ltr\"><a class=\"icl-Button icl-Button--primary icl-Button--sm cta_button blue\" href=\"/promo/resume?from=bottomResumeCTAjobsearch&amp;trk.origin=jobsearch\" onclick=\"if(!!window.logPromoClick) {window.logPromoClick('trk.origin=jobsearch&amp;trk.variant=FooterGrayBelow&amp;trk.pos=below&amp;trk.tk=1cgf49t021fgp594', 'resume','/promo/resume?from=bottomResumeCTAjobsearch&amp;trk.origin=jobsearch');}\">Upload Your Resume</a></span></div></div></div></div>\n",
       "<script defer=\"\" src=\"/tos/banner.js?ctk=1cgf49svr1fgp5rv&amp;hl=en&amp;tk=1cgf49t021fgp594\"></script>\n",
       "</td></tr></table>\n",
       "<script type=\"text/javascript\">\n",
       "        function sm_cv_tag(activityId) {\n",
       "            var ebRand = Math.random()+'';\n",
       "            ebRand = ebRand * 1000000;\n",
       "\n",
       "            var tagContainer = document.body.appendChild(document.createElement(\"div\"));\n",
       "            tagContainer.style.position=\"absolute\";\n",
       "            tagContainer.style.top=\"0\";\n",
       "            tagContainer.style.left=\"0\";\n",
       "            tagContainer.style.width=\"1px\";\n",
       "            tagContainer.style.height=\"1px\";\n",
       "            tagContainer.style.display=\"none\";\n",
       "\n",
       "            var jsTag = document.createElement('script');\n",
       "            jsTag.src = '//bs.serving-sys.com/Serving/ActivityServer.bs?cn=as&ActivityID=' + activityId + '&rnd=' + ebRand;\n",
       "            jsTag.setAttribute('crossorigin', 'anonymous');\n",
       "            jsTag.style.width=\"1px\";\n",
       "            jsTag.style.height=\"1px\";\n",
       "            jsTag.style.border=\"0\";\n",
       "            jsTag.async = 1;\n",
       "\n",
       "            var noScript = document.createElement(\"noscript\");\n",
       "            var noScriptText = '<img width=\"1\" height=\"1\" style=\"border:0\" src=\"//bs.serving-sys.com/Serving/ActivityServer.bs?cn=as&ActivityID=' + activityId + '&ns=1\"/>';\n",
       "\n",
       "            // IE less than 9 and RCs do not support innerHTML on some DOM elements, but supports .text for it\n",
       "            if (((typeof noScript.canHaveHTML) === \"boolean\") && (noScript.canHaveHTML === false)) { // canHaveHTML only exists for IE\n",
       "                noScript.text = noScriptText;\n",
       "            } else {\n",
       "                noScript.innerHTML = noScriptText;\n",
       "            }\n",
       "\n",
       "            tagContainer.appendChild(jsTag);\n",
       "            tagContainer.appendChild(noScript);\n",
       "        }\n",
       "    </script>\n",
       "<script type=\"text/javascript\">\n",
       "<!--\n",
       "logJSVPing('jsv', '1cgf49t021fgp594');\n",
       "function jsall_loaded() {\n",
       "    \n",
       "\n",
       "    initProcessLeftoverDwellEntries();\n",
       "    \n",
       "    detectBrowserState('jobsearch', '1cgf49t021fgp594');\n",
       "\n",
       "    attachSjBlock('');\n",
       "    attachJaBlock('');\n",
       "}\n",
       "if (window['closureReady'] === true) {\n",
       "    jsall_loaded();\n",
       "}\n",
       "//-->\n",
       "</script>\n",
       "<script type=\"text/javascript\">\n",
       "PENDING_ANALYTICS_VARS = window.PENDING_ANALYTICS_VARS || [];\n",
       "PENDING_ANALYTICS_VARS[PENDING_ANALYTICS_VARS.length] = ['_setCustomVar', 5, 'loggedIn', 'false', 3];\n",
       "</script>\n",
       "<script type=\"text/javascript\">\n",
       "        var ga_domains = [];\n",
       "        ga_domains.push('indeed.co.in');ga_domains.push('indeed.lu');ga_domains.push('indeed.fr');ga_domains.push('indeed.de');ga_domains.push('indeed.com.br');ga_domains.push('indeed.co.uk');ga_domains.push('indeed.hk');ga_domains.push('indeed.fi');ga_domains.push('indeed.pt');ga_domains.push('indeed.jp');ga_domains.push('indeed.com');ga_domains.push('indeed.com.sg');ga_domains.push('indeed.nl');ga_domains.push('indeed.com.pk');ga_domains.push('indeed.cl');ga_domains.push('indeed.es');ga_domains.push('indeed.co.ve');ga_domains.push('indeed.ae');ga_domains.push('indeed.com.mx');ga_domains.push('indeed.com.my');ga_domains.push('indeed.ch');ga_domains.push('indeed.com.co');ga_domains.push('indeed.com.ph');ga_domains.push('indeed.co.za');ga_domains.push('indeed.ie');ga_domains.push('indeed.com.au');ga_domains.push('indeed.ca');ga_domains.push('indeed.com.pe');\n",
       "\n",
       "        (function (i, s, o, g, r, a, m) {\n",
       "            i['GoogleAnalyticsObject'] = r;\n",
       "            i[r] = i[r] || function () {\n",
       "                (i[r].q = i[r].q || []).push(arguments)\n",
       "            }, i[r].l = 1 * new Date();\n",
       "            a = s.createElement(o),\n",
       "                    m = s.getElementsByTagName(o)[0];\n",
       "            a.async = 1;\n",
       "            a.src = g;\n",
       "            m.parentNode.insertBefore(a, m)\n",
       "        })(window, document, 'script', '//www.google-analytics.com/analytics.js', 'ga');\n",
       "\n",
       "        var ga = ga || [];\n",
       "        ga('create', 'UA-90780-1', 'auto', {\n",
       "            'allowLinker': true\n",
       "        });\n",
       "        ga('require', 'linkid');\n",
       "        ga('require', 'linker');\n",
       "        ga('linker:autoLink', ga_domains, false, true);\n",
       "        ga('require', 'displayfeatures');\n",
       "        ga('send', 'pageview');\n",
       "\n",
       "        \n",
       "        (function () {\n",
       "            if (window.PENDING_ANALYTICS_VARS && window.PENDING_ANALYTICS_VARS.length > 0) {\n",
       "                for (var i in PENDING_ANALYTICS_VARS) {\n",
       "                    ga('set', PENDING_ANALYTICS_VARS[i][2], PENDING_ANALYTICS_VARS[i][3]);\n",
       "                }\n",
       "            }\n",
       "        })();\n",
       "    </script>\n",
       "<script>\n",
       "    !function(f,b,e,v,n,t,s){if(f.fbq)return;n=f.fbq=function(){n.callMethod?\n",
       "            n.callMethod.apply(n,arguments):n.queue.push(arguments)};if(!f._fbq)f._fbq=n;\n",
       "        n.push=n;n.loaded=!0;n.version='2.0';n.queue=[];t=b.createElement(e);t.async=!0;\n",
       "        t.src=v;s=b.getElementsByTagName(e)[0];s.parentNode.insertBefore(t,s)}(window,\n",
       "            document,'script','https://connect.facebook.net/en_US/fbevents.js');\n",
       "\n",
       "    fbq('init', '579216298929618');\n",
       "    fbq('track', \"PageView\");</script>\n",
       "<noscript><img height=\"1\" src=\"https://www.facebook.com/tr?id=579216298929618&amp;ev=PageView&amp;noscript=1\" style=\"display:none\" width=\"1\"/></noscript>\n",
       "<script>\n",
       "window._comscore = window._comscore || [];\n",
       "window._comscore.push({ c1: \"2\", c2: \"6486505\", c4:\"www.indeed.com/q-data-scientist-jobs.html\", c15:\"1cgf49svr1fgp5rv\"});\n",
       "(function() { var s = document.createElement(\"script\"), el = document.getElementsByTagName(\"script\")[0]; s.async = true; s.src = (document.location.protocol == \"https:\" ? \"https://sb\" : \"http://b\") + \".scorecardresearch.com/beacon.js\"; el.parentNode.insertBefore(s, el); })();\n",
       "</script>\n",
       "<noscript>\n",
       "<img alt=\"\" height=\"0\" src=\"https://sb.scorecardresearch.com/p?c1=2&amp;c2=6486505&amp;c4=www.indeed.com%2Fq-data-scientist-jobs.html&amp;c15=1cgf49svr1fgp5rv&amp;cv=2.0&amp;cj=1\" style=\"display:none\" width=\"0\"/>\n",
       "</noscript>\n",
       "</body>\n",
       "</html>"
      ]
     },
     "execution_count": 77,
     "metadata": {},
     "output_type": "execute_result"
    }
   ],
   "source": [
    "bs_tree"
   ]
  },
  {
   "cell_type": "code",
   "execution_count": 33,
   "metadata": {
    "slideshow": {
     "slide_type": "slide"
    }
   },
   "outputs": [
    {
     "name": "stdout",
     "output_type": "stream",
     "text": [
      "Search yielded 22,926 hits.\n",
      "22926\n"
     ]
    }
   ],
   "source": [
    "# see how many job postings we found\n",
    "job_count_string = bs_tree.find(id = 'searchCount').contents[0]\n",
    "job_count_string = job_count_string.split()[-1]\n",
    "print(\"Search yielded %s hits.\" % (job_count_string))\n",
    "\n",
    "# not that job_count so far is still a string, \n",
    "# not an integer, and the , separator prevents \n",
    "# us from just casting it to int\n",
    "\n",
    "job_count_digits = [int(d) for d in job_count_string if d.isdigit()]\n",
    "job_count = np.sum([digit*(10**exponent) for digit, exponent in \n",
    "                    zip(job_count_digits[::-1], range(len(job_count_digits)))])\n",
    "\n",
    "print job_count"
   ]
  },
  {
   "cell_type": "code",
   "execution_count": 34,
   "metadata": {
    "slideshow": {
     "slide_type": "slide"
    }
   },
   "outputs": [
    {
     "name": "stdout",
     "output_type": "stream",
     "text": [
      "2293\n",
      "2283\n",
      "We found a lot of jobs:  240\n"
     ]
    }
   ],
   "source": [
    "# The website is only listing 10 results per page, \n",
    "# so we need to scrape them page after page\n",
    "num_pages = int(np.ceil(job_count/10.0))\n",
    "\n",
    "base_url = 'http://www.indeed.com'\n",
    "job_links = []\n",
    "for i in range(20): #do range(num_pages) if you want them all\n",
    "    if i%10==0:\n",
    "        print num_pages-i\n",
    "    url = 'http://www.indeed.com/jobs?q=data+scientist&start=' + str(i*10)\n",
    "    html_page = urllib2.urlopen(url).read() \n",
    "    bs_tree = bs4.BeautifulSoup(html_page)\n",
    "    job_link_area = bs_tree.find(id = 'resultsCol')\n",
    "    job_postings = job_link_area.findAll(\"div\")\n",
    "    job_postings = [jp for jp in job_postings if not jp.get('class') is None \n",
    "                    and ''.join(jp.get('class')) ==\"rowresult\"]\n",
    "    job_ids = [jp.get('data-jk') for jp in job_postings]\n",
    "    \n",
    "    # go after each link\n",
    "    for id in job_ids:\n",
    "        job_links.append(base_url + '/rc/clk?jk=' + id)\n",
    "\n",
    "    time.sleep(1)\n",
    "\n",
    "print \"We found a lot of jobs: \", len(job_links)"
   ]
  },
  {
   "cell_type": "markdown",
   "metadata": {
    "slideshow": {
     "slide_type": "slide"
    }
   },
   "source": [
    "Some precautions to enable us to restart our search\n",
    "========================="
   ]
  },
  {
   "cell_type": "code",
   "execution_count": 35,
   "metadata": {
    "collapsed": true,
    "slideshow": {
     "slide_type": "-"
    }
   },
   "outputs": [],
   "source": [
    "# Save the scraped links\n",
    "#with open('scraped_links.pkl', 'wb') as f:\n",
    "#    cPickle.dump(job_links, f)\n",
    "    \n",
    "# Read canned scraped links\n",
    "with open('scraped_links.pkl', 'r') as f:\n",
    "    job_links = cPickle.load(f)    "
   ]
  },
  {
   "cell_type": "code",
   "execution_count": 36,
   "metadata": {
    "collapsed": true,
    "slideshow": {
     "slide_type": "slide"
    }
   },
   "outputs": [],
   "source": [
    "skill_set = {'mapreduce': 0, 'spark': 0}\n",
    "\n",
    "## write initialization into a file, so we can restart later\n",
    "#with open('scraped_links_restart.pkl', 'wb') as f:\n",
    "#    cPickle.dump((skill_set, 0),f)    "
   ]
  },
  {
   "cell_type": "markdown",
   "metadata": {
    "slideshow": {
     "slide_type": "slide"
    }
   },
   "source": [
    "Python Dictonaries\n",
    "==================\n",
    "\n",
    "* build in data type\n",
    "* uses key: value pairs"
   ]
  },
  {
   "cell_type": "code",
   "execution_count": 37,
   "metadata": {
    "slideshow": {
     "slide_type": "slide"
    }
   },
   "outputs": [
    {
     "name": "stdout",
     "output_type": "stream",
     "text": [
      "{'a': 1, 'b': 2}\n",
      "['a', 'b']\n",
      "[1, 2]\n",
      "a 1\n",
      "b 2\n",
      "a 1\n",
      "b 2\n"
     ]
    }
   ],
   "source": [
    "a = {'a': 1, 'b':2}\n",
    "print a\n",
    "\n",
    "#show keys\n",
    "print a.keys()\n",
    "\n",
    "#show values\n",
    "print a.values()\n",
    "\n",
    "#show for loop over all entries\n",
    "# option 1 using zip\n",
    "# this works also for iterating over any\n",
    "# other two lists\n",
    "for k,v in zip(a.keys(), a.values()):\n",
    "    print k,v\n",
    "\n",
    "# option 2 using the dictionary `iteritems()` function\n",
    "for k,v in a.iteritems():\n",
    "    print k,v"
   ]
  },
  {
   "cell_type": "code",
   "execution_count": 38,
   "metadata": {
    "slideshow": {
     "slide_type": "slide"
    }
   },
   "outputs": [
    {
     "name": "stdout",
     "output_type": "stream",
     "text": [
      "How many websites still to go?  0\n"
     ]
    }
   ],
   "source": [
    "# This code below does the trick, but could be optimized for speed if necessary\n",
    "# e.g. skills are typically listed at the end of the webpage\n",
    "# might not need to split/join the whole webpage, as we already know\n",
    "# which words we are looking for \n",
    "# and could stop after the first occurance of each word\n",
    "\n",
    "with open('scraped_links_restart.pkl', 'r') as f:\n",
    "    skill_set, index = cPickle.load(f)\n",
    "    print \"How many websites still to go? \", len(job_links) - index\n",
    "    \n",
    "    "
   ]
  },
  {
   "cell_type": "code",
   "execution_count": 39,
   "metadata": {
    "slideshow": {
     "slide_type": "slide"
    }
   },
   "outputs": [],
   "source": [
    "counter = 0\n",
    "\n",
    "for link in job_links[index:]:\n",
    "    counter +=1  \n",
    "    \n",
    "    try:\n",
    "        html_page = urllib2.urlopen(link).read()\n",
    "    except urllib2.HTTPError:\n",
    "        print \"HTTPError:\"\n",
    "        continue\n",
    "    except urllib2.URLError:\n",
    "        print \"URLError:\"\n",
    "        continue\n",
    "    except socket.error as error:\n",
    "        print \"Connection closed\"\n",
    "        continue\n",
    "\n",
    "    html_text = re.sub(\"[^a-z.+3]\",\" \", html_page.lower()) # replace all but the listed characters\n",
    "        \n",
    "    for key in skill_set.keys():\n",
    "        if key in html_text:  \n",
    "            skill_set[key] +=1\n",
    "            \n",
    "    if counter % 5 == 0:\n",
    "        print len(job_links) - counter - index\n",
    "        print skill_set\n",
    "        with open('scraped_links_restart.pkl','wb') as f:\n",
    "            cPickle.dump((skill_set, index+counter),f)"
   ]
  },
  {
   "cell_type": "code",
   "execution_count": 40,
   "metadata": {
    "slideshow": {
     "slide_type": "slide"
    }
   },
   "outputs": [
    {
     "name": "stdout",
     "output_type": "stream",
     "text": [
      "{'spark': 31, 'mapreduce': 16}\n"
     ]
    }
   ],
   "source": [
    "print skill_set"
   ]
  },
  {
   "cell_type": "code",
   "execution_count": 41,
   "metadata": {
    "slideshow": {
     "slide_type": "slide"
    }
   },
   "outputs": [
    {
     "data": {
      "image/png": "[encoded data removed]",
      "text/plain": [
       "<matplotlib.figure.Figure at 0x8c9c7d0>"
      ]
     },
     "metadata": {},
     "output_type": "display_data"
    }
   ],
   "source": [
    "pseries = pd.Series(skill_set)\n",
    "pseries.sort(ascending=False)\n",
    "\n",
    "pseries.plot(kind = 'bar')\n",
    "## set the title to Score Comparison\n",
    "plt.title('Data Science Skills')\n",
    "plt.xlabel('Skills')\n",
    "plt.ylabel('Count')\n",
    "plt.show()"
   ]
  },
  {
   "cell_type": "markdown",
   "metadata": {},
   "source": [
    "Some more regular expressions:\n",
    "================="
   ]
  },
  {
   "cell_type": "code",
   "execution_count": null,
   "metadata": {
    "collapsed": true
   },
   "outputs": [],
   "source": []
  },
  {
   "cell_type": "markdown",
   "metadata": {
    "slideshow": {
     "slide_type": "slide"
    }
   },
   "source": [
    "Another Example\n",
    "================\n",
    "\n",
    "Designed by Katharine Jarmul\n",
    "----------------------------\n",
    "\n",
    "https://github.com/kjam/python-web-scraping-tutorial\n",
    "\n",
    "\n"
   ]
  },
  {
   "cell_type": "markdown",
   "metadata": {
    "slideshow": {
     "slide_type": "slide"
    }
   },
   "source": [
    "Scraping Happy Hours\n",
    "====================\n",
    "\n",
    "Scrape the happy hour list of LA for personal preferences\n",
    "\n",
    "http://www.downtownla.com/3_10_happyHours.asp?action=ALL\n",
    "\n",
    "This example is part of her talk about data scraping at PyCon2014. She is a really good speaker and I enjoyed watching her talk. Check it out: http://www.youtube.com/watch?v=p1iX0uxM1w8"
   ]
  },
  {
   "cell_type": "code",
   "execution_count": 42,
   "metadata": {
    "slideshow": {
     "slide_type": "slide"
    }
   },
   "outputs": [],
   "source": [
    "stuff_i_like = ['burger', 'sushi', 'sweet potato fries', 'BBQ','beer']\n",
    "found_happy_hours = []\n",
    "my_happy_hours = []\n",
    "# First, I'm going to identify the areas of the page I want to look at\n",
    "url = 'http://www.downtownla.com/3_10_happyHours.asp?action=ALL'\n",
    "source = urllib2.urlopen(url).read()\n",
    "tables = bs4.BeautifulSoup(source)"
   ]
  },
  {
   "cell_type": "code",
   "execution_count": 43,
   "metadata": {
    "slideshow": {
     "slide_type": "slide"
    }
   },
   "outputs": [
    {
     "name": "stdout",
     "output_type": "stream",
     "text": [
      "The scraper found 63 happy hours!\n"
     ]
    }
   ],
   "source": [
    "# Then, I'm going to sort out the *exact* parts of the page\n",
    "# that match what I'm looking for...\n",
    "for t in tables.findAll('p', {'class': 'calendar_EventTitle'}):\n",
    "    text = t.text\n",
    "    for s in t.findNextSiblings():\n",
    "        text += '\\n' + s.text\n",
    "    found_happy_hours.append(text)\n",
    "\n",
    "print \"The scraper found %d happy hours!\" % len(found_happy_hours)"
   ]
  },
  {
   "cell_type": "code",
   "execution_count": 44,
   "metadata": {
    "slideshow": {
     "slide_type": "slide"
    }
   },
   "outputs": [
    {
     "name": "stdout",
     "output_type": "stream",
     "text": [
      "YAY! I found some burger!\n",
      "YAY! I found some burger!\n",
      "YAY! I found some sushi!\n",
      "YAY! I found some sushi!\n",
      "YAY! I found some beer!\n",
      "YAY! I found some beer!\n",
      "YAY! I found some beer!\n",
      "YAY! I found some beer!\n",
      "YAY! I found some beer!\n",
      "YAY! I found some beer!\n",
      "YAY! I found some beer!\n",
      "YAY! I found some beer!\n",
      "I think you might like 12 of them, yipeeeee!\n"
     ]
    }
   ],
   "source": [
    "# Now I'm going to loop through the food I like\n",
    "# and see if any of the happy hour descriptions match\n",
    "for food in stuff_i_like:\n",
    "    for hh in found_happy_hours:\n",
    "        # checking for text AND making sure I don't have duplicates\n",
    "        if food in hh and hh not in my_happy_hours:\n",
    "            print \"YAY! I found some %s!\" % food\n",
    "            my_happy_hours.append(hh)\n",
    "\n",
    "print \"I think you might like %d of them, yipeeeee!\" % len(my_happy_hours)"
   ]
  },
  {
   "cell_type": "code",
   "execution_count": 45,
   "metadata": {
    "slideshow": {
     "slide_type": "slide"
    }
   },
   "outputs": [],
   "source": [
    "# Now, let's make a mail message we can read:\n",
    "message = 'Hey Katharine,\\n\\n\\n'\n",
    "message += 'OMG, I found some stuff for you in Downtown, take a look.\\n\\n'\n",
    "message += '==============================\\n'.join(my_happy_hours)\n",
    "message = message.encode('utf-8')\n",
    "# To read more about encoding:\n",
    "# http://diveintopython.org/xml_processing/unicode.html\n",
    "message = message.replace('\\t', '').replace('\\r', '')\n",
    "message += '\\n\\nXOXO,\\n Your Py Script'\n",
    "\n",
    "#print message"
   ]
  },
  {
   "cell_type": "markdown",
   "metadata": {
    "slideshow": {
     "slide_type": "slide"
    }
   },
   "source": [
    "Getting Data with an API\n",
    "=========================\n",
    "\n",
    "* API: application programming interface\n",
    "* some sites try to make your life easier\n",
    "* Twitter, New York Times, ImDB, rotten Tomatoes, Yelp, ..."
   ]
  },
  {
   "cell_type": "markdown",
   "metadata": {
    "slideshow": {
     "slide_type": "slide"
    }
   },
   "source": [
    "Rotten Tomatoes\n",
    "===============\n",
    "\n",
    "![The Wizard of Oz](images/wiz_oz.png \"The wizard of Oz\")\n",
    "\n",
    "http://www.rottentomatoes.com/top/\n"
   ]
  },
  {
   "cell_type": "markdown",
   "metadata": {
    "slideshow": {
     "slide_type": "slide"
    }
   },
   "source": [
    "API keys\n",
    "=========\n",
    "\n",
    "* required for data access\n",
    "* identifies application (you)\n",
    "* monitors usage\n",
    "* limits rates"
   ]
  },
  {
   "cell_type": "markdown",
   "metadata": {
    "slideshow": {
     "slide_type": "slide"
    }
   },
   "source": [
    "Rotten Tomatoes Key\n",
    "===================\n",
    "\n",
    "http://developer.rottentomatoes.com/member/register"
   ]
  },
  {
   "cell_type": "code",
   "execution_count": 59,
   "metadata": {
    "slideshow": {
     "slide_type": "slide"
    }
   },
   "outputs": [],
   "source": [
    "import json\n",
    "import requests\n",
    "\n",
    "api_key = rottenTomatoes_key()\n",
    "\n",
    "url = 'http://api.rottentomatoes.com/api/public/v1.0/lists/dvds/top_rentals.json?apikey=' + api_key\n",
    "data = urllib2.urlopen(url).read()\n",
    "#print data"
   ]
  },
  {
   "cell_type": "markdown",
   "metadata": {
    "slideshow": {
     "slide_type": "slide"
    }
   },
   "source": [
    "JSON\n",
    "======\n",
    "\n",
    "* JavaScript Object Notation\n",
    "* human readable\n",
    "* transmit attribute-value pairs"
   ]
  },
  {
   "cell_type": "code",
   "execution_count": 82,
   "metadata": {
    "slideshow": {
     "slide_type": "slide"
    }
   },
   "outputs": [
    {
     "name": "stdout",
     "output_type": "stream",
     "text": [
      "{'a': 1, 'b': 2}\n",
      "{\"a\": 1, \"b\": 2}\n",
      "{u'a': 1, u'b': 2}\n"
     ]
    }
   ],
   "source": [
    "a = {'a': 1, 'b':2}\n",
    "s = json.dumps(a)\n",
    "a2 = json.loads(s)\n",
    "\n",
    "## a is a dictionary\n",
    "print a\n",
    "## vs s is a string containing a in JSON encoding\n",
    "print s\n",
    "## reading back the keys are now in unicode\n",
    "print a2"
   ]
  },
  {
   "cell_type": "code",
   "execution_count": 70,
   "metadata": {
    "slideshow": {
     "slide_type": "slide"
    }
   },
   "outputs": [
    {
     "name": "stdout",
     "output_type": "stream",
     "text": [
      "Starting keys:\n",
      "[u'movies', u'link_template', u'links']\n",
      "\n",
      "Movie keys:\n",
      "[u'ratings', u'links', u'title', u'critics_consensus', u'release_dates', u'abridged_cast', u'synopsis', u'mpaa_rating', u'year', u'alternate_ids', u'posters', u'runtime', u'id']\n",
      "\n"
     ]
    }
   ],
   "source": [
    "## create dictionary from JSON \n",
    "dataDict = json.loads(data)\n",
    "\n",
    "## explore dictionary\n",
    "print \"Starting keys:\"\n",
    "print dataDict.keys()\n",
    "print\n",
    "\n",
    "## there is a key named `movies` containing a list of movies as a value\n",
    "movies = dataDict['movies']\n",
    "\n",
    "## each element of the list `movies` is a dictionary\n",
    "print \"Movie keys:\"\n",
    "print movies[0].keys()\n",
    "print"
   ]
  },
  {
   "cell_type": "code",
   "execution_count": 71,
   "metadata": {
    "slideshow": {
     "slide_type": "slide"
    }
   },
   "outputs": [
    {
     "name": "stdout",
     "output_type": "stream",
     "text": [
      "Movie rating keys:\n",
      "[u'critics_score', u'audience_score', u'critics_rating', u'audience_rating']\n",
      "\n",
      "Movie critics score rating:\n",
      "30\n",
      "\n"
     ]
    }
   ],
   "source": [
    "## one of the keys is called `ratings`\n",
    "## the value is yet another dictionary\n",
    "print \"Movie rating keys:\"\n",
    "print movies[0]['ratings'].keys()\n",
    "print\n",
    "\n",
    "## so we made it all the way to find the critics score\n",
    "print \"Movie critics score rating:\"\n",
    "print movies[0]['ratings']['critics_score']\n",
    "print"
   ]
  },
  {
   "cell_type": "markdown",
   "metadata": {
    "slideshow": {
     "slide_type": "slide"
    }
   },
   "source": [
    "Quiz\n",
    "=====\n",
    "\n",
    "* build a list with critics scores\n",
    "* build a list with audience scores"
   ]
  },
  {
   "cell_type": "code",
   "execution_count": 49,
   "metadata": {
    "slideshow": {
     "slide_type": "slide"
    }
   },
   "outputs": [],
   "source": [
    "# critics scores list\n",
    "critics_scores = [m['ratings']['critics_score'] for m in movies]\n",
    "\n",
    "# audience scores list\n",
    "audience_scores = [m['ratings']['audience_score'] for m in movies]"
   ]
  },
  {
   "cell_type": "markdown",
   "metadata": {
    "slideshow": {
     "slide_type": "skip"
    }
   },
   "source": [
    "The following code shows how to create a pandas data frame with the data we gathered from the webpage.\n",
    "Beware of the `set_index()` function in pandas. Per default it does not change the actual data frame! You need to either reassign the output or set the `inplace` argument to `True`."
   ]
  },
  {
   "cell_type": "code",
   "execution_count": 50,
   "metadata": {
    "slideshow": {
     "slide_type": "slide"
    }
   },
   "outputs": [
    {
     "data": {
      "text/html": [
       "<div>\n",
       "<table border=\"1\" class=\"dataframe\">\n",
       "  <thead>\n",
       "    <tr style=\"text-align: right;\">\n",
       "      <th></th>\n",
       "      <th>critics</th>\n",
       "      <th>audience</th>\n",
       "    </tr>\n",
       "  </thead>\n",
       "  <tbody>\n",
       "    <tr>\n",
       "      <th>Insurgent</th>\n",
       "      <td>30</td>\n",
       "      <td>62</td>\n",
       "    </tr>\n",
       "    <tr>\n",
       "      <th>Mad Max: Fury Road</th>\n",
       "      <td>97</td>\n",
       "      <td>88</td>\n",
       "    </tr>\n",
       "    <tr>\n",
       "      <th>Home</th>\n",
       "      <td>45</td>\n",
       "      <td>65</td>\n",
       "    </tr>\n",
       "  </tbody>\n",
       "</table>\n",
       "</div>"
      ],
      "text/plain": [
       "                    critics  audience\n",
       "Insurgent                30        62\n",
       "Mad Max: Fury Road       97        88\n",
       "Home                     45        65"
      ]
     },
     "execution_count": 50,
     "metadata": {},
     "output_type": "execute_result"
    }
   ],
   "source": [
    "## create pandas data frame with critics and audience score\n",
    "scores = pd.DataFrame(data=[critics_scores, audience_scores]).transpose()\n",
    "scores.columns = ['critics', 'audience']\n",
    "\n",
    "## also create a list with all movie titles\n",
    "movie_titles = [m['title'] for m in movies]\n",
    "\n",
    "## set index of dataFrame BEWARE of inplace!\n",
    "scores.set_index([movie_titles])\n",
    "\n",
    "## the line above does not changes scores!\n",
    "## You need to either reassign\n",
    "\n",
    "scores = scores.set_index([movie_titles])\n",
    "\n",
    "## or set the inplace argument to True\n",
    "scores.set_index([movie_titles], inplace=True)\n",
    "scores.head(3)"
   ]
  },
  {
   "cell_type": "code",
   "execution_count": 51,
   "metadata": {
    "slideshow": {
     "slide_type": "slide"
    }
   },
   "outputs": [
    {
     "data": {
      "text/plain": [
       "<matplotlib.text.Text at 0x141dd4b0>"
      ]
     },
     "execution_count": 51,
     "metadata": {},
     "output_type": "execute_result"
    },
    {
     "data": {
      "image/png": "[encoded data removed]",
      "text/plain": [
       "<matplotlib.figure.Figure at 0x141b8ab0>"
      ]
     },
     "metadata": {},
     "output_type": "display_data"
    }
   ],
   "source": [
    "## create a bar plot with the data\n",
    "## notice that we are using the data frame itself and call its plot function\n",
    "scores.plot(kind = 'bar')\n",
    "\n",
    "## set the title to Score Comparison\n",
    "plt.title('Score Comparison')\n",
    "\n",
    "## set the x label\n",
    "plt.xlabel('Movies')\n",
    "\n",
    "## set the y label\n",
    "plt.ylabel('Scores')"
   ]
  },
  {
   "cell_type": "code",
   "execution_count": 52,
   "metadata": {
    "slideshow": {
     "slide_type": "slide"
    }
   },
   "outputs": [],
   "source": [
    "## show the plot\n",
    "plt.show()"
   ]
  },
  {
   "cell_type": "markdown",
   "metadata": {
    "slideshow": {
     "slide_type": "slide"
    }
   },
   "source": [
    "Twitter Example:\n",
    "================\n",
    "\n",
    "* API a bit more complicated\n",
    "* libraries make life easier\n",
    "* python-twitter\n",
    "\n",
    "https://github.com/bear/python-twitter\n",
    "\n",
    "What we are going to do is scrape Joe's twitter account, and then filter it for the interesting tweets. Defining interesting as tweets that have be re-tweeted at least 10 times. \n"
   ]
  },
  {
   "cell_type": "code",
   "execution_count": 53,
   "metadata": {
    "slideshow": {
     "slide_type": "slide"
    }
   },
   "outputs": [],
   "source": [
    "import twitter\n",
    "\n",
    "## define the necessary keys\n",
    "cKey = twitterAPI_key()\n",
    "cSecret = twitterAPI_secret()\n",
    "aKey = twitterAPI_access_token_key()\n",
    "aSecret = twitterAPI_access_token_secret()\n",
    "\n",
    "## create the api object with the twitter-python library\n",
    "api = twitter.Api(consumer_key=cKey, consumer_secret=cSecret, access_token_key=aKey, access_token_secret=aSecret)\n"
   ]
  },
  {
   "cell_type": "code",
   "execution_count": 54,
   "metadata": {
    "slideshow": {
     "slide_type": "slide"
    }
   },
   "outputs": [
    {
     "data": {
      "text/html": [
       "<div>\n",
       "<table border=\"1\" class=\"dataframe\">\n",
       "  <thead>\n",
       "    <tr style=\"text-align: right;\">\n",
       "      <th></th>\n",
       "      <th>created_at</th>\n",
       "      <th>favorite_count</th>\n",
       "      <th>favorited</th>\n",
       "      <th>hashtags</th>\n",
       "      <th>id</th>\n",
       "      <th>in_reply_to_screen_name</th>\n",
       "      <th>in_reply_to_status_id</th>\n",
       "      <th>in_reply_to_user_id</th>\n",
       "      <th>lang</th>\n",
       "      <th>media</th>\n",
       "      <th>retweet_count</th>\n",
       "      <th>retweeted</th>\n",
       "      <th>retweeted_status</th>\n",
       "      <th>source</th>\n",
       "      <th>text</th>\n",
       "      <th>truncated</th>\n",
       "      <th>urls</th>\n",
       "      <th>user</th>\n",
       "      <th>user_mentions</th>\n",
       "    </tr>\n",
       "  </thead>\n",
       "  <tbody>\n",
       "    <tr>\n",
       "      <th>0</th>\n",
       "      <td>Mon Sep 07 22:17:04 +0000 2015</td>\n",
       "      <td>2</td>\n",
       "      <td>False</td>\n",
       "      <td>NaN</td>\n",
       "      <td>641012335738421248</td>\n",
       "      <td>lallen1618</td>\n",
       "      <td>6.409978e+17</td>\n",
       "      <td>2355874964</td>\n",
       "      <td>en</td>\n",
       "      <td>NaN</td>\n",
       "      <td>NaN</td>\n",
       "      <td>False</td>\n",
       "      <td>NaN</td>\n",
       "      <td>&lt;a href=\"http://twitter.com\" rel=\"nofollow\"&gt;Tw...</td>\n",
       "      <td>@lallen1618 @wzchen @AriBFriedman Good luck wi...</td>\n",
       "      <td>False</td>\n",
       "      <td>NaN</td>\n",
       "      <td>{u'id': 184543773, u'profile_sidebar_fill_colo...</td>\n",
       "      <td>[{u'screen_name': u'lallen1618', u'id': 235587...</td>\n",
       "    </tr>\n",
       "    <tr>\n",
       "      <th>1</th>\n",
       "      <td>Mon Sep 07 18:51:12 +0000 2015</td>\n",
       "      <td>NaN</td>\n",
       "      <td>False</td>\n",
       "      <td>NaN</td>\n",
       "      <td>640960524784640001</td>\n",
       "      <td>albertocairo</td>\n",
       "      <td>6.409594e+17</td>\n",
       "      <td>34255829</td>\n",
       "      <td>en</td>\n",
       "      <td>NaN</td>\n",
       "      <td>NaN</td>\n",
       "      <td>False</td>\n",
       "      <td>NaN</td>\n",
       "      <td>&lt;a href=\"http://twitter.com/download/iphone\" r...</td>\n",
       "      <td>@albertocairo @Sulliview @NateSilver538 But a ...</td>\n",
       "      <td>False</td>\n",
       "      <td>NaN</td>\n",
       "      <td>{u'id': 184543773, u'profile_sidebar_fill_colo...</td>\n",
       "      <td>[{u'screen_name': u'albertocairo', u'id': 3425...</td>\n",
       "    </tr>\n",
       "  </tbody>\n",
       "</table>\n",
       "</div>"
      ],
      "text/plain": [
       "                       created_at  favorite_count favorited hashtags  \\\n",
       "0  Mon Sep 07 22:17:04 +0000 2015               2     False      NaN   \n",
       "1  Mon Sep 07 18:51:12 +0000 2015             NaN     False      NaN   \n",
       "\n",
       "                   id in_reply_to_screen_name  in_reply_to_status_id  \\\n",
       "0  641012335738421248              lallen1618           6.409978e+17   \n",
       "1  640960524784640001            albertocairo           6.409594e+17   \n",
       "\n",
       "   in_reply_to_user_id lang media  retweet_count retweeted retweeted_status  \\\n",
       "0           2355874964   en   NaN            NaN     False              NaN   \n",
       "1             34255829   en   NaN            NaN     False              NaN   \n",
       "\n",
       "                                              source  \\\n",
       "0  <a href=\"http://twitter.com\" rel=\"nofollow\">Tw...   \n",
       "1  <a href=\"http://twitter.com/download/iphone\" r...   \n",
       "\n",
       "                                                text truncated urls  \\\n",
       "0  @lallen1618 @wzchen @AriBFriedman Good luck wi...     False  NaN   \n",
       "1  @albertocairo @Sulliview @NateSilver538 But a ...     False  NaN   \n",
       "\n",
       "                                                user  \\\n",
       "0  {u'id': 184543773, u'profile_sidebar_fill_colo...   \n",
       "1  {u'id': 184543773, u'profile_sidebar_fill_colo...   \n",
       "\n",
       "                                       user_mentions  \n",
       "0  [{u'screen_name': u'lallen1618', u'id': 235587...  \n",
       "1  [{u'screen_name': u'albertocairo', u'id': 3425...  "
      ]
     },
     "execution_count": 54,
     "metadata": {},
     "output_type": "execute_result"
    }
   ],
   "source": [
    "## get the user timeline with screen_name = 'stat110'\n",
    "twitter_statuses = api.GetUserTimeline(screen_name = 'stat110')\n",
    "\n",
    "## create a data frame\n",
    "## first get a list of panda Series or dict\n",
    "pdSeriesList = [pd.Series(t.AsDict()) for t in twitter_statuses]\n",
    "\n",
    "## then create the data frame\n",
    "data = pd.DataFrame(pdSeriesList)\n",
    "\n",
    "data.head(2)"
   ]
  },
  {
   "cell_type": "code",
   "execution_count": 55,
   "metadata": {
    "slideshow": {
     "slide_type": "slide"
    }
   },
   "outputs": [
    {
     "name": "stdout",
     "output_type": "stream",
     "text": [
      "######\n",
      "RT @NateSilver538: .@Sulliview: The fundamental sin is cherry-picking evidence to fit a narrative. Can happen in both \"reported\" and \"data-…\n",
      "######\n",
      "RT @Agent_Analytics: Watch out #datascientist 's. Always read the #job decscription. #data #DataScience #BigData #analytics #jokes http://t…\n",
      "######\n",
      "RT @rasbt: just felt like writing this morning ;) \"Python, Machine Learning &amp; Language Wars. A Highly Subjective Point of View\" http://t.co…\n",
      "######\n",
      "RT @ericcolson: Linear Algebra: took this course by G Strang years ago. Excellent and free! via @ajinkyakale \n",
      "http://t.co/UAqeHMzs4a http:/…\n"
     ]
    }
   ],
   "source": [
    "## filter tweets with enough retweet_count\n",
    "maybe_interesting = data[data.retweet_count>20]\n",
    "\n",
    "## get the text of these tweets\n",
    "tweet_text = maybe_interesting.text\n",
    "\n",
    "## print them out\n",
    "text = tweet_text.values\n",
    "\n",
    "for t in text:\n",
    "    print '######'\n",
    "    print t"
   ]
  },
  {
   "cell_type": "markdown",
   "metadata": {
    "slideshow": {
     "slide_type": "skip"
    }
   },
   "source": [
    "Extracting columns:\n",
    "===================\n",
    "\n",
    "__Warning:__ The returned column `tweet_text` is a `view` on the data\n",
    "    \n",
    "* it is not a copy\n",
    "* you change the Series => you change the DataFrame\n",
    "\n",
    "Below is another example of such a view:"
   ]
  },
  {
   "cell_type": "code",
   "execution_count": 56,
   "metadata": {
    "slideshow": {
     "slide_type": "skip"
    }
   },
   "outputs": [
    {
     "name": "stderr",
     "output_type": "stream",
     "text": [
      "C:\\Python27\\lib\\site-packages\\ipykernel\\__main__.py:7: SettingWithCopyWarning: \n",
      "A value is trying to be set on a copy of a slice from a DataFrame\n",
      "\n",
      "See the the caveats in the documentation: http://pandas.pydata.org/pandas-docs/stable/indexing.html#indexing-view-versus-copy\n",
      "C:\\Python27\\lib\\site-packages\\pandas\\core\\series.py:664: SettingWithCopyWarning: \n",
      "A value is trying to be set on a copy of a slice from a DataFrame\n",
      "\n",
      "See the the caveats in the documentation: http://pandas.pydata.org/pandas-docs/stable/indexing.html#indexing-view-versus-copy\n",
      "  self.loc[key] = value\n"
     ]
    },
    {
     "name": "stdout",
     "output_type": "stream",
     "text": [
      "-----------------\n",
      "This is view:\n",
      "3   NaN\n",
      "5   NaN\n",
      "6   NaN\n",
      "7   NaN\n",
      "Name: favorite_count, dtype: float64\n",
      "-----------------\n",
      "This is view after changing view[8]\n",
      "3     NaN\n",
      "5     NaN\n",
      "6     NaN\n",
      "7     NaN\n",
      "8    9999\n",
      "Name: favorite_count, dtype: float64\n",
      "-----------------\n",
      "This is maybe_interesting after changing view[8]\n",
      "It changed too!\n",
      "3     NaN\n",
      "5     NaN\n",
      "6     NaN\n",
      "7     NaN\n",
      "8    9999\n",
      "Name: favorite_count, dtype: float64\n",
      "-----------------\n",
      "This is independent_data after changed at 10:\n",
      "3      NaN\n",
      "5      NaN\n",
      "6      NaN\n",
      "7      NaN\n",
      "8     9999\n",
      "10     999\n",
      "Name: favorite_count, dtype: float64\n",
      "-----------------\n",
      "This is maybe_interesting after changing independent_data:\n",
      "It did not change because we only changed a copy of it\n",
      "3     NaN\n",
      "5     NaN\n",
      "6     NaN\n",
      "7     NaN\n",
      "8    9999\n",
      "Name: favorite_count, dtype: float64\n"
     ]
    },
    {
     "name": "stderr",
     "output_type": "stream",
     "text": [
      "C:\\Python27\\lib\\site-packages\\IPython\\core\\interactiveshell.py:3066: SettingWithCopyWarning: \n",
      "A value is trying to be set on a copy of a slice from a DataFrame\n",
      "\n",
      "See the the caveats in the documentation: http://pandas.pydata.org/pandas-docs/stable/indexing.html#indexing-view-versus-copy\n",
      "  exec(code_obj, self.user_global_ns, self.user_ns)\n"
     ]
    }
   ],
   "source": [
    "## create a view for favorite_count on maybe_interesting\n",
    "view = maybe_interesting['favorite_count']\n",
    "print '-----------------'\n",
    "print \"This is view:\"\n",
    "print view\n",
    "## change a value\n",
    "view[8] = 9999\n",
    "\n",
    "## look at original frame\n",
    "print '-----------------'\n",
    "print \"This is view after changing view[8]\"\n",
    "print view\n",
    "\n",
    "print '-----------------'\n",
    "print \"This is maybe_interesting after changing view[8]\"\n",
    "print \"It changed too!\"\n",
    "print maybe_interesting['favorite_count']\n",
    "\n",
    "## to avoid this you can use copy\n",
    "independent_data = maybe_interesting['favorite_count'].copy()\n",
    "independent_data[10] = 999\n",
    "print '-----------------'\n",
    "print \"This is independent_data after changed at 10:\"\n",
    "print independent_data\n",
    "print '-----------------'\n",
    "print \"This is maybe_interesting after changing independent_data:\"\n",
    "print \"It did not change because we only changed a copy of it\"\n",
    "print maybe_interesting['favorite_count']"
   ]
  },
  {
   "cell_type": "markdown",
   "metadata": {
    "collapsed": true,
    "slideshow": {
     "slide_type": "slide"
    }
   },
   "source": [
    "What we covered today:\n",
    "============\n",
    "\n",
    "* Pandas data frames\n",
    "* Guidelines for friendly scraping\n",
    "* Scraping html sites\n",
    "* Scraping with Api's\n",
    "* Basic data cleanup\n"
   ]
  },
  {
   "cell_type": "markdown",
   "metadata": {
    "slideshow": {
     "slide_type": "slide"
    }
   },
   "source": [
    "Further material\n",
    "================\n",
    "\n",
    "* I highly recommend Katharine Jarmul's scraping tutorials\n",
    "* For example [this one](https://www.youtube.com/watch?v=p1iX0uxM1w8)\n",
    "* Pandas has extensive [documentation](http://pandas.pydata.org/pandas-docs/stable/)\n",
    "* Especially the [tem minutes to pandas chapter](http://pandas.pydata.org/pandas-docs/stable/10min.html)\n",
    "\n",
    "* [Greg Reda](http://www.gregreda.com/2013/10/26/using-pandas-on-the-movielens-dataset/) did a lot more pandas examples for the movie lens data set"
   ]
  },
  {
   "cell_type": "code",
   "execution_count": null,
   "metadata": {
    "collapsed": true
   },
   "outputs": [],
   "source": []
  },
  {
   "cell_type": "code",
   "execution_count": null,
   "metadata": {
    "collapsed": true
   },
   "outputs": [],
   "source": []
  }
 ],
 "metadata": {
  "celltoolbar": "Slideshow",
  "kernelspec": {
   "display_name": "Python 3",
   "language": "python",
   "name": "python3"
  },
  "language_info": {
   "codemirror_mode": {
    "name": "ipython",
    "version": 3
   },
   "file_extension": ".py",
   "mimetype": "text/x-python",
   "name": "python",
   "nbconvert_exporter": "python",
   "pygments_lexer": "ipython3",
   "version": "3.6.4"
  }
 },
 "nbformat": 4,
 "nbformat_minor": 1
}
